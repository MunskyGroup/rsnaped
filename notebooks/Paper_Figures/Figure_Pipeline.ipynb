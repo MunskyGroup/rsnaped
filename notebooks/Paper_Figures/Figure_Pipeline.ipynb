{
 "cells": [
  {
   "cell_type": "markdown",
   "metadata": {},
   "source": [
    "# Integrated Simulations"
   ]
  },
  {
   "cell_type": "code",
   "execution_count": null,
   "metadata": {
    "jupyter": {
     "source_hidden": true
    }
   },
   "outputs": [],
   "source": [
    "import os\n",
    "from os import listdir\n",
    "from os.path import isfile, join\n",
    "import re\n",
    "#from skimage import io\n",
    "from skimage.io import imread\n",
    "# To manipulate arrays\n",
    "import numpy as np\n",
    "import random\n",
    "from tqdm.notebook import tqdm\n",
    "from timeit import default_timer as timer\n",
    "import scipy\n",
    "import pandas as pd\n",
    "import shutil\n",
    "import pathlib\n",
    "import sys\n",
    "from skimage.exposure import rescale_intensity\n",
    "import rsnapsim as rss\n",
    "from skimage.measure import find_contours\n",
    "# Plotting\n",
    "import matplotlib as mpl\n",
    "import matplotlib.pyplot as plt\n",
    "# To create interactive elements\n",
    "import ipywidgets as widgets\n",
    "from ipywidgets import interact, interactive, fixed, interact_manual, Button, HBox, VBox, Layout, GridspecLayout\n",
    "from IPython.display import Image\n",
    "import dna_features_viewer\n",
    "from dna_features_viewer import BiopythonTranslator, GraphicFeature, GraphicRecord, CircularGraphicRecord\n",
    "# Parallel computing\n",
    "from joblib import Parallel, delayed\n",
    "import multiprocessing\n",
    "num_cores = multiprocessing.cpu_count()\n"
   ]
  },
  {
   "cell_type": "code",
   "execution_count": null,
   "metadata": {
    "jupyter": {
     "source_hidden": true
    }
   },
   "outputs": [],
   "source": [
    "# Deffining directories\n",
    "current_dir = pathlib.Path().absolute()\n",
    "sequences_dir = current_dir.parents[1].joinpath('DataBases', 'gene_files')\n",
    "video_dir = current_dir.parents[1].joinpath('DataBases', 'videos_for_sim_cell')\n",
    "#trajectories_dir = current_dir.parents[1].joinpath('DataBases','rsnapsim_simulations','bactin_ssa.npy')\n",
    "trajectories_dir = current_dir.parents[1].joinpath(\n",
    "    'DataBases', 'rsnapsim_simulations', 'kdm5b_ssa.npy')\n",
    "rsnaped_dir = current_dir.parents[1].joinpath('rsnaped')\n",
    "gene_file = current_dir.parents[1].joinpath(\n",
    "    'DataBases', 'gene_files', 'KDM5B_withTags.txt')\n"
   ]
  },
  {
   "cell_type": "code",
   "execution_count": null,
   "metadata": {},
   "outputs": [],
   "source": [
    "# Paths to dropbox\n",
    "from sys import platform as _platform\n",
    "if _platform == \"linux\" or _platform == \"linux2\":\n",
    "    dropbox_address = pathlib.Path(\n",
    "        '/', 'home', 'luisub', 'Dropbox', 'Project_rSNAPed', 'manuscript', 'Figures')\n",
    "elif _platform == \"darwin\":\n",
    "    dropbox_address = pathlib.Path(\n",
    "        '/', 'Users', 'luisaguilera', 'Dropbox', 'Project_rSNAPed', 'manuscript', 'Figures')\n"
   ]
  },
  {
   "cell_type": "code",
   "execution_count": null,
   "metadata": {
    "jupyter": {
     "source_hidden": true
    }
   },
   "outputs": [],
   "source": [
    "# Importing rSNAPed\n",
    "sys.path.append(str(rsnaped_dir))\n",
    "import rsnaped as rsp\n"
   ]
  },
  {
   "cell_type": "code",
   "execution_count": null,
   "metadata": {},
   "outputs": [],
   "source": [
    "import matplotlib.pyplot as plt\n",
    "plt.style.use('default')\n",
    "plt.rcParams['figure.dpi'] = 300\n",
    "plt.rcParams['lines.linewidth'] = 1\n",
    "plt.rcParams['axes.linewidth'] = 1.5\n",
    "plt.rcParams['axes.grid'] = False\n"
   ]
  },
  {
   "cell_type": "code",
   "execution_count": null,
   "metadata": {},
   "outputs": [],
   "source": [
    "from dna_features_viewer import BiopythonTranslator\n",
    "\n",
    "\n",
    "class MyCustomTranslator(BiopythonTranslator):\n",
    "    \"\"\"Custom translator\n",
    "    \"\"\"\n",
    "\n",
    "    def compute_feature_color(self, feature):\n",
    "        if feature.type == \"CDS\":\n",
    "            return \"#57B956\"\n",
    "        elif feature.type == \"FLAG\":\n",
    "            return \"#ff0000\"\n",
    "        elif feature.type == \"MS2\":\n",
    "            return \"#098BF5\"\n",
    "        elif feature.type == \"PP7\":\n",
    "            return \"#EB5559\"\n",
    "        else:\n",
    "            return \"#C4B07B\"\n"
   ]
  },
  {
   "cell_type": "code",
   "execution_count": null,
   "metadata": {},
   "outputs": [],
   "source": [
    "# Plasmid sequences\n",
    "gene_file_pUB_SM_KDM5B_PP7 = str(sequences_dir.joinpath(\n",
    "    'kdm5b.gb'))  # plasmid pUB_SM_KDM5B_PP7\n",
    "graphic_record = MyCustomTranslator().translate_record(gene_file_pUB_SM_KDM5B_PP7)\n",
    "ax, _ = graphic_record.plot(figure_width=20, strand_in_label_threshold=7)\n",
    "#ax.set_title('pUB_SM_KDM5B_PP7 (1895 codons)')\n",
    "graphic_record.plot_legend(ax=ax, loc=1, ncol=3, frameon=False)\n",
    "name_figure = 'sequence.png'\n",
    "figure_directory = str(dropbox_address.joinpath(name_figure))\n",
    "ax.figure.savefig(figure_directory)\n"
   ]
  },
  {
   "cell_type": "code",
   "execution_count": null,
   "metadata": {},
   "outputs": [],
   "source": [
    "plt.style.use('ggplot')"
   ]
  },
  {
   "cell_type": "code",
   "execution_count": null,
   "metadata": {},
   "outputs": [],
   "source": [
    "# These are the parameters that need to be tested.\n",
    "number_of_simulated_cells = 20  # PLEASE TEST MIN 1 MAX 10\n",
    "number_spots_per_cell = 50     # PLEASE TEST MIN 5 MAX 200\n",
    "diffusion_coefficient = 0.7    # PLEASE TEST MIN 0.1 MAX 2\n"
   ]
  },
  {
   "cell_type": "code",
   "execution_count": null,
   "metadata": {
    "jupyter": {
     "source_hidden": true
    }
   },
   "outputs": [],
   "source": [
    "# options are : 'total_intensity' and 'disk_donut' 'gaussian_fit'\n",
    "intensity_calculation_method = 'disk_donut'\n",
    "mask_selection_method = 'max_area'  # options are : 'max_spots' and 'max_area'\n",
    "use_optimization_for_tracking = 1  # 0 not using, 1 is using optimization\n",
    "# Options are: 'constant' , 'shuffle' and 'loop'\n",
    "frame_selection_empty_video = 'shuffle'\n"
   ]
  },
  {
   "cell_type": "code",
   "execution_count": null,
   "metadata": {
    "jupyter": {
     "source_hidden": true
    }
   },
   "outputs": [],
   "source": [
    "particle_size = 7  # spot size for the simulation and tracking.\n",
    "elongation_rate = 10\n",
    "initiation_rate = 0.03"
   ]
  },
  {
   "cell_type": "code",
   "execution_count": null,
   "metadata": {},
   "outputs": [],
   "source": [
    "# Perturbations\n",
    "use_Harringtonin = 0\n",
    "use_FRAP = 0\n",
    "name_files = 'Pipeline_'\n",
    "simulation_time_in_sec = 801\n",
    "perturbation_time_start = 0\n",
    "perturbation_time_stop = 0"
   ]
  },
  {
   "cell_type": "code",
   "execution_count": null,
   "metadata": {},
   "outputs": [],
   "source": [
    "intensity_scale_ch0 = 200\n",
    "intensity_scale_ch1 = 400\n",
    "intensity_scale_ch2 = 400"
   ]
  },
  {
   "cell_type": "code",
   "execution_count": null,
   "metadata": {},
   "outputs": [],
   "source": [
    "particle_detection_size = particle_size"
   ]
  },
  {
   "cell_type": "markdown",
   "metadata": {},
   "source": [
    "## Running the simulations"
   ]
  },
  {
   "cell_type": "code",
   "execution_count": null,
   "metadata": {},
   "outputs": [],
   "source": [
    "def fun_simulated_cells(current_dir, video_dir, ke=3, ki=0.03, gene_file=None, trajectories_dir=None, number_of_simulated_cells=3, number_spots_per_cell=80,\n",
    "                        simulation_time_in_sec=100, step_size_in_sec=1, particle_size=5, diffusion_coefficient=1, path_to_rSNAPsim=None, path_to_save_output='temp',\n",
    "                        intensity_calculation_method='gaussian_fit', frame_selection_empty_video=frame_selection_empty_video,\n",
    "                        perturbation_time_start=perturbation_time_start, perturbation_time_stop=perturbation_time_stop, use_Harringtonin=use_Harringtonin, use_FRAP=use_FRAP):\n",
    "    spot_size = particle_size\n",
    "    spot_sigma = 1\n",
    "    # Code that creates the folder to store results.\n",
    "    diffusion_coefficient_string = str(diffusion_coefficient).replace('.', '_')\n",
    "    directory_name = 'Simulation_V2__'+'ns_' + \\\n",
    "        str(number_spots_per_cell) + '_diff_' + diffusion_coefficient_string\n",
    "    path_to_save_output = 'temp'\n",
    "    save_to_path = current_dir.joinpath(path_to_save_output, directory_name)\n",
    "    if not os.path.exists(str(save_to_path)):\n",
    "        os.makedirs(str(save_to_path))\n",
    "    else:\n",
    "        shutil.rmtree(str(save_to_path))\n",
    "        os.makedirs(str(save_to_path))\n",
    "    counter = 0\n",
    "    # Main loop that creates each cell and dataframe\n",
    "    for cell_number in range(0, number_of_simulated_cells):\n",
    "        output_directory_name = str(video_dir)\n",
    "        list_files_names = sorted([f for f in listdir(output_directory_name) if isfile(join(\n",
    "            output_directory_name, f)) and ('.tif') in f], key=str.lower)  # reading all tif files in the folder\n",
    "        # sorting the index in numerical order\n",
    "        list_files_names.sort(key=lambda f: int(re.sub('\\D', '', f)))\n",
    "        # creating the complete path for each file\n",
    "        path_files = [str(video_dir.joinpath(f).resolve())\n",
    "                      for f in list_files_names]\n",
    "        selected_video = 2\n",
    "        video_path = path_files[selected_video]\n",
    "        video = imread(video_path)\n",
    "        # Reducing in a half the intensity in the original video\n",
    "        video = video//2\n",
    "        empty_videos = video\n",
    "        counter += 1\n",
    "        if counter >= len(path_files):\n",
    "            counter = 0\n",
    "        if not (trajectories_dir is None):\n",
    "            # Loading trajectories from file\n",
    "            ssa_trajectories = np.load(str(trajectories_dir))\n",
    "            random_index_ch0 = np.random.randint(\n",
    "                low=0, high=ssa_trajectories.shape[0]-1, size=(number_spots_per_cell,))\n",
    "            random_index_ch1 = np.random.randint(\n",
    "                low=0, high=ssa_trajectories.shape[0]-1, size=(number_spots_per_cell,))\n",
    "            random_index_ch2 = np.random.randint(\n",
    "                low=0, high=ssa_trajectories.shape[0]-1, size=(number_spots_per_cell,))\n",
    "\n",
    "            simulated_trajectories_ch0 = ssa_trajectories[random_index_ch0,\n",
    "                                                          0:simulation_time_in_sec:step_size_in_sec] / 10  # converting to ump\n",
    "            simulated_trajectories_ch1 = ssa_trajectories[random_index_ch1,\n",
    "                                                          0:simulation_time_in_sec:step_size_in_sec] / 10  # converting to ump\n",
    "            simulated_trajectories_ch2 = ssa_trajectories[random_index_ch2,\n",
    "                                                          0:simulation_time_in_sec:step_size_in_sec] / 10  # converting to ump\n",
    "        else:\n",
    "            # Simulations for intensity\n",
    "            ssa1, ssa1_ump, _ = rsp.SSA_rsnapsim(gene_file, ke, ki, frames=simulation_time_in_sec, frame_rate=1, n_traj=number_spots_per_cell, use_Harringtonin=use_Harringtonin,\n",
    "                                                 use_FRAP=use_FRAP, perturbation_time_start=perturbation_time_start, perturbation_time_stop=perturbation_time_stop).simulate()\n",
    "            simulated_trajectories_ch1 = ssa1_ump\n",
    "            ssa2, ssa2_ump, _ = rsp.SSA_rsnapsim(gene_file, ke, ki, frames=simulation_time_in_sec, frame_rate=1, n_traj=number_spots_per_cell, use_Harringtonin=use_Harringtonin,\n",
    "                                                 use_FRAP=use_FRAP, perturbation_time_start=perturbation_time_start, perturbation_time_stop=perturbation_time_stop).simulate()\n",
    "            simulated_trajectories_ch2 = ssa2_ump\n",
    "            simulated_trajectories_ch0 = simulated_trajectories_ch1\n",
    "        # Running the cell simulation\n",
    "        saved_file_name = str(save_to_path.joinpath(\n",
    "            'sim_cell_'+str(cell_number)))\n",
    "        tensor_video, spot_positions_movement, DataFrame_particles_intensities = rsp.SimulatedCell(base_video=video, number_spots=number_spots_per_cell, number_frames=simulation_time_in_sec, step_size=step_size_in_sec, diffusion_coefficient=diffusion_coefficient, simulated_trajectories_ch0=simulated_trajectories_ch0, size_spot_ch0=spot_size, spot_sigma_ch0=spot_sigma, simulated_trajectories_ch1=simulated_trajectories_ch1, size_spot_ch1=spot_size, spot_sigma_ch1=spot_sigma, simulated_trajectories_ch2=simulated_trajectories_ch2,\n",
    "                                                                                                   size_spot_ch2=spot_size, spot_sigma_ch2=spot_sigma, ignore_ch0=0, ignore_ch1=0, ignore_ch2=1, save_as_tif_uint8=0, save_as_tif=1, save_as_gif=0, save_dataframe=1, saved_file_name=saved_file_name, create_temp_folder=False, intensity_calculation_method=intensity_calculation_method, perform_video_augmentation=0, frame_selection_empty_video=frame_selection_empty_video, intensity_scale_ch0=intensity_scale_ch0, intensity_scale_ch1=intensity_scale_ch1, intensity_scale_ch2=intensity_scale_ch2).make_simulation()\n",
    "        #print ('The results are saved in folder: ', saved_file_name)\n",
    "    return save_to_path, simulated_trajectories_ch0, simulated_trajectories_ch1, simulated_trajectories_ch2, empty_videos\n"
   ]
  },
  {
   "cell_type": "code",
   "execution_count": null,
   "metadata": {},
   "outputs": [],
   "source": [
    "# running the simulation\n",
    "start = timer()\n",
    "output_directory_name, simulated_trajectories_ch0, simulated_trajectories_ch1, simulated_trajectories_ch2, empty_videos = fun_simulated_cells(current_dir, video_dir, ke=elongation_rate, ki=initiation_rate, trajectories_dir=None, gene_file=gene_file, number_of_simulated_cells=number_of_simulated_cells, number_spots_per_cell=number_spots_per_cell, simulation_time_in_sec=simulation_time_in_sec,\n",
    "                                                                                                                                              step_size_in_sec=1, particle_size=particle_size, diffusion_coefficient=diffusion_coefficient, path_to_rSNAPsim=None, intensity_calculation_method=intensity_calculation_method, frame_selection_empty_video=frame_selection_empty_video, perturbation_time_start=perturbation_time_start, perturbation_time_stop=perturbation_time_stop, use_Harringtonin=use_Harringtonin, use_FRAP=use_FRAP)\n",
    "end = timer()\n",
    "print('Time to generate simulated data:', round(end - start), ' sec')\n"
   ]
  },
  {
   "cell_type": "code",
   "execution_count": null,
   "metadata": {},
   "outputs": [],
   "source": [
    "output_directory_name\n"
   ]
  },
  {
   "cell_type": "code",
   "execution_count": null,
   "metadata": {
    "jupyter": {
     "source_hidden": true
    }
   },
   "outputs": [],
   "source": [
    "# Reads the folder with the results and import the simulations as lists\n",
    "list_files_names = sorted([f for f in listdir(output_directory_name) if isfile(join(\n",
    "    output_directory_name, f)) and ('.tif') in f], key=str.lower)  # reading all tif files in the folder\n",
    "# sorting the index in numerical order\n",
    "list_files_names.sort(key=lambda f: int(re.sub('\\D', '', f)))\n",
    "path_files = [str(output_directory_name.joinpath(f).resolve())\n",
    "              for f in list_files_names]  # creating the complete path for each file\n",
    "# Reading the microscopy data\n",
    "#list_videos_original = [imread(f)[:, :, :, :]\n",
    "#                        for f in path_files]  # List with all the videos\n",
    "nimg = number_of_simulated_cells\n"
   ]
  },
  {
   "cell_type": "code",
   "execution_count": null,
   "id": "d022be47",
   "metadata": {},
   "outputs": [],
   "source": [
    "selected_video = imread(path_files[0])"
   ]
  },
  {
   "cell_type": "code",
   "execution_count": null,
   "metadata": {},
   "outputs": [],
   "source": [
    "# Rescaling images\n",
    "#rescale_video = False\n",
    "#if rescale_video == True:\n",
    "#    list_videos = []\n",
    "#    number_channels = list_videos_original[0].shape[-1]\n",
    "#    number_z_slices = list_videos_original[0].shape[0]\n",
    "#    for i in range(0, nimg):\n",
    "#        temp_img = np.zeros_like(list_videos_original[0])\n",
    "#        for j in range(0, number_channels):\n",
    "#            temp_img[:, :, :, j] = np.asarray([rescale_intensity(\n",
    "#                list_videos_original[i][z, :, :, j], in_range='image', out_range='dtype') for z in range(0, number_z_slices)])\n",
    "#        list_videos.append(temp_img)\n",
    "#else:\n",
    "#    list_videos = list_videos_original\n"
   ]
  },
  {
   "cell_type": "markdown",
   "metadata": {},
   "source": [
    "## Display results as images"
   ]
  },
  {
   "cell_type": "code",
   "execution_count": null,
   "metadata": {},
   "outputs": [],
   "source": [
    "def df_to_array(dataframe_simulated_cell):\n",
    "    '''\n",
    "    This function takes the dataframe and extracts the information from it. \n",
    "    Information is separated by particles. Notice that dataframe contains information about 600 particles.\n",
    "\n",
    "    Input\n",
    "        dataframe_simulated_cell : pandas dataframe\n",
    "\n",
    "    Returns\n",
    "        I_g : Intensities for each particle in the green channel. NumPy array with dimensions [number_particles, time_points]\n",
    "        I_g_std : Std for the intensities for each particle in the green channel.  NumPy array with dimensions [number_particles, time_points]\n",
    "        I_r : Intensities for each particle in the red channel. NumPy array with dimensions [number_particles, time_points]\n",
    "        I_r_std : Std for the intensities for each particle in the red channel. NumPy array with dimensions [number_particles, time_points]\n",
    "        x_loc : x position for each particle in the dataframe. NumPy array with dimensions [number_particles, time_points]\n",
    "        y_loc : y position for each particle in the dataframe. NumPy array with dimensions [number_particles, time_points]\n",
    "\n",
    "    '''\n",
    "    # get the total number of particles in all cells\n",
    "    total_particles = 0\n",
    "    for cell in set(dataframe_simulated_cell['cell_number']):\n",
    "        total_particles += len(set(\n",
    "            dataframe_simulated_cell[dataframe_simulated_cell['cell_number'] == 0]['particle']))\n",
    "\n",
    "    # preallocate numpy array sof n_particles by nframes\n",
    "    # intensity green\n",
    "    I_g = np.zeros([total_particles, np.max(\n",
    "        dataframe_simulated_cell['frame'])+1])\n",
    "    I_g_std = np.zeros([total_particles, np.max(\n",
    "        dataframe_simulated_cell['frame'])+1])  # intensity green std\n",
    "    x_loc = np.zeros([total_particles, np.max(\n",
    "        dataframe_simulated_cell['frame'])+1])  # x loc\n",
    "    y_loc = np.zeros([total_particles, np.max(\n",
    "        dataframe_simulated_cell['frame'])+1])  # y_loc\n",
    "    I_r_std = np.zeros([total_particles, (np.max(\n",
    "        dataframe_simulated_cell['frame'])+1)])  # intensity red\n",
    "    # intensity red std\n",
    "    I_r = np.zeros(\n",
    "        [total_particles, (np.max(dataframe_simulated_cell['frame'])+1)])\n",
    "    k = 0\n",
    "\n",
    "    # For loops that iterate for each particle and stores the data in the previously pre-alocated arrays.\n",
    "    for cell in set(dataframe_simulated_cell['cell_number']):  # for every cell\n",
    "        # for every particle\n",
    "        for particle in set(dataframe_simulated_cell[dataframe_simulated_cell['cell_number'] == 0]['particle']):\n",
    "            tmpdf = dataframe_simulated_cell[(dataframe_simulated_cell['cell_number'] == cell) & (\n",
    "                dataframe_simulated_cell['particle'] == particle)]  # slice the dataframe\n",
    "            maxframe = np.max(tmpdf['frame'])\n",
    "            minframe = np.min(tmpdf['frame'])\n",
    "            # fill the arrays to return out\n",
    "            I_g[k, 0:(maxframe+1-minframe)] = tmpdf['green_int_mean']\n",
    "            x_loc[k, 0:(maxframe+1-minframe)] = tmpdf['x']\n",
    "            y_loc[k, 0:(maxframe+1-minframe)] = tmpdf['y']\n",
    "            I_g_std[k, 0:(maxframe+1-minframe)] = tmpdf['green_int_std']\n",
    "            I_r[k, 0:(maxframe+1-minframe)] = tmpdf['red_int_mean']\n",
    "            I_r_std[k, 0:(maxframe+1-minframe)] = tmpdf['red_int_std']\n",
    "            k += 1  # iterate over k (total particles)\n",
    "    return I_g, I_g_std, I_r, I_r_std, x_loc, y_loc  # return everything backout\n"
   ]
  },
  {
   "cell_type": "code",
   "execution_count": null,
   "metadata": {},
   "outputs": [],
   "source": [
    "ncrops = 4\n",
    "time_vector = np.round(np.linspace(\n",
    "    0, simulation_time_in_sec-1, ncrops)).astype(int)\n",
    "\n",
    "#time_vector = [0, 100, 200, 300]\n",
    "ncrops = len(time_vector)\n",
    "time_vector\n",
    "channel = 1\n",
    "fig, axes = plt.subplots(nrows=1, ncols=ncrops, figsize=(7, 2))\n",
    "max_val = []\n",
    "min_val = []\n",
    "for i in range(0, ncrops):\n",
    "    temp_img = selected_video[time_vector[i], :, :, channel]\n",
    "    max_val.append(np.amax(temp_img))\n",
    "    min_val.append(np.amin(temp_img))  # running the simulation\n",
    "\n",
    "for i in range(0, ncrops):\n",
    "    axes[i].imshow(selected_video[time_vector[i], :, :, channel],\n",
    "                   cmap='Greys', vmin=min(min_val), vmax=max(max_val))\n",
    "    axes[i].axis('off')\n",
    "    axes[i].set(title=str(time_vector[i]) + 's')\n",
    "name_figure = name_files+'_cells.png'\n",
    "figure_directory = str(dropbox_address.joinpath(name_figure))\n",
    "\n",
    "plt.tight_layout()\n",
    "plt.subplots_adjust(wspace=0.05, hspace=0)\n",
    "plt.savefig(figure_directory, transparent=True, dpi=300, bbox_inches=\"tight\")\n",
    "plt.show()\n"
   ]
  },
  {
   "cell_type": "code",
   "execution_count": null,
   "metadata": {},
   "outputs": [],
   "source": [
    "# Extracting the number of real simulations from folder name\n",
    "list_df = []\n",
    "for i in range(0, number_of_simulated_cells):\n",
    "    file_name = str(output_directory_name.joinpath(\n",
    "        'sim_cell_'+str(0)+'_df.csv'))\n",
    "    temp_df = pd.read_csv(file_name)\n",
    "    temp_df['cell_number'] = i\n",
    "    list_df.append(temp_df)\n",
    "df_intensities_real = pd.concat(list_df, ignore_index=True)\n",
    "I_g, I_g_std, I_r, I_r_std, x_loc, y_loc = df_to_array(df_intensities_real)\n"
   ]
  },
  {
   "cell_type": "code",
   "execution_count": null,
   "metadata": {},
   "outputs": [],
   "source": [
    "selected_channel = 1\n",
    "selected_masks = rsp.Cellpose(selected_video[0, :, :, selected_channel] , num_iterations=10,\n",
    "                              selection_method='max_cells', diameter=220).calculate_masks()  # options are 'max_area' or 'max_cells'\n",
    "selected_mask = rsp.CellposeSelection(\n",
    "    selected_masks, selected_video, selection_method=mask_selection_method, particle_size=particle_size, selected_channel=selected_channel).select_mask()\n"
   ]
  },
  {
   "cell_type": "code",
   "execution_count": null,
   "metadata": {},
   "outputs": [],
   "source": [
    "fig_size = (2, 2)\n",
    "channel = 1\n",
    "selected_timePoint = 0\n"
   ]
  },
  {
   "cell_type": "code",
   "execution_count": null,
   "metadata": {},
   "outputs": [],
   "source": [
    "plt.figure(figsize=fig_size, dpi=300)\n",
    "plt.imshow(selected_video[selected_timePoint, :, :, channel], cmap='Greys_r')\n",
    "temp_border = selected_video[selected_timePoint, :, :, channel].copy()\n",
    "plt.axis('off')\n",
    "name_figure = name_files+'_CELL_simulated.png'\n",
    "figure_directory = str(dropbox_address.joinpath(name_figure))\n",
    "plt.tight_layout()\n",
    "plt.savefig(figure_directory, transparent=True, dpi=300, bbox_inches=\"tight\")\n",
    "plt.show()\n"
   ]
  },
  {
   "cell_type": "code",
   "execution_count": null,
   "metadata": {},
   "outputs": [],
   "source": [
    "plt.figure(figsize=fig_size, dpi=300)\n",
    "plt.imshow(selected_video[selected_timePoint, :, :, channel], cmap='Greys_r')\n",
    "contuour_position = find_contours(selected_mask[:, :], 0.8)\n",
    "plt.fill(contuour_position[0][:, 1], contuour_position[0][:, 0],\n",
    "         facecolor='none', edgecolor='red', linewidth=1.5)  # mask nucleus\n",
    "plt.axis('off')\n",
    "name_figure = name_files+'_CELL_mask.png'\n",
    "figure_directory = str(dropbox_address.joinpath(name_figure))\n",
    "plt.tight_layout()\n",
    "plt.savefig(figure_directory, transparent=True, dpi=300, bbox_inches=\"tight\")\n",
    "plt.show()\n"
   ]
  },
  {
   "cell_type": "code",
   "execution_count": null,
   "metadata": {},
   "outputs": [],
   "source": [
    "plt.figure(figsize=fig_size, dpi=300)\n",
    "plt.imshow(selected_video[selected_timePoint, :, :, channel], cmap='Greys_r')\n",
    "contuour_position = find_contours(selected_mask[:, :], 0.8)\n",
    "plt.fill(contuour_position[0][:, 1], contuour_position[0][:, 0],\n",
    "         facecolor='none', edgecolor='red', linewidth=1.5)  # mask nucleus\n",
    "# this loop iterated for each trajectory. This is achieved by using the total number of rows in x_loc, using this: ==> \"x_loc.shape[0]\"\n",
    "for i in range(0, x_loc.shape[0]):\n",
    "    # Then we plot the complete trajectory for each particle.\n",
    "    plt.plot(x_loc[i, 0], y_loc[i, 0], marker='o', markersize=2,\n",
    "             markerfacecolor='none', markeredgewidth=0.5, markeredgecolor='r')\n",
    "    plt.axis('off')\n",
    "name_figure = name_files+'_CELL_spot_detected.png'\n",
    "figure_directory = str(dropbox_address.joinpath(name_figure))\n",
    "plt.tight_layout()\n",
    "plt.savefig(figure_directory, transparent=True, dpi=300, bbox_inches=\"tight\")\n",
    "plt.show()\n"
   ]
  },
  {
   "cell_type": "code",
   "execution_count": null,
   "metadata": {},
   "outputs": [],
   "source": [
    "# Plotting individual trajectories history.\n",
    "plt.figure(figsize=fig_size, dpi=300)\n",
    "plt.imshow(selected_video[selected_timePoint, :, :, channel], cmap='Greys_r')\n",
    "plt.axis('off')\n",
    "# this loop iterated for each trajectory. This is achieved by using the total number of rows in x_loc, using this: ==> \"x_loc.shape[0]\"\n",
    "for i in range(0, x_loc.shape[0]):\n",
    "    # Then we plot the complete trajectory for each particle.\n",
    "    plt.plot(x_loc[i, 0:300], y_loc[i, 0:300], '-', linewidth=0.1, color='r')\n",
    "    # Then we plot the complete trajectory for each particle.\n",
    "    plt.plot(x_loc[i, 0], y_loc[i, 0], marker='o', markersize=1, color='r')\n",
    "contuour_position = find_contours(selected_mask[:, :], 0.8)\n",
    "plt.fill(contuour_position[0][:, 1], contuour_position[0]\n",
    "         [:, 0], facecolor='none', edgecolor='r', linewidth=1.5)  # mask nucleus\n",
    "name_figure = name_files+'_CELL_trajectories.png'\n",
    "figure_directory = str(dropbox_address.joinpath(name_figure))\n",
    "plt.tight_layout()\n",
    "plt.savefig(figure_directory, transparent=True, dpi=300, bbox_inches=\"tight\")\n",
    "plt.show()\n"
   ]
  },
  {
   "cell_type": "code",
   "execution_count": null,
   "metadata": {},
   "outputs": [],
   "source": [
    "\n",
    "disk_size = 5\n",
    "selected_spot = 0\n",
    "y_pos = y_loc[selected_spot, time_vector[0]].astype(int)\n",
    "x_pos = x_loc[selected_spot, time_vector[0]].astype(int)\n",
    "\n",
    "plt.figure(figsize=fig_size, dpi=300)\n",
    "crop_img = selected_video[time_vector[0], y_pos-(disk_size): y_pos+(\n",
    "    disk_size+1), x_pos-(disk_size):x_pos+(disk_size+1),  channel]\n",
    "plt.imshow(crop_img, cmap='Greys_r')\n",
    "plt.tight_layout()\n",
    "plt.axis('off')\n",
    "name_figure = name_files+'_crop.png'\n",
    "figure_directory = str(dropbox_address.joinpath(name_figure))\n",
    "plt.savefig(figure_directory, transparent=True, dpi=300, bbox_inches=\"tight\")\n",
    "plt.show()\n"
   ]
  },
  {
   "cell_type": "code",
   "execution_count": null,
   "metadata": {},
   "outputs": [],
   "source": [
    "plt.style.use('ggplot') #ggplot  #default\n",
    "plt.rcParams['figure.dpi'] = 300\n",
    "plt.rcParams['lines.linewidth'] = 1\n",
    "plt.rcParams['axes.linewidth'] = 1.5\n",
    "plt.rcParams['axes.grid'] = True\n"
   ]
  },
  {
   "cell_type": "code",
   "execution_count": null,
   "metadata": {},
   "outputs": [],
   "source": [
    "\n",
    "from mpl_toolkits import mplot3d\n",
    "disk_size = 5\n",
    "selected_spot = 0\n",
    "y_pos = y_loc[selected_spot, time_vector[0]].astype(int)\n",
    "x_pos = x_loc[selected_spot, time_vector[0]].astype(int)\n",
    "\n",
    "crop_img = selected_video[time_vector[0], y_pos-(disk_size): y_pos+(\n",
    "    disk_size+1), x_pos-(disk_size):x_pos+(disk_size+1),  channel]\n",
    "\n",
    "# 3d Plotting\n",
    "\n",
    "x = np.arange(0, crop_img.shape[0], 1)\n",
    "y = np.arange(0, crop_img.shape[1], 1)\n",
    "X, Y = np.meshgrid(x, y)\n",
    "\n",
    "fig = plt.figure(figsize=(4,2), dpi=300)\n",
    "ax = plt.axes(projection='3d')\n",
    "\n",
    "ax.plot_surface(X, Y, crop_img, rstride=1, cstride=1,\n",
    "                cmap='Greys_r', edgecolor='k', linewidth=0.2)\n",
    "ax.set_xlabel('x')\n",
    "ax.set_ylabel('y')\n",
    "ax.set_zlabel('Intenisty')\n",
    "\n",
    "C = np.linspace(np.amin(crop_img), np.amax(crop_img), crop_img.size).reshape(crop_img.shape)\n",
    "scamap = plt.cm.ScalarMappable(cmap='Greys_r')\n",
    "fcolors = scamap.to_rgba(C)\n",
    "cbar = fig.colorbar(scamap, shrink=0.8, aspect=20)\n",
    "cbar.set_label(label='Intensity',size=8)\n",
    "cbar.ax.tick_params(labelsize=5) \n",
    "\n",
    "#ax.view_init(60, 120)\n",
    "plt.tight_layout()\n",
    "plt.axis('off')\n",
    "name_figure = name_files+'_crop_3D.png'\n",
    "figure_directory = str(dropbox_address.joinpath(name_figure))\n",
    "plt.savefig(figure_directory, transparent=True, dpi=300, bbox_inches=\"tight\")\n",
    "plt.show()\n"
   ]
  },
  {
   "cell_type": "code",
   "execution_count": null,
   "metadata": {},
   "outputs": [],
   "source": [
    "I_g.shape\n"
   ]
  },
  {
   "cell_type": "code",
   "execution_count": null,
   "metadata": {},
   "outputs": [],
   "source": [
    "fig = plt.figure(figsize=(2, 1.8), dpi=300)\n",
    "plt.hist(I_g[:, -1], bins=30, density=False, stacked=True, color='orangered')\n",
    "# plt.title('Simulation')\n",
    "plt.xlabel('intensities')\n",
    "plt.ylabel('count')\n",
    "plt.tight_layout()\n",
    "\n",
    "name_figure = name_files+'_Hist.png'\n",
    "figure_directory = str(dropbox_address.joinpath(name_figure))\n",
    "plt.savefig(figure_directory, transparent=True, dpi=300, bbox_inches=\"tight\")\n",
    "\n",
    "plt.show()\n"
   ]
  },
  {
   "cell_type": "code",
   "execution_count": null,
   "metadata": {},
   "outputs": [],
   "source": [
    "def get_autocorrelation(data, g0='G0', norm='individual'):\n",
    "    n_traj = data.shape[0]\n",
    "    acf_vec = np.zeros(data.shape)\n",
    "\n",
    "    def get_acc_fft(signal):\n",
    "        N = len(signal)\n",
    "        fvi = np.fft.fft(signal, n=2*N)\n",
    "        acf = fvi*np.conjugate(fvi)\n",
    "        acf = np.fft.ifft(acf)\n",
    "        acf = np.real(acf[:N])/float(N)\n",
    "        return acf\n",
    "\n",
    "    global_mean = np.mean(data)\n",
    "    global_var = np.var(data)\n",
    "    for i in range(n_traj):\n",
    "        if norm == 'individual':\n",
    "            if np.mean(data[i] == 0):\n",
    "                signal = (data[i] - 1e-6) / 1e-6\n",
    "            else:\n",
    "                signal = (data[i] - np.mean(data[i])) / np.var(data[i])\n",
    "        else:\n",
    "            signal = (data[i] - global_mean) / global_var\n",
    "        if g0 == 'G1':\n",
    "            g1 = get_acc_fft(signal)[1]\n",
    "            acf_vec[i] = get_acc_fft(signal)/g1\n",
    "        if g0 == 'G0':\n",
    "            g = get_acc_fft(signal)[0]\n",
    "            acf_vec[i] = get_acc_fft(signal)/g\n",
    "    return acf_vec\n"
   ]
  },
  {
   "cell_type": "code",
   "execution_count": null,
   "metadata": {},
   "outputs": [],
   "source": [
    "# Calculating the auto-correlation function.\n",
    "acf_from_data = get_autocorrelation(I_g, g0='G0', norm='none')\n",
    "mean_acf = np.mean(acf_from_data, axis=0)\n",
    "err_acf = np.std(acf_from_data, axis=0)  # /np.sqrt(I_g.shape[0])\n"
   ]
  },
  {
   "cell_type": "code",
   "execution_count": null,
   "metadata": {},
   "outputs": [],
   "source": [
    "# Plotting the ACF and its mean.\n",
    "plt.figure(figsize=(2.5, 1.5))\n",
    "tau = np.arange(0, len(mean_acf), 1)\n",
    "# plt.plot(acf_from_data.T,'green',alpha=.08)\n",
    "plt.plot(tau, mean_acf, '-', linewidth=3, color='orangered', label='mean ACF')\n",
    "plt.fill_between(tau, mean_acf - err_acf, mean_acf +\n",
    "                 err_acf, color='k', alpha=0.2)\n",
    "plt.xlim((1, 400))\n",
    "plt.xlabel('tau')\n",
    "plt.ylabel(r'G/G(0)')\n",
    "plt.legend()\n",
    "#plt.title('ACF for experimental data', color ='red')\n",
    "name_figure = name_files+'_ACF.png'\n",
    "figure_directory = str(dropbox_address.joinpath(name_figure))\n",
    "plt.savefig(figure_directory, transparent=True, dpi=300, bbox_inches=\"tight\")\n",
    "\n",
    "plt.show()\n"
   ]
  },
  {
   "cell_type": "code",
   "execution_count": null,
   "metadata": {},
   "outputs": [],
   "source": []
  },
  {
   "cell_type": "code",
   "execution_count": null,
   "metadata": {},
   "outputs": [],
   "source": []
  }
 ],
 "metadata": {
  "interpreter": {
   "hash": "2d20c41a30a05ca7c8f607565b7894a7eda3fc1d8a48517f534debb334e955ad"
  },
  "kernelspec": {
   "display_name": "Python 3.8.5 64-bit ('base': conda)",
   "name": "python3"
  },
  "language_info": {
   "codemirror_mode": {
    "name": "ipython",
    "version": 3
   },
   "file_extension": ".py",
   "mimetype": "text/x-python",
   "name": "python",
   "nbconvert_exporter": "python",
   "pygments_lexer": "ipython3",
   "version": "3.8.5"
  }
 },
 "nbformat": 4,
 "nbformat_minor": 5
}
