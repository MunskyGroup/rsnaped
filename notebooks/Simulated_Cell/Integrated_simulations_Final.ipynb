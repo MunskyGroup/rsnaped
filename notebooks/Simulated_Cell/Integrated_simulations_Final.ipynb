{
 "cells": [
  {
   "cell_type": "markdown",
   "id": "a6a41920",
   "metadata": {},
   "source": [
    "# Integrated Simulations"
   ]
  },
  {
   "cell_type": "code",
   "execution_count": null,
   "id": "4be7b95d",
   "metadata": {
    "jupyter": {
     "source_hidden": true
    }
   },
   "outputs": [],
   "source": [
    "import os; from os import listdir; from os.path import isfile, join\n",
    "import re  \n",
    "from skimage.io import imread\n",
    "from skimage.exposure import rescale_intensity\n",
    "import numpy as np \n",
    "from tqdm.notebook import tqdm\n",
    "from timeit import default_timer as timer\n",
    "import scipy\n",
    "import pandas as pd\n",
    "import shutil\n",
    "import pathlib\n",
    "import sys\n",
    "import seaborn as sns\n",
    "import rsnapsim as rss\n",
    "import scipy.stats as stats\n",
    "import matplotlib.pyplot as plt "
   ]
  },
  {
   "cell_type": "code",
   "execution_count": null,
   "id": "31b2bced",
   "metadata": {
    "jupyter": {
     "source_hidden": true
    }
   },
   "outputs": [],
   "source": [
    "# Defining directories\n",
    "current_dir = pathlib.Path().absolute()\n",
    "sequences_dir = current_dir.parents[1].joinpath('DataBases','gene_files')\n",
    "video_dir = current_dir.parents[1].joinpath('DataBases','videos_for_sim_cell')\n",
    "trajectories_dir = current_dir.parents[1].joinpath('DataBases','rsnapsim_simulations','kdm5b_ssa.npy')\n",
    "rsnaped_dir = current_dir.parents[1].joinpath('rsnaped')\n",
    "gene_file = current_dir.parents[1].joinpath('DataBases','gene_files','KDM5B_withTags.txt')\n",
    "masks_dir = current_dir.parents[1].joinpath('DataBases','masks_for_sim_cell')"
   ]
  },
  {
   "cell_type": "code",
   "execution_count": null,
   "id": "9193688d",
   "metadata": {
    "jupyter": {
     "source_hidden": true
    }
   },
   "outputs": [],
   "source": [
    "# Importing rSNAPed\n",
    "sys.path.append(str(rsnaped_dir))\n",
    "import rsnaped as rsp"
   ]
  },
  {
   "cell_type": "code",
   "execution_count": null,
   "id": "ec2dedad",
   "metadata": {},
   "outputs": [],
   "source": [
    "rsp.Banner().print_banner()"
   ]
  },
  {
   "cell_type": "code",
   "execution_count": null,
   "id": "4767a7ef",
   "metadata": {},
   "outputs": [],
   "source": [
    "# These are the parameters that need to be tested. \n",
    "number_of_simulated_cells = 8       # PLEASE TEST MIN 1 MAX 10\n",
    "number_spots_per_cell = 40           # PLEASE TEST MIN 5 MAX 200\n",
    "simulation_time_in_sec = 40          # PLEASE TEST MIN 10 MAX 100\n",
    "diffusion_coefficient = 3          # PLEASE TEST MIN 0.1 MAX 2\n",
    "min_percentage_time_tracking = 0.3   # (normalized) minimum time to consider a trajectory.\n",
    "average_cell_diameter = 400"
   ]
  },
  {
   "cell_type": "code",
   "execution_count": null,
   "id": "e72390d5",
   "metadata": {
    "jupyter": {
     "source_hidden": true
    }
   },
   "outputs": [],
   "source": [
    "intensity_calculation_method = 'disk_donut'  # options are : 'total_intensity' and 'disk_donut' 'gaussian_fit'\n",
    "mask_selection_method = 'max_area' # options are : 'max_spots' and 'max_area' \n",
    "use_optimization_for_tracking = 1 # 0 not using, 1 is using optimization\n",
    "\n",
    "selected_channel_tracking = 0\n",
    "selected_channel_segmentation = 1\n",
    "\n",
    "frame_selection_empty_video = 'generate_from_gaussian' # Options are: 'constant' , 'shuffle' and 'loop' 'linear_interpolation'\n",
    "show_plot = 1  # Flag to show plots for the detection and tracking process.\n",
    "dataframe_format = 'long' # 'short'  'long'\n",
    "\n",
    "save_as_tif = True # option to save the simulated video\n",
    "save_dataframe = True # option to save the simulation output as a dataframe in format csv. \n",
    "store_videos_in_memory = False"
   ]
  },
  {
   "cell_type": "code",
   "execution_count": null,
   "id": "f1928d02",
   "metadata": {
    "jupyter": {
     "source_hidden": true
    }
   },
   "outputs": [],
   "source": [
    "spot_size = 7 # spot size for the simulation and tracking.\n",
    "spot_sigma = 1\n",
    "elongation_rate = 10\n",
    "initiation_rate = 0.03\n",
    "\n",
    "simulated_RNA_intensities_method = 'random_values'\n",
    "frame_selection_empty_video = 'generate_from_gaussian' # Options are: 'constant' , 'shuffle' and 'loop' 'generate_from_gaussian'"
   ]
  },
  {
   "cell_type": "code",
   "execution_count": null,
   "id": "942fc943",
   "metadata": {},
   "outputs": [],
   "source": [
    "basal_intensity_in_background_video = 10000\n",
    "scale_intensity_in_base_video=True"
   ]
  },
  {
   "cell_type": "code",
   "execution_count": null,
   "id": "176e237c",
   "metadata": {},
   "outputs": [],
   "source": [
    "intensity_scale_ch0 = 2\n",
    "intensity_scale_ch1 = 2\n",
    "intensity_scale_ch2 = None"
   ]
  },
  {
   "cell_type": "code",
   "execution_count": null,
   "id": "6c42bca4",
   "metadata": {},
   "outputs": [],
   "source": [
    "particle_detection_size = spot_size"
   ]
  },
  {
   "cell_type": "markdown",
   "id": "6ae35178",
   "metadata": {},
   "source": [
    "## Running the simulations"
   ]
  },
  {
   "cell_type": "code",
   "execution_count": null,
   "id": "b114211b",
   "metadata": {},
   "outputs": [],
   "source": [
    "list_videos, list_dataframe_simulated_cell, merged_dataframe_simulated_cells, ssa_trajectories, list_files_names, video_path, dataframe_path = rsp.simulate_cell( video_dir, \n",
    "                                                                        list_gene_sequences = gene_file,\n",
    "                                                                        list_number_spots= number_spots_per_cell,\n",
    "                                                                        list_target_channels_proteins = 1,\n",
    "                                                                        list_target_channels_mRNA = 0, \n",
    "                                                                        list_diffusion_coefficients=diffusion_coefficient,\n",
    "                                                                        list_elongation_rates=elongation_rate,\n",
    "                                                                        list_initiation_rates=initiation_rate,\n",
    "                                                                        masks_dir=masks_dir, \n",
    "                                                                        list_label_names=1,\n",
    "                                                                        number_cells = number_of_simulated_cells,\n",
    "                                                                        simulation_time_in_sec = simulation_time_in_sec,\n",
    "                                                                        step_size_in_sec = 1,\n",
    "                                                                        save_as_tif = save_as_tif, \n",
    "                                                                        save_dataframe = save_dataframe,\n",
    "                                                                        frame_selection_empty_video=frame_selection_empty_video,\n",
    "                                                                        spot_size = spot_size,\n",
    "                                                                        spot_sigma = spot_sigma,\n",
    "                                                                        intensity_scale_ch0 = intensity_scale_ch0,\n",
    "                                                                        intensity_scale_ch1 = intensity_scale_ch1,\n",
    "                                                                        intensity_scale_ch2 = intensity_scale_ch2,\n",
    "                                                                        dataframe_format = 'long',\n",
    "                                                                        simulated_RNA_intensities_method=simulated_RNA_intensities_method,\n",
    "                                                                        store_videos_in_memory= store_videos_in_memory,\n",
    "                                                                        scale_intensity_in_base_video=scale_intensity_in_base_video,\n",
    "                                                                        basal_intensity_in_background_video=basal_intensity_in_background_video)"
   ]
  },
  {
   "cell_type": "code",
   "execution_count": null,
   "id": "aafe929d",
   "metadata": {},
   "outputs": [],
   "source": [
    "number_images = len(list_videos)"
   ]
  },
  {
   "cell_type": "code",
   "execution_count": null,
   "id": "f3d5dd88",
   "metadata": {
    "jupyter": {
     "source_hidden": true
    }
   },
   "outputs": [],
   "source": [
    "# # Reads the folder with the results and import the simulations as lists\n",
    "list_files_names = sorted([f for f in listdir(video_path) if isfile(join(video_path, f)) and ('.tif') in f], key=str.lower)  # reading all tif files in the folder\n",
    "list_files_names.sort(key=lambda f: int(re.sub('\\D', '', f)))  # sorting the index in numerical order\n",
    "path_files = [ str(video_path.joinpath(f).resolve()) for f in list_files_names ] # creating the complete path for each file\n",
    "\n",
    "# # Reading the microscopy data\n",
    "number_images = number_of_simulated_cells\n",
    "number_images"
   ]
  },
  {
   "cell_type": "markdown",
   "id": "4f8cca23",
   "metadata": {},
   "source": [
    "# Display simulations for single time point"
   ]
  },
  {
   "cell_type": "markdown",
   "id": "23cbdbf4",
   "metadata": {},
   "source": [
    "## <span style=\"color:red\">Channel 0</span>"
   ]
  },
  {
   "cell_type": "code",
   "execution_count": null,
   "id": "5e9d4cbc",
   "metadata": {},
   "outputs": [],
   "source": [
    "# Showing the simulated images\n",
    "list_videos = [imread(f)[:,:,:,:] for f in  path_files] # List with all the videos\n",
    "rsp.VisualizerImage(list_videos,list_files_names=list_files_names,selected_channel =0,selected_time_point= 0,normalize=0,individual_figure_size=7).plot()"
   ]
  },
  {
   "cell_type": "markdown",
   "id": "ea3680dd",
   "metadata": {},
   "source": [
    "## <span style=\"color:lightgreen\">Channel 1</span>"
   ]
  },
  {
   "cell_type": "code",
   "execution_count": null,
   "id": "694a8809",
   "metadata": {},
   "outputs": [],
   "source": [
    "# Showing the simulated images\n",
    "rsp.VisualizerImage(list_videos,list_files_names=list_files_names,selected_channel =1,selected_time_point= 0,normalize=0,individual_figure_size=7).plot()\n",
    "del list_videos"
   ]
  },
  {
   "cell_type": "code",
   "execution_count": null,
   "id": "38e796f0",
   "metadata": {},
   "outputs": [],
   "source": [
    "# list_DataFrame_particles_intensities= []\n",
    "# list_array_intensities = []\n",
    "# list_time_vector = []\n",
    "# list_selected_mask = []\n",
    "# for i in tqdm(range(0,number_images)): \n",
    "#     selected_video = imread(path_files[i]) # Loading the video\n",
    "#     DataFrame_particles_intensities, selected_mask, array_intensities, time_vector, _,_, _, _ = rsp.PipelineTracking(selected_video,\n",
    "#                                                                                                                     particle_size=particle_detection_size,\n",
    "#                                                                                                                     file_name=list_files_names[i],\n",
    "#                                                                                                                     selected_channel_tracking = selected_channel_tracking,\n",
    "#                                                                                                                     selected_channel_segmentation = selected_channel_segmentation,\n",
    "#                                                                                                                     intensity_calculation_method =intensity_calculation_method, \n",
    "#                                                                                                                     mask_selection_method = mask_selection_method,\n",
    "#                                                                                                                     show_plot=show_plot,\n",
    "#                                                                                                                     use_optimization_for_tracking=use_optimization_for_tracking,\n",
    "#                                                                                                                     real_positions_dataframe = list_dataframe_simulated_cell[i],\n",
    "#                                                                                                                     average_cell_diameter=average_cell_diameter,\n",
    "#                                                                                                                     print_process_times=1,\n",
    "#                                                                                                                     min_percentage_time_tracking=min_percentage_time_tracking,\n",
    "#                                                                                                                     dataframe_format=dataframe_format).run()    \n",
    "#     list_DataFrame_particles_intensities.append(DataFrame_particles_intensities)\n",
    "#     list_array_intensities.append(array_intensities)\n",
    "#     list_time_vector.append(time_vector)\n",
    "#     list_selected_mask.append(selected_mask)\n"
   ]
  },
  {
   "cell_type": "code",
   "execution_count": null,
   "id": "32f72a23",
   "metadata": {},
   "outputs": [],
   "source": [
    "list_DataFrame_particles_intensities, list_array_intensities, list_time_vector, list_selected_mask = rsp.image_processing( files_dir_path=video_path,\n",
    "                                                                                                                            particle_size=particle_detection_size,\n",
    "                                                                                                                            selected_channel_tracking = selected_channel_tracking,\n",
    "                                                                                                                            selected_channel_segmentation = selected_channel_segmentation,\n",
    "                                                                                                                            intensity_calculation_method =intensity_calculation_method, \n",
    "                                                                                                                            mask_selection_method = mask_selection_method,\n",
    "                                                                                                                            show_plot=show_plot,\n",
    "                                                                                                                            use_optimization_for_tracking=use_optimization_for_tracking,\n",
    "                                                                                                                            real_positions_dataframe = list_dataframe_simulated_cell,\n",
    "                                                                                                                            average_cell_diameter=average_cell_diameter,\n",
    "                                                                                                                            print_process_times=1,\n",
    "                                                                                                                            min_percentage_time_tracking=min_percentage_time_tracking,\n",
    "                                                                                                                            dataframe_format=dataframe_format)"
   ]
  },
  {
   "cell_type": "markdown",
   "id": "4dcdb2aa",
   "metadata": {},
   "source": [
    "# Dataframe"
   ]
  },
  {
   "cell_type": "code",
   "execution_count": null,
   "id": "a1314fea",
   "metadata": {},
   "outputs": [],
   "source": [
    "list_DataFrame_particles_intensities[0].head()"
   ]
  },
  {
   "cell_type": "markdown",
   "id": "cea22c99",
   "metadata": {},
   "source": [
    "# Comparing intensity distributions"
   ]
  },
  {
   "cell_type": "markdown",
   "id": "49538739",
   "metadata": {},
   "source": [
    "## \"Real\" intensities from SSA"
   ]
  },
  {
   "cell_type": "code",
   "execution_count": null,
   "id": "68582eff",
   "metadata": {},
   "outputs": [],
   "source": [
    "selected_time_point = 0 #simulation_time_in_sec-1"
   ]
  },
  {
   "cell_type": "code",
   "execution_count": null,
   "id": "2a664603",
   "metadata": {},
   "outputs": [],
   "source": [
    "def remove_extrema(vector ,max_percentile = 98):\n",
    "    '''This function is intended to remove extrema data given by the max percentiles specified by the user'''\n",
    "    vector = vector [vector>0]\n",
    "    max_val = np.percentile(vector, max_percentile)\n",
    "    new_vector = vector [vector< max_val] # = np.percentile(vector,max_percentile)\n",
    "    print(0 ,round(max_val,2))\n",
    "    return new_vector"
   ]
  },
  {
   "cell_type": "code",
   "execution_count": null,
   "id": "9a64a5c1",
   "metadata": {},
   "outputs": [],
   "source": [
    "ssa_trajectories = np.load(str(trajectories_dir))\n",
    "ssa_trajectories_timePoint = ssa_trajectories[:,selected_time_point].flatten()\n",
    "#ssa_trajectories_timePoint= remove_extrema(ssa_trajectories_timePoint)\n",
    "ssa_trajectories_timePoint_normalized = (ssa_trajectories_timePoint-np.amin(ssa_trajectories_timePoint))/ (np.amax(ssa_trajectories_timePoint)-np.amin(ssa_trajectories_timePoint))"
   ]
  },
  {
   "cell_type": "code",
   "execution_count": null,
   "id": "d31c1e00",
   "metadata": {},
   "outputs": [],
   "source": [
    "list_array_intensities[1].shape"
   ]
  },
  {
   "cell_type": "markdown",
   "id": "269f0079",
   "metadata": {},
   "source": [
    "## Recovered intensities from tracking"
   ]
  },
  {
   "cell_type": "code",
   "execution_count": null,
   "id": "50c44d69",
   "metadata": {},
   "outputs": [],
   "source": [
    "all_cells_green_int = np.array([])\n",
    "for i in range(0,number_images): \n",
    "    all_cells_green_int = np.append(all_cells_green_int,list_array_intensities[i][:,selected_time_point,1].flatten())   \n",
    "all_cells_green_int = all_cells_green_int[all_cells_green_int>0]\n",
    "all_cells_green_int= remove_extrema(all_cells_green_int)\n",
    "all_cells_green_int_normalized = (all_cells_green_int-np.amin(all_cells_green_int))/ (np.amax(all_cells_green_int)-np.amin(all_cells_green_int))"
   ]
  },
  {
   "cell_type": "code",
   "execution_count": null,
   "id": "559fa6e4",
   "metadata": {},
   "outputs": [],
   "source": [
    "merged_dataframe_simulated_cells.head()"
   ]
  },
  {
   "cell_type": "markdown",
   "id": "7895d9e4",
   "metadata": {},
   "source": [
    "## Loading intensities from image. \"Perfect tracking\""
   ]
  },
  {
   "cell_type": "code",
   "execution_count": null,
   "id": "262bd60c",
   "metadata": {},
   "outputs": [],
   "source": [
    "dataframe_path"
   ]
  },
  {
   "cell_type": "code",
   "execution_count": null,
   "id": "05e8a74d",
   "metadata": {},
   "outputs": [],
   "source": [
    "def extract_intensity_from_dataframe(dataframe_path, number_images,selected_time=0,selected_field='green_int_mean', remove_negative_values=True,remove_extreme_values=True):\n",
    "    list_with_extracted_data = []\n",
    "    temporal_dataframe = pd.read_csv(dataframe_path)\n",
    "    extracted_data = temporal_dataframe.loc[(temporal_dataframe['frame']==selected_time)][selected_field].values\n",
    "    # Negative values may appear if the intensity in the background is higher than the intensity in the spot. This option allows to remove negative values.\n",
    "    if remove_negative_values == True:\n",
    "        extracted_data =  extracted_data[extracted_data>=0] \n",
    "    # To plot the histogram, we could remove extreme values. Extreme values are defined as those above the 98 percentile. \n",
    "    if remove_extreme_values==True:\n",
    "        extracted_data= remove_extrema(extracted_data)  \n",
    "    # Option to normalize data to the maximum value.\n",
    "    normalized_extracted_data = (extracted_data-np.min(extracted_data))/ (np.max(extracted_data)-np.min(extracted_data))  \n",
    "    return extracted_data,normalized_extracted_data"
   ]
  },
  {
   "cell_type": "code",
   "execution_count": null,
   "id": "6eb3fa03",
   "metadata": {},
   "outputs": [],
   "source": [
    "intensity_values_in_image_flat,intensity_values_in_image_normalized =  extract_intensity_from_dataframe(dataframe_path=dataframe_path, number_images=number_images,selected_time=0,selected_field='green_int_mean')"
   ]
  },
  {
   "cell_type": "markdown",
   "id": "0cc0c48a",
   "metadata": {},
   "source": [
    "# Intensity histograms with au"
   ]
  },
  {
   "cell_type": "code",
   "execution_count": null,
   "id": "3cbc439a",
   "metadata": {},
   "outputs": [],
   "source": [
    "# plotting\n",
    "fig, axes = plt.subplots(nrows=1, ncols=3, figsize=(15, 5))\n",
    "axes[0].hist(ssa_trajectories_timePoint,bins=60,density=True, stacked=True, color='orangered' )     \n",
    "axes[0].set(title='Simulation')\n",
    "axes[0].set(xlabel='intensities (au)')\n",
    "axes[0].set(ylabel='count')\n",
    "\n",
    "axes[1].hist(intensity_values_in_image_flat,bins=60,density=True, stacked=True, color='cyan' )     \n",
    "axes[1].set(title='Image')\n",
    "axes[1].set(xlabel='intensities (au)')\n",
    "axes[1].set(ylabel='count')\n",
    "\n",
    "axes[2].hist(all_cells_green_int,bins=60,density=True, stacked=True, color='chartreuse' )     \n",
    "axes[2].set(title='Tracking')\n",
    "axes[2].set(xlabel='intensities (au)')\n",
    "axes[2].set(ylabel='count')\n",
    "plt.tight_layout()"
   ]
  },
  {
   "cell_type": "markdown",
   "id": "8fe69220",
   "metadata": {},
   "source": [
    "## Normalizing intensities to 1."
   ]
  },
  {
   "cell_type": "markdown",
   "id": "ff7df208",
   "metadata": {},
   "source": [
    "$ X_{norm} = \\frac{X -min(X)}{max(X) - min(X)} $"
   ]
  },
  {
   "cell_type": "code",
   "execution_count": null,
   "id": "d36c330a",
   "metadata": {},
   "outputs": [],
   "source": [
    "# plotting normalized intensities\n",
    "fig, axes = plt.subplots(nrows=1, ncols=3, figsize=(15, 5))\n",
    "axes[0].hist(ssa_trajectories_timePoint_normalized,bins=100,density=True, stacked=True, color='orangered' )     \n",
    "axes[0].set(title='Simulation')\n",
    "axes[0].set(xlabel='intensities (norm)')\n",
    "axes[0].set(ylabel='count')\n",
    "\n",
    "axes[1].hist(intensity_values_in_image_normalized,bins=100,density=True, stacked=True, color='cyan' )     \n",
    "axes[1].set(title='Image')\n",
    "axes[1].set(xlabel='intensities (au)')\n",
    "axes[1].set(ylabel='count')\n",
    "\n",
    "axes[2].hist(all_cells_green_int_normalized,bins=100,density=True, stacked=True, color='chartreuse' )     \n",
    "axes[2].set(title='Tracking')\n",
    "axes[2].set(xlabel='intensities (norm)')\n",
    "axes[2].set(ylabel='count')\n",
    "\n",
    "plt.tight_layout()"
   ]
  },
  {
   "cell_type": "markdown",
   "id": "903300be",
   "metadata": {},
   "source": [
    "### Statisics from normalized distributions"
   ]
  },
  {
   "cell_type": "code",
   "execution_count": null,
   "id": "414167b6",
   "metadata": {},
   "outputs": [],
   "source": [
    "print('mean ssa:              ', np.round(np.mean(ssa_trajectories_timePoint_normalized),3) )\n",
    "print('mean perfect tracking: ', np.round(np.mean(intensity_values_in_image_normalized),3)  )\n",
    "print('mean tracking:         ', np.round(np.mean(all_cells_green_int_normalized),3)  )"
   ]
  },
  {
   "cell_type": "code",
   "execution_count": null,
   "id": "4af03a56",
   "metadata": {},
   "outputs": [],
   "source": [
    "print('std ssa:              ', np.round(np.std(ssa_trajectories_timePoint_normalized),3) )\n",
    "print('std perfect tracking: ', np.round(np.std(intensity_values_in_image_normalized),3)  )\n",
    "print('std tracking:         ', np.round(np.std(all_cells_green_int_normalized),3)  )"
   ]
  },
  {
   "cell_type": "markdown",
   "id": "2d40dd2e",
   "metadata": {},
   "source": [
    "## Cummulative frequencies"
   ]
  },
  {
   "cell_type": "code",
   "execution_count": null,
   "id": "b5bb611d",
   "metadata": {},
   "outputs": [],
   "source": [
    "# Data\n",
    "data1 = ssa_trajectories_timePoint_normalized\n",
    "data_sorted_1 = np.sort(data1)\n",
    "p_1 =np.linspace(0, 1, len(data1), endpoint=False)\n",
    "\n",
    "data2 = all_cells_green_int_normalized\n",
    "data_sorted_2 = np.sort(data2)\n",
    "p_2 =np.linspace(0, 1, len(data2), endpoint=False)\n",
    "\n",
    "data3 = intensity_values_in_image_normalized\n",
    "data_sorted_3 = np.sort(data3)\n",
    "p_3 =np.linspace(0, 1, len(data3), endpoint=False)\n",
    "\n",
    "# Plotting\n",
    "plt.plot(data_sorted_1, p_1, 'orangered',linewidth=3,label ='Simulation')\n",
    "plt.plot(data_sorted_2, p_2,'chartreuse',linewidth=3,label ='tracking')\n",
    "plt.plot(data_sorted_3, p_3,'cyan',linewidth=3,label ='Image')\n",
    "\n",
    "plt.legend()\n",
    "plt.title('cumfreq')\n",
    "plt.ylabel('Cumulative probability')\n",
    "plt.xlabel('Normalized intensity')\n",
    "plt.show()\n",
    "\n",
    "# Print number of spots\n",
    "print('Number of spots for Simulation:',len(data1))\n",
    "print('Number of spots recovered from tracking:',len(data2))\n",
    "print('Number of spots recovered from image:',len(data3))"
   ]
  },
  {
   "cell_type": "markdown",
   "id": "343b7be0",
   "metadata": {},
   "source": [
    "## Comparison using the KS-distance"
   ]
  },
  {
   "cell_type": "code",
   "execution_count": null,
   "id": "75f8ddec",
   "metadata": {},
   "outputs": [],
   "source": [
    "# Calculating Kolmogorov distance\n",
    "\n",
    "ks_distance = scipy.stats.kstest(data1,data2).statistic\n",
    "print('The KS-distance between SSA and tracking is:' , round(ks_distance,2))\n",
    "\n",
    "ks_distance = scipy.stats.kstest(data1,data3).statistic\n",
    "print('The KS-distance between SSA and image is:' , round(ks_distance,2))\n",
    "\n",
    "#ks_distance = scipy.stats.kstest(data3,data2).statistic\n",
    "#print('The KS-distance between image and tracking is:' , round(ks_distance,2))"
   ]
  },
  {
   "cell_type": "markdown",
   "id": "0a62469f",
   "metadata": {},
   "source": [
    "## Comparison using the Anderson-Darling distance\n"
   ]
  },
  {
   "cell_type": "code",
   "execution_count": null,
   "id": "5fcff864",
   "metadata": {},
   "outputs": [],
   "source": [
    "ad_distance,_,_ = scipy.stats.anderson_ksamp([data1,data2],midrank=False)\n",
    "print('The AD-distance between SSA and tracking is:' , round(ad_distance,2))\n",
    "\n",
    "ad_distance,_,_ = scipy.stats.anderson_ksamp([data1,data3],midrank=False)\n",
    "print('The AD-distance between SSA and image is:' , round(ad_distance,2))"
   ]
  },
  {
   "cell_type": "markdown",
   "id": "28703c25",
   "metadata": {},
   "source": [
    "#\n",
    "## Comparison using likelihood function\n",
    "#"
   ]
  },
  {
   "cell_type": "code",
   "execution_count": null,
   "id": "dbbe914d",
   "metadata": {},
   "outputs": [],
   "source": [
    "def LL_fun(real_data,simulation_data,nbins=30):\n",
    "    hist_exp_data, hist_exp_bins = np.histogram( real_data , bins=nbins)\n",
    "    dist_sim_data, dist_sim_bins = np.histogram(simulation_data, bins=hist_exp_bins, density=True)\n",
    "    dist_sim_data[dist_sim_data ==0] = 1e-7\n",
    "    LL_int_distb = np.dot(hist_exp_data,np.log(dist_sim_data))    # likelihood function for comparing distributions\n",
    "    return LL_int_distb\n"
   ]
  },
  {
   "cell_type": "code",
   "execution_count": null,
   "id": "fa807905",
   "metadata": {},
   "outputs": [],
   "source": [
    "## LOG LIKELIHOOD OF THE INTENSITY DISTRIBUTIONS\n",
    "\n",
    "LL_ssa_tracking = LL_fun(real_data= data_sorted_1,simulation_data=data_sorted_2,nbins=100)\n",
    "print('The Likelihood between SSA and tracking is:' , round(LL_ssa_tracking,2))\n",
    "\n",
    "LL_ssa_img = LL_fun(real_data=data_sorted_1, simulation_data=data_sorted_3,nbins=100)\n",
    "print('The Likelihood between SSA and image is:' , round(LL_ssa_img,2))"
   ]
  },
  {
   "cell_type": "markdown",
   "id": "e9081d8f",
   "metadata": {},
   "source": [
    "# Scatter Plots"
   ]
  },
  {
   "cell_type": "code",
   "execution_count": null,
   "id": "34a4e6ec",
   "metadata": {},
   "outputs": [],
   "source": [
    "def plot_scatter_spots_cell_size(x,y,plot_title,selected_color = '#1C00FE',xlabel='',ylabel=''):\n",
    "    r, p = stats.pearsonr(x, y)\n",
    "    df_join_distribution = pd.DataFrame({'X':x,'Y':y})\n",
    "    #plt.figure(figsize=(6,5))\n",
    "    sns.set(font_scale = 1.3)\n",
    "    b = sns.jointplot(data=df_join_distribution, y='Y', x='X', color= selected_color , marginal_kws=dict(bins=40, rug=True))\n",
    "    b.plot_joint(sns.rugplot, height=0, color=[0.7,0.7,0.7], clip_on=True)\n",
    "    b.plot_joint(sns.kdeplot, color=[0.5,0.5,0.5], levels=5)\n",
    "    b.plot_joint(sns.regplot,scatter_kws={'color': 'orangered',\"s\":10, 'marker':'o'}, line_kws={'color': selected_color,'lw': 2} )\n",
    "    blank_plot, = b.ax_joint.plot([], [], linestyle=\"\", alpha=0)\n",
    "    b.ax_joint.legend([blank_plot],['r={:.2f}'.format( np.round(r,2))],loc='upper left',)\n",
    "    b.ax_joint.set_xlim(np.percentile(x,1), np.percentile(x,99))\n",
    "    b.ax_joint.set_ylim(np.percentile(y,1), np.percentile(y,99))\n",
    "    b.fig.suptitle(plot_title)\n",
    "    b.ax_joint.set_xlabel(xlabel)\n",
    "    b.ax_joint.set_ylabel(ylabel)\n",
    "    b.ax_joint.collections[0].set_alpha(0)\n",
    "    b.fig.tight_layout()\n",
    "    b.fig.subplots_adjust(top=0.92) \n",
    "    #name_plot = plot_title +'.pdf'  \n",
    "    #plt.savefig(name_plot, transparent=False,dpi=1200, bbox_inches = 'tight', format='pdf')\n",
    "    plt.show()\n",
    "    #pathlib.Path().absolute().joinpath(name_plot).rename(pathlib.Path().absolute().joinpath(destination_folder,name_plot))\n",
    "    return"
   ]
  },
  {
   "cell_type": "code",
   "execution_count": null,
   "id": "56c8495a",
   "metadata": {},
   "outputs": [],
   "source": [
    "# Scatter plots intensity comparing all channels\n",
    "#red_int_mean\tgreen_int_mean\tblue_int_mean\tred_int_std\tgreen_int_std\tblue_int_std\tx\ty\tSNR_red\tSNR_green\tSNR_blue\tbackground_int_mean_red\tbackground_int_mean_green\tbackground_int_mean_blue\tbackground_int_std_red\tbackground_int_std_green\tbackground_int_std_blue\n",
    "int_red,_ =  extract_intensity_from_dataframe(dataframe_path=dataframe_path, number_images=number_images,selected_time=0,selected_field='red_int_mean', remove_negative_values=False,remove_extreme_values=False)\n",
    "int_green,_ =  extract_intensity_from_dataframe(dataframe_path=dataframe_path, number_images=number_images,selected_time=0,selected_field='green_int_mean', remove_negative_values=False,remove_extreme_values=False)\n",
    "plot_scatter_spots_cell_size(int_red,int_green,plot_title='Green vs Red',selected_color = '#1C00FE',xlabel='red int',ylabel='green int')"
   ]
  },
  {
   "cell_type": "markdown",
   "id": "fadd8f08",
   "metadata": {},
   "source": [
    "## <span style=\"color:lightgreen\">Channel 1</span>"
   ]
  },
  {
   "cell_type": "code",
   "execution_count": null,
   "id": "d65ab185",
   "metadata": {},
   "outputs": [],
   "source": [
    "# Scatter plots intensity comparing all channels # background_int_std_green #SNR_green\n",
    "background,_ =  extract_intensity_from_dataframe(dataframe_path=dataframe_path, number_images=number_images,selected_time=0,selected_field='background_int_std_green', remove_negative_values=False,remove_extreme_values=False)\n",
    "intensity,_ =  extract_intensity_from_dataframe(dataframe_path=dataframe_path, number_images=number_images,selected_time=0,selected_field='green_int_mean', remove_negative_values=False,remove_extreme_values=False)\n",
    "plot_scatter_spots_cell_size(intensity,background,plot_title='Green signal',selected_color = '#1C00FE',ylabel='std(background int)',xlabel='Intensity')\n",
    "\n",
    "# Scatter plots intensity comparing all channels # background_int_std_green #SNR_green\n",
    "SNR,_ =  extract_intensity_from_dataframe(dataframe_path=dataframe_path, number_images=number_images,selected_time=0,selected_field='SNR_green', remove_negative_values=False,remove_extreme_values=False)\n",
    "intensity,_ =  extract_intensity_from_dataframe(dataframe_path=dataframe_path, number_images=number_images,selected_time=0,selected_field='green_int_mean', remove_negative_values=False,remove_extreme_values=False)\n",
    "plot_scatter_spots_cell_size(intensity,SNR,plot_title='Green signal',selected_color = '#1C00FE',xlabel='Intensity',ylabel='SNR')"
   ]
  },
  {
   "cell_type": "markdown",
   "id": "0ff11dd5",
   "metadata": {},
   "source": [
    "## <span style=\"color:red\">Channel 0</span>"
   ]
  },
  {
   "cell_type": "code",
   "execution_count": null,
   "id": "0391fdd1",
   "metadata": {},
   "outputs": [],
   "source": [
    "\n",
    "# Scatter plots intensity comparing all channels # background_int_std_green #SNR_green\n",
    "background,_ =  extract_intensity_from_dataframe(dataframe_path=dataframe_path, number_images=number_images,selected_time=0,selected_field='background_int_std_red', remove_negative_values=False,remove_extreme_values=False)\n",
    "intensity,_ =  extract_intensity_from_dataframe(dataframe_path=dataframe_path, number_images=number_images,selected_time=0,selected_field='red_int_mean', remove_negative_values=False,remove_extreme_values=False)\n",
    "plot_scatter_spots_cell_size(intensity,background,plot_title='Red signal',selected_color = '#1C00FE',ylabel='std(background int)',xlabel='Intensity')\n",
    "\n",
    "# Scatter plots intensity comparing all channels # background_int_std_green #SNR_green\n",
    "SNR,_ =  extract_intensity_from_dataframe(dataframe_path=dataframe_path, number_images=number_images,selected_time=0,selected_field='SNR_red', remove_negative_values=False,remove_extreme_values=False)\n",
    "intensity,_ =  extract_intensity_from_dataframe(dataframe_path=dataframe_path, number_images=number_images,selected_time=0,selected_field='red_int_mean', remove_negative_values=False,remove_extreme_values=False)\n",
    "plot_scatter_spots_cell_size(intensity,SNR,plot_title='Red signal',selected_color = '#1C00FE',xlabel='Intensity',ylabel='SNR')"
   ]
  },
  {
   "cell_type": "code",
   "execution_count": null,
   "id": "a73e88eb",
   "metadata": {},
   "outputs": [],
   "source": []
  },
  {
   "cell_type": "code",
   "execution_count": null,
   "id": "71a6b1e6",
   "metadata": {},
   "outputs": [],
   "source": []
  }
 ],
 "metadata": {
  "interpreter": {
   "hash": "daf7c258a197027f92a823c5e9002157216e53cdde30f9077602d149eebf1043"
  },
  "kernelspec": {
   "display_name": "Python 3.8.5 ('rsnaped_env')",
   "language": "python",
   "name": "python3"
  },
  "language_info": {
   "codemirror_mode": {
    "name": "ipython",
    "version": 3
   },
   "file_extension": ".py",
   "mimetype": "text/x-python",
   "name": "python",
   "nbconvert_exporter": "python",
   "pygments_lexer": "ipython3",
   "version": "3.8.5"
  }
 },
 "nbformat": 4,
 "nbformat_minor": 5
}
