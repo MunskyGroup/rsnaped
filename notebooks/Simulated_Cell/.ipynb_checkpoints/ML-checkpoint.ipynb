{
 "cells": [
  {
   "cell_type": "code",
   "execution_count": 1,
   "id": "cosmetic-pulse",
   "metadata": {},
   "outputs": [
    {
     "name": "stdout",
     "output_type": "stream",
     "text": [
      "numpy version = 1.19.2\n",
      "rsnapsim version = 0.0.16\n"
     ]
    }
   ],
   "source": [
    "import os\n",
    "import rsnapsim as rss\n",
    "import numpy as np\n",
    "print('numpy version =', np.version.version)\n",
    "print('rsnapsim version =',rss.__version__)\n",
    "from sys import platform\n",
    "import os\n",
    "from skimage import io ; from skimage.io import imread; from skimage.measure import find_contours\n",
    "from random import randrange\n",
    "import os; from os import listdir; from os.path import isfile, join\n",
    "import pandas as pd\n",
    "import os; from os import listdir; from os.path import isfile, join\n",
    "import re\n",
    "import shutil\n",
    "from random import randrange\n",
    "# Importing rSNAPsim_IP\n",
    "cwd = os.getcwd(); os.chdir('../../rsnaped'); import rsnaped as rsp ; os.chdir(cwd) # return to the working directory\n",
    "import ipywidgets as widgets ; from ipywidgets import interact, interactive, fixed, interact_manual, Button, HBox, VBox, Layout, GridspecLayout ; from IPython.display import Image"
   ]
  },
  {
   "cell_type": "code",
   "execution_count": 2,
   "id": "closed-trigger",
   "metadata": {},
   "outputs": [],
   "source": [
    "import matplotlib.pyplot as plt\n",
    "plt.style.use('dark_background')\n",
    "plt.rcParams['figure.dpi'] = 120\n",
    "plt.rcParams['lines.linewidth'] = 1\n",
    "plt.rcParams['axes.linewidth'] = 1.5\n",
    "plt.rcParams['font.size'] = 15\n",
    "plt.rcParams['axes.grid'] = False"
   ]
  },
  {
   "cell_type": "code",
   "execution_count": 3,
   "id": "standard-cardiff",
   "metadata": {},
   "outputs": [],
   "source": [
    "number_spots_per_cell = 40\n",
    "simulation_time_in_sec = 60\n",
    "step_size_in_sec =1"
   ]
  },
  {
   "cell_type": "markdown",
   "id": "arctic-carrier",
   "metadata": {},
   "source": [
    "# Running SSA"
   ]
  },
  {
   "cell_type": "code",
   "execution_count": 4,
   "id": "understood-birthday",
   "metadata": {},
   "outputs": [],
   "source": [
    "gene_file_h2b = '../../DataBases/gene_files/H2B_withTags.txt'\n",
    "gene_file_bact = '../../DataBases/gene_files/Bactin_withTags.txt'"
   ]
  },
  {
   "cell_type": "code",
   "execution_count": 5,
   "id": "southern-armor",
   "metadata": {},
   "outputs": [],
   "source": [
    "def rsnapsim_ssa(gene_file,ke =3,ki=0.033,frames=100,n_traj=20):\n",
    "    poi_strs, poi_objs, tagged_pois,raw_seq = rss.seqmanip.open_seq_file(gene_file)\n",
    "    gene_obj = tagged_pois['1'][0]\n",
    "    gene_obj.ke = ke\n",
    "    rss.solver.protein = gene_obj #pass the protein object\n",
    "    t_burnin = 1000\n",
    "    t = np.linspace(0,t_burnin+frames,t_burnin+frames+1)\n",
    "    \n",
    "    \n",
    "    ssa_solution = rss.solver.solve_ssa(gene_obj.kelong, t, ki=ki, kt = ke, low_memory=False,record_stats=False,n_traj=n_traj)\n",
    "    \n",
    "    \n",
    "    time = ssa_solution.time[t_burnin:-1]\n",
    "    time= time-t_burnin\n",
    "    ssa_int =  ssa_solution.intensity_vec[0,t_burnin:-1,:].T\n",
    "    return ssa_solution.time[t_burnin:-1], ssa_int"
   ]
  },
  {
   "cell_type": "markdown",
   "id": "latter-produce",
   "metadata": {},
   "source": [
    "## Running the SSA for two genes (H2B and b-act)"
   ]
  },
  {
   "cell_type": "code",
   "execution_count": 6,
   "id": "played-civilization",
   "metadata": {},
   "outputs": [
    {
     "name": "stdout",
     "output_type": "stream",
     "text": [
      "C++ library failed, Using Python Implementation\n"
     ]
    },
    {
     "ename": "KeyboardInterrupt",
     "evalue": "",
     "output_type": "error",
     "traceback": [
      "\u001b[0;31m---------------------------------------------------------------------------\u001b[0m",
      "\u001b[0;31mKeyboardInterrupt\u001b[0m                         Traceback (most recent call last)",
      "\u001b[0;32m<ipython-input-6-e6974778ef39>\u001b[0m in \u001b[0;36m<module>\u001b[0;34m\u001b[0m\n\u001b[0;32m----> 1\u001b[0;31m \u001b[0mt\u001b[0m\u001b[0;34m,\u001b[0m \u001b[0mssa_solution_h2b\u001b[0m \u001b[0;34m=\u001b[0m \u001b[0mrsnapsim_ssa\u001b[0m\u001b[0;34m(\u001b[0m\u001b[0mgene_file_h2b\u001b[0m\u001b[0;34m,\u001b[0m\u001b[0mframes\u001b[0m\u001b[0;34m=\u001b[0m\u001b[0msimulation_time_in_sec\u001b[0m\u001b[0;34m,\u001b[0m\u001b[0mn_traj\u001b[0m\u001b[0;34m=\u001b[0m\u001b[0mnumber_spots_per_cell\u001b[0m\u001b[0;34m)\u001b[0m\u001b[0;34m\u001b[0m\u001b[0;34m\u001b[0m\u001b[0m\n\u001b[0m",
      "\u001b[0;32m<ipython-input-5-59bf9bc01a03>\u001b[0m in \u001b[0;36mrsnapsim_ssa\u001b[0;34m(gene_file, ke, ki, frames, n_traj)\u001b[0m\n\u001b[1;32m      8\u001b[0m \u001b[0;34m\u001b[0m\u001b[0m\n\u001b[1;32m      9\u001b[0m \u001b[0;34m\u001b[0m\u001b[0m\n\u001b[0;32m---> 10\u001b[0;31m     \u001b[0mssa_solution\u001b[0m \u001b[0;34m=\u001b[0m \u001b[0mrss\u001b[0m\u001b[0;34m.\u001b[0m\u001b[0msolver\u001b[0m\u001b[0;34m.\u001b[0m\u001b[0msolve_ssa\u001b[0m\u001b[0;34m(\u001b[0m\u001b[0mgene_obj\u001b[0m\u001b[0;34m.\u001b[0m\u001b[0mkelong\u001b[0m\u001b[0;34m,\u001b[0m \u001b[0mt\u001b[0m\u001b[0;34m,\u001b[0m \u001b[0mki\u001b[0m\u001b[0;34m=\u001b[0m\u001b[0mki\u001b[0m\u001b[0;34m,\u001b[0m \u001b[0mkt\u001b[0m \u001b[0;34m=\u001b[0m \u001b[0mke\u001b[0m\u001b[0;34m,\u001b[0m \u001b[0mlow_memory\u001b[0m\u001b[0;34m=\u001b[0m\u001b[0;32mFalse\u001b[0m\u001b[0;34m,\u001b[0m\u001b[0mrecord_stats\u001b[0m\u001b[0;34m=\u001b[0m\u001b[0;32mFalse\u001b[0m\u001b[0;34m,\u001b[0m\u001b[0mn_traj\u001b[0m\u001b[0;34m=\u001b[0m\u001b[0mn_traj\u001b[0m\u001b[0;34m)\u001b[0m\u001b[0;34m\u001b[0m\u001b[0;34m\u001b[0m\u001b[0m\n\u001b[0m\u001b[1;32m     11\u001b[0m \u001b[0;34m\u001b[0m\u001b[0m\n\u001b[1;32m     12\u001b[0m \u001b[0;34m\u001b[0m\u001b[0m\n",
      "\u001b[0;32m~/anaconda3/lib/python3.8/site-packages/rsnapsim/TranslationSolvers.py\u001b[0m in \u001b[0;36msolve_ssa\u001b[0;34m(self, ke, t, ki, kt, x0, n_traj, bins, low_memory, perturb, leaky_probes, kprobe, record_stats, probe_vec, probe_loc, kon, koff, bursting, rib_prealloc, dynamic_prealloc)\u001b[0m\n\u001b[1;32m    534\u001b[0m \u001b[0;34m\u001b[0m\u001b[0m\n\u001b[1;32m    535\u001b[0m         \u001b[0;32melse\u001b[0m\u001b[0;34m:\u001b[0m\u001b[0;34m\u001b[0m\u001b[0;34m\u001b[0m\u001b[0m\n\u001b[0;32m--> 536\u001b[0;31m             \u001b[0mssa_obj\u001b[0m \u001b[0;34m=\u001b[0m \u001b[0mself\u001b[0m\u001b[0;34m.\u001b[0m\u001b[0m__solve_ssa_python\u001b[0m\u001b[0;34m(\u001b[0m\u001b[0mk\u001b[0m\u001b[0;34m,\u001b[0m\u001b[0mt\u001b[0m\u001b[0;34m,\u001b[0m\u001b[0mx0\u001b[0m\u001b[0;34m,\u001b[0m\u001b[0mn_traj\u001b[0m\u001b[0;34m,\u001b[0m\u001b[0mssa_conditions\u001b[0m \u001b[0;34m=\u001b[0m \u001b[0mssa_conditions\u001b[0m\u001b[0;34m,\u001b[0m \u001b[0mkon\u001b[0m\u001b[0;34m=\u001b[0m\u001b[0mkon\u001b[0m\u001b[0;34m,\u001b[0m \u001b[0mkoff\u001b[0m\u001b[0;34m=\u001b[0m\u001b[0mkoff\u001b[0m\u001b[0;34m,\u001b[0m \u001b[0mkprobe\u001b[0m\u001b[0;34m=\u001b[0m\u001b[0mkprobe\u001b[0m\u001b[0;34m)\u001b[0m\u001b[0;34m\u001b[0m\u001b[0;34m\u001b[0m\u001b[0m\n\u001b[0m\u001b[1;32m    537\u001b[0m \u001b[0;34m\u001b[0m\u001b[0m\n\u001b[1;32m    538\u001b[0m \u001b[0;34m\u001b[0m\u001b[0m\n",
      "\u001b[0;32m~/anaconda3/lib/python3.8/site-packages/rsnapsim/TranslationSolvers.py\u001b[0m in \u001b[0;36m__solve_ssa_python\u001b[0;34m(self, k, t, x0, n_traj, ssa_conditions, kprobe, kon, koff, flags)\u001b[0m\n\u001b[1;32m   1060\u001b[0m         \u001b[0;32mfor\u001b[0m \u001b[0mi\u001b[0m \u001b[0;32min\u001b[0m \u001b[0mrange\u001b[0m\u001b[0;34m(\u001b[0m\u001b[0mn_traj\u001b[0m\u001b[0;34m)\u001b[0m\u001b[0;34m:\u001b[0m\u001b[0;34m\u001b[0m\u001b[0;34m\u001b[0m\u001b[0m\n\u001b[1;32m   1061\u001b[0m \u001b[0;34m\u001b[0m\u001b[0m\n\u001b[0;32m-> 1062\u001b[0;31m             \u001b[0msoln\u001b[0m\u001b[0;34m,\u001b[0m\u001b[0mall_ribtimes\u001b[0m\u001b[0;34m,\u001b[0m\u001b[0mNcol\u001b[0m\u001b[0;34m,\u001b[0m\u001b[0mcol_points\u001b[0m\u001b[0;34m,\u001b[0m\u001b[0mintensity\u001b[0m \u001b[0;34m=\u001b[0m \u001b[0mself\u001b[0m\u001b[0;34m.\u001b[0m\u001b[0m__ssa_python\u001b[0m\u001b[0;34m(\u001b[0m\u001b[0mk\u001b[0m\u001b[0;34m,\u001b[0m \u001b[0mt\u001b[0m\u001b[0;34m,\u001b[0m \u001b[0minhibit_time\u001b[0m\u001b[0;34m=\u001b[0m\u001b[0mintime\u001b[0m\u001b[0;34m+\u001b[0m\u001b[0mnon_consider_time\u001b[0m\u001b[0;34m,\u001b[0m \u001b[0mFRAP\u001b[0m\u001b[0;34m=\u001b[0m\u001b[0mevf\u001b[0m\u001b[0;34m,\u001b[0m \u001b[0mInhibitor\u001b[0m\u001b[0;34m=\u001b[0m\u001b[0mevi\u001b[0m\u001b[0;34m,\u001b[0m \u001b[0mflags\u001b[0m\u001b[0;34m=\u001b[0m\u001b[0mflags\u001b[0m\u001b[0;34m,\u001b[0m \u001b[0mkon\u001b[0m\u001b[0;34m=\u001b[0m\u001b[0mkon\u001b[0m\u001b[0;34m,\u001b[0m \u001b[0mkprobe\u001b[0m\u001b[0;34m=\u001b[0m\u001b[0mkprobe\u001b[0m\u001b[0;34m,\u001b[0m \u001b[0mkoff\u001b[0m\u001b[0;34m=\u001b[0m\u001b[0mkoff\u001b[0m\u001b[0;34m,\u001b[0m \u001b[0mssa_conditions\u001b[0m\u001b[0;34m=\u001b[0m\u001b[0mssa_conditions\u001b[0m\u001b[0;34m)\u001b[0m\u001b[0;34m\u001b[0m\u001b[0;34m\u001b[0m\u001b[0m\n\u001b[0m\u001b[1;32m   1063\u001b[0m             \u001b[0;31m#soln = soln.reshape((1, (len(time_vec_fixed)*N_rib)))\u001b[0m\u001b[0;34m\u001b[0m\u001b[0;34m\u001b[0m\u001b[0;34m\u001b[0m\u001b[0m\n\u001b[1;32m   1064\u001b[0m \u001b[0;34m\u001b[0m\u001b[0m\n",
      "\u001b[0;32m~/anaconda3/lib/python3.8/site-packages/rsnapsim/TranslationSolvers.py\u001b[0m in \u001b[0;36m__ssa_python\u001b[0;34m(self, k, t_array, inhibit_time, FRAP, Inhibitor, flags, kon, koff, kprobe, ssa_conditions)\u001b[0m\n\u001b[1;32m   1894\u001b[0m \u001b[0;34m\u001b[0m\u001b[0m\n\u001b[1;32m   1895\u001b[0m             \u001b[0;32mif\u001b[0m \u001b[0mNR\u001b[0m \u001b[0;34m>\u001b[0m \u001b[0;36m0\u001b[0m \u001b[0;32mand\u001b[0m \u001b[0mX\u001b[0m\u001b[0;34m[\u001b[0m\u001b[0mNR\u001b[0m\u001b[0;34m-\u001b[0m\u001b[0;36m1\u001b[0m\u001b[0;34m]\u001b[0m \u001b[0;34m>\u001b[0m \u001b[0mR\u001b[0m\u001b[0;34m:\u001b[0m\u001b[0;34m\u001b[0m\u001b[0;34m\u001b[0m\u001b[0m\n\u001b[0;32m-> 1896\u001b[0;31m                 \u001b[0mwn\u001b[0m\u001b[0;34m[\u001b[0m\u001b[0mNR\u001b[0m\u001b[0;34m]\u001b[0m \u001b[0;34m=\u001b[0m \u001b[0mkbind\u001b[0m\u001b[0;34m*\u001b[0m\u001b[0mInhibit_condition\u001b[0m\u001b[0;34m*\u001b[0m\u001b[0mburst\u001b[0m\u001b[0;34m\u001b[0m\u001b[0;34m\u001b[0m\u001b[0m\n\u001b[0m\u001b[1;32m   1897\u001b[0m \u001b[0;34m\u001b[0m\u001b[0m\n\u001b[1;32m   1898\u001b[0m             \u001b[0mREST\u001b[0m \u001b[0;34m=\u001b[0m \u001b[0mnp\u001b[0m\u001b[0;34m.\u001b[0m\u001b[0mless\u001b[0m\u001b[0;34m(\u001b[0m\u001b[0mX\u001b[0m\u001b[0;34m[\u001b[0m\u001b[0;36m1\u001b[0m\u001b[0;34m:\u001b[0m\u001b[0;34m]\u001b[0m\u001b[0;34m+\u001b[0m\u001b[0;36m10\u001b[0m\u001b[0;34m,\u001b[0m \u001b[0mX\u001b[0m\u001b[0;34m[\u001b[0m\u001b[0;36m0\u001b[0m\u001b[0;34m:\u001b[0m\u001b[0;34m-\u001b[0m\u001b[0;36m1\u001b[0m\u001b[0;34m]\u001b[0m\u001b[0;34m)\u001b[0m  \u001b[0;31m#apply the footprint condition ie set any propensities where it violates the > 10 codons apart rule to 0\u001b[0m\u001b[0;34m\u001b[0m\u001b[0;34m\u001b[0m\u001b[0m\n",
      "\u001b[0;31mKeyboardInterrupt\u001b[0m: "
     ]
    }
   ],
   "source": [
    "t, ssa_solution_h2b = rsnapsim_ssa(gene_file_h2b,frames=simulation_time_in_sec,n_traj=number_spots_per_cell)"
   ]
  },
  {
   "cell_type": "code",
   "execution_count": null,
   "id": "previous-senator",
   "metadata": {},
   "outputs": [],
   "source": [
    "t, ssa_solution_b_act = rsnapsim_ssa(gene_file_bact,frames=simulation_time_in_sec,n_traj=number_spots_per_cell)"
   ]
  },
  {
   "cell_type": "code",
   "execution_count": null,
   "id": "continental-crisis",
   "metadata": {},
   "outputs": [],
   "source": [
    "plt.rcParams['figure.figsize'] = [5, 5]\n",
    "plt.plot(t,ssa_solution_h2b.T,color='r',alpha=.3 );\n",
    "plt.plot(t,ssa_solution_b_act.T,color='#66FF99',alpha=.3 );\n",
    "plt.xlabel('Time')\n",
    "plt.ylabel('Intensity (epitopes)')\n",
    "plt.show()"
   ]
  },
  {
   "cell_type": "markdown",
   "id": "boolean-publication",
   "metadata": {},
   "source": [
    "# Generating Simulated Cell"
   ]
  },
  {
   "cell_type": "markdown",
   "id": "golden-bulgaria",
   "metadata": {},
   "source": [
    "## Generating the inital video from empty cells"
   ]
  },
  {
   "cell_type": "code",
   "execution_count": null,
   "id": "corresponding-delaware",
   "metadata": {},
   "outputs": [],
   "source": [
    "ouput_directory_name = '../../DataBases/videos_for_sim_cell'\n",
    "list_files_names = sorted([f for f in listdir(ouput_directory_name) if isfile(join(ouput_directory_name, f)) and ('.tif') in f], key=str.lower)  # reading all tif files in the folder\n",
    "list_files_names.sort(key=lambda f: int(re.sub('\\D', '', f)))  # sorting the index in numerical order\n",
    "path_files = [ ouput_directory_name+'/'+f for f in list_files_names ] # creating the complete path for each file\n",
    "num_cell_shapes = len(path_files)\n",
    "sel_shape = randrange(num_cell_shapes)\n",
    "sel_shape = 1\n",
    "print(sel_shape)\n",
    "video_path = path_files[sel_shape]\n",
    "inial_video = io.imread(video_path) "
   ]
  },
  {
   "cell_type": "code",
   "execution_count": null,
   "id": "constant-hollow",
   "metadata": {},
   "outputs": [],
   "source": [
    "intensity_calculation_method = 'disk_donut'  # options are : 'total_intensity' and 'disk_donut' 'gaussian_fit'"
   ]
  },
  {
   "cell_type": "markdown",
   "id": "tender-engine",
   "metadata": {},
   "source": [
    "## Main function that creates the videos form SSA"
   ]
  },
  {
   "cell_type": "code",
   "execution_count": null,
   "id": "damaged-rubber",
   "metadata": {},
   "outputs": [],
   "source": [
    "def simCell_for_ML (base_video,video_for_mask=None, ssa=None, target_channel=1, diffusion_coefficient=0.05, step_size=1,spot_size=5, spot_sigma=2,intensity_calculation_method='gaussian_fit'):\n",
    "    if target_channel ==0:\n",
    "        ignore_ch0=0; ignore_ch1=1; ignore_ch2=1\n",
    "    elif target_channel ==1:\n",
    "        ignore_ch0=0; ignore_ch1=0; ignore_ch2=1\n",
    "    elif target_channel ==2:\n",
    "        ignore_ch0=0; ignore_ch1=1; ignore_ch2=0\n",
    "    number_spots_per_cell = ssa.shape[0]\n",
    "    simulation_time_in_sec =  ssa.shape[1]  # THIS NEEDS TO BE UPDATED TO ALLOW THE USER TO GIVE DIFFERENT STEP_SIZE\n",
    "    tensor_video , _ , _, _, _, DataFrame_particles_intensities = rsp.SimulatedCell( base_video=base_video,video_for_mask=video_for_mask, number_spots = number_spots_per_cell, number_frames=simulation_time_in_sec, step_size=step_size_in_sec, diffusion_coefficient =diffusion_coefficient, simulated_trajectories_ch0=None, size_spot_ch0=spot_size, spot_sigma_ch0=spot_sigma, simulated_trajectories_ch1=ssa, size_spot_ch1=spot_size, spot_sigma_ch1=spot_sigma, simulated_trajectories_ch2=ssa, size_spot_ch2=spot_size, spot_sigma_ch2=spot_sigma, ignore_ch0=ignore_ch0,ignore_ch1=ignore_ch1, ignore_ch2=ignore_ch2,save_as_tif_uint8=0,save_as_tif =0,save_as_gif=0, save_dataframe=0, saved_file_name=None,create_temp_folder = False,intensity_calculation_method=intensity_calculation_method).make_simulation()      \n",
    "    return tensor_video, DataFrame_particles_intensities"
   ]
  },
  {
   "cell_type": "code",
   "execution_count": null,
   "id": "magnetic-palestine",
   "metadata": {},
   "outputs": [],
   "source": [
    "tensor_video , DataFrame_particles_intensities_h2b = simCell_for_ML (inial_video, ssa=ssa_solution_h2b, target_channel=1, diffusion_coefficient=0.5,intensity_calculation_method=intensity_calculation_method)"
   ]
  },
  {
   "cell_type": "code",
   "execution_count": null,
   "id": "perceived-massage",
   "metadata": {},
   "outputs": [],
   "source": [
    "plt.rcParams['figure.figsize'] = [5, 5]\n",
    "plt.imshow(tensor_video[1,:,:,1],cmap='gray')\n",
    "plt.show(); "
   ]
  },
  {
   "cell_type": "code",
   "execution_count": null,
   "id": "relevant-rubber",
   "metadata": {},
   "outputs": [],
   "source": [
    "plt.figure(figsize=(15,2))\n",
    "for tr in range(0,ssa_solution_h2b.shape[0] ):\n",
    "    tmp_int = DataFrame_particles_intensities_h2b[DataFrame_particles_intensities_h2b['particle'] ==tr].green_int_mean.values\n",
    "    tmp_time = DataFrame_particles_intensities_h2b[DataFrame_particles_intensities_h2b['particle'] ==tr].frame.values\n",
    "    #plt.plot(tmp_time,tmp_int , 'o',linewidth = 3, markersize=7,color='m')\n",
    "    plt.plot(ssa_solution_h2b[tr,:] , '-',linewidth = 3,color='green');\n",
    "plt.title('Intensities (a.u.)')\n",
    "plt.show()"
   ]
  },
  {
   "cell_type": "code",
   "execution_count": null,
   "id": "graphic-saudi",
   "metadata": {},
   "outputs": [],
   "source": [
    "plt.figure(figsize=(15,2))\n",
    "for tr in range(0,ssa_solution_h2b.shape[0] ):\n",
    "    tmp_int = DataFrame_particles_intensities_h2b[DataFrame_particles_intensities_h2b['particle'] ==tr].green_int_mean.values\n",
    "    tmp_time = DataFrame_particles_intensities_h2b[DataFrame_particles_intensities_h2b['particle'] ==tr].frame.values\n",
    "    plt.plot(tmp_time,tmp_int , '-',linewidth = 3, markersize=7,color='m')\n",
    "    #plt.plot(ssa_solution_h2b[tr,:] , '-',linewidth = 3,color='green');\n",
    "#plt.legend([\"SSA\", \"Calculated\"], loc =\"top right\") \n",
    "plt.title('Intensities (a.u.)')\n",
    "plt.show()"
   ]
  },
  {
   "cell_type": "code",
   "execution_count": null,
   "id": "bored-desire",
   "metadata": {},
   "outputs": [],
   "source": [
    "DataFrame_particles_intensities_h2b"
   ]
  },
  {
   "cell_type": "code",
   "execution_count": null,
   "id": "stone-retention",
   "metadata": {},
   "outputs": [],
   "source": [
    "# Plot only selected trajectories\n",
    "plt.rcParams['figure.figsize'] = [5,5]\n",
    "controls_pr, output_pr = rsp.VisualizerVideo(tensor_video,dataframe_particles=DataFrame_particles_intensities_h2b,normalize=False).make_video_app()\n",
    "display(VBox([controls_pr, output_pr])); "
   ]
  },
  {
   "cell_type": "code",
   "execution_count": null,
   "id": "unsigned-charles",
   "metadata": {},
   "outputs": [],
   "source": [
    "tensor_video , DataFrame_particles_intensities_b_act = simCell_for_ML (tensor_video,video_for_mask=inial_video, ssa=ssa_solution_b_act, target_channel=1, diffusion_coefficient=1)"
   ]
  },
  {
   "cell_type": "code",
   "execution_count": null,
   "id": "excess-colony",
   "metadata": {},
   "outputs": [],
   "source": [
    "plt.figure(figsize=(15,2))\n",
    "for tr in range(0,ssa_solution_b_act.shape[0] ):\n",
    "    plt.plot(ssa_solution_b_act[tr,:] , '-',linewidth = 3,color='green');\n",
    "plt.title('Intensities (a.u.)')\n",
    "plt.show()"
   ]
  },
  {
   "cell_type": "code",
   "execution_count": null,
   "id": "enhanced-mortgage",
   "metadata": {},
   "outputs": [],
   "source": [
    "plt.figure(figsize=(15,2))\n",
    "for tr in range(0,ssa_solution_h2b.shape[0] ):\n",
    "    tmp_int_b = DataFrame_particles_intensities_b_act[DataFrame_particles_intensities_b_act['particle'] ==tr].green_int_mean.values\n",
    "    tmp_time_b = DataFrame_particles_intensities_b_act[DataFrame_particles_intensities_b_act['particle'] ==tr].frame.values\n",
    "    plt.plot(tmp_time_b,tmp_int_b , '-',linewidth = 3, markersize=7,color='m')\n",
    "plt.title('Intensities (a.u.)')\n",
    "plt.show()"
   ]
  },
  {
   "cell_type": "markdown",
   "id": "promotional-million",
   "metadata": {},
   "source": [
    "# Simulated cell with two types of spots on the same channel. Different diffusion_coefficient"
   ]
  },
  {
   "cell_type": "code",
   "execution_count": null,
   "id": "durable-default",
   "metadata": {},
   "outputs": [],
   "source": [
    "# Plot only selected trajectories\n",
    "plt.rcParams['figure.figsize'] = [7,7]\n",
    "controls_pr, output_pr = rsp.VisualizerVideo(tensor_video,dataframe_particles=DataFrame_particles_intensities_b_act,normalize=False).make_video_app()\n",
    "display(VBox([controls_pr, output_pr]));"
   ]
  },
  {
   "cell_type": "markdown",
   "id": "complete-morgan",
   "metadata": {},
   "source": [
    "# Dataframes for the two different genes"
   ]
  },
  {
   "cell_type": "code",
   "execution_count": null,
   "id": "wanted-calgary",
   "metadata": {},
   "outputs": [],
   "source": [
    "#DataFrame_particles_intensities_h2b"
   ]
  },
  {
   "cell_type": "code",
   "execution_count": null,
   "id": "molecular-finance",
   "metadata": {},
   "outputs": [],
   "source": [
    "#DataFrame_particles_intensities_b_act"
   ]
  },
  {
   "cell_type": "code",
   "execution_count": null,
   "id": "binding-tongue",
   "metadata": {},
   "outputs": [],
   "source": []
  },
  {
   "cell_type": "code",
   "execution_count": null,
   "id": "european-travel",
   "metadata": {},
   "outputs": [],
   "source": []
  },
  {
   "cell_type": "code",
   "execution_count": null,
   "id": "tested-camel",
   "metadata": {},
   "outputs": [],
   "source": []
  }
 ],
 "metadata": {
  "kernelspec": {
   "display_name": "Python 3",
   "language": "python",
   "name": "python3"
  },
  "language_info": {
   "codemirror_mode": {
    "name": "ipython",
    "version": 3
   },
   "file_extension": ".py",
   "mimetype": "text/x-python",
   "name": "python",
   "nbconvert_exporter": "python",
   "pygments_lexer": "ipython3",
   "version": "3.8.5"
  }
 },
 "nbformat": 4,
 "nbformat_minor": 5
}
