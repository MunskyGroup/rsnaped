{
 "cells": [
  {
   "cell_type": "code",
   "execution_count": 1,
   "metadata": {
    "jupyter": {
     "source_hidden": true
    }
   },
   "outputs": [
    {
     "name": "stdout",
     "output_type": "stream",
     "text": [
      "         _____ _   _____    ____       _              ________ \n",
      "   _____/ ___// | / /   |  / __ \\_____(_)___ ___     /  _/ __ \\\n",
      "  / ___/\\__ \\/  |/ / /| | / /_/ / ___/ / __ `__ \\    / // /_/ /\n",
      " / /   ___/ / /|  / ___ |/ ____(__  ) / / / / / /  _/ // ____/ \n",
      "/_/   /____/_/ |_/_/  |_/_/   /____/_/_/ /_/ /_/  /___/_/      \n",
      "                                                               \n",
      "\n"
     ]
    }
   ],
   "source": [
    "# Importing libraries\n",
    "from sys import platform\n",
    "# To import files from directories\n",
    "import os; from os import listdir; from os.path import isfile, join\n",
    "# rSNAPsim Image Processing\n",
    "cwd = os.getcwd(); os.chdir('../');import rSNAPsim_IP as rss_IP; os.chdir(cwd)\n",
    "# Image reader\n",
    "from skimage import io ; from skimage.io import imread\n",
    "# Plotting\n",
    "import matplotlib as mpl ; import matplotlib.pyplot as plt \n",
    "# To manipulate arrays\n",
    "import numpy as np \n",
    "import random\n",
    "import re\n",
    "from tqdm.notebook import tqdm\n",
    "# To create interactive elements\n",
    "import ipywidgets as widgets ; from ipywidgets import interact, interactive, fixed, interact_manual, Button, HBox, VBox, Layout, GridspecLayout ; from IPython.display import Image\n",
    "# Figure style and size\n",
    "mpl.rc('figure',  figsize=(7, 7)); mpl.rc('image', cmap='gray'); mpl.rc('axes', grid=False); mpl.rcParams['figure.dpi'] = 300\n",
    "%matplotlib inline "
   ]
  },
  {
   "cell_type": "markdown",
   "metadata": {},
   "source": [
    "# Loading data"
   ]
  },
  {
   "cell_type": "code",
   "execution_count": 2,
   "metadata": {},
   "outputs": [],
   "source": [
    "# Deffining the images path \n",
    "path = '../../DataSets/Empty_cells'"
   ]
  },
  {
   "cell_type": "code",
   "execution_count": 3,
   "metadata": {
    "jupyter": {
     "source_hidden": true
    }
   },
   "outputs": [
    {
     "data": {
      "text/plain": [
       "(260, 2, 512, 512)"
      ]
     },
     "execution_count": 3,
     "metadata": {},
     "output_type": "execute_result"
    }
   ],
   "source": [
    "# Creating a list with the path for each file \n",
    "list_files_names = sorted([f for f in listdir(path) if isfile(join(path, f)) and ('.tif') in f], key=str.lower)  # reading all tif files in the folder\n",
    "list_files_names.sort(key=lambda f: int(re.sub('\\D', '', f)))  # sorting the index in numerical order\n",
    "path_files = [ path+'/'+f for f in list_files_names ] # creating the complete path for each file\n",
    "# Reading the microscopy data\n",
    "list_imgs = [imread(f)[1,:,:,:] for f in  path_files]   # List with all the images. A time point from the videos\n",
    "list_videos = [imread(f) for f in  path_files] # List with all the videos\n",
    "list_num_frames = [list_videos[i].shape[0] for i in range(0,len(list_videos))] # number of frames for each video\n",
    "nimg = len(list_imgs) # number of videos\n",
    "list_videos[0].shape"
   ]
  },
  {
   "cell_type": "markdown",
   "metadata": {},
   "source": [
    "# Reading 3D videos with the correct dimenssions"
   ]
  },
  {
   "cell_type": "code",
   "execution_count": 4,
   "metadata": {
    "jupyter": {
     "source_hidden": true
    }
   },
   "outputs": [],
   "source": [
    "def transform_video(video):\n",
    "    time_points = video.shape[0]\n",
    "    number_z_stacks = 13\n",
    "    reshaped_video = np.reshape(video, ( int(time_points/number_z_stacks), number_z_stacks,2, 512, 512))\n",
    "    reshaped_video = np.transpose(reshaped_video, (0,1,3,4,2) ) # TZYXC\n",
    "    return reshaped_video"
   ]
  },
  {
   "cell_type": "code",
   "execution_count": 5,
   "metadata": {
    "jupyter": {
     "source_hidden": true
    }
   },
   "outputs": [
    {
     "data": {
      "text/plain": [
       "(20, 13, 512, 512, 2)"
      ]
     },
     "execution_count": 5,
     "metadata": {},
     "output_type": "execute_result"
    }
   ],
   "source": [
    "# Transformed videos\n",
    "list_videos_3D = [transform_video(list_videos[i]) for i in range(0,len(list_videos))] \n",
    "list_videos_3D[0].shape  # TZYXC"
   ]
  },
  {
   "cell_type": "code",
   "execution_count": 6,
   "metadata": {},
   "outputs": [
    {
     "data": {
      "application/vnd.jupyter.widget-view+json": {
       "model_id": "9cce54e73c33456f91f52c8538315f93",
       "version_major": 2,
       "version_minor": 0
      },
      "text/plain": [
       "VBox(children=(HBox(children=(Dropdown(description='Cell', options=(0, 1, 2, 3, 4, 5, 6, 7, 8, 9), value=0), D…"
      ]
     },
     "metadata": {},
     "output_type": "display_data"
    }
   ],
   "source": [
    "# Plot only selected trajectories\n",
    "#sel_video = list_videos_3D[2]\n",
    "controls_pr, output_pr = rss_IP.VideoVisualizer3D_Multicell(list_videos_3D).make_video_app()\n",
    "display(VBox([controls_pr, output_pr])); plt.rcParams['figure.figsize'] = [10, 10]"
   ]
  },
  {
   "cell_type": "markdown",
   "metadata": {},
   "source": [
    "# Maximum projection"
   ]
  },
  {
   "cell_type": "code",
   "execution_count": 7,
   "metadata": {},
   "outputs": [
    {
     "data": {
      "text/plain": [
       "(20, 512, 512, 2)"
      ]
     },
     "execution_count": 7,
     "metadata": {},
     "output_type": "execute_result"
    }
   ],
   "source": [
    "list_videos_max_projection = [np.max(list_videos_3D[i], axis=1) for i in range(0,len(list_videos))] \n",
    "list_videos_max_projection[0].shape"
   ]
  },
  {
   "cell_type": "code",
   "execution_count": 8,
   "metadata": {},
   "outputs": [
    {
     "data": {
      "application/vnd.jupyter.widget-view+json": {
       "model_id": "573b2fda290345f8a1b4398f52963100",
       "version_major": 2,
       "version_minor": 0
      },
      "text/plain": [
       "VBox(children=(HBox(children=(Dropdown(description='Cell', options=(0, 1, 2, 3, 4, 5, 6, 7, 8, 9), value=0), D…"
      ]
     },
     "metadata": {},
     "output_type": "display_data"
    }
   ],
   "source": [
    "# Plot only selected trajectories\n",
    "controls_pr, output_pr = rss_IP.VideoVisualizer_Multicell(list_videos_max_projection,normalize=True).make_video_app()\n",
    "display(VBox([controls_pr, output_pr])); plt.rcParams['figure.figsize'] = [7, 7]"
   ]
  },
  {
   "cell_type": "code",
   "execution_count": 9,
   "metadata": {},
   "outputs": [],
   "source": [
    "# To read .tiff files\n",
    "import tifffile"
   ]
  },
  {
   "cell_type": "code",
   "execution_count": 10,
   "metadata": {},
   "outputs": [],
   "source": [
    "def save_max_projection_tif(video,file_name):\n",
    "    save_to_path = 'temp/cell_shapes/'\n",
    "    if not os.path.exists(save_to_path):\n",
    "        os.makedirs(save_to_path)\n",
    "    print (\"The output is saved in the directory: ./\" , save_to_path[0:-1])\n",
    "    tifffile.imwrite(save_to_path+file_name+'.tif', video)"
   ]
  },
  {
   "cell_type": "code",
   "execution_count": 11,
   "metadata": {},
   "outputs": [
    {
     "name": "stdout",
     "output_type": "stream",
     "text": [
      "The output is saved in the directory: ./ temp/cell_shapes\n",
      "The output is saved in the directory: ./ temp/cell_shapes\n",
      "The output is saved in the directory: ./ temp/cell_shapes\n",
      "The output is saved in the directory: ./ temp/cell_shapes\n",
      "The output is saved in the directory: ./ temp/cell_shapes\n",
      "The output is saved in the directory: ./ temp/cell_shapes\n",
      "The output is saved in the directory: ./ temp/cell_shapes\n",
      "The output is saved in the directory: ./ temp/cell_shapes\n",
      "The output is saved in the directory: ./ temp/cell_shapes\n",
      "The output is saved in the directory: ./ temp/cell_shapes\n"
     ]
    }
   ],
   "source": [
    "temp_out = [save_max_projection_tif(list_videos_max_projection[i],'cell_shape_'+str(i)) for i in range(0,len(list_videos))] "
   ]
  },
  {
   "cell_type": "code",
   "execution_count": 12,
   "metadata": {},
   "outputs": [
    {
     "data": {
      "text/plain": [
       "(20, 512, 512, 2)"
      ]
     },
     "execution_count": 12,
     "metadata": {},
     "output_type": "execute_result"
    }
   ],
   "source": [
    "list_videos_max_projection[0].shape"
   ]
  },
  {
   "cell_type": "code",
   "execution_count": null,
   "metadata": {},
   "outputs": [],
   "source": []
  }
 ],
 "metadata": {
  "kernelspec": {
   "display_name": "Python 3",
   "language": "python",
   "name": "python3"
  },
  "language_info": {
   "codemirror_mode": {
    "name": "ipython",
    "version": 3
   },
   "file_extension": ".py",
   "mimetype": "text/x-python",
   "name": "python",
   "nbconvert_exporter": "python",
   "pygments_lexer": "ipython3",
   "version": "3.8.5"
  }
 },
 "nbformat": 4,
 "nbformat_minor": 4
}
