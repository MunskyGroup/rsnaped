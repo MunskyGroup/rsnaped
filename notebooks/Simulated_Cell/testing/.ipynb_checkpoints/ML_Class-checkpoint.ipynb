{
 "cells": [
  {
   "cell_type": "code",
   "execution_count": 1,
   "id": "structural-destruction",
   "metadata": {
    "jupyter": {
     "source_hidden": true
    }
   },
   "outputs": [
    {
     "name": "stdout",
     "output_type": "stream",
     "text": [
      "numpy version = 1.20.1\n",
      "rsnapsim version = 0.0.18\n"
     ]
    }
   ],
   "source": [
    "import os\n",
    "import rsnapsim as rss\n",
    "import numpy as np\n",
    "print('numpy version =', np.version.version)\n",
    "print('rsnapsim version =',rss.__version__)\n",
    "from sys import platform\n",
    "import os\n",
    "from skimage import io ; from skimage.io import imread; from skimage.measure import find_contours\n",
    "from random import randrange\n",
    "import os; from os import listdir; from os.path import isfile, join\n",
    "import pandas as pd\n",
    "import os; from os import listdir; from os.path import isfile, join\n",
    "import re\n",
    "import shutil\n",
    "from random import randrange\n",
    "# Importing rSNAPsim_IP\n",
    "cwd = os.getcwd(); os.chdir('../../rsnaped'); import rsnaped as rsp ; os.chdir(cwd) # return to the working directory\n",
    "import ipywidgets as widgets ; from ipywidgets import interact, interactive, fixed, interact_manual, Button, HBox, VBox, Layout, GridspecLayout ; from IPython.display import Image"
   ]
  },
  {
   "cell_type": "code",
   "execution_count": 2,
   "id": "arctic-sequence",
   "metadata": {
    "jupyter": {
     "source_hidden": true
    }
   },
   "outputs": [],
   "source": [
    "import matplotlib.pyplot as plt\n",
    "plt.style.use('dark_background')\n",
    "plt.rcParams['figure.dpi'] = 120\n",
    "plt.rcParams['lines.linewidth'] = 1\n",
    "plt.rcParams['axes.linewidth'] = 1.5\n",
    "plt.rcParams['font.size'] = 15\n",
    "plt.rcParams['axes.grid'] = False"
   ]
  },
  {
   "cell_type": "code",
   "execution_count": 3,
   "id": "hairy-bidder",
   "metadata": {},
   "outputs": [],
   "source": [
    "# gene files\n",
    "gene_file_h2b = '../../DataBases/gene_files/H2B_withTags.txt'\n",
    "gene_file_bact = '../../DataBases/gene_files/Bactin_withTags.txt'"
   ]
  },
  {
   "cell_type": "code",
   "execution_count": 4,
   "id": "economic-module",
   "metadata": {},
   "outputs": [],
   "source": [
    "# initial video\n",
    "empty_cells_directory_name = '../../DataBases/videos_for_sim_cell'"
   ]
  },
  {
   "cell_type": "code",
   "execution_count": 5,
   "id": "optical-watson",
   "metadata": {
    "jupyter": {
     "source_hidden": true
    }
   },
   "outputs": [],
   "source": [
    "list_files_names = sorted([f for f in listdir(empty_cells_directory_name) if isfile(join(empty_cells_directory_name, f)) and ('.tif') in f], key=str.lower)  # reading all tif files in the folder\n",
    "list_files_names.sort(key=lambda f: int(re.sub('\\D', '', f)))  # sorting the index in numerical order\n",
    "path_files = [ empty_cells_directory_name+'/'+f for f in list_files_names ] # creating the complete path for each file\n",
    "num_cell_shapes = len(path_files)\n",
    "sel_shape = randrange(num_cell_shapes)\n",
    "video_path = path_files[sel_shape]"
   ]
  },
  {
   "cell_type": "code",
   "execution_count": 6,
   "id": "rapid-fight",
   "metadata": {},
   "outputs": [],
   "source": [
    "# Inputs\n",
    "inial_video = io.imread(video_path) # video with empty cell\n",
    "\n",
    "list_gene_sequences = [gene_file_h2b, gene_file_bact] # path to gene sequences\n",
    "list_number_spots = [20, 10] # list of integers, where each element represents the number of spots\n",
    "list_target_channels = [1, 1] # channel where the simulated spots will be located. \n",
    "list_diffusion_coefficients =[0.01, 1] # diffusion coefficients for each gene\n",
    "list_label_names = ['a','b'] # list of strings used to generate a classification field in the output data frame\n",
    "\n",
    "simulation_time_in_sec = 100\n",
    "step_size_in_sec =1\n",
    "\n",
    "save_as_tif = 1 # option to save the simulated video\n",
    "save_dataframe = 1 # option to save the simulation output as a dataframe in format csv. \n",
    "saved_file_name = 'simulated_cell' # if the video or dataframe are save, this variable assigns the name to the files\n",
    "create_temp_folder = 1 # saves the video and data frame in a temp folder"
   ]
  },
  {
   "cell_type": "code",
   "execution_count": 7,
   "id": "brief-spell",
   "metadata": {},
   "outputs": [
    {
     "name": "stdout",
     "output_type": "stream",
     "text": [
      "The output is saved in the directory: ./ temp\n",
      "The output is saved in the directory: ./ temp\n"
     ]
    }
   ],
   "source": [
    "tensor_video, dataframe_simulated_cell = rsp.SimulatedCellMultiplexing(inial_video,list_gene_sequences,list_number_spots,list_target_channels,list_diffusion_coefficients,list_label_names,simulation_time_in_sec,step_size_in_sec,save_as_tif, save_dataframe, saved_file_name,create_temp_folder).make_simulation()"
   ]
  },
  {
   "cell_type": "code",
   "execution_count": 8,
   "id": "wanted-holly",
   "metadata": {},
   "outputs": [
    {
     "data": {
      "application/vnd.jupyter.widget-view+json": {
       "model_id": "ffdb90c0aa90446bbc5bc4bcf9ad7fea",
       "version_major": 2,
       "version_minor": 0
      },
      "text/plain": [
       "VBox(children=(HBox(children=(Dropdown(description='Cell', options=(0,), value=0), IntSlider(value=0, descript…"
      ]
     },
     "metadata": {},
     "output_type": "display_data"
    }
   ],
   "source": [
    "# Plot only selected trajectories\n",
    "plt.rcParams['figure.figsize'] = [5,5]\n",
    "#controls_pr, output_pr = rsp.VisualizerVideo(tensor_video,dataframe_particles=dataframe_simulated_cell,normalize=False).make_video_app()\n",
    "controls_pr, output_pr = rsp.VisualizerVideo(tensor_video,normalize=False).make_video_app()\n",
    "display(VBox([controls_pr, output_pr]));"
   ]
  },
  {
   "cell_type": "code",
   "execution_count": 9,
   "id": "prospective-wright",
   "metadata": {},
   "outputs": [
    {
     "data": {
      "text/html": [
       "<div>\n",
       "<style scoped>\n",
       "    .dataframe tbody tr th:only-of-type {\n",
       "        vertical-align: middle;\n",
       "    }\n",
       "\n",
       "    .dataframe tbody tr th {\n",
       "        vertical-align: top;\n",
       "    }\n",
       "\n",
       "    .dataframe thead th {\n",
       "        text-align: right;\n",
       "    }\n",
       "</style>\n",
       "<table border=\"1\" class=\"dataframe\">\n",
       "  <thead>\n",
       "    <tr style=\"text-align: right;\">\n",
       "      <th></th>\n",
       "      <th>cell_number</th>\n",
       "      <th>particle</th>\n",
       "      <th>frame</th>\n",
       "      <th>red_int_mean</th>\n",
       "      <th>green_int_mean</th>\n",
       "      <th>blue_int_mean</th>\n",
       "      <th>red_int_std</th>\n",
       "      <th>green_int_std</th>\n",
       "      <th>blue_int_std</th>\n",
       "      <th>x</th>\n",
       "      <th>y</th>\n",
       "      <th>Classification</th>\n",
       "    </tr>\n",
       "  </thead>\n",
       "  <tbody>\n",
       "    <tr>\n",
       "      <th>0</th>\n",
       "      <td>0</td>\n",
       "      <td>0</td>\n",
       "      <td>0</td>\n",
       "      <td>64.494286</td>\n",
       "      <td>106.712860</td>\n",
       "      <td>0.0</td>\n",
       "      <td>57.344476</td>\n",
       "      <td>43.332692</td>\n",
       "      <td>0.0</td>\n",
       "      <td>209.0</td>\n",
       "      <td>285.0</td>\n",
       "      <td>gene_1</td>\n",
       "    </tr>\n",
       "    <tr>\n",
       "      <th>1</th>\n",
       "      <td>0</td>\n",
       "      <td>0</td>\n",
       "      <td>1</td>\n",
       "      <td>107.225716</td>\n",
       "      <td>117.830002</td>\n",
       "      <td>0.0</td>\n",
       "      <td>68.063683</td>\n",
       "      <td>28.384146</td>\n",
       "      <td>0.0</td>\n",
       "      <td>209.0</td>\n",
       "      <td>285.0</td>\n",
       "      <td>gene_1</td>\n",
       "    </tr>\n",
       "    <tr>\n",
       "      <th>2</th>\n",
       "      <td>0</td>\n",
       "      <td>0</td>\n",
       "      <td>2</td>\n",
       "      <td>97.412857</td>\n",
       "      <td>130.830002</td>\n",
       "      <td>0.0</td>\n",
       "      <td>78.717277</td>\n",
       "      <td>33.513653</td>\n",
       "      <td>0.0</td>\n",
       "      <td>209.0</td>\n",
       "      <td>285.0</td>\n",
       "      <td>gene_1</td>\n",
       "    </tr>\n",
       "    <tr>\n",
       "      <th>3</th>\n",
       "      <td>0</td>\n",
       "      <td>0</td>\n",
       "      <td>3</td>\n",
       "      <td>80.064285</td>\n",
       "      <td>124.094284</td>\n",
       "      <td>0.0</td>\n",
       "      <td>66.340609</td>\n",
       "      <td>31.006692</td>\n",
       "      <td>0.0</td>\n",
       "      <td>209.0</td>\n",
       "      <td>285.0</td>\n",
       "      <td>gene_1</td>\n",
       "    </tr>\n",
       "    <tr>\n",
       "      <th>4</th>\n",
       "      <td>0</td>\n",
       "      <td>0</td>\n",
       "      <td>4</td>\n",
       "      <td>93.521431</td>\n",
       "      <td>133.419998</td>\n",
       "      <td>0.0</td>\n",
       "      <td>66.338568</td>\n",
       "      <td>42.006923</td>\n",
       "      <td>0.0</td>\n",
       "      <td>209.0</td>\n",
       "      <td>285.0</td>\n",
       "      <td>gene_1</td>\n",
       "    </tr>\n",
       "    <tr>\n",
       "      <th>...</th>\n",
       "      <td>...</td>\n",
       "      <td>...</td>\n",
       "      <td>...</td>\n",
       "      <td>...</td>\n",
       "      <td>...</td>\n",
       "      <td>...</td>\n",
       "      <td>...</td>\n",
       "      <td>...</td>\n",
       "      <td>...</td>\n",
       "      <td>...</td>\n",
       "      <td>...</td>\n",
       "      <td>...</td>\n",
       "    </tr>\n",
       "    <tr>\n",
       "      <th>995</th>\n",
       "      <td>0</td>\n",
       "      <td>19</td>\n",
       "      <td>95</td>\n",
       "      <td>43.637142</td>\n",
       "      <td>47.275715</td>\n",
       "      <td>0.0</td>\n",
       "      <td>64.391044</td>\n",
       "      <td>38.169578</td>\n",
       "      <td>0.0</td>\n",
       "      <td>273.0</td>\n",
       "      <td>154.0</td>\n",
       "      <td>gene_2</td>\n",
       "    </tr>\n",
       "    <tr>\n",
       "      <th>996</th>\n",
       "      <td>0</td>\n",
       "      <td>19</td>\n",
       "      <td>96</td>\n",
       "      <td>44.290001</td>\n",
       "      <td>50.941429</td>\n",
       "      <td>0.0</td>\n",
       "      <td>57.231984</td>\n",
       "      <td>40.413466</td>\n",
       "      <td>0.0</td>\n",
       "      <td>273.0</td>\n",
       "      <td>154.0</td>\n",
       "      <td>gene_2</td>\n",
       "    </tr>\n",
       "    <tr>\n",
       "      <th>997</th>\n",
       "      <td>0</td>\n",
       "      <td>19</td>\n",
       "      <td>97</td>\n",
       "      <td>67.040001</td>\n",
       "      <td>46.974285</td>\n",
       "      <td>0.0</td>\n",
       "      <td>39.060050</td>\n",
       "      <td>40.543165</td>\n",
       "      <td>0.0</td>\n",
       "      <td>272.0</td>\n",
       "      <td>153.0</td>\n",
       "      <td>gene_2</td>\n",
       "    </tr>\n",
       "    <tr>\n",
       "      <th>998</th>\n",
       "      <td>0</td>\n",
       "      <td>19</td>\n",
       "      <td>98</td>\n",
       "      <td>49.222858</td>\n",
       "      <td>55.024284</td>\n",
       "      <td>0.0</td>\n",
       "      <td>57.719012</td>\n",
       "      <td>43.674280</td>\n",
       "      <td>0.0</td>\n",
       "      <td>272.0</td>\n",
       "      <td>153.0</td>\n",
       "      <td>gene_2</td>\n",
       "    </tr>\n",
       "    <tr>\n",
       "      <th>999</th>\n",
       "      <td>0</td>\n",
       "      <td>19</td>\n",
       "      <td>99</td>\n",
       "      <td>57.292858</td>\n",
       "      <td>49.619999</td>\n",
       "      <td>0.0</td>\n",
       "      <td>72.616382</td>\n",
       "      <td>37.102617</td>\n",
       "      <td>0.0</td>\n",
       "      <td>272.0</td>\n",
       "      <td>153.0</td>\n",
       "      <td>gene_2</td>\n",
       "    </tr>\n",
       "  </tbody>\n",
       "</table>\n",
       "<p>2000 rows × 12 columns</p>\n",
       "</div>"
      ],
      "text/plain": [
       "     cell_number  particle  frame  red_int_mean  green_int_mean  \\\n",
       "0              0         0      0     64.494286      106.712860   \n",
       "1              0         0      1    107.225716      117.830002   \n",
       "2              0         0      2     97.412857      130.830002   \n",
       "3              0         0      3     80.064285      124.094284   \n",
       "4              0         0      4     93.521431      133.419998   \n",
       "..           ...       ...    ...           ...             ...   \n",
       "995            0        19     95     43.637142       47.275715   \n",
       "996            0        19     96     44.290001       50.941429   \n",
       "997            0        19     97     67.040001       46.974285   \n",
       "998            0        19     98     49.222858       55.024284   \n",
       "999            0        19     99     57.292858       49.619999   \n",
       "\n",
       "     blue_int_mean  red_int_std  green_int_std  blue_int_std      x      y  \\\n",
       "0              0.0    57.344476      43.332692           0.0  209.0  285.0   \n",
       "1              0.0    68.063683      28.384146           0.0  209.0  285.0   \n",
       "2              0.0    78.717277      33.513653           0.0  209.0  285.0   \n",
       "3              0.0    66.340609      31.006692           0.0  209.0  285.0   \n",
       "4              0.0    66.338568      42.006923           0.0  209.0  285.0   \n",
       "..             ...          ...            ...           ...    ...    ...   \n",
       "995            0.0    64.391044      38.169578           0.0  273.0  154.0   \n",
       "996            0.0    57.231984      40.413466           0.0  273.0  154.0   \n",
       "997            0.0    39.060050      40.543165           0.0  272.0  153.0   \n",
       "998            0.0    57.719012      43.674280           0.0  272.0  153.0   \n",
       "999            0.0    72.616382      37.102617           0.0  272.0  153.0   \n",
       "\n",
       "    Classification  \n",
       "0           gene_1  \n",
       "1           gene_1  \n",
       "2           gene_1  \n",
       "3           gene_1  \n",
       "4           gene_1  \n",
       "..             ...  \n",
       "995         gene_2  \n",
       "996         gene_2  \n",
       "997         gene_2  \n",
       "998         gene_2  \n",
       "999         gene_2  \n",
       "\n",
       "[2000 rows x 12 columns]"
      ]
     },
     "execution_count": 9,
     "metadata": {},
     "output_type": "execute_result"
    }
   ],
   "source": [
    "dataframe_simulated_cell"
   ]
  },
  {
   "cell_type": "code",
   "execution_count": 10,
   "id": "valuable-railway",
   "metadata": {},
   "outputs": [],
   "source": [
    "# NEED to ask Will about step size in rSNAPsim\n",
    "# Normalize with respect to max_int value for all genes."
   ]
  },
  {
   "cell_type": "code",
   "execution_count": null,
   "id": "insured-fifth",
   "metadata": {},
   "outputs": [],
   "source": []
  }
 ],
 "metadata": {
  "kernelspec": {
   "display_name": "Python 3",
   "language": "python",
   "name": "python3"
  },
  "language_info": {
   "codemirror_mode": {
    "name": "ipython",
    "version": 3
   },
   "file_extension": ".py",
   "mimetype": "text/x-python",
   "name": "python",
   "nbconvert_exporter": "python",
   "pygments_lexer": "ipython3",
   "version": "3.8.5"
  }
 },
 "nbformat": 4,
 "nbformat_minor": 5
}
