{
 "cells": [
  {
   "cell_type": "markdown",
   "metadata": {},
   "source": [
    "# Comparing datasets"
   ]
  },
  {
   "cell_type": "code",
   "execution_count": null,
   "metadata": {},
   "outputs": [],
   "source": [
    "import os; from os import listdir; from os.path import isfile, join\n",
    "import re  \n",
    "#from skimage import io \n",
    "from skimage.io import imread\n",
    "# To manipulate arrays\n",
    "import numpy as np \n",
    "import random\n",
    "from tqdm.notebook import tqdm\n",
    "from timeit import default_timer as timer\n",
    "import scipy\n",
    "import pandas as pd\n",
    "import shutil\n",
    "import pathlib\n",
    "import sys\n",
    "# Plotting\n",
    "import matplotlib as mpl ; import matplotlib.pyplot as plt \n",
    "# To create interactive elements\n",
    "import ipywidgets as widgets ; from ipywidgets import interact, interactive, fixed, interact_manual, Button, HBox, VBox, Layout, GridspecLayout ; from IPython.display import Image"
   ]
  },
  {
   "cell_type": "code",
   "execution_count": null,
   "metadata": {},
   "outputs": [],
   "source": [
    "# Deffining directories\n",
    "current_dir = pathlib.Path().absolute()\n",
    "sequences_dir = current_dir.parents[1].joinpath('DataBases','gene_files')\n",
    "video_dir = current_dir.parents[1].joinpath('DataBases','videos_for_sim_cell')\n",
    "trajectiories_dir = current_dir.parents[1].joinpath('DataBases','rsnapsim_simulations','bactin_ssa.npy')\n",
    "rsnaped_dir = current_dir.parents[1].joinpath('rsnaped')"
   ]
  },
  {
   "cell_type": "code",
   "execution_count": null,
   "metadata": {},
   "outputs": [],
   "source": [
    "# Importing rSNAPsim_IP\n",
    "sys.path.append(str(rsnaped_dir))\n",
    "import rsnaped as rsp"
   ]
  },
  {
   "cell_type": "code",
   "execution_count": null,
   "metadata": {},
   "outputs": [],
   "source": [
    "# These are the parameters that need to be tested. \n",
    "number_of_simulated_cells = 1  # PLEASE TEST MIN 1 MAX 10\n",
    "number_spots_per_cell = 50     # PLEASE TEST MIN 5 MAX 200\n",
    "simulation_time_in_sec = 100     # PLEASE TEST MIN 10 MAX 100\n",
    "diffusion_coefficient = 0.56    # PLEASE TEST MIN 0.1 MAX 2"
   ]
  },
  {
   "cell_type": "code",
   "execution_count": null,
   "metadata": {},
   "outputs": [],
   "source": [
    "intensity_calculation_method = 'disk_donut'  # options are : 'total_intensity' and 'disk_donut' 'gaussian_fit'\n",
    "mask_selection_method = 'max_area' # options are : 'max_spots' and 'max_area' \n",
    "use_optimization_for_tracking = 0 # 0 not using, 1 is using optimization\n",
    "frame_selection_empty_video = 'shuffle' # Options are: 'constant' , 'shuffle' and 'loop'"
   ]
  },
  {
   "cell_type": "code",
   "execution_count": null,
   "metadata": {},
   "outputs": [],
   "source": [
    "particle_size = 5 # spot size for the simulation and tracking.\n",
    "elongation_rate = 3\n",
    "initiation_rate = 0.03"
   ]
  },
  {
   "cell_type": "code",
   "execution_count": null,
   "metadata": {},
   "outputs": [],
   "source": [
    "def fun_simulated_cells(current_dir,trajectiories_dir, video_dir,number_of_simulated_cells=3,number_spots_per_cell=80,simulation_time_in_sec =100,step_size_in_sec=1,particle_size=5, diffusion_coefficient =1, path_to_save_output='temp',intensity_calculation_method='gaussian_fit',frame_selection_empty_video=frame_selection_empty_video):\n",
    "    spot_size = particle_size\n",
    "    spot_sigma = 2\n",
    "    # Code that creates the folder to store results.\n",
    "    diffusion_coefficient_string = str(diffusion_coefficient).replace('.','_')\n",
    "    \n",
    "    directory_name = 'Simulation_V2__'+'ns_'+str(number_spots_per_cell) +'_diff_'+ diffusion_coefficient_string \n",
    "    path_to_save_output = 'temp'\n",
    "    save_to_path =  current_dir.joinpath(path_to_save_output , directory_name )\n",
    "    \n",
    "    if not os.path.exists(str(save_to_path)):\n",
    "        os.makedirs(str(save_to_path))\n",
    "    else:\n",
    "        shutil.rmtree(str(save_to_path))\n",
    "        os.makedirs(str(save_to_path))\n",
    "        \n",
    "    # Loading trajectories from file\n",
    "    ssa_trajectories = np.load(str(trajectiories_dir))\n",
    "    counter = 0\n",
    "    ## Main loop that creates each cell and dataframe\n",
    "    for cell_number in range (0, number_of_simulated_cells):\n",
    "        ouput_directory_name = str(video_dir)\n",
    "        list_files_names = sorted([f for f in listdir(ouput_directory_name) if isfile(join(ouput_directory_name, f)) and ('.tif') in f], key=str.lower)  # reading all tif files in the folder\n",
    "        list_files_names.sort(key=lambda f: int(re.sub('\\D', '', f)))  # sorting the index in numerical order\n",
    "        path_files = [ str(video_dir.joinpath(f).resolve()) for f in list_files_names ] # creating the complete path for each file\n",
    "        video_path = path_files[counter]        \n",
    "        video = imread(video_path) \n",
    "        counter +=1\n",
    "        if counter>=len(path_files):\n",
    "            counter =0\n",
    "        random_index_ch1 = np.random.randint(low=0, high=ssa_trajectories.shape[0]-1, size=(number_spots_per_cell,))\n",
    "        random_index_ch2 = np.random.randint(low=0, high=ssa_trajectories.shape[0]-1, size=(number_spots_per_cell,))\n",
    "        simulated_trajectories_ch1 = ssa_trajectories[random_index_ch1,0:simulation_time_in_sec:step_size_in_sec]\n",
    "        simulated_trajectories_ch2 =  ssa_trajectories[random_index_ch2,0:simulation_time_in_sec:step_size_in_sec]\n",
    "        # Running the cell simulation\n",
    "        saved_file_name = str(save_to_path.joinpath('sim_cell_'+str(cell_number)))\n",
    "        tensor_video , spot_positions_movement, DataFrame_particles_intensities = rsp.SimulatedCell( base_video=video, number_spots = number_spots_per_cell, number_frames=simulation_time_in_sec, step_size=step_size_in_sec, diffusion_coefficient =diffusion_coefficient, simulated_trajectories_ch0=None, size_spot_ch0=spot_size, spot_sigma_ch0=spot_sigma, simulated_trajectories_ch1=simulated_trajectories_ch1, size_spot_ch1=spot_size, spot_sigma_ch1=spot_sigma, simulated_trajectories_ch2=simulated_trajectories_ch2, size_spot_ch2=spot_size, spot_sigma_ch2=spot_sigma, ignore_ch0=0,ignore_ch1=0, ignore_ch2=1,save_as_tif_uint8=0,save_as_tif =1,save_as_gif=0, save_dataframe=1, saved_file_name=saved_file_name,create_temp_folder = False, intensity_calculation_method=intensity_calculation_method,perform_video_augmentation=1,frame_selection_empty_video=frame_selection_empty_video).make_simulation()      \n",
    "        #print ('The results are saved in folder: ', saved_file_name)\n",
    "    return save_to_path"
   ]
  },
  {
   "cell_type": "code",
   "execution_count": null,
   "metadata": {},
   "outputs": [],
   "source": [
    "ouput_directory_name = fun_simulated_cells(current_dir,trajectiories_dir,video_dir,number_of_simulated_cells=number_of_simulated_cells,number_spots_per_cell=number_spots_per_cell,simulation_time_in_sec =simulation_time_in_sec,step_size_in_sec=1,particle_size=particle_size, diffusion_coefficient=diffusion_coefficient,intensity_calculation_method=intensity_calculation_method,frame_selection_empty_video=frame_selection_empty_video)"
   ]
  },
  {
   "cell_type": "code",
   "execution_count": null,
   "metadata": {},
   "outputs": [],
   "source": [
    "# Reads the folder with the results and import the simulations as lists\n",
    "list_files_names = sorted([f for f in listdir(ouput_directory_name) if isfile(join(ouput_directory_name, f)) and ('.tif') in f], key=str.lower)  # reading all tif files in the folder\n",
    "list_files_names.sort(key=lambda f: int(re.sub('\\D', '', f)))  # sorting the index in numerical order\n",
    "path_files = [ str(ouput_directory_name.joinpath(f).resolve()) for f in list_files_names ] # creating the complete path for each file\n",
    "\n",
    "# Reading the microscopy data\n",
    "list_videos = [imread(f)[:,:,:,:] for f in  path_files] # List with all the videos\n",
    "nimg = number_of_simulated_cells"
   ]
  },
  {
   "cell_type": "code",
   "execution_count": null,
   "metadata": {},
   "outputs": [],
   "source": [
    "# Reads the dataframes\n",
    "list_files_dfnames = sorted([f for f in listdir(ouput_directory_name) if isfile(join(ouput_directory_name, f)) and ('.csv') in f], key=str.lower)  # reading all tif files in the folder\n",
    "list_files_dfnames.sort(key=lambda f: int(re.sub('\\D', '', f)))  # sorting the index in numerical order\n",
    "path_files_df = [ str(ouput_directory_name.joinpath(f).resolve()) for f in list_files_dfnames ] # creating the complete path for each file\n",
    "list_df_real_positions = [pd.read_csv(f) for f in  path_files_df] # List with all the dataframes"
   ]
  },
  {
   "cell_type": "code",
   "execution_count": null,
   "metadata": {},
   "outputs": [],
   "source": [
    "rsp.VisualizerImage(list_videos,list_files_names=list_files_names,selected_channel =0,selected_timepoint= 0,normalize=0,individual_figure_size=7).plot()"
   ]
  },
  {
   "cell_type": "code",
   "execution_count": null,
   "metadata": {},
   "outputs": [],
   "source": [
    "#intensity_selection_method =intensity_selection_method, mask_selection_method = mask_selection_method\n",
    "list_DataFrame_particles_intensities= []\n",
    "list_array_intensities = []\n",
    "list_time_vector = []\n",
    "for i in tqdm(range(0,nimg)): \n",
    "    DataFrame_particles_intensities, array_intensities, time_vector, mean_intensities,std_intensities, mean_intensities_normalized, std_intensities_normalized = rsp.PipelineTracking(list_videos[i],particle_size=particle_size,file_name=list_files_names[i],selected_channel=0,intensity_calculation_method =intensity_calculation_method, mask_selection_method = mask_selection_method,show_plot=1,use_optimization_for_tracking=use_optimization_for_tracking,real_positions_dataframe = list_df_real_positions[i],average_cell_diameter=200,print_process_times=1).run()    \n",
    "    list_DataFrame_particles_intensities.append(DataFrame_particles_intensities)\n",
    "    list_array_intensities.append(array_intensities)\n",
    "    list_time_vector.append(time_vector)"
   ]
  },
  {
   "cell_type": "code",
   "execution_count": null,
   "metadata": {},
   "outputs": [],
   "source": [
    "# Dataframe from simulated data\n",
    "num_particles_real = list_df_real_positions[0]['particle'].nunique()\n",
    "print('number of particles:', num_particles_real , '\\n')\n",
    "list_df_real_positions[0]"
   ]
  },
  {
   "cell_type": "code",
   "execution_count": null,
   "metadata": {},
   "outputs": [],
   "source": [
    "# Dataframe from tracking\n",
    "num_particles_tracking = list_DataFrame_particles_intensities[0]['particle'].nunique()\n",
    "print('number of particles:',num_particles_tracking, '\\n')\n",
    "list_DataFrame_particles_intensities[0]"
   ]
  },
  {
   "cell_type": "code",
   "execution_count": null,
   "metadata": {},
   "outputs": [],
   "source": [
    "# https://stackoverflow.com/questions/31667070/max-distance-between-2-points-in-a-data-set-and-identifying-the-points/31667270#31667270\n",
    "# https://stackoverflow.com/questions/31632190/measuring-geographic-distance-with-scipy\n",
    "# https://docs.scipy.org/doc/scipy/reference/generated/scipy.spatial.distance.pdist.html#scipy.spatial.distance.pdist"
   ]
  },
  {
   "cell_type": "markdown",
   "metadata": {},
   "source": [
    "## Metric to calculate the distance between trajectories"
   ]
  },
  {
   "cell_type": "code",
   "execution_count": null,
   "metadata": {},
   "outputs": [],
   "source": [
    "# https://citeseerx.ist.psu.edu/viewdoc/download?doi=10.1.1.103.2617&rep=rep1&type=pdf"
   ]
  },
  {
   "cell_type": "markdown",
   "metadata": {},
   "source": [
    "Euclidean distance is used to calculate the distance between each point"
   ]
  },
  {
   "cell_type": "markdown",
   "metadata": {},
   "source": [
    "$d=(x_2−x_1)^2+(y_2−y_1)^2$"
   ]
  },
  {
   "cell_type": "markdown",
   "metadata": {},
   "source": [
    "Average"
   ]
  },
  {
   "cell_type": "markdown",
   "metadata": {},
   "source": [
    "$\\mu(di) = \\frac{1}{n} \\sum\\limits_{i=1}^n = d_i$"
   ]
  },
  {
   "cell_type": "markdown",
   "metadata": {},
   "source": [
    "Standard deviation"
   ]
  },
  {
   "cell_type": "markdown",
   "metadata": {},
   "source": [
    "$\\sigma = \\sqrt{\\frac{1}{N} \\sum_{i=1}^N (x_i - \\mu)^2},\\text{ where } \\mu = \\frac{1}{N} \\sum_{i=1}^N x_i$"
   ]
  },
  {
   "cell_type": "markdown",
   "metadata": {},
   "source": [
    "Standard error of the sample mean"
   ]
  },
  {
   "cell_type": "markdown",
   "metadata": {},
   "source": [
    "$SEM = \\frac{\\sigma_{x}}{\\sqrt{N}}$"
   ]
  },
  {
   "cell_type": "code",
   "execution_count": null,
   "metadata": {},
   "outputs": [],
   "source": [
    "import itertools\n",
    "from scipy.spatial.distance import pdist\n",
    "from scipy import stats\n",
    "\n",
    "df_sim = list_df_real_positions[0]\n",
    "df_tracking = list_DataFrame_particles_intensities[0]\n",
    "\n",
    "list_idx_sim = np.arange(0,num_particles_real,step=1)\n",
    "list_idx_tracking = np.arange(0,num_particles_tracking,step=1)\n",
    "\n",
    "distance_matrix_mean = np.zeros(( len(list_idx_sim),len(list_idx_tracking)))\n",
    "distance_matrix_sem = np.zeros(( len(list_idx_sim),len(list_idx_tracking)))\n",
    "\n",
    "# Loop that iterates for all trajectory combinations\n",
    "for index_sim, index_tracking in itertools.product(list_idx_sim,list_idx_tracking):\n",
    "    time_df_tracking = df_tracking.loc[df_tracking['particle']==index_tracking].frame.values[:]\n",
    "    temp_distance_matrix = []\n",
    "    # Loop that iterates for the length of the tracking trajectory\n",
    "    for index_time in time_df_tracking:\n",
    "        # coordinates simulation\n",
    "        #print(index_sim,index_time)\n",
    "        x_val_sim = df_sim.loc[(df_sim['particle']==index_sim) & (df_sim['frame']==index_time)].x.values[0]\n",
    "        y_val_sim = df_sim.loc[(df_sim['particle']==index_sim) & (df_sim['frame']==index_time)].y.values[0]\n",
    "        # coordinates tracking\n",
    "        x_val_tracking = df_tracking.loc[(df_tracking['particle']==index_tracking) & (df_tracking['frame']==index_time)].x.values[0]\n",
    "        y_val_tracking = df_tracking.loc[(df_tracking['particle']==index_tracking) & (df_tracking['frame']==index_time)].y.values[0]        \n",
    "        # Combining coordinates between simulation and tracking\n",
    "        coordinates_sim = [x_val_sim,y_val_sim]\n",
    "        coordinates_tracking = [x_val_tracking,y_val_tracking]\n",
    "        matrix_coordinates = [coordinates_sim, coordinates_tracking] \n",
    "        # Calculating the Euclidean distance\n",
    "        temp_distance_matrix.append( np.round(pdist(matrix_coordinates, 'euclidean'),2) )\n",
    "    # Saving comparison in a numpy array\n",
    "    distance_matrix_mean[index_sim, index_tracking] = np.mean(temp_distance_matrix)\n",
    "    distance_matrix_sem[index_sim, index_tracking] = stats.sem(temp_distance_matrix, axis=None)"
   ]
  },
  {
   "cell_type": "code",
   "execution_count": null,
   "metadata": {},
   "outputs": [],
   "source": [
    "distance_matrix_mean.shape"
   ]
  },
  {
   "cell_type": "code",
   "execution_count": null,
   "metadata": {},
   "outputs": [],
   "source": [
    "print(len(list_idx_sim),len(list_idx_tracking))"
   ]
  },
  {
   "cell_type": "code",
   "execution_count": null,
   "metadata": {},
   "outputs": [],
   "source": [
    "# Selecting the closest trajectories\n",
    "min_distances = np.amin (distance_matrix_mean,axis =0)\n",
    "print(np.round(min_distances,1))"
   ]
  },
  {
   "cell_type": "code",
   "execution_count": null,
   "metadata": {},
   "outputs": [],
   "source": [
    "# Selecting the closest trajectories\n",
    "min_distances = np.amin (distance_matrix_sem,axis =0)\n",
    "print(np.round(min_distances,1))"
   ]
  },
  {
   "cell_type": "code",
   "execution_count": null,
   "metadata": {},
   "outputs": [],
   "source": [
    "# making pairs if the distance is shorter than a treshold\n",
    "min_distances = np.amin (distance_matrix_mean,axis =0)\n",
    "min_index_distances = np.argmin (distance_matrix_mean,axis =0)\n",
    "pairs = []\n",
    "false_detection = []\n",
    "treshold_mean = 2\n",
    "list_selected_trajectories =[]\n",
    "\n",
    "# loop that detect paired trajectories and false trajectories\n",
    "for i in list_idx_tracking:\n",
    "    if min_distances[i] < treshold_mean:\n",
    "        pairs.append([min_index_distances[i],i])\n",
    "        list_selected_trajectories.append(i)\n",
    "    else:\n",
    "        false_detection.append(i)"
   ]
  },
  {
   "cell_type": "code",
   "execution_count": null,
   "metadata": {},
   "outputs": [],
   "source": [
    "print(pairs)"
   ]
  },
  {
   "cell_type": "code",
   "execution_count": null,
   "metadata": {},
   "outputs": [],
   "source": [
    "print(false_detection)"
   ]
  },
  {
   "cell_type": "code",
   "execution_count": null,
   "metadata": {},
   "outputs": [],
   "source": [
    "print(list_selected_trajectories)\n",
    "fragmented_trejectories =  [list_selected_trajectories[i] for i in range(len(list_selected_trajectories)) if list_selected_trajectories[i] in list_selected_trajectories[:i]][1:]\n",
    "fragmented_trejectories"
   ]
  },
  {
   "cell_type": "code",
   "execution_count": null,
   "metadata": {},
   "outputs": [],
   "source": [
    "selected_pair = 10\n",
    "\n",
    "# coordinates tracking\n",
    "x_val_sim = df_sim.loc[df_sim['particle']==pairs[selected_pair][0] ].x.values[:]\n",
    "y_val_sim = df_sim.loc[df_sim['particle']==pairs[selected_pair][0] ].y.values[:]\n",
    "\n",
    "x_val_tracking = df_tracking.loc[df_tracking['particle']==pairs[selected_pair][1] ].x.values[:]\n",
    "y_val_tracking = df_tracking.loc[df_tracking['particle']==pairs[selected_pair][1] ].y.values[:]   \n",
    "\n",
    "plt.figure(figsize=(10,10))\n",
    "plt.plot(x_val_sim,y_val_sim, '-',linewidth = 3,color='lime');\n",
    "plt.plot(x_val_tracking,y_val_tracking, '-',linewidth = 3,color='orangered');\n",
    "\n",
    "plt.title('Comparing trajectories')\n",
    "plt.show()"
   ]
  },
  {
   "cell_type": "code",
   "execution_count": null,
   "metadata": {},
   "outputs": [],
   "source": [
    "import math\n",
    "from matplotlib import gridspec\n",
    "\n",
    "NUM_COLUMNS =3\n",
    "NUM_PLOTS = len(pairs)\n",
    "NUM_ROWS = int(math.ceil(NUM_PLOTS/ NUM_COLUMNS))\n",
    "FIGURE_SIZE = 5\n",
    "\n",
    "# Loop to plot multiple cells in a grid\n",
    "gs = gridspec.GridSpec(NUM_ROWS, NUM_COLUMNS)\n",
    "gs.update(wspace=0.2, hspace=0.2) # set the spacing between axes.\n",
    "fig = plt.figure(figsize=(FIGURE_SIZE*NUM_COLUMNS, FIGURE_SIZE*NUM_ROWS))\n",
    "for i in range(0,NUM_PLOTS):    \n",
    "    \n",
    "    # coordinates tracking\n",
    "    x_val_sim = df_sim.loc[df_sim['particle']==pairs[i][0] ].x.values[:]\n",
    "    y_val_sim = df_sim.loc[df_sim['particle']==pairs[i][0] ].y.values[:]\n",
    "    x_val_tracking = df_tracking.loc[df_tracking['particle']==pairs[i][1] ].x.values[:]\n",
    "    y_val_tracking = df_tracking.loc[df_tracking['particle']==pairs[i][1] ].y.values[:]   \n",
    "\n",
    "    ax = fig.add_subplot(gs[i])\n",
    "    ax.plot(x_val_sim,y_val_sim, '-',linewidth = 3,color='lime');\n",
    "    ax.plot(x_val_tracking,y_val_tracking, '-',linewidth = 3,color='orangered');\n",
    "    \n",
    "    ax.set(title='sim:'+ str(pairs[i][0])+', tracking: ' + str(pairs[i][1]) )\n",
    "    "
   ]
  },
  {
   "cell_type": "code",
   "execution_count": null,
   "metadata": {},
   "outputs": [],
   "source": []
  }
 ],
 "metadata": {
  "kernelspec": {
   "display_name": "Python 3.8.10 64-bit",
   "language": "python",
   "name": "python3"
  },
  "language_info": {
   "codemirror_mode": {
    "name": "ipython",
    "version": 3
   },
   "file_extension": ".py",
   "mimetype": "text/x-python",
   "name": "python",
   "nbconvert_exporter": "python",
   "pygments_lexer": "ipython3",
   "version": "3.8.10"
  },
  "vscode": {
   "interpreter": {
    "hash": "31f2aee4e71d21fbe5cf8b01ff0e069b9275f58929596ceb00d14d90e3e16cd6"
   }
  }
 },
 "nbformat": 4,
 "nbformat_minor": 5
}
