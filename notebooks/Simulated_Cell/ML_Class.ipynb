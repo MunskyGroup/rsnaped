{
 "cells": [
  {
   "cell_type": "code",
   "execution_count": 1,
   "id": "injured-silence",
   "metadata": {
    "jupyter": {
     "source_hidden": true
    }
   },
   "outputs": [
    {
     "name": "stdout",
     "output_type": "stream",
     "text": [
      "numpy version = 1.20.1\n",
      "rsnapsim version = 0.0.18\n"
     ]
    }
   ],
   "source": [
    "import os\n",
    "import rsnapsim as rss\n",
    "import numpy as np\n",
    "print('numpy version =', np.version.version)\n",
    "print('rsnapsim version =',rss.__version__)\n",
    "from sys import platform\n",
    "import os\n",
    "from skimage import io ; from skimage.io import imread; from skimage.measure import find_contours\n",
    "from random import randrange\n",
    "import os; from os import listdir; from os.path import isfile, join\n",
    "import pandas as pd\n",
    "import os; from os import listdir; from os.path import isfile, join\n",
    "import re\n",
    "import shutil\n",
    "from random import randrange\n",
    "# Importing rSNAPsim_IP\n",
    "cwd = os.getcwd(); os.chdir('../../rsnaped'); import rsnaped as rsp ; os.chdir(cwd) # return to the working directory\n",
    "import ipywidgets as widgets ; from ipywidgets import interact, interactive, fixed, interact_manual, Button, HBox, VBox, Layout, GridspecLayout ; from IPython.display import Image"
   ]
  },
  {
   "cell_type": "code",
   "execution_count": 2,
   "id": "refined-train",
   "metadata": {
    "jupyter": {
     "source_hidden": true
    }
   },
   "outputs": [],
   "source": [
    "import matplotlib.pyplot as plt\n",
    "plt.style.use('dark_background')\n",
    "plt.rcParams['figure.dpi'] = 120\n",
    "plt.rcParams['lines.linewidth'] = 1\n",
    "plt.rcParams['axes.linewidth'] = 1.5\n",
    "plt.rcParams['font.size'] = 15\n",
    "plt.rcParams['axes.grid'] = False"
   ]
  },
  {
   "cell_type": "code",
   "execution_count": 3,
   "id": "satellite-retail",
   "metadata": {},
   "outputs": [],
   "source": [
    "# gene files\n",
    "gene_file_h2b = '../../DataBases/gene_files/H2B_withTags.txt'\n",
    "gene_file_bact = '../../DataBases/gene_files/Bactin_withTags.txt'"
   ]
  },
  {
   "cell_type": "code",
   "execution_count": 4,
   "id": "infinite-segment",
   "metadata": {},
   "outputs": [],
   "source": [
    "# initial video\n",
    "empty_cells_directory_name = '../../DataBases/videos_for_sim_cell'"
   ]
  },
  {
   "cell_type": "code",
   "execution_count": 5,
   "id": "brazilian-prediction",
   "metadata": {
    "jupyter": {
     "source_hidden": true
    }
   },
   "outputs": [],
   "source": [
    "list_files_names = sorted([f for f in listdir(empty_cells_directory_name) if isfile(join(empty_cells_directory_name, f)) and ('.tif') in f], key=str.lower)  # reading all tif files in the folder\n",
    "list_files_names.sort(key=lambda f: int(re.sub('\\D', '', f)))  # sorting the index in numerical order\n",
    "path_files = [ empty_cells_directory_name+'/'+f for f in list_files_names ] # creating the complete path for each file\n",
    "num_cell_shapes = len(path_files)\n",
    "sel_shape = randrange(num_cell_shapes)\n",
    "video_path = path_files[sel_shape]"
   ]
  },
  {
   "cell_type": "code",
   "execution_count": 6,
   "id": "written-fantasy",
   "metadata": {},
   "outputs": [],
   "source": [
    "# Inputs\n",
    "inial_video = io.imread(video_path) # video with empty cell\n",
    "\n",
    "list_gene_sequences = [gene_file_h2b, gene_file_bact] # path to gene sequences\n",
    "list_number_spots = [20, 10] # list of integers, where each element represents the number of spots\n",
    "list_target_channels = [1, 1] # channel where the simulated spots will be located. \n",
    "list_diffusion_coefficients =[0.01, 1] # diffusion coefficients for each gene\n",
    "list_label_names = ['a','b'] # list of strings used to generate a classification field in the output data frame\n",
    "\n",
    "simulation_time_in_sec = 100\n",
    "step_size_in_sec =1\n",
    "\n",
    "save_as_tif = 1 # option to save the simulated video\n",
    "save_dataframe = 1 # option to save the simulation output as a dataframe in format csv. \n",
    "saved_file_name = 'simulated_cell' # if the video or dataframe are save, this variable assigns the name to the files\n",
    "create_temp_folder = 1 # saves the video and data frame in a temp folder"
   ]
  },
  {
   "cell_type": "code",
   "execution_count": 7,
   "id": "black-quarterly",
   "metadata": {},
   "outputs": [
    {
     "name": "stdout",
     "output_type": "stream",
     "text": [
      "The output is saved in the directory: ./ temp\n",
      "The output is saved in the directory: ./ temp\n"
     ]
    }
   ],
   "source": [
    "tensor_video, dataframe_simulated_cell = rsp.SimulatedCellMultiplexing(inial_video,list_gene_sequences,list_number_spots,list_target_channels,list_diffusion_coefficients,list_label_names,simulation_time_in_sec,step_size_in_sec,save_as_tif, save_dataframe, saved_file_name,create_temp_folder).make_simulation()"
   ]
  },
  {
   "cell_type": "code",
   "execution_count": 8,
   "id": "ordinary-understanding",
   "metadata": {},
   "outputs": [
    {
     "data": {
      "application/vnd.jupyter.widget-view+json": {
       "model_id": "5215746794e74ad782082bef61552d94",
       "version_major": 2,
       "version_minor": 0
      },
      "text/plain": [
       "VBox(children=(HBox(children=(Dropdown(description='Cell', options=(0,), value=0), IntSlider(value=0, descript…"
      ]
     },
     "metadata": {},
     "output_type": "display_data"
    }
   ],
   "source": [
    "# Plot only selected trajectories\n",
    "plt.rcParams['figure.figsize'] = [5,5]\n",
    "#controls_pr, output_pr = rsp.VisualizerVideo(tensor_video,dataframe_particles=dataframe_simulated_cell,normalize=False).make_video_app()\n",
    "controls_pr, output_pr = rsp.VisualizerVideo(tensor_video,normalize=False).make_video_app()\n",
    "display(VBox([controls_pr, output_pr]));"
   ]
  },
  {
   "cell_type": "code",
   "execution_count": 9,
   "id": "worst-characteristic",
   "metadata": {},
   "outputs": [
    {
     "data": {
      "text/html": [
       "<div>\n",
       "<style scoped>\n",
       "    .dataframe tbody tr th:only-of-type {\n",
       "        vertical-align: middle;\n",
       "    }\n",
       "\n",
       "    .dataframe tbody tr th {\n",
       "        vertical-align: top;\n",
       "    }\n",
       "\n",
       "    .dataframe thead th {\n",
       "        text-align: right;\n",
       "    }\n",
       "</style>\n",
       "<table border=\"1\" class=\"dataframe\">\n",
       "  <thead>\n",
       "    <tr style=\"text-align: right;\">\n",
       "      <th></th>\n",
       "      <th>cell_number</th>\n",
       "      <th>particle</th>\n",
       "      <th>frame</th>\n",
       "      <th>red_int_mean</th>\n",
       "      <th>green_int_mean</th>\n",
       "      <th>blue_int_mean</th>\n",
       "      <th>red_int_std</th>\n",
       "      <th>green_int_std</th>\n",
       "      <th>blue_int_std</th>\n",
       "      <th>x</th>\n",
       "      <th>y</th>\n",
       "      <th>Classification</th>\n",
       "    </tr>\n",
       "  </thead>\n",
       "  <tbody>\n",
       "    <tr>\n",
       "      <th>0</th>\n",
       "      <td>0</td>\n",
       "      <td>0</td>\n",
       "      <td>0</td>\n",
       "      <td>106.278572</td>\n",
       "      <td>46.451427</td>\n",
       "      <td>0.0</td>\n",
       "      <td>50.396329</td>\n",
       "      <td>41.055328</td>\n",
       "      <td>0.0</td>\n",
       "      <td>257.0</td>\n",
       "      <td>210.0</td>\n",
       "      <td>a</td>\n",
       "    </tr>\n",
       "    <tr>\n",
       "      <th>1</th>\n",
       "      <td>0</td>\n",
       "      <td>0</td>\n",
       "      <td>1</td>\n",
       "      <td>70.828575</td>\n",
       "      <td>52.022858</td>\n",
       "      <td>0.0</td>\n",
       "      <td>51.498921</td>\n",
       "      <td>37.036933</td>\n",
       "      <td>0.0</td>\n",
       "      <td>257.0</td>\n",
       "      <td>210.0</td>\n",
       "      <td>a</td>\n",
       "    </tr>\n",
       "    <tr>\n",
       "      <th>2</th>\n",
       "      <td>0</td>\n",
       "      <td>0</td>\n",
       "      <td>2</td>\n",
       "      <td>91.589996</td>\n",
       "      <td>49.165714</td>\n",
       "      <td>0.0</td>\n",
       "      <td>60.466230</td>\n",
       "      <td>33.140877</td>\n",
       "      <td>0.0</td>\n",
       "      <td>257.0</td>\n",
       "      <td>210.0</td>\n",
       "      <td>a</td>\n",
       "    </tr>\n",
       "    <tr>\n",
       "      <th>3</th>\n",
       "      <td>0</td>\n",
       "      <td>0</td>\n",
       "      <td>3</td>\n",
       "      <td>82.034286</td>\n",
       "      <td>46.844284</td>\n",
       "      <td>0.0</td>\n",
       "      <td>48.534281</td>\n",
       "      <td>50.866229</td>\n",
       "      <td>0.0</td>\n",
       "      <td>257.0</td>\n",
       "      <td>210.0</td>\n",
       "      <td>a</td>\n",
       "    </tr>\n",
       "    <tr>\n",
       "      <th>4</th>\n",
       "      <td>0</td>\n",
       "      <td>0</td>\n",
       "      <td>4</td>\n",
       "      <td>98.548569</td>\n",
       "      <td>74.344284</td>\n",
       "      <td>0.0</td>\n",
       "      <td>61.179253</td>\n",
       "      <td>41.672145</td>\n",
       "      <td>0.0</td>\n",
       "      <td>257.0</td>\n",
       "      <td>210.0</td>\n",
       "      <td>a</td>\n",
       "    </tr>\n",
       "    <tr>\n",
       "      <th>...</th>\n",
       "      <td>...</td>\n",
       "      <td>...</td>\n",
       "      <td>...</td>\n",
       "      <td>...</td>\n",
       "      <td>...</td>\n",
       "      <td>...</td>\n",
       "      <td>...</td>\n",
       "      <td>...</td>\n",
       "      <td>...</td>\n",
       "      <td>...</td>\n",
       "      <td>...</td>\n",
       "      <td>...</td>\n",
       "    </tr>\n",
       "    <tr>\n",
       "      <th>995</th>\n",
       "      <td>0</td>\n",
       "      <td>29</td>\n",
       "      <td>95</td>\n",
       "      <td>71.368568</td>\n",
       "      <td>90.448570</td>\n",
       "      <td>0.0</td>\n",
       "      <td>49.995399</td>\n",
       "      <td>43.115156</td>\n",
       "      <td>0.0</td>\n",
       "      <td>169.0</td>\n",
       "      <td>317.0</td>\n",
       "      <td>b</td>\n",
       "    </tr>\n",
       "    <tr>\n",
       "      <th>996</th>\n",
       "      <td>0</td>\n",
       "      <td>29</td>\n",
       "      <td>96</td>\n",
       "      <td>152.598572</td>\n",
       "      <td>104.637146</td>\n",
       "      <td>0.0</td>\n",
       "      <td>62.745296</td>\n",
       "      <td>40.221954</td>\n",
       "      <td>0.0</td>\n",
       "      <td>167.0</td>\n",
       "      <td>317.0</td>\n",
       "      <td>b</td>\n",
       "    </tr>\n",
       "    <tr>\n",
       "      <th>997</th>\n",
       "      <td>0</td>\n",
       "      <td>29</td>\n",
       "      <td>97</td>\n",
       "      <td>86.738571</td>\n",
       "      <td>107.485718</td>\n",
       "      <td>0.0</td>\n",
       "      <td>61.350937</td>\n",
       "      <td>35.686910</td>\n",
       "      <td>0.0</td>\n",
       "      <td>165.0</td>\n",
       "      <td>317.0</td>\n",
       "      <td>b</td>\n",
       "    </tr>\n",
       "    <tr>\n",
       "      <th>998</th>\n",
       "      <td>0</td>\n",
       "      <td>29</td>\n",
       "      <td>98</td>\n",
       "      <td>60.772858</td>\n",
       "      <td>79.355713</td>\n",
       "      <td>0.0</td>\n",
       "      <td>58.194836</td>\n",
       "      <td>48.960709</td>\n",
       "      <td>0.0</td>\n",
       "      <td>164.0</td>\n",
       "      <td>317.0</td>\n",
       "      <td>b</td>\n",
       "    </tr>\n",
       "    <tr>\n",
       "      <th>999</th>\n",
       "      <td>0</td>\n",
       "      <td>29</td>\n",
       "      <td>99</td>\n",
       "      <td>48.682858</td>\n",
       "      <td>80.552856</td>\n",
       "      <td>0.0</td>\n",
       "      <td>53.945124</td>\n",
       "      <td>51.144794</td>\n",
       "      <td>0.0</td>\n",
       "      <td>167.0</td>\n",
       "      <td>317.0</td>\n",
       "      <td>b</td>\n",
       "    </tr>\n",
       "  </tbody>\n",
       "</table>\n",
       "<p>3000 rows × 12 columns</p>\n",
       "</div>"
      ],
      "text/plain": [
       "     cell_number  particle  frame  red_int_mean  green_int_mean  \\\n",
       "0              0         0      0    106.278572       46.451427   \n",
       "1              0         0      1     70.828575       52.022858   \n",
       "2              0         0      2     91.589996       49.165714   \n",
       "3              0         0      3     82.034286       46.844284   \n",
       "4              0         0      4     98.548569       74.344284   \n",
       "..           ...       ...    ...           ...             ...   \n",
       "995            0        29     95     71.368568       90.448570   \n",
       "996            0        29     96    152.598572      104.637146   \n",
       "997            0        29     97     86.738571      107.485718   \n",
       "998            0        29     98     60.772858       79.355713   \n",
       "999            0        29     99     48.682858       80.552856   \n",
       "\n",
       "     blue_int_mean  red_int_std  green_int_std  blue_int_std      x      y  \\\n",
       "0              0.0    50.396329      41.055328           0.0  257.0  210.0   \n",
       "1              0.0    51.498921      37.036933           0.0  257.0  210.0   \n",
       "2              0.0    60.466230      33.140877           0.0  257.0  210.0   \n",
       "3              0.0    48.534281      50.866229           0.0  257.0  210.0   \n",
       "4              0.0    61.179253      41.672145           0.0  257.0  210.0   \n",
       "..             ...          ...            ...           ...    ...    ...   \n",
       "995            0.0    49.995399      43.115156           0.0  169.0  317.0   \n",
       "996            0.0    62.745296      40.221954           0.0  167.0  317.0   \n",
       "997            0.0    61.350937      35.686910           0.0  165.0  317.0   \n",
       "998            0.0    58.194836      48.960709           0.0  164.0  317.0   \n",
       "999            0.0    53.945124      51.144794           0.0  167.0  317.0   \n",
       "\n",
       "    Classification  \n",
       "0                a  \n",
       "1                a  \n",
       "2                a  \n",
       "3                a  \n",
       "4                a  \n",
       "..             ...  \n",
       "995              b  \n",
       "996              b  \n",
       "997              b  \n",
       "998              b  \n",
       "999              b  \n",
       "\n",
       "[3000 rows x 12 columns]"
      ]
     },
     "execution_count": 9,
     "metadata": {},
     "output_type": "execute_result"
    }
   ],
   "source": [
    "dataframe_simulated_cell"
   ]
  },
  {
   "cell_type": "code",
   "execution_count": 10,
   "id": "harmful-latin",
   "metadata": {},
   "outputs": [],
   "source": [
    "# NEED to ask Will about step size in rSNAPsim\n",
    "# Normalize with respect to max_int value for all genes."
   ]
  },
  {
   "cell_type": "code",
   "execution_count": null,
   "id": "concrete-hands",
   "metadata": {},
   "outputs": [],
   "source": []
  }
 ],
 "metadata": {
  "kernelspec": {
   "display_name": "Python 3",
   "language": "python",
   "name": "python3"
  },
  "language_info": {
   "codemirror_mode": {
    "name": "ipython",
    "version": 3
   },
   "file_extension": ".py",
   "mimetype": "text/x-python",
   "name": "python",
   "nbconvert_exporter": "python",
   "pygments_lexer": "ipython3",
   "version": "3.8.5"
  }
 },
 "nbformat": 4,
 "nbformat_minor": 5
}
