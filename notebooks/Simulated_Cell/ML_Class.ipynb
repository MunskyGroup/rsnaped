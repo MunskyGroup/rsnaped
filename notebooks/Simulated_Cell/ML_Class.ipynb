{
 "cells": [
  {
   "cell_type": "code",
   "execution_count": 1,
   "id": "direct-nebraska",
   "metadata": {
    "jupyter": {
     "source_hidden": true
    }
   },
   "outputs": [
    {
     "name": "stdout",
     "output_type": "stream",
     "text": [
      "numpy version = 1.20.1\n",
      "rsnapsim version = 0.0.18\n"
     ]
    }
   ],
   "source": [
    "import os\n",
    "import rsnapsim as rss\n",
    "import numpy as np\n",
    "print('numpy version =', np.version.version)\n",
    "print('rsnapsim version =',rss.__version__)\n",
    "from sys import platform\n",
    "import os\n",
    "from skimage import io ; from skimage.io import imread; from skimage.measure import find_contours\n",
    "from random import randrange\n",
    "import os; from os import listdir; from os.path import isfile, join\n",
    "import pandas as pd\n",
    "import os; from os import listdir; from os.path import isfile, join\n",
    "import re\n",
    "import shutil\n",
    "from random import randrange\n",
    "# Importing rSNAPsim_IP\n",
    "cwd = os.getcwd(); os.chdir('../../rsnaped'); import rsnaped as rsp ; os.chdir(cwd) # return to the working directory\n",
    "import ipywidgets as widgets ; from ipywidgets import interact, interactive, fixed, interact_manual, Button, HBox, VBox, Layout, GridspecLayout ; from IPython.display import Image"
   ]
  },
  {
   "cell_type": "code",
   "execution_count": 2,
   "id": "technical-harris",
   "metadata": {
    "jupyter": {
     "source_hidden": true
    }
   },
   "outputs": [],
   "source": [
    "import matplotlib.pyplot as plt\n",
    "plt.style.use('dark_background')\n",
    "plt.rcParams['figure.dpi'] = 120\n",
    "plt.rcParams['lines.linewidth'] = 1\n",
    "plt.rcParams['axes.linewidth'] = 1.5\n",
    "plt.rcParams['font.size'] = 15\n",
    "plt.rcParams['axes.grid'] = False"
   ]
  },
  {
   "cell_type": "code",
   "execution_count": 3,
   "id": "operating-hudson",
   "metadata": {},
   "outputs": [],
   "source": [
    "# gene files\n",
    "gene_file_h2b = '../../DataBases/gene_files/H2B_withTags.txt'\n",
    "gene_file_bact = '../../DataBases/gene_files/Bactin_withTags.txt'"
   ]
  },
  {
   "cell_type": "code",
   "execution_count": 4,
   "id": "chemical-checklist",
   "metadata": {},
   "outputs": [],
   "source": [
    "# initial video\n",
    "empty_cells_directory_name = '../../DataBases/videos_for_sim_cell'"
   ]
  },
  {
   "cell_type": "code",
   "execution_count": 5,
   "id": "textile-terminal",
   "metadata": {
    "jupyter": {
     "source_hidden": true
    }
   },
   "outputs": [],
   "source": [
    "list_files_names = sorted([f for f in listdir(empty_cells_directory_name) if isfile(join(empty_cells_directory_name, f)) and ('.tif') in f], key=str.lower)  # reading all tif files in the folder\n",
    "list_files_names.sort(key=lambda f: int(re.sub('\\D', '', f)))  # sorting the index in numerical order\n",
    "path_files = [ empty_cells_directory_name+'/'+f for f in list_files_names ] # creating the complete path for each file\n",
    "num_cell_shapes = len(path_files)\n",
    "sel_shape = randrange(num_cell_shapes)\n",
    "video_path = path_files[sel_shape]"
   ]
  },
  {
   "cell_type": "code",
   "execution_count": 6,
   "id": "plastic-rapid",
   "metadata": {},
   "outputs": [],
   "source": [
    "# Inputs\n",
    "inial_video = io.imread(video_path) # video with empty cell\n",
    "\n",
    "list_gene_sequences = [gene_file_h2b, gene_file_bact] # path to gene sequences\n",
    "list_number_spots = [3, 5] # list of integers, where each element represents the number of spots\n",
    "list_target_channels = [1, 1] # channel where the simulated spots will be located. \n",
    "list_diffusion_coefficients =[0.1, 1] # diffusion coefficients for each gene\n",
    "list_label_names = ['gene_1','gene_2'] # list of strings used to generate a classification field in the output data frame\n",
    "\n",
    "simulation_time_in_sec = 100\n",
    "step_size_in_sec =1\n",
    "\n",
    "save_as_tif = 1 # option to save the simulated video\n",
    "save_dataframe = 1 # option to save the simulation output as a dataframe in format csv. \n",
    "saved_file_name = 'simulated_cell' # if the video or dataframe are save, this variable assigns the name to the files\n",
    "create_temp_folder = 1 # saves the video and data frame in a temp folder"
   ]
  },
  {
   "cell_type": "code",
   "execution_count": 7,
   "id": "macro-reading",
   "metadata": {},
   "outputs": [
    {
     "name": "stdout",
     "output_type": "stream",
     "text": [
      "The output is saved in the directory: ./ temp\n",
      "The output is saved in the directory: ./ temp\n"
     ]
    }
   ],
   "source": [
    "tensor_video, dataframe_simulated_cell = rsp.SimulatedCellMultiplexing(inial_video,list_gene_sequences,list_number_spots,list_target_channels,list_diffusion_coefficients,list_label_names,simulation_time_in_sec,step_size_in_sec,save_as_tif, save_dataframe, saved_file_name,create_temp_folder).make_simulation()"
   ]
  },
  {
   "cell_type": "code",
   "execution_count": 8,
   "id": "artistic-angola",
   "metadata": {},
   "outputs": [
    {
     "data": {
      "application/vnd.jupyter.widget-view+json": {
       "model_id": "083825fdf11942ed8bd2e7316e3f89b8",
       "version_major": 2,
       "version_minor": 0
      },
      "text/plain": [
       "VBox(children=(HBox(children=(Dropdown(description='Cell', options=(0,), value=0), IntSlider(value=0, descript…"
      ]
     },
     "metadata": {},
     "output_type": "display_data"
    }
   ],
   "source": [
    "# Plot only selected trajectories\n",
    "plt.rcParams['figure.figsize'] = [5,5]\n",
    "controls_pr, output_pr = rsp.VisualizerVideo(tensor_video,dataframe_particles=dataframe_simulated_cell,normalize=False).make_video_app()\n",
    "display(VBox([controls_pr, output_pr]));"
   ]
  },
  {
   "cell_type": "code",
   "execution_count": 9,
   "id": "opening-grammar",
   "metadata": {},
   "outputs": [
    {
     "data": {
      "text/html": [
       "<div>\n",
       "<style scoped>\n",
       "    .dataframe tbody tr th:only-of-type {\n",
       "        vertical-align: middle;\n",
       "    }\n",
       "\n",
       "    .dataframe tbody tr th {\n",
       "        vertical-align: top;\n",
       "    }\n",
       "\n",
       "    .dataframe thead th {\n",
       "        text-align: right;\n",
       "    }\n",
       "</style>\n",
       "<table border=\"1\" class=\"dataframe\">\n",
       "  <thead>\n",
       "    <tr style=\"text-align: right;\">\n",
       "      <th></th>\n",
       "      <th>cell_number</th>\n",
       "      <th>particle</th>\n",
       "      <th>frame</th>\n",
       "      <th>red_int_mean</th>\n",
       "      <th>green_int_mean</th>\n",
       "      <th>blue_int_mean</th>\n",
       "      <th>red_int_std</th>\n",
       "      <th>green_int_std</th>\n",
       "      <th>blue_int_std</th>\n",
       "      <th>x</th>\n",
       "      <th>y</th>\n",
       "      <th>Classification</th>\n",
       "    </tr>\n",
       "  </thead>\n",
       "  <tbody>\n",
       "    <tr>\n",
       "      <th>0</th>\n",
       "      <td>0</td>\n",
       "      <td>0</td>\n",
       "      <td>0</td>\n",
       "      <td>89.570000</td>\n",
       "      <td>90.714287</td>\n",
       "      <td>0.0</td>\n",
       "      <td>61.512857</td>\n",
       "      <td>53.162079</td>\n",
       "      <td>0.0</td>\n",
       "      <td>286.0</td>\n",
       "      <td>311.0</td>\n",
       "      <td>gene_1</td>\n",
       "    </tr>\n",
       "    <tr>\n",
       "      <th>1</th>\n",
       "      <td>0</td>\n",
       "      <td>0</td>\n",
       "      <td>1</td>\n",
       "      <td>159.511429</td>\n",
       "      <td>89.857140</td>\n",
       "      <td>0.0</td>\n",
       "      <td>42.412573</td>\n",
       "      <td>47.602065</td>\n",
       "      <td>0.0</td>\n",
       "      <td>286.0</td>\n",
       "      <td>311.0</td>\n",
       "      <td>gene_1</td>\n",
       "    </tr>\n",
       "    <tr>\n",
       "      <th>2</th>\n",
       "      <td>0</td>\n",
       "      <td>0</td>\n",
       "      <td>2</td>\n",
       "      <td>151.554291</td>\n",
       "      <td>98.785713</td>\n",
       "      <td>0.0</td>\n",
       "      <td>66.773196</td>\n",
       "      <td>33.546583</td>\n",
       "      <td>0.0</td>\n",
       "      <td>286.0</td>\n",
       "      <td>311.0</td>\n",
       "      <td>gene_1</td>\n",
       "    </tr>\n",
       "    <tr>\n",
       "      <th>3</th>\n",
       "      <td>0</td>\n",
       "      <td>0</td>\n",
       "      <td>3</td>\n",
       "      <td>138.258575</td>\n",
       "      <td>90.892860</td>\n",
       "      <td>0.0</td>\n",
       "      <td>63.418364</td>\n",
       "      <td>42.084715</td>\n",
       "      <td>0.0</td>\n",
       "      <td>286.0</td>\n",
       "      <td>311.0</td>\n",
       "      <td>gene_1</td>\n",
       "    </tr>\n",
       "    <tr>\n",
       "      <th>4</th>\n",
       "      <td>0</td>\n",
       "      <td>0</td>\n",
       "      <td>4</td>\n",
       "      <td>86.494286</td>\n",
       "      <td>89.321426</td>\n",
       "      <td>0.0</td>\n",
       "      <td>59.688718</td>\n",
       "      <td>45.911373</td>\n",
       "      <td>0.0</td>\n",
       "      <td>286.0</td>\n",
       "      <td>311.0</td>\n",
       "      <td>gene_1</td>\n",
       "    </tr>\n",
       "    <tr>\n",
       "      <th>...</th>\n",
       "      <td>...</td>\n",
       "      <td>...</td>\n",
       "      <td>...</td>\n",
       "      <td>...</td>\n",
       "      <td>...</td>\n",
       "      <td>...</td>\n",
       "      <td>...</td>\n",
       "      <td>...</td>\n",
       "      <td>...</td>\n",
       "      <td>...</td>\n",
       "      <td>...</td>\n",
       "      <td>...</td>\n",
       "    </tr>\n",
       "    <tr>\n",
       "      <th>495</th>\n",
       "      <td>0</td>\n",
       "      <td>7</td>\n",
       "      <td>95</td>\n",
       "      <td>92.834282</td>\n",
       "      <td>71.222855</td>\n",
       "      <td>0.0</td>\n",
       "      <td>66.354150</td>\n",
       "      <td>49.707198</td>\n",
       "      <td>0.0</td>\n",
       "      <td>343.0</td>\n",
       "      <td>241.0</td>\n",
       "      <td>gene_2</td>\n",
       "    </tr>\n",
       "    <tr>\n",
       "      <th>496</th>\n",
       "      <td>0</td>\n",
       "      <td>7</td>\n",
       "      <td>96</td>\n",
       "      <td>96.181427</td>\n",
       "      <td>56.615715</td>\n",
       "      <td>0.0</td>\n",
       "      <td>96.374910</td>\n",
       "      <td>35.083531</td>\n",
       "      <td>0.0</td>\n",
       "      <td>344.0</td>\n",
       "      <td>240.0</td>\n",
       "      <td>gene_2</td>\n",
       "    </tr>\n",
       "    <tr>\n",
       "      <th>497</th>\n",
       "      <td>0</td>\n",
       "      <td>7</td>\n",
       "      <td>97</td>\n",
       "      <td>112.489998</td>\n",
       "      <td>40.151428</td>\n",
       "      <td>0.0</td>\n",
       "      <td>69.614701</td>\n",
       "      <td>41.637135</td>\n",
       "      <td>0.0</td>\n",
       "      <td>343.0</td>\n",
       "      <td>240.0</td>\n",
       "      <td>gene_2</td>\n",
       "    </tr>\n",
       "    <tr>\n",
       "      <th>498</th>\n",
       "      <td>0</td>\n",
       "      <td>7</td>\n",
       "      <td>98</td>\n",
       "      <td>40.667141</td>\n",
       "      <td>40.794285</td>\n",
       "      <td>0.0</td>\n",
       "      <td>67.031036</td>\n",
       "      <td>48.438087</td>\n",
       "      <td>0.0</td>\n",
       "      <td>343.0</td>\n",
       "      <td>240.0</td>\n",
       "      <td>gene_2</td>\n",
       "    </tr>\n",
       "    <tr>\n",
       "      <th>499</th>\n",
       "      <td>0</td>\n",
       "      <td>7</td>\n",
       "      <td>99</td>\n",
       "      <td>83.088570</td>\n",
       "      <td>47.611427</td>\n",
       "      <td>0.0</td>\n",
       "      <td>65.433477</td>\n",
       "      <td>41.359115</td>\n",
       "      <td>0.0</td>\n",
       "      <td>344.0</td>\n",
       "      <td>237.0</td>\n",
       "      <td>gene_2</td>\n",
       "    </tr>\n",
       "  </tbody>\n",
       "</table>\n",
       "<p>800 rows × 12 columns</p>\n",
       "</div>"
      ],
      "text/plain": [
       "     cell_number  particle  frame  red_int_mean  green_int_mean  \\\n",
       "0              0         0      0     89.570000       90.714287   \n",
       "1              0         0      1    159.511429       89.857140   \n",
       "2              0         0      2    151.554291       98.785713   \n",
       "3              0         0      3    138.258575       90.892860   \n",
       "4              0         0      4     86.494286       89.321426   \n",
       "..           ...       ...    ...           ...             ...   \n",
       "495            0         7     95     92.834282       71.222855   \n",
       "496            0         7     96     96.181427       56.615715   \n",
       "497            0         7     97    112.489998       40.151428   \n",
       "498            0         7     98     40.667141       40.794285   \n",
       "499            0         7     99     83.088570       47.611427   \n",
       "\n",
       "     blue_int_mean  red_int_std  green_int_std  blue_int_std      x      y  \\\n",
       "0              0.0    61.512857      53.162079           0.0  286.0  311.0   \n",
       "1              0.0    42.412573      47.602065           0.0  286.0  311.0   \n",
       "2              0.0    66.773196      33.546583           0.0  286.0  311.0   \n",
       "3              0.0    63.418364      42.084715           0.0  286.0  311.0   \n",
       "4              0.0    59.688718      45.911373           0.0  286.0  311.0   \n",
       "..             ...          ...            ...           ...    ...    ...   \n",
       "495            0.0    66.354150      49.707198           0.0  343.0  241.0   \n",
       "496            0.0    96.374910      35.083531           0.0  344.0  240.0   \n",
       "497            0.0    69.614701      41.637135           0.0  343.0  240.0   \n",
       "498            0.0    67.031036      48.438087           0.0  343.0  240.0   \n",
       "499            0.0    65.433477      41.359115           0.0  344.0  237.0   \n",
       "\n",
       "    Classification  \n",
       "0           gene_1  \n",
       "1           gene_1  \n",
       "2           gene_1  \n",
       "3           gene_1  \n",
       "4           gene_1  \n",
       "..             ...  \n",
       "495         gene_2  \n",
       "496         gene_2  \n",
       "497         gene_2  \n",
       "498         gene_2  \n",
       "499         gene_2  \n",
       "\n",
       "[800 rows x 12 columns]"
      ]
     },
     "execution_count": 9,
     "metadata": {},
     "output_type": "execute_result"
    }
   ],
   "source": [
    "dataframe_simulated_cell"
   ]
  },
  {
   "cell_type": "code",
   "execution_count": null,
   "id": "southwest-shift",
   "metadata": {},
   "outputs": [],
   "source": []
  },
  {
   "cell_type": "code",
   "execution_count": null,
   "id": "collaborative-colombia",
   "metadata": {},
   "outputs": [],
   "source": []
  }
 ],
 "metadata": {
  "kernelspec": {
   "display_name": "Python 3",
   "language": "python",
   "name": "python3"
  },
  "language_info": {
   "codemirror_mode": {
    "name": "ipython",
    "version": 3
   },
   "file_extension": ".py",
   "mimetype": "text/x-python",
   "name": "python",
   "nbconvert_exporter": "python",
   "pygments_lexer": "ipython3",
   "version": "3.8.5"
  }
 },
 "nbformat": 4,
 "nbformat_minor": 5
}
