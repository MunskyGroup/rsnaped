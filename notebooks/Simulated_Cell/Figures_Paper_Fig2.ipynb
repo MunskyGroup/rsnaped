{
 "cells": [
  {
   "cell_type": "markdown",
   "id": "a6a41920",
   "metadata": {},
   "source": [
    "# Integrated Simulations"
   ]
  },
  {
   "cell_type": "code",
   "execution_count": null,
   "id": "4be7b95d",
   "metadata": {
    "jupyter": {
     "source_hidden": true
    }
   },
   "outputs": [],
   "source": [
    "import os; from os import listdir; from os.path import isfile, join\n",
    "import re  \n",
    "from skimage.io import imread\n",
    "from skimage.exposure import rescale_intensity\n",
    "import numpy as np \n",
    "from tqdm.notebook import tqdm\n",
    "from timeit import default_timer as timer\n",
    "import scipy\n",
    "import pandas as pd\n",
    "import shutil\n",
    "import pathlib\n",
    "import sys\n",
    "import seaborn as sns\n",
    "import rsnapsim as rss\n",
    "import scipy.stats as stats\n",
    "import matplotlib.pyplot as plt \n",
    "from matplotlib_scalebar.scalebar import ScaleBar\n",
    "from matplotlib.patches import Rectangle\n",
    "from matplotlib.patches import ConnectionPatch\n"
   ]
  },
  {
   "cell_type": "code",
   "execution_count": null,
   "id": "2e573d9f",
   "metadata": {},
   "outputs": [],
   "source": [
    "plt.style.use(\"dark_background\")"
   ]
  },
  {
   "cell_type": "code",
   "execution_count": null,
   "id": "31b2bced",
   "metadata": {
    "jupyter": {
     "source_hidden": true
    }
   },
   "outputs": [],
   "source": [
    "# Defining directories\n",
    "current_dir = pathlib.Path().absolute()\n",
    "sequences_dir = current_dir.parents[1].joinpath('DataBases','gene_files')\n",
    "video_dir = current_dir.parents[1].joinpath('DataBases','videos_for_sim_cell')\n",
    "rsnaped_dir = current_dir.parents[1].joinpath('rsnaped')\n",
    "gene_file = current_dir.parents[1].joinpath('DataBases','gene_files','KDM5B_withTags.txt')\n",
    "masks_dir = current_dir.parents[1].joinpath('DataBases','masks_for_sim_cell')"
   ]
  },
  {
   "cell_type": "code",
   "execution_count": null,
   "id": "a56204f3",
   "metadata": {},
   "outputs": [],
   "source": [
    "sequences_dir"
   ]
  },
  {
   "cell_type": "code",
   "execution_count": null,
   "id": "9193688d",
   "metadata": {
    "jupyter": {
     "source_hidden": true
    }
   },
   "outputs": [],
   "source": [
    "# Importing rSNAPed\n",
    "sys.path.append(str(rsnaped_dir))\n",
    "import rsnaped as rsp"
   ]
  },
  {
   "cell_type": "code",
   "execution_count": null,
   "id": "ec2dedad",
   "metadata": {},
   "outputs": [],
   "source": [
    "rsp.Banner().print_banner()"
   ]
  },
  {
   "cell_type": "code",
   "execution_count": null,
   "id": "4767a7ef",
   "metadata": {},
   "outputs": [],
   "source": [
    "# These are the parameters that need to be tested. \n",
    "number_of_simulated_cells = 1     # PLEASE TEST MIN 1 MAX 10\n",
    "number_spots_per_cell = 60           # PLEASE TEST MIN 5 MAX 200\n",
    "simulation_time_in_sec = 500          # PLEASE TEST MIN 10 MAX 100\n",
    "step_size_in_sec = 1\n",
    "\n",
    "min_percentage_time_tracking = 0.3   # (normalized) minimum time to consider a trajectory.\n",
    "average_cell_diameter = 400"
   ]
  },
  {
   "cell_type": "code",
   "execution_count": null,
   "id": "10fa81c5",
   "metadata": {},
   "outputs": [],
   "source": [
    "diffusion_coefficient = 0.05       # This value must have units of micrometers_square_per_seconds\n",
    "microns_per_pixel = 0.13"
   ]
  },
  {
   "cell_type": "code",
   "execution_count": null,
   "id": "e72390d5",
   "metadata": {
    "jupyter": {
     "source_hidden": true
    }
   },
   "outputs": [],
   "source": [
    "intensity_calculation_method = 'gaussian_fit'  # options are : 'total_intensity' and 'disk_donut' 'gaussian_fit'\n",
    "mask_selection_method = 'max_area' # options are : 'max_spots' and 'max_area' \n",
    "use_optimization_for_tracking = 1 # 0 not using, 1 is using optimization\n",
    "\n",
    "selected_channel_tracking = 0\n",
    "selected_channel_segmentation = 1\n",
    "\n",
    "frame_selection_empty_video = 'gaussian' # Options are: 'constant' , 'shuffle' and 'loop' 'linear_interpolation', 'gaussian', 'poisson'\n",
    "dataframe_format = 'long' # 'short'  'long'\n",
    "\n",
    "store_videos_in_memory = False\n",
    "save_as_gif = False \n",
    "show_plot = False  # Flag to show plots for the detection and tracking process.\n"
   ]
  },
  {
   "cell_type": "code",
   "execution_count": null,
   "id": "f1928d02",
   "metadata": {
    "jupyter": {
     "source_hidden": true
    }
   },
   "outputs": [],
   "source": [
    "spot_size = 5 # spot size for the simulation and tracking.\n",
    "spot_sigma = 1\n",
    "elongation_rate = 10\n",
    "initiation_rate = 0.03\n",
    "simulated_RNA_intensities_method = 'random'"
   ]
  },
  {
   "cell_type": "code",
   "execution_count": null,
   "id": "942fc943",
   "metadata": {},
   "outputs": [],
   "source": [
    "basal_intensity_in_background_video = 10000\n",
    "scale_intensity_in_base_video=False"
   ]
  },
  {
   "cell_type": "code",
   "execution_count": null,
   "id": "176e237c",
   "metadata": {},
   "outputs": [],
   "source": [
    "intensity_scale_ch0 = 1\n",
    "intensity_scale_ch1 = 1\n",
    "intensity_scale_ch2 = None"
   ]
  },
  {
   "cell_type": "code",
   "execution_count": null,
   "id": "6c42bca4",
   "metadata": {},
   "outputs": [],
   "source": [
    "particle_detection_size = spot_size"
   ]
  },
  {
   "cell_type": "code",
   "execution_count": null,
   "id": "ed47e934",
   "metadata": {},
   "outputs": [],
   "source": [
    "select_background_cell_index = 0 # Integer in range 0 to 8, or use None to select a random value. \n",
    "perform_video_augmentation = False "
   ]
  },
  {
   "cell_type": "markdown",
   "id": "6ae35178",
   "metadata": {},
   "source": [
    "## Running the simulations"
   ]
  },
  {
   "cell_type": "code",
   "execution_count": null,
   "id": "b114211b",
   "metadata": {},
   "outputs": [],
   "source": [
    "list_videos, list_dataframe_simulated_cell, merged_dataframe_simulated_cells, ssa_trajectories, list_files_names, video_path, dataframe_path = rsp.simulate_cell( video_dir, \n",
    "                                                                        list_gene_sequences = gene_file,\n",
    "                                                                        list_number_spots= number_spots_per_cell,\n",
    "                                                                        list_target_channels_proteins = 1,\n",
    "                                                                        list_target_channels_mRNA = 0, \n",
    "                                                                        list_diffusion_coefficients=diffusion_coefficient,\n",
    "                                                                        list_elongation_rates=elongation_rate,\n",
    "                                                                        list_initiation_rates=initiation_rate,\n",
    "                                                                        masks_dir=masks_dir, \n",
    "                                                                        list_label_names=1,\n",
    "                                                                        number_cells = number_of_simulated_cells,\n",
    "                                                                        simulation_time_in_sec = simulation_time_in_sec,\n",
    "                                                                        step_size_in_sec = step_size_in_sec,\n",
    "                                                                        save_as_gif = save_as_gif,\n",
    "                                                                        frame_selection_empty_video=frame_selection_empty_video,\n",
    "                                                                        spot_size = spot_size,\n",
    "                                                                        spot_sigma = spot_sigma,\n",
    "                                                                        intensity_scale_ch0 = intensity_scale_ch0,\n",
    "                                                                        intensity_scale_ch1 = intensity_scale_ch1,\n",
    "                                                                        intensity_scale_ch2 = intensity_scale_ch2,\n",
    "                                                                        dataframe_format = 'long',\n",
    "                                                                        simulated_RNA_intensities_method=simulated_RNA_intensities_method,\n",
    "                                                                        store_videos_in_memory= store_videos_in_memory,\n",
    "                                                                        scale_intensity_in_base_video=scale_intensity_in_base_video,\n",
    "                                                                        basal_intensity_in_background_video=basal_intensity_in_background_video,\n",
    "                                                                        microns_per_pixel=microns_per_pixel,\n",
    "                                                                        select_background_cell_index=select_background_cell_index,\n",
    "                                                                        perform_video_augmentation=perform_video_augmentation)"
   ]
  },
  {
   "cell_type": "code",
   "execution_count": null,
   "id": "efbea060",
   "metadata": {},
   "outputs": [],
   "source": [
    "list_dataframe_simulated_cell[0]"
   ]
  },
  {
   "cell_type": "code",
   "execution_count": null,
   "id": "aafe929d",
   "metadata": {},
   "outputs": [],
   "source": [
    "number_images = len(list_videos)"
   ]
  },
  {
   "cell_type": "code",
   "execution_count": null,
   "id": "f3d5dd88",
   "metadata": {
    "jupyter": {
     "source_hidden": true
    }
   },
   "outputs": [],
   "source": [
    "# # Reads the folder with the results and import the simulations as lists\n",
    "list_files_names = sorted([f for f in listdir(video_path) if isfile(join(video_path, f)) and ('.tif') in f], key=str.lower)  # reading all tif files in the folder\n",
    "list_files_names.sort(key=lambda f: int(re.sub('\\D', '', f)))  # sorting the index in numerical order\n",
    "path_files = [ str(video_path.joinpath(f).resolve()) for f in list_files_names ] # creating the complete path for each file\n",
    "path_files.sort(key=lambda f: int(re.sub('\\D', '', f)))  # sorting the index in numerical order\n",
    "\n",
    "# # Reading the microscopy data\n",
    "number_images = number_of_simulated_cells\n",
    "number_images"
   ]
  },
  {
   "cell_type": "markdown",
   "id": "4f8cca23",
   "metadata": {},
   "source": [
    "# Display simulations for single time point"
   ]
  },
  {
   "cell_type": "markdown",
   "id": "ea3680dd",
   "metadata": {},
   "source": [
    "## <span style=\"color:lightgreen\">Channel 1</span>"
   ]
  },
  {
   "cell_type": "code",
   "execution_count": null,
   "id": "694a8809",
   "metadata": {},
   "outputs": [],
   "source": [
    "# Showing the simulated images\n",
    "list_videos = [imread(f)[:,:,:,:] for f in  path_files] # List with all the videos\n",
    "rsp.VisualizerImage(list_videos,list_files_names=list_files_names,selected_channel =1,selected_time_point= 0,normalize=0,individual_figure_size=7).plot()\n",
    "del list_videos"
   ]
  },
  {
   "cell_type": "code",
   "execution_count": null,
   "id": "32f72a23",
   "metadata": {},
   "outputs": [],
   "source": [
    "list_DataFrame_particles_intensities, list_array_intensities, list_time_vector, list_selected_mask = rsp.image_processing( files_dir_path_processing=video_path,\n",
    "                                                                                                                            particle_size=particle_detection_size,\n",
    "                                                                                                                            selected_channel_tracking = selected_channel_tracking,\n",
    "                                                                                                                            selected_channel_segmentation = selected_channel_segmentation,\n",
    "                                                                                                                            intensity_calculation_method =intensity_calculation_method, \n",
    "                                                                                                                            mask_selection_method = mask_selection_method,\n",
    "                                                                                                                            show_plot=show_plot,\n",
    "                                                                                                                            use_optimization_for_tracking=use_optimization_for_tracking,\n",
    "                                                                                                                            real_positions_dataframe = list_dataframe_simulated_cell,\n",
    "                                                                                                                            average_cell_diameter=average_cell_diameter,\n",
    "                                                                                                                            print_process_times=True,\n",
    "                                                                                                                            min_percentage_time_tracking=min_percentage_time_tracking,\n",
    "                                                                                                                            dataframe_format=dataframe_format)"
   ]
  },
  {
   "cell_type": "code",
   "execution_count": null,
   "id": "a0aa1280",
   "metadata": {},
   "outputs": [],
   "source": [
    "list_DataFrame_particles_intensities[0].head()"
   ]
  },
  {
   "cell_type": "code",
   "execution_count": null,
   "id": "1224d30b",
   "metadata": {},
   "outputs": [],
   "source": [
    "selected_channel = 1"
   ]
  },
  {
   "cell_type": "code",
   "execution_count": null,
   "id": "94b8c0be",
   "metadata": {},
   "outputs": [],
   "source": [
    "# Calculate background intensity distribution.\n",
    "list_videos = [imread(f)[:,:,:,:] for f in  path_files] # List with all the videos\n",
    "image = list_videos[0]\n",
    "df_sim = list_dataframe_simulated_cell[0].copy()\n",
    "print(image.shape)\n",
    "del list_videos"
   ]
  },
  {
   "cell_type": "code",
   "execution_count": null,
   "id": "35f718ca",
   "metadata": {},
   "outputs": [],
   "source": [
    "# Apply mask to image.\n",
    "selected_mask= list_selected_mask[0].copy()\n",
    "img_removed_mask = rsp.MaskingImage(video=image,mask=selected_mask).apply_mask()\n",
    "# Returns the pixel values for the image, removing the positions where spots are detected.\n",
    "test_image = img_removed_mask[:,:,:,selected_channel].copy()\n",
    "for i in range (test_image.shape[0]):\n",
    "    x_values = df_sim.loc[(df_sim['frame']==i)]['x'].values\n",
    "    y_values = df_sim.loc[(df_sim['frame']==i)]['y'].values\n",
    "    test_image[i]=rsp.Utilities.remove_spots_from_image(test_image[i], x_values, y_values,spot_size)\n",
    "plt.imshow(test_image[10])"
   ]
  },
  {
   "cell_type": "code",
   "execution_count": null,
   "id": "f504b2be",
   "metadata": {},
   "outputs": [],
   "source": [
    "sim_wo_spots = test_image[test_image>0]\n",
    "sim_w_spots = img_removed_mask[:,:,:,selected_channel].flatten()\n",
    "sim_w_spots = sim_w_spots[sim_w_spots>0]\n",
    "sim_wo_spots = sim_wo_spots[sim_wo_spots<20000]\n",
    "sim_w_spots = sim_w_spots[sim_w_spots<20000]"
   ]
  },
  {
   "cell_type": "code",
   "execution_count": null,
   "id": "7dbdce59",
   "metadata": {},
   "outputs": [],
   "source": [
    "# section that detects pixels without zeros for all frames\n",
    "spot_count = 0\n",
    "number_background_pixels =100\n",
    "background_pixel_trajectories = np.zeros((number_background_pixels, test_image.shape[0])  )\n",
    "while spot_count < number_background_pixels:\n",
    "    test_pixel = np.random.randint(low=0, high=test_image.shape[1], size=(2), dtype=int)\n",
    "    temp = test_image[:,test_pixel[0],test_pixel[1]].flatten()\n",
    "    if np.all(temp): # test if the pixel has any zeros\n",
    "        background_pixel_trajectories [spot_count,:] = temp\n",
    "        spot_count+=1\n",
    "    "
   ]
  },
  {
   "cell_type": "code",
   "execution_count": null,
   "id": "0a929864",
   "metadata": {},
   "outputs": [],
   "source": [
    "plt.figure(figsize=(5,5))\n",
    "plt.style.use(['default', 'fivethirtyeight'])\n",
    "plt.plot(background_pixel_trajectories.T)\n",
    "plt.show"
   ]
  },
  {
   "cell_type": "code",
   "execution_count": null,
   "id": "9d2f1886",
   "metadata": {},
   "outputs": [],
   "source": [
    "mean_acf_bg_sim, err_acf_bg_sim, lags_sim, decorrelation_time_bg_sim, auto_correlation_matrix_bg_sim = rsp.Covariance(intensity_array=background_pixel_trajectories, max_lagtime= 40, show_plot= True,figure_size=(6,4)).calculate_autocovariance()"
   ]
  },
  {
   "cell_type": "code",
   "execution_count": null,
   "id": "ec9a0503",
   "metadata": {},
   "outputs": [],
   "source": [
    "# Pixel intensity distribution for the background\n",
    "plt.style.use(['default', 'fivethirtyeight'])\n",
    "plt.figure(figsize=(7,5))\n",
    "plt.hist(sim_w_spots, bins=50, alpha=0.5, label=\"with_spots\", stacked=True, histtype='barstacked',edgecolor='orangered',linewidth=1)\n",
    "plt.hist(sim_wo_spots, bins=50, alpha=0.8, label=\"background\", stacked=True, histtype='barstacked',edgecolor='k',linewidth=1)\n",
    "plt.xlabel(\"Intensity\", size=14)\n",
    "plt.ylabel(\"Count\", size=14)\n",
    "plt.title(\"Pixel intensity distribution\")\n",
    "plt.legend(loc='upper right')\n",
    "#plt.xlim((0,10000))\n",
    "plt.show()"
   ]
  },
  {
   "cell_type": "code",
   "execution_count": null,
   "id": "4d228f1c",
   "metadata": {},
   "outputs": [],
   "source": [
    "#df = list_DataFrame_particles_intensities[0]\n",
    "#snr_green_channel = rsp.Utilities.extract_field_from_dataframe( dataframe = df_sim, selected_time = 0, selected_field = 'SNR_green')\n",
    "snr_green_channel_sim = rsp.Utilities.extract_field_from_dataframe( dataframe = df_sim, selected_time = None, selected_field = 'SNR_green').flatten()\n",
    "\n",
    "# Dataframe with fields [image_number, cell_number, particle, frame, red_int_mean, green_int_mean, blue_int_mean, red_int_std, green_int_std, blue_int_std, x, y, SNR_red,SNR_green,SNR_blue].\n",
    "plt.figure(figsize=(7,5))\n",
    "plt.hist(snr_green_channel_sim, bins=50,histtype='barstacked',edgecolor='orangered',linewidth=2,color = '#1C00FE', alpha=0.8)\n",
    "plt.xlabel(\"SNR\", size=14)\n",
    "plt.ylabel(\"Count\", size=14)\n",
    "plt.title(\"SNR distribution\")\n",
    "#plt.legend(loc='upper right')\n",
    "#plt.xlim((0,35000))\n",
    "plt.show()\n",
    "print('SNR mean =', np.round(np. median(snr_green_channel_sim)))"
   ]
  },
  {
   "cell_type": "code",
   "execution_count": null,
   "id": "76bc983b",
   "metadata": {},
   "outputs": [],
   "source": [
    "int_green_channel_sim = rsp.Utilities.extract_field_from_dataframe( dataframe = df_sim, selected_time = None, selected_field = 'green_int_mean').flatten()\n",
    "# Dataframe with fields [image_number, cell_number, particle, frame, red_int_mean, green_int_mean, blue_int_mean, red_int_std, green_int_std, blue_int_std, x, y, SNR_red,SNR_green,SNR_blue].\n",
    "plt.figure(figsize=(7,5))\n",
    "plt.hist(int_green_channel_sim, bins=30,histtype='barstacked',edgecolor='orangered',linewidth=2,color = '#1C00FE', alpha=0.8)\n",
    "plt.xlabel(\"Intensity\", size=14)\n",
    "plt.ylabel(\"Count\", size=14)\n",
    "plt.title(\"Spot intensity distribution\")\n",
    "#plt.legend(loc='upper right')\n",
    "#plt.xlim((0,35000))\n",
    "plt.show()"
   ]
  },
  {
   "cell_type": "code",
   "execution_count": null,
   "id": "7fb4dc0b",
   "metadata": {},
   "outputs": [],
   "source": [
    "mean_acf_data,err_acf_data,lags, decorrelation_time, auto_correlation_matrix=rsp.Covariance(dataframe_particles=df_sim,selected_field='green_int_mean', max_lagtime= 400, show_plot= True,figure_size=(6,4)).calculate_autocovariance()"
   ]
  },
  {
   "cell_type": "code",
   "execution_count": null,
   "id": "1b38a45a",
   "metadata": {},
   "outputs": [],
   "source": [
    "calculated_diffusion_coefficient, MSD_series, trackpy_df = rsp.ParticleMotion(trackpy_dataframe=df_sim,microns_per_pixel=microns_per_pixel,step_size_in_sec=1.,max_lagtime=50,show_plot=True,remove_drift=False).calculate_msd()"
   ]
  },
  {
   "cell_type": "code",
   "execution_count": null,
   "id": "634872e9",
   "metadata": {},
   "outputs": [],
   "source": [
    "np.round(calculated_diffusion_coefficient,3)"
   ]
  },
  {
   "cell_type": "code",
   "execution_count": null,
   "id": "30ebefcf",
   "metadata": {},
   "outputs": [],
   "source": []
  },
  {
   "cell_type": "markdown",
   "id": "1f3f6fc7",
   "metadata": {},
   "source": [
    "# Real data"
   ]
  },
  {
   "cell_type": "code",
   "execution_count": null,
   "id": "1593b795",
   "metadata": {},
   "outputs": [],
   "source": [
    "# real video path\n",
    "real_video_path = current_dir.parents[1].joinpath('DataBases','KDM5B_Translation_SampleMovies')\n",
    "\n",
    "# Reads the folder with the results and import the simulations as lists\n",
    "list_files_names = sorted([f for f in listdir(real_video_path) if isfile(join(real_video_path, f)) and ('.tif') in f], key=str.lower)  # reading all tif files in the folder\n",
    "list_files_names.sort(key=lambda f: int(re.sub('\\D', '', f)))  # sorting the index in numerical order\n",
    "path_files = [ str(real_video_path.joinpath(f).resolve()) for f in list_files_names ] # creating the complete path for each file\n",
    "path_files.sort(key=lambda f: int(re.sub('\\D', '', f)))  # sorting the index in numerical order\n",
    "print(path_files)\n",
    "# # Reading the microscopy data\n",
    "number_images_real = len(path_files)\n",
    "number_images_real"
   ]
  },
  {
   "cell_type": "code",
   "execution_count": null,
   "id": "cb4ba61b",
   "metadata": {},
   "outputs": [],
   "source": [
    "# converting directory of videos to standard format\n",
    "import tifffile\n",
    "new_video_path = current_dir.parents[1].joinpath('DataBases','KDM5B_translation_samplemovies_correct_format')\n",
    "# Showing the simulated images\n",
    "for i in range (4):\n",
    "    list_videos_real = [imread(f)[:,:,:,:] for f in  path_files] # List with all the videos\n",
    "    real_video = rsp.ConvertToStandardFormat(video=list_videos_real[i], time_position = 0, height_position = 2,  width_position = 3, channel_position = 1 ).transpose_video()\n",
    "    tifffile.imwrite(str(new_video_path.joinpath(pathlib.Path(path_files[i]).stem+'tif')), real_video)\n",
    "\n"
   ]
  },
  {
   "cell_type": "code",
   "execution_count": null,
   "id": "617cf4fc",
   "metadata": {},
   "outputs": [],
   "source": [
    "# Showing the simulated images\n",
    "\n",
    "selected_real_video = 3\n",
    "list_videos_real = [imread(f)[:,:,:,:] for f in  path_files] # List with all the videos\n",
    "real_video = rsp.ConvertToStandardFormat(video=list_videos_real[selected_real_video], time_position = 0, height_position = 2,  width_position = 3, channel_position = 1 ).transpose_video()\n",
    "\n",
    "pathlib.Path(path_files[0]).name\n",
    "tifffile.imwrite(str(save_to_path_video.joinpath(saved_file_name+'.tif')), video)\n",
    "\n",
    "print('Shape of real video', real_video.shape)\n",
    "rsp.VisualizerImage(real_video,list_files_names=list_files_names,selected_channel =1,selected_time_point= 0,normalize=0,individual_figure_size=7).plot()\n",
    "del list_videos_real"
   ]
  },
  {
   "cell_type": "code",
   "execution_count": null,
   "id": "5c472ef7",
   "metadata": {},
   "outputs": [],
   "source": [
    "# use pipeline to segment and detect spots\n",
    "list_DataFrame_particles_intensities, list_array_intensities, list_time_vector, list_selected_mask = rsp.image_processing( files_dir_path_processing=video_path,\n",
    "                                                                                                                            particle_size=particle_detection_size,\n",
    "                                                                                                                            selected_channel_tracking = selected_channel_tracking,\n",
    "                                                                                                                            selected_channel_segmentation = selected_channel_segmentation,\n",
    "                                                                                                                            intensity_calculation_method =intensity_calculation_method, \n",
    "                                                                                                                            mask_selection_method = mask_selection_method,\n",
    "                                                                                                                            show_plot=show_plot,\n",
    "                                                                                                                            use_optimization_for_tracking=use_optimization_for_tracking,\n",
    "                                                                                                                            real_positions_dataframe = list_dataframe_simulated_cell,\n",
    "                                                                                                                            average_cell_diameter=average_cell_diameter,\n",
    "                                                                                                                            print_process_times=True,\n",
    "                                                                                                                            min_percentage_time_tracking=min_percentage_time_tracking,\n",
    "                                                                                                                            dataframe_format=dataframe_format)"
   ]
  },
  {
   "cell_type": "code",
   "execution_count": null,
   "id": "8d5ee084",
   "metadata": {},
   "outputs": [],
   "source": [
    "# Remove spots to calculate background intensity"
   ]
  },
  {
   "cell_type": "code",
   "execution_count": null,
   "id": "1a28ccf8",
   "metadata": {},
   "outputs": [],
   "source": [
    "# Autocorrelation function for background intensity"
   ]
  },
  {
   "cell_type": "code",
   "execution_count": null,
   "id": "98c3ddf0",
   "metadata": {},
   "outputs": [],
   "source": [
    "# Intensity distribution for spots"
   ]
  },
  {
   "cell_type": "code",
   "execution_count": null,
   "id": "6d5ace2f",
   "metadata": {},
   "outputs": [],
   "source": [
    "# "
   ]
  },
  {
   "cell_type": "code",
   "execution_count": null,
   "id": "9c41d7eb",
   "metadata": {},
   "outputs": [],
   "source": []
  },
  {
   "cell_type": "code",
   "execution_count": null,
   "id": "55339127",
   "metadata": {},
   "outputs": [],
   "source": []
  }
 ],
 "metadata": {
  "interpreter": {
   "hash": "daf7c258a197027f92a823c5e9002157216e53cdde30f9077602d149eebf1043"
  },
  "kernelspec": {
   "display_name": "Python 3.8.5 ('rsnaped_env')",
   "language": "python",
   "name": "python3"
  },
  "language_info": {
   "codemirror_mode": {
    "name": "ipython",
    "version": 3
   },
   "file_extension": ".py",
   "mimetype": "text/x-python",
   "name": "python",
   "nbconvert_exporter": "python",
   "pygments_lexer": "ipython3",
   "version": "3.8.5"
  }
 },
 "nbformat": 4,
 "nbformat_minor": 5
}
