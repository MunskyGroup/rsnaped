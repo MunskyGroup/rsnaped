{
 "cells": [
  {
   "cell_type": "markdown",
   "metadata": {},
   "source": [
    "# Integrated Simulations"
   ]
  },
  {
   "cell_type": "code",
   "execution_count": null,
   "metadata": {
    "jupyter": {
     "source_hidden": true
    }
   },
   "outputs": [],
   "source": [
    "import os; from os import listdir; from os.path import isfile, join\n",
    "import re  \n",
    "from skimage.io import imread\n",
    "from scipy import ndimage\n",
    "import trackpy as tp\n",
    "from cellpose import models\n",
    "from cellpose import plot\n",
    "from matplotlib import gridspec\n",
    "import math\n",
    "import seaborn as sn                        # Library for advanced plotting\n",
    "from joblib import Parallel, delayed\n",
    "import multiprocessing\n",
    "from numpy import unravel_index\n",
    "\n",
    "# To manipulate arrays\n",
    "import numpy as np \n",
    "import random\n",
    "from tqdm.notebook import tqdm\n",
    "from timeit import default_timer as timer\n",
    "import scipy\n",
    "import pandas as pd\n",
    "import shutil\n",
    "import pathlib\n",
    "import tifffile\n",
    "import sys\n",
    "from skimage.exposure import rescale_intensity\n",
    "import rsnapsim as rss\n",
    "# Plotting\n",
    "import matplotlib as mpl ; import matplotlib.pyplot as plt \n",
    "# To create interactive elements\n",
    "import ipywidgets as widgets ; from ipywidgets import interact, interactive, fixed, interact_manual, Button, HBox, VBox, Layout, GridspecLayout ; from IPython.display import Image"
   ]
  },
  {
   "cell_type": "code",
   "execution_count": null,
   "metadata": {
    "jupyter": {
     "source_hidden": true
    }
   },
   "outputs": [],
   "source": [
    "# Defining directories\n",
    "current_dir = pathlib.Path().absolute()\n",
    "sequences_dir = current_dir.parents[1].joinpath('DataBases','gene_files')\n",
    "video_dir = current_dir.parents[1].joinpath('DataBases','moving_cells')\n",
    "masks_dir = current_dir.parents[1].joinpath('DataBases','masks_for_sim_cell')\n",
    "trajectories_dir = current_dir.parents[1].joinpath('DataBases','rsnapsim_simulations','kdm5b_ssa.npy')\n",
    "rsnaped_dir = current_dir.parents[1].joinpath('rsnaped')\n",
    "gene_file = current_dir.parents[1].joinpath('DataBases','gene_files','KDM5B_withTags.txt')"
   ]
  },
  {
   "cell_type": "code",
   "execution_count": null,
   "id": "ec4bed71",
   "metadata": {},
   "outputs": [],
   "source": [
    "#import rsnaped as rsp\n",
    "sys.path.append(str(rsnaped_dir))\n",
    "import rsnaped as rsp\n",
    "rsp.Banner(show=True).print_banner()"
   ]
  },
  {
   "cell_type": "code",
   "execution_count": null,
   "id": "f287e715",
   "metadata": {},
   "outputs": [],
   "source": [
    "# List all video in dir\n",
    "video_dir\n",
    "list_files_names = sorted([f for f in listdir(video_dir) if isfile(join(video_dir, f)) and ('.tif') in f], key=str.lower)  # reading all tif files in the folder\n",
    "list_files_names.sort(key=lambda f: int(re.sub('\\D', '', f)))  # sorting the index in numerical order\n",
    "path_files = [ str(video_dir.joinpath(f).resolve()) for f in list_files_names ] # creating the complete path for each file\n",
    "path_files"
   ]
  },
  {
   "cell_type": "code",
   "execution_count": null,
   "id": "1fa59ed1",
   "metadata": {},
   "outputs": [],
   "source": [
    "path_files"
   ]
  },
  {
   "cell_type": "code",
   "execution_count": null,
   "id": "45237169",
   "metadata": {},
   "outputs": [],
   "source": [
    "use_GPU = True # models.use_gpu()"
   ]
  },
  {
   "cell_type": "code",
   "execution_count": null,
   "id": "8914addc",
   "metadata": {},
   "outputs": [],
   "source": [
    "file_path = pathlib.Path(path_files[0])\n",
    "video = imread(str(file_path)) \n",
    "img = np.expand_dims(video,axis=3)\n",
    "print(img.shape)"
   ]
  },
  {
   "cell_type": "code",
   "execution_count": null,
   "id": "9c743318",
   "metadata": {},
   "outputs": [],
   "source": [
    "# Plotting the intensity distribution for a specific time point and an specific channel\n",
    "plt.figure(figsize=(5,5))\n",
    "plt.hist(img[0].flatten(), bins=80,color='orangered')\n",
    "plt.xlabel('Intensity')\n",
    "plt.ylabel('Frequency')\n",
    "plt.ylim(0,1e5)\n",
    "plt.title('Intensity Histogram')\n",
    "plt.show()"
   ]
  },
  {
   "cell_type": "code",
   "execution_count": null,
   "id": "837662b1",
   "metadata": {},
   "outputs": [],
   "source": [
    "img2= np.concatenate((img,img),axis=3)\n",
    "img2.shape"
   ]
  },
  {
   "cell_type": "code",
   "execution_count": null,
   "id": "9c4d8c10",
   "metadata": {},
   "outputs": [],
   "source": [
    "number_columns = 15\n",
    "list_time_points = np.linspace(0,img.shape[0], number_columns,endpoint=False, dtype=int)"
   ]
  },
  {
   "cell_type": "code",
   "execution_count": null,
   "id": "f52d37df",
   "metadata": {},
   "outputs": [],
   "source": [
    "fig, ax = plt.subplots(nrows=1,ncols=number_columns, figsize=(30, 5))\n",
    "for i, selected_time in enumerate(list_time_points):\n",
    "    ax[i].imshow(img2[selected_time,:,:,0])\n",
    "    ax[i].axis('off')"
   ]
  },
  {
   "cell_type": "code",
   "execution_count": null,
   "id": "b2e26fbf",
   "metadata": {},
   "outputs": [],
   "source": [
    "img3 = img2.copy() # Making a copy of our img\n",
    "img3[img3>3000]=3000  # threshold image values larger than 1000 equal to 1000"
   ]
  },
  {
   "cell_type": "code",
   "execution_count": null,
   "id": "dbfa7bd3",
   "metadata": {},
   "outputs": [],
   "source": [
    "model = models.Cellpose(gpu=use_GPU, model_type='nuclei') # model_type='cyto' or model_type='nuclei'"
   ]
  },
  {
   "cell_type": "code",
   "execution_count": null,
   "id": "208d2c4b",
   "metadata": {},
   "outputs": [],
   "source": [
    "fig, ax = plt.subplots(nrows=1,ncols=number_columns, figsize=(30, 5))\n",
    "for i, selected_time in enumerate(list_time_points):\n",
    "    ax[i].imshow(img3[selected_time,:,:,0])\n",
    "    ax[i].axis('off')"
   ]
  },
  {
   "cell_type": "code",
   "execution_count": null,
   "id": "5a7ebcd2",
   "metadata": {},
   "outputs": [],
   "source": [
    "list_masks_for_all_frames, _, _, _ = model.eval(img3, diameter=80, min_size=500, channels=[0,0], net_avg=False, augment=False,cellprob_threshold=0)\n",
    "list_masks_for_all_frames.shape"
   ]
  },
  {
   "cell_type": "code",
   "execution_count": null,
   "id": "5953356e",
   "metadata": {},
   "outputs": [],
   "source": [
    "# Plotting the  masks founds for every frame.\n",
    "fig, ax = plt.subplots(nrows=1,ncols=number_columns, figsize=(30, 5))\n",
    "for i, selected_time in enumerate(list_time_points):\n",
    "    ax[i].imshow(list_masks_for_all_frames[selected_time])\n",
    "    ax[i].axis('off')"
   ]
  },
  {
   "cell_type": "code",
   "execution_count": null,
   "id": "51cc201f",
   "metadata": {},
   "outputs": [],
   "source": [
    "# Creating dataframe with centers of mass\n",
    "list_df=[]\n",
    "test=[]\n",
    "test=np.array(test)\n",
    "number_frames= img.shape[0]\n",
    "for i in range(number_frames):\n",
    "    number_cells_in_frame = list_masks_for_all_frames[i].max()\n",
    "    for m in range (1, number_cells_in_frame+1):\n",
    "        selected_mask = np.where(list_masks_for_all_frames[i]==m,1,0) # Selecting only one mask.  \n",
    "        x,y = ndimage.measurements.center_of_mass(selected_mask)\n",
    "        list_df.append( [i,int(x),int(y)] )\n",
    "        del x, y, selected_mask\n",
    "arr = np.array(list_df)"
   ]
  },
  {
   "cell_type": "code",
   "execution_count": null,
   "id": "5ef712f7",
   "metadata": {},
   "outputs": [],
   "source": [
    "df = pd.DataFrame(arr, columns=['frame', 'y', 'x'])\n",
    "#print(df)"
   ]
  },
  {
   "cell_type": "code",
   "execution_count": null,
   "id": "4484ba60",
   "metadata": {},
   "outputs": [],
   "source": [
    "tp.quiet()  # Turn off progress reports for best performance\n",
    "t = tp.link(df, memory=1,search_range=100)\n",
    "print('Number of particles: ', t['particle'].nunique())"
   ]
  },
  {
   "cell_type": "code",
   "execution_count": null,
   "id": "55241fee",
   "metadata": {},
   "outputs": [],
   "source": [
    "t_filtered = tp.filter_stubs(t, 5)  # selecting trajectories that appear in at least 10 frames.\n",
    "print('Number of particles after filter: ', t_filtered['particle'].nunique())"
   ]
  },
  {
   "cell_type": "code",
   "execution_count": null,
   "id": "e2c52421",
   "metadata": {},
   "outputs": [],
   "source": [
    "t_filtered.head()"
   ]
  },
  {
   "cell_type": "code",
   "execution_count": null,
   "id": "fd5fef46",
   "metadata": {},
   "outputs": [],
   "source": [
    "# Plotting the  masks founds for every frame.\n",
    "fig, ax = plt.subplots(nrows=1,ncols=number_columns, figsize=(30, 5))\n",
    "for i, selected_time in enumerate(list_time_points):\n",
    "    ax[i].imshow(list_masks_for_all_frames[selected_time])\n",
    "    ax[i].axis('off')"
   ]
  },
  {
   "cell_type": "code",
   "execution_count": null,
   "id": "b4718469",
   "metadata": {},
   "outputs": [],
   "source": [
    "fig, ax = plt.subplots(nrows=1,ncols=number_columns, figsize=(30, 5))\n",
    "for i, selected_time in enumerate(list_time_points):\n",
    "    # positions\n",
    "    x_val = t.loc[t['frame']==selected_time ].x.values\n",
    "    y_val = t.loc[t['frame']==selected_time ].y.values\n",
    "    ax[i].imshow(img3[selected_time,:,:,0])\n",
    "    ax[i].scatter(x_val,y_val,c='r',marker='*')\n",
    "    ax[i].axis('off')\n",
    "    del x_val, y_val"
   ]
  },
  {
   "cell_type": "code",
   "execution_count": null,
   "id": "80ba83d9",
   "metadata": {},
   "outputs": [],
   "source": [
    "fig, ax = plt.subplots(nrows=1,ncols=number_columns, figsize=(30, 5))\n",
    "for i, selected_time in enumerate(list_time_points):\n",
    "    # positions\n",
    "    x_val = t_filtered.loc[t_filtered['frame']==selected_time ].x.values\n",
    "    y_val = t_filtered.loc[t_filtered['frame']==selected_time ].y.values\n",
    "    ax[i].imshow(img3[selected_time,:,:,0])\n",
    "    ax[i].scatter(x_val,y_val,c='r',marker='*')\n",
    "    ax[i].axis('off')\n",
    "    del x_val, y_val"
   ]
  },
  {
   "cell_type": "code",
   "execution_count": null,
   "id": "2dd41e1c",
   "metadata": {},
   "outputs": [],
   "source": [
    "fig, ax = plt.subplots(1,1,figsize=(6,5))\n",
    "#ax[0] = tp.plot_traj(t)\n",
    "ax = tp.plot_traj(t_filtered)\n",
    "plt.show()"
   ]
  },
  {
   "cell_type": "code",
   "execution_count": null,
   "id": "8e75ffe0",
   "metadata": {},
   "outputs": [],
   "source": [
    "list_df=[]\n",
    "number_frames= img.shape[0]\n",
    "list_new_masks= []\n",
    "for i in range(0,number_frames):\n",
    "    # creating a copy of the original image\n",
    "    temp_image = np.zeros_like(list_masks_for_all_frames[i])\n",
    "    trackpy_labels = t_filtered.loc[t_filtered['frame']==i ].particle.values\n",
    "    # Iterate for each cell in \n",
    "    number_cells_in_frame = list_masks_for_all_frames[i].max()\n",
    "    for m in range (1, number_cells_in_frame+1):\n",
    "        selected_mask = np.where(list_masks_for_all_frames[i]==m,1,0) # Selecting only one mask.  \n",
    "        for index, particle_label in enumerate (trackpy_labels):\n",
    "            # Test if the center of mass is inside the selected mask \n",
    "            y, x = t_filtered.loc[(t_filtered['frame']==i ) & (t_filtered['particle']==particle_label) , ['y', 'x']].values[0]\n",
    "            if selected_mask[y,x]==1:\n",
    "                temp_image = np.where(selected_mask==1, particle_label,temp_image)\n",
    "    list_new_masks.append(temp_image)\n",
    "new_masks = np.array(list_new_masks)"
   ]
  },
  {
   "cell_type": "code",
   "execution_count": null,
   "id": "240fab92",
   "metadata": {},
   "outputs": [],
   "source": [
    "number_columns = 10\n",
    "list_time_points = np.arange(0,number_columns )\n",
    "# Plotting the  masks founds for every frame.\n",
    "fig, ax = plt.subplots(nrows=1,ncols=number_columns, figsize=(30, 7))\n",
    "for i, selected_time in enumerate(list_time_points):\n",
    "    ax[i].imshow(new_masks[selected_time], cmap = 'Paired_r',vmin=0,vmax=new_masks.max())\n",
    "    ax[i].axis('off')"
   ]
  },
  {
   "cell_type": "code",
   "execution_count": null,
   "id": "e0013708",
   "metadata": {},
   "outputs": [],
   "source": [
    "number_columns = 15\n",
    "number_images = new_masks.shape[0]\n",
    "number_rows = math.ceil(number_images/number_columns)\n",
    "individual_figure_size = 2\n",
    "# Loop to plot multiple cells in a grid\n",
    "gs = gridspec.GridSpec(number_rows, number_columns)\n",
    "gs.update(wspace = 0.1, hspace = 0.1) # set the spacing between axes.\n",
    "fig = plt.figure(figsize = (individual_figure_size*number_columns, individual_figure_size*number_rows))\n",
    "for index_image in range(0, number_images):\n",
    "    ax = fig.add_subplot(gs[index_image])\n",
    "    ax.imshow(img3[index_image,:,:,0], cmap = 'Spectral_r')\n",
    "    ax.set_xticks([]); ax.set_yticks([])"
   ]
  },
  {
   "cell_type": "code",
   "execution_count": null,
   "id": "bf5bea36",
   "metadata": {},
   "outputs": [],
   "source": [
    "number_columns = 15\n",
    "number_images = new_masks.shape[0]\n",
    "number_rows = math.ceil(number_images/number_columns)\n",
    "individual_figure_size = 2\n",
    "# Loop to plot multiple cells in a grid\n",
    "gs = gridspec.GridSpec(number_rows, number_columns)\n",
    "gs.update(wspace = 0.1, hspace = 0.1) # set the spacing between axes.\n",
    "fig = plt.figure(figsize = (individual_figure_size*number_columns, individual_figure_size*number_rows))\n",
    "for index_image in range(0, number_images):\n",
    "    ax = fig.add_subplot(gs[index_image])\n",
    "    ax.imshow(new_masks[index_image], cmap = 'Paired_r',vmin=0,vmax=new_masks.max())\n",
    "    ax.set_xticks([]); ax.set_yticks([])\n"
   ]
  },
  {
   "cell_type": "markdown",
   "id": "a31700ca",
   "metadata": {},
   "source": [
    "# Cleaned codes to automatically segment cells"
   ]
  },
  {
   "cell_type": "code",
   "execution_count": null,
   "id": "35d56945",
   "metadata": {},
   "outputs": [],
   "source": [
    "def cells_center_of_mass(list_masks_for_all_frames):\n",
    "    # Creating dataframe with centers of mass\n",
    "    list_df=[]\n",
    "    number_frames= list_masks_for_all_frames.shape[0]\n",
    "    for i in range(number_frames):\n",
    "        number_cells_in_frame = list_masks_for_all_frames[i].max()\n",
    "        for m in range (1, number_cells_in_frame+1):\n",
    "            selected_mask = np.where(list_masks_for_all_frames[i]==m,1,0) # Selecting only one mask.  \n",
    "            x,y = ndimage.measurements.center_of_mass(selected_mask)\n",
    "            list_df.append( [i,int(x),int(y)] )\n",
    "            del x, y, selected_mask\n",
    "    return np.array(list_df)"
   ]
  },
  {
   "cell_type": "code",
   "execution_count": null,
   "id": "32ce90c2",
   "metadata": {},
   "outputs": [],
   "source": [
    "def convert_mask_labels (masks,tracking_dataframe):\n",
    "    list_df=[]\n",
    "    number_frames= masks.shape[0]\n",
    "    list_new_masks= []\n",
    "    for i in range(0,number_frames):\n",
    "        # creating a copy of the original image\n",
    "        temp_image = np.zeros_like(masks[0,:,:])\n",
    "        trackpy_labels = tracking_dataframe.loc[tracking_dataframe['frame']==i ].particle.values\n",
    "        # Iterate for each cell in \n",
    "        number_cells_in_frame = masks[i].max()\n",
    "        for m in range (1, number_cells_in_frame+1):\n",
    "            selected_mask = np.where(masks[i]==m,1,0) # Selecting only one mask.  \n",
    "            for index, particle_label in enumerate (trackpy_labels):\n",
    "                # Test if the center of mass is inside the selected mask \n",
    "                y, x = tracking_dataframe.loc[(tracking_dataframe['frame']==i ) & (tracking_dataframe['particle']==particle_label) , ['y', 'x']].values[0]\n",
    "                if selected_mask[y,x]==1:\n",
    "                    temp_image = np.where(selected_mask==1, particle_label,temp_image)\n",
    "        list_new_masks.append(temp_image)\n",
    "    return np.array(list_new_masks)"
   ]
  },
  {
   "cell_type": "code",
   "execution_count": null,
   "id": "ba1aa7d1",
   "metadata": {},
   "outputs": [],
   "source": [
    "number_optimization_steps = 5\n",
    "int_threshold_vector = np.linspace(2000,5000, num=number_optimization_steps, endpoint=True,dtype=int)\n",
    "cell_size_vector = np.linspace(50,200, num=number_optimization_steps, endpoint=True,dtype=int)\n",
    "model = models.Cellpose(gpu=use_GPU, model_type='nuclei') # model_type='cyto' or model_type='nuclei'\n",
    "print(int_threshold_vector)\n",
    "print(cell_size_vector)"
   ]
  },
  {
   "cell_type": "code",
   "execution_count": null,
   "id": "8938e694",
   "metadata": {},
   "outputs": [],
   "source": [
    "\n",
    "file_path = pathlib.Path(path_files[0])\n",
    "video = imread(str(file_path)) \n",
    "img = np.expand_dims(video,axis=3)\n",
    "image_optimization= np.concatenate((img,img),axis=3)"
   ]
  },
  {
   "cell_type": "code",
   "execution_count": null,
   "id": "a196374c",
   "metadata": {},
   "outputs": [],
   "source": [
    "# optimization code to detected cells using multiple intensity thresholds\n",
    "def cell_segmentation_optimized (image_to_segment, intensity_threshold,cell_size,model,minimal_trajectory_length= 10, masks_with_trackpy_labels= False): \n",
    "    image_test = image_to_segment.copy() # Making a copy of our img\n",
    "    image_test[image_test>intensity_threshold]=intensity_threshold  # threshold image values larger than 1000 equal to 1000\n",
    "    masks_for_all_frames, _, _, _ = model.eval(image_test, diameter=cell_size, min_size=500, channels=[0,0], net_avg=False, augment=False,cellprob_threshold=0)\n",
    "    array_center_mass = cells_center_of_mass(masks_for_all_frames)\n",
    "    df = pd.DataFrame(array_center_mass, columns=['frame', 'y', 'x'])\n",
    "    try:\n",
    "        t = tp.link(df, memory=0,search_range=100)\n",
    "        t_filtered = tp.filter_stubs(t, minimal_trajectory_length)  # selecting trajectories that appear in at least 10 frames.\n",
    "        num_detected_cells = t_filtered['particle'].nunique()\n",
    "    except:\n",
    "        num_detected_cells = 0\n",
    "        t_filtered = pd.DataFrame([], columns=['frame', 'y', 'x'])\n",
    "    if (masks_with_trackpy_labels == True) and (num_detected_cells>0) :\n",
    "        masks= convert_mask_labels (masks=masks_for_all_frames,tracking_dataframe=t_filtered)\n",
    "    else:\n",
    "        masks= masks_for_all_frames\n",
    "    return num_detected_cells, masks, t_filtered"
   ]
  },
  {
   "cell_type": "code",
   "execution_count": null,
   "id": "44c6e6aa",
   "metadata": {},
   "outputs": [],
   "source": [
    "# Optimization code\n",
    "detected_cells_matrix = np.zeros((int_threshold_vector.shape[0],cell_size_vector.shape[0] ) )\n",
    "for index_intensity, intensity_value in enumerate(int_threshold_vector):\n",
    "    for index_cell_size, cell_size in enumerate(cell_size_vector):\n",
    "        detected_cells_matrix[index_intensity,index_cell_size],_,_ = cell_segmentation_optimized (image_to_segment=image_optimization, intensity_threshold=intensity_value,cell_size=cell_size,model=model)"
   ]
  },
  {
   "cell_type": "code",
   "execution_count": null,
   "id": "20005c1e",
   "metadata": {},
   "outputs": [],
   "source": [
    "# showing optimization plot\n",
    "tick_values= np.linspace(0, number_optimization_steps,num=number_optimization_steps,endpoint=False)\n",
    "df_optimization = pd.DataFrame(detected_cells_matrix ) # Converting the image into a pandas data frame\n",
    "fig, ax = plt.subplots(1,1,figsize=(10,10))\n",
    "sn.heatmap(df_optimization, annot=True,cmap=\"Spectral\",ax=ax)\n",
    "ax.set_xlabel('cell size')\n",
    "ax.set_ylabel('intensity')\n",
    "ax.set_yticks(tick_values,int_threshold_vector)  \n",
    "ax.set_xticks(tick_values,cell_size_vector)\n",
    "plt.show()"
   ]
  },
  {
   "cell_type": "code",
   "execution_count": null,
   "id": "74e7edf7",
   "metadata": {},
   "outputs": [],
   "source": [
    "# running for selected values\n",
    "selected_intensity_index, selected_cell_size_index = unravel_index(detected_cells_matrix.argmax(), detected_cells_matrix.shape)\n",
    "detected_cells, masks_final, t_filtered_final = cell_segmentation_optimized (image_to_segment=image_optimization, intensity_threshold=int_threshold_vector[selected_intensity_index],\n",
    "                                                                                                        cell_size=cell_size_vector[selected_cell_size_index], model=model ,\n",
    "                                                                                                        masks_with_trackpy_labels= True)"
   ]
  },
  {
   "cell_type": "code",
   "execution_count": null,
   "id": "ae3705cf",
   "metadata": {},
   "outputs": [],
   "source": [
    "print(int_threshold_vector[selected_intensity_index], cell_size_vector[selected_cell_size_index])"
   ]
  },
  {
   "cell_type": "code",
   "execution_count": null,
   "id": "85aef224",
   "metadata": {},
   "outputs": [],
   "source": [
    "number_columns = 15\n",
    "number_images = masks_final.shape[0]\n",
    "number_rows = math.ceil(number_images/number_columns)\n",
    "individual_figure_size = 2\n",
    "# Loop to plot multiple cells in a grid\n",
    "gs = gridspec.GridSpec(number_rows, number_columns)\n",
    "gs.update(wspace = 0.1, hspace = 0.1) # set the spacing between axes.\n",
    "fig = plt.figure(figsize = (individual_figure_size*number_columns, individual_figure_size*number_rows))\n",
    "for index_image in range(0, number_images):\n",
    "    ax = fig.add_subplot(gs[index_image])\n",
    "    ax.imshow(masks_final[index_image], cmap = 'Paired_r',vmin=0,vmax=masks_final.max())\n",
    "    ax.set_xticks([]); ax.set_yticks([])"
   ]
  },
  {
   "cell_type": "code",
   "execution_count": null,
   "id": "59ac6d1f",
   "metadata": {},
   "outputs": [],
   "source": [
    "number_columns = 15\n",
    "number_images = new_masks.shape[0]\n",
    "number_rows = math.ceil(number_images/number_columns)\n",
    "individual_figure_size = 2\n",
    "# Loop to plot multiple cells in a grid\n",
    "gs = gridspec.GridSpec(number_rows, number_columns)\n",
    "gs.update(wspace = 0.1, hspace = 0.1) # set the spacing between axes.\n",
    "fig = plt.figure(figsize = (individual_figure_size*number_columns, individual_figure_size*number_rows))\n",
    "for index_image in range(0, number_images):\n",
    "    ax = fig.add_subplot(gs[index_image])\n",
    "    ax.imshow(image_optimization[index_image,:,:,0], cmap = 'Spectral_r')\n",
    "    ax.set_xticks([]); ax.set_yticks([])"
   ]
  },
  {
   "cell_type": "code",
   "execution_count": null,
   "id": "e53c46c2",
   "metadata": {},
   "outputs": [],
   "source": [
    "# Use filters to detect spots in cell\n",
    "\n",
    "# perform particle tracking for ts\n",
    "\n",
    "# plot ts trajectories (int, time)\n",
    "\n"
   ]
  },
  {
   "cell_type": "code",
   "execution_count": null,
   "id": "fbe25d63",
   "metadata": {},
   "outputs": [],
   "source": []
  },
  {
   "cell_type": "code",
   "execution_count": null,
   "id": "a085c66e",
   "metadata": {},
   "outputs": [],
   "source": []
  },
  {
   "cell_type": "code",
   "execution_count": null,
   "id": "017ebf2d",
   "metadata": {},
   "outputs": [],
   "source": []
  },
  {
   "cell_type": "code",
   "execution_count": null,
   "id": "7cf3a8ea",
   "metadata": {},
   "outputs": [],
   "source": []
  },
  {
   "cell_type": "code",
   "execution_count": null,
   "id": "4c449b83",
   "metadata": {},
   "outputs": [],
   "source": []
  },
  {
   "cell_type": "code",
   "execution_count": null,
   "id": "49da6079",
   "metadata": {},
   "outputs": [],
   "source": []
  }
 ],
 "metadata": {
  "kernelspec": {
   "display_name": "Python 3.8.5 ('rsnaped_env')",
   "language": "python",
   "name": "python3"
  },
  "language_info": {
   "codemirror_mode": {
    "name": "ipython",
    "version": 3
   },
   "file_extension": ".py",
   "mimetype": "text/x-python",
   "name": "python",
   "nbconvert_exporter": "python",
   "pygments_lexer": "ipython3",
   "version": "3.8.5"
  },
  "vscode": {
   "interpreter": {
    "hash": "daf7c258a197027f92a823c5e9002157216e53cdde30f9077602d149eebf1043"
   }
  }
 },
 "nbformat": 4,
 "nbformat_minor": 5
}
