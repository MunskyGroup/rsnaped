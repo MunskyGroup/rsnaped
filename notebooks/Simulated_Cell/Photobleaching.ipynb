{
 "cells": [
  {
   "cell_type": "markdown",
   "id": "7e0ae521",
   "metadata": {},
   "source": [
    "# Integrated Simulations"
   ]
  },
  {
   "cell_type": "code",
   "execution_count": 1,
   "id": "fcbcbd33",
   "metadata": {
    "jupyter": {
     "source_hidden": true
    }
   },
   "outputs": [],
   "source": [
    "import os; from os import listdir; from os.path import isfile, join\n",
    "import re  \n",
    "from skimage.io import imread\n",
    "import numpy as np \n",
    "from timeit import default_timer as timer\n",
    "import pandas as pd\n",
    "import shutil\n",
    "import pathlib\n",
    "import sys\n",
    "import matplotlib as mpl \n",
    "import matplotlib.pyplot as plt "
   ]
  },
  {
   "cell_type": "code",
   "execution_count": 3,
   "id": "3989d122",
   "metadata": {
    "jupyter": {
     "source_hidden": true
    }
   },
   "outputs": [],
   "source": [
    "# Defining directories\n",
    "current_dir = pathlib.Path().absolute()\n",
    "sequences_dir = current_dir.parents[1].joinpath('DataBases','gene_files')\n",
    "video_dir = current_dir.parents[1].joinpath('DataBases','videos_for_sim_cell')\n",
    "trajectories_dir = current_dir.parents[1].joinpath('DataBases','rsnapsim_simulations','kdm5b_ssa.npy')\n",
    "rsnaped_dir = current_dir.parents[1].joinpath('rsnaped')\n",
    "gene_file = current_dir.parents[1].joinpath('DataBases','gene_files','KDM5B_withTags.txt')\n",
    "masks_dir = current_dir.parents[1].joinpath('DataBases','masks_for_sim_cell')\n",
    "# Importing rSNAPed\n",
    "sys.path.append(str(rsnaped_dir))\n",
    "import rsnaped as rsp"
   ]
  },
  {
   "cell_type": "code",
   "execution_count": 4,
   "id": "e6d639a6",
   "metadata": {},
   "outputs": [],
   "source": [
    "import matplotlib.pyplot as plt\n",
    "plt.style.use('default')\n",
    "plt.rcParams['figure.dpi'] = 300\n",
    "plt.rcParams['lines.linewidth'] = 1\n",
    "plt.rcParams['axes.linewidth'] = 1.5\n",
    "plt.rcParams['axes.grid'] = False\n",
    "plt.style.use('ggplot')"
   ]
  },
  {
   "cell_type": "code",
   "execution_count": 5,
   "id": "394c9303",
   "metadata": {},
   "outputs": [],
   "source": [
    "# These are the parameters that need to be tested. \n",
    "number_of_simulated_cells = 1 # PLEASE TEST MIN 1 MAX 10\n",
    "number_spots_per_cell = 40     # PLEASE TEST MIN 5 MAX 200\n",
    "diffusion_coefficient = 0.3    # PLEASE TEST MIN 0.1 MAX 2\n",
    "intensity_calculation_method = 'disk_donut'  # options are : 'total_intensity' and 'disk_donut' 'gaussian_fit'\n",
    "mask_selection_method = 'max_area' # options are : 'max_spots' and 'max_area' \n",
    "use_optimization_for_tracking = 1 # 0 not using, 1 is using optimization\n",
    "frame_selection_empty_video = 'generate_from_gaussian' #'linear_interpolation' # Options are: 'constant' , 'shuffle', 'loop', 'linear_interpolation', 'generate_from_poisson', 'generate_from_gaussian'\n",
    "save_as_gif= True\n",
    "\n",
    "particle_size = 5 # spot size for the simulation and tracking.\n",
    "elongation_rate = 10\n",
    "initiation_rate = 0.03\n",
    "\n",
    "time = 300\n",
    "\n",
    "# Perturbations\n",
    "simulation_time_in_sec = 20    \n",
    "perturbation_time_start = 0\n",
    "perturbation_time_stop = 0\n",
    "\n",
    "# Intensity scale\n",
    "intensity_scale_ch0 = 80\n",
    "intensity_scale_ch1 = 500\n",
    "intensity_scale_ch2 = None\n",
    "\n",
    "particle_detection_size = particle_size\n",
    "use_Harringtonin=0\n",
    "use_FRAP=0\n",
    "\n",
    "photobleaching_average_ch0 = .001\n",
    "photobleaching_average_ch1 = .002\n",
    "photobleaching_average_ch2 = .003\n",
    "\n",
    "photobleaching_std_ch0 = 0\n",
    "photobleaching_std_ch1 = 0\n",
    "photobleaching_std_ch2 = 0\n",
    "\n",
    "photobleaching_rates = np.array([[photobleaching_average_ch0, photobleaching_average_ch1, photobleaching_average_ch2],\n",
    "                                 [photobleaching_std_ch0, photobleaching_std_ch1, photobleaching_std_ch2]])\n",
    "photobleaching_model = 'loss'"
   ]
  },
  {
   "cell_type": "code",
   "execution_count": 7,
   "id": "e8c32863",
   "metadata": {},
   "outputs": [
    {
     "data": {
      "text/plain": [
       "array([0.001, 0.002, 0.003])"
      ]
     },
     "execution_count": 7,
     "metadata": {},
     "output_type": "execute_result"
    }
   ],
   "source": [
    "photobleaching_rates[0]"
   ]
  },
  {
   "cell_type": "code",
   "execution_count": 14,
   "id": "9b130fbf",
   "metadata": {},
   "outputs": [
    {
     "ename": "NameError",
     "evalue": "name 'mask_dir' is not defined",
     "output_type": "error",
     "traceback": [
      "\u001b[1;31m---------------------------------------------------------------------------\u001b[0m",
      "\u001b[1;31mNameError\u001b[0m                                 Traceback (most recent call last)",
      "\u001b[1;32m~\\AppData\\Local\\Temp/ipykernel_24220/2057789109.py\u001b[0m in \u001b[0;36m<module>\u001b[1;34m\u001b[0m\n\u001b[0;32m      8\u001b[0m                     \u001b[1;33m[\u001b[0m\u001b[0minitiation_rate\u001b[0m\u001b[1;33m]\u001b[0m\u001b[1;33m,\u001b[0m\u001b[1;33m\u001b[0m\u001b[1;33m\u001b[0m\u001b[0m\n\u001b[0;32m      9\u001b[0m                     \u001b[0mlist_label_names\u001b[0m\u001b[1;33m=\u001b[0m\u001b[1;32mNone\u001b[0m\u001b[1;33m,\u001b[0m\u001b[1;33m\u001b[0m\u001b[1;33m\u001b[0m\u001b[0m\n\u001b[1;32m---> 10\u001b[1;33m                     \u001b[0mmasks_dir\u001b[0m \u001b[1;33m=\u001b[0m \u001b[0mmask_dir\u001b[0m\u001b[1;33m,\u001b[0m\u001b[1;33m\u001b[0m\u001b[1;33m\u001b[0m\u001b[0m\n\u001b[0m\u001b[0;32m     11\u001b[0m                     \u001b[0mnumber_cells\u001b[0m \u001b[1;33m=\u001b[0m \u001b[0mnumber_of_simulated_cells\u001b[0m\u001b[1;33m,\u001b[0m\u001b[1;33m\u001b[0m\u001b[1;33m\u001b[0m\u001b[0m\n\u001b[0;32m     12\u001b[0m                     \u001b[0msimulation_time_in_sec\u001b[0m \u001b[1;33m=\u001b[0m \u001b[0mtime\u001b[0m\u001b[1;33m,\u001b[0m\u001b[1;33m\u001b[0m\u001b[1;33m\u001b[0m\u001b[0m\n",
      "\u001b[1;31mNameError\u001b[0m: name 'mask_dir' is not defined"
     ]
    }
   ],
   "source": [
    "a = rsp.simulate_cell(video_dir, \n",
    "                    [gene_file],\n",
    "                    [40],\n",
    "                    [1],\n",
    "                    [0], \n",
    "                    [diffusion_coefficient],\n",
    "                    [elongation_rate],\n",
    "                    [initiation_rate],\n",
    "                    list_label_names=None,\n",
    "                    masks_dir = mask_dir,\n",
    "                    number_cells = number_of_simulated_cells,\n",
    "                    simulation_time_in_sec = time,\n",
    "                    step_size_in_sec = 1,\n",
    "                    save_as_tif = False, \n",
    "                    save_dataframe = False, \n",
    "                    save_as_gif=False,\n",
    "                    frame_selection_empty_video='gaussian',\n",
    "                    spot_size = particle_size ,\n",
    "                    spot_sigma=1,\n",
    "                    intensity_scale_ch0 = intensity_scale_ch0,\n",
    "                    intensity_scale_ch1 = intensity_scale_ch1,\n",
    "                    intensity_scale_ch2 = None,\n",
    "                    dataframe_format = 'short',\n",
    "                    simulated_RNA_intensities_method='constant',\n",
    "                    store_videos_in_memory= True,\n",
    "                    scale_intensity_in_base_video =False,\n",
    "                    basal_intensity_in_background_video= 20000,\n",
    "                    microns_per_pixel=1,\n",
    "                    select_background_cell_index= None,\n",
    "                    perform_video_augmentation= True,\n",
    "                    use_Harringtonin = False,\n",
    "                    use_FRAP = False,\n",
    "                    perturbation_time_start = 0,\n",
    "                    perturbation_time_stop = None,\n",
    "                    save_metadata=False,\n",
    "                    name_folder=None,\n",
    "                    photobleaching_parameters = None, #N channels x N pars\n",
    "                    photobleaching_model = None)"
   ]
  },
  {
   "cell_type": "markdown",
   "id": "07aa2294",
   "metadata": {},
   "source": [
    "## Running the simulations"
   ]
  },
  {
   "cell_type": "code",
   "execution_count": null,
   "id": "bfa11202",
   "metadata": {},
   "outputs": [],
   "source": [
    "def fun_simulated_cells(current_dir, video_dir,masks_dir=None,ke=3,ki=0.03,gene_file =None, trajectories_dir=None, number_of_simulated_cells=3,number_spots_per_cell=80,\n",
    "    simulation_time_in_sec =100,step_size_in_sec=1,particle_size=5, diffusion_coefficient =1, path_to_save_output='temp',\n",
    "    intensity_calculation_method='gaussian_fit',frame_selection_empty_video=frame_selection_empty_video,\n",
    "    perturbation_time_start=perturbation_time_start,perturbation_time_stop=perturbation_time_stop,use_Harringtonin=use_Harringtonin,use_FRAP=use_FRAP,save_as_gif=False ):\n",
    "    spot_size = particle_size\n",
    "    spot_sigma = 1\n",
    "    # Code that creates the folder to store results.\n",
    "    diffusion_coefficient_string = str(diffusion_coefficient).replace('.','_')\n",
    "    directory_name = 'Simulation_V2__'+'ns_'+str(number_spots_per_cell) +'_diff_'+ diffusion_coefficient_string \n",
    "    path_to_save_output = 'temp'\n",
    "    save_to_path =  current_dir.joinpath(path_to_save_output , directory_name )\n",
    "    if not os.path.exists(str(save_to_path)):\n",
    "        os.makedirs(str(save_to_path))\n",
    "    else:\n",
    "        shutil.rmtree(str(save_to_path))\n",
    "        os.makedirs(str(save_to_path))\n",
    "    counter = 0\n",
    "    ## Main loop that creates each cell and dataframe\n",
    "    for cell_number in range (0, number_of_simulated_cells):\n",
    "        output_directory_name = str(video_dir)\n",
    "        list_files_names = sorted([f for f in listdir(output_directory_name) if isfile(join(output_directory_name, f)) and ('.tif') in f], key=str.lower)  # reading all tif files in the folder\n",
    "        list_files_names.sort(key=lambda f: int(re.sub('\\D', '', f)))  # sorting the index in numerical order\n",
    "        path_files = [ str(video_dir.joinpath(f).resolve()) for f in list_files_names ] # creating the complete path for each file\n",
    "        selected_video = 4\n",
    "        video_path = path_files[selected_video]        \n",
    "        video = imread(video_path) \n",
    "        # Loading the mask image\n",
    "        if not (masks_dir is None):\n",
    "            mask_image=imread(masks_dir.joinpath('mask_cell_shape_'+str(selected_video)+'.tif'))       \n",
    "        else:\n",
    "            mask_image=None\n",
    "        # Reducing in a half the intensity in the original video\n",
    "        empty_videos = video\n",
    "        counter +=1\n",
    "        if counter>=len(path_files):\n",
    "            counter =0\n",
    "        if not (trajectories_dir is None ):\n",
    "            # Loading trajectories from file\n",
    "            ssa_trajectories = np.load(str(trajectories_dir))\n",
    "            random_index_ch0 = np.random.randint(low=0, high=ssa_trajectories.shape[0]-1, size=(number_spots_per_cell,))\n",
    "            random_index_ch1 = np.random.randint(low=0, high=ssa_trajectories.shape[0]-1, size=(number_spots_per_cell,))\n",
    "            random_index_ch2 = np.random.randint(low=0, high=ssa_trajectories.shape[0]-1, size=(number_spots_per_cell,))\n",
    "            \n",
    "            simulated_trajectories_ch0 = ssa_trajectories[random_index_ch0,0:simulation_time_in_sec:step_size_in_sec] / 10 # converting to ump\n",
    "            simulated_trajectories_ch1 = ssa_trajectories[random_index_ch1,0:simulation_time_in_sec:step_size_in_sec] / 10 # converting to ump\n",
    "            simulated_trajectories_ch2 =  ssa_trajectories[random_index_ch2,0:simulation_time_in_sec:step_size_in_sec] / 10 # converting to ump\n",
    "        else:\n",
    "            # Simulations for intensity\n",
    "            ssa1,ssa1_ump,_ = rsp.SSA_rsnapsim(gene_file,ke,ki,frames=simulation_time_in_sec,frame_rate=1,n_traj=number_spots_per_cell,use_Harringtonin=use_Harringtonin,use_FRAP=use_FRAP, perturbation_time_start=perturbation_time_start,perturbation_time_stop=perturbation_time_stop).simulate() # rss.ssa_solver(n_traj = number_spots_per_cell, start_time=starting_time,tf=starting_time+n_frames, tstep=starting_time+n_frames,k_elong_mean=3, k_initiation=.03)  # tstep = total number of steps including the burnin time \n",
    "            simulated_trajectories_ch1 = ssa1_ump\n",
    "            ssa2,ssa2_ump,_ =  rsp.SSA_rsnapsim(gene_file,ke,ki,frames=simulation_time_in_sec,frame_rate=1,n_traj=number_spots_per_cell,use_Harringtonin=use_Harringtonin,use_FRAP=use_FRAP, perturbation_time_start=perturbation_time_start,perturbation_time_stop=perturbation_time_stop).simulate() # rss.ssa_solver(n_traj = number_spots_per_cell, start_time=starting_time,tf=starting_time+n_frames, tstep=starting_time+n_frames,k_elong_mean=3, k_initiation=.03)  # tstep = total number of steps including the burnin time \n",
    "            simulated_trajectories_ch2 = ssa2_ump\n",
    "            simulated_trajectories_ch0 = rsp.SimulateRNA(shape_output_array=(number_spots_per_cell, simulation_time_in_sec), rna_intensity_method='random_values',min_int=0,max_int=5,mean_int=5 ).simulate()\n",
    "        #simulated_trajectories_ch0 = None\n",
    "        # Running the cell simulation\n",
    "        saved_file_name = str(save_to_path.joinpath('sim_cell_'+str(cell_number)))\n",
    "        _ , _, _ = rsp.SimulatedCell( base_video=video, mask_image=mask_image, number_spots = number_spots_per_cell, number_frames=simulation_time_in_sec, step_size=step_size_in_sec, diffusion_coefficient =diffusion_coefficient, simulated_trajectories_ch0=simulated_trajectories_ch0, size_spot_ch0=spot_size, spot_sigma_ch0=spot_sigma, simulated_trajectories_ch1=simulated_trajectories_ch1, size_spot_ch1=spot_size, spot_sigma_ch1=spot_sigma, simulated_trajectories_ch2=simulated_trajectories_ch2, size_spot_ch2=spot_size, spot_sigma_ch2=spot_sigma, ignore_ch0=0,ignore_ch1=0, ignore_ch2=1,save_as_tif_uint8=0,save_as_tif =1,save_as_gif=save_as_gif, save_dataframe=1, saved_file_name=saved_file_name,create_temp_folder = False, intensity_calculation_method=intensity_calculation_method,perform_video_augmentation=0,frame_selection_empty_video=frame_selection_empty_video ,intensity_scale_ch0 = intensity_scale_ch0,intensity_scale_ch1 = intensity_scale_ch1,intensity_scale_ch2 = intensity_scale_ch2).make_simulation()      \n",
    "        #print ('The results are saved in folder: ', saved_file_name)\n",
    "    return save_to_path, simulated_trajectories_ch0, simulated_trajectories_ch1, simulated_trajectories_ch2, empty_videos"
   ]
  },
  {
   "cell_type": "code",
   "execution_count": null,
   "id": "12844d96",
   "metadata": {},
   "outputs": [],
   "source": [
    "# running the simulation\n",
    "start = timer()\n",
    "output_directory_name, simulated_trajectories_ch0, simulated_trajectories_ch1, simulated_trajectories_ch2, empty_videos = fun_simulated_cells(current_dir,video_dir,masks_dir=masks_dir,ke=elongation_rate, ki=initiation_rate,trajectories_dir=None,gene_file= gene_file, number_of_simulated_cells=number_of_simulated_cells,number_spots_per_cell=number_spots_per_cell,simulation_time_in_sec =simulation_time_in_sec,step_size_in_sec=1,particle_size=particle_size, diffusion_coefficient=diffusion_coefficient,intensity_calculation_method=intensity_calculation_method,frame_selection_empty_video=frame_selection_empty_video,perturbation_time_start=perturbation_time_start,perturbation_time_stop=perturbation_time_stop,use_Harringtonin=use_Harringtonin,use_FRAP=use_FRAP,save_as_gif=save_as_gif)\n",
    "end = timer()\n",
    "print('Time to generate simulated data:',round(end - start), ' sec')"
   ]
  },
  {
   "cell_type": "code",
   "execution_count": null,
   "id": "8fa16e5c",
   "metadata": {},
   "outputs": [],
   "source": [
    "output_directory_name"
   ]
  },
  {
   "cell_type": "markdown",
   "id": "70c27082",
   "metadata": {},
   "source": [
    "## Display results as images"
   ]
  },
  {
   "cell_type": "code",
   "execution_count": null,
   "id": "f5fcec48",
   "metadata": {},
   "outputs": [],
   "source": [
    "# Reads the folder with the results and import the simulations as lists\n",
    "list_files_names = sorted([f for f in listdir(output_directory_name) if isfile(join(output_directory_name, f)) and ('.tif') in f], key=str.lower)  # reading all tif files in the folder\n",
    "list_files_names.sort(key=lambda f: int(re.sub('\\D', '', f)))  # sorting the index in numerical order\n",
    "path_files = [ str(output_directory_name.joinpath(f).resolve()) for f in list_files_names ] # creating the complete path for each file\n",
    "# Reading the microscopy data\n",
    "list_videos = [imread(f)[:,:,:,:] for f in  path_files] # List with all the videos\n",
    "nimg = number_of_simulated_cells"
   ]
  },
  {
   "cell_type": "markdown",
   "id": "6812a6f3",
   "metadata": {},
   "source": [
    "## <span style=\"color:red\">Channel 0</span>"
   ]
  },
  {
   "cell_type": "code",
   "execution_count": null,
   "id": "3b7f54dd",
   "metadata": {},
   "outputs": [],
   "source": [
    "ncrops = 4\n",
    "time_vector = np.round(np.linspace(0,simulation_time_in_sec-1,ncrops)).astype(int)\n",
    "\n",
    "ncrops = len(time_vector)\n",
    "time_vector\n",
    "channel = 0\n",
    "fig, axes = plt.subplots(nrows=1, ncols=ncrops, figsize=(7, 2))\n",
    "max_val=[]\n",
    "min_val=[]\n",
    "for i in range(0, ncrops):\n",
    "    temp_img= list_videos[0][time_vector[i],:,:,channel]\n",
    "    max_val.append(np.amax(temp_img))\n",
    "    min_val.append(np.amin(temp_img))# running the simulation\n",
    "print('mean intensity in image: ', np.round(temp_img.mean(),1))\n",
    "\n",
    "for i in range(0, ncrops):\n",
    "    axes[i].imshow(list_videos[0][time_vector[i],:,:,channel],cmap='Greys_r', vmin=min(min_val), vmax=max(max_val))\n",
    "    axes[i].axis('off')\n",
    "    axes[i].set(title= str(time_vector[i]) + 's')\n",
    "#name_figure = name_files+'_cells.png'\n",
    "#figure_directory = str(dropbox_address.joinpath(name_figure ) )\n",
    "\n",
    "plt.tight_layout() \n",
    "plt.subplots_adjust(wspace=0.05, hspace=0)\n",
    "#plt.savefig(figure_directory, transparent=True,dpi=300, bbox_inches = \"tight\")\n",
    "plt.show()"
   ]
  },
  {
   "cell_type": "markdown",
   "id": "9967ddc8",
   "metadata": {},
   "source": [
    "## <span style=\"color:lightgreen\">Channel 1</span>"
   ]
  },
  {
   "cell_type": "code",
   "execution_count": null,
   "id": "5a3b16b6",
   "metadata": {},
   "outputs": [],
   "source": [
    "ncrops = 4\n",
    "time_vector = np.round(np.linspace(0,simulation_time_in_sec-1,ncrops)).astype(int)\n",
    "\n",
    "ncrops = len(time_vector)\n",
    "time_vector\n",
    "channel = 1\n",
    "fig, axes = plt.subplots(nrows=1, ncols=ncrops, figsize=(7, 2))\n",
    "max_val=[]\n",
    "min_val=[]\n",
    "for i in range(0, ncrops):\n",
    "    temp_img= list_videos[0][time_vector[i],:,:,channel]\n",
    "    max_val.append(np.amax(temp_img))\n",
    "    min_val.append(np.amin(temp_img))# running the simulation\n",
    "print('mean intensity in image: ', np.round(temp_img.mean(),1))\n",
    "\n",
    "\n",
    "for i in range(0, ncrops):\n",
    "    axes[i].imshow(list_videos[0][time_vector[i],:,:,channel],cmap='Greys_r', vmin=min(min_val), vmax=max(max_val))\n",
    "    axes[i].axis('off')\n",
    "    axes[i].set(title= str(time_vector[i]) + 's')\n",
    "#name_figure = name_files+'_cells.png'\n",
    "#figure_directory = str(dropbox_address.joinpath(name_figure ) )\n",
    "\n",
    "plt.tight_layout() \n",
    "plt.subplots_adjust(wspace=0.05, hspace=0)\n",
    "#plt.savefig(figure_directory, transparent=True,dpi=300, bbox_inches = \"tight\")\n",
    "plt.show()"
   ]
  },
  {
   "cell_type": "code",
   "execution_count": null,
   "id": "a89c52a2",
   "metadata": {},
   "outputs": [],
   "source": []
  },
  {
   "cell_type": "code",
   "execution_count": null,
   "id": "e1fec9db",
   "metadata": {},
   "outputs": [],
   "source": []
  }
 ],
 "metadata": {
  "interpreter": {
   "hash": "daf7c258a197027f92a823c5e9002157216e53cdde30f9077602d149eebf1043"
  },
  "kernelspec": {
   "display_name": "Python 3.8.5 ('rsnaped_env')",
   "language": "python",
   "name": "python3"
  },
  "language_info": {
   "codemirror_mode": {
    "name": "ipython",
    "version": 3
   },
   "file_extension": ".py",
   "mimetype": "text/x-python",
   "name": "python",
   "nbconvert_exporter": "python",
   "pygments_lexer": "ipython3",
   "version": "3.8.10"
  }
 },
 "nbformat": 4,
 "nbformat_minor": 5
}
