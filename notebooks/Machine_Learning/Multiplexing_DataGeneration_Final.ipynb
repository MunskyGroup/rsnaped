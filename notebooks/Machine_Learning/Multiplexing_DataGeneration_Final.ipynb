{
 "cells": [
  {
   "cell_type": "code",
   "execution_count": null,
   "metadata": {},
   "outputs": [],
   "source": [
    "#@title Importing libraries (double-click to show code)\n",
    "import os\n",
    "import pkg_resources\n",
    "pkg_resources.require(\"numpy>=`1.20.1\")  #  to use specific numpy version\n",
    "import numpy as np\n",
    "import rsnapsim as rss\n",
    "import sys\n",
    "from sys import platform\n",
    "from skimage import io ; from skimage.io import imread; from skimage.measure import find_contours\n",
    "from random import randrange\n",
    "import pandas as pd\n",
    "import os; from os import listdir; from os.path import isfile, join\n",
    "import re\n",
    "import shutil\n",
    "import pathlib\n",
    "from pathlib import Path\n",
    "from random import randrange\n",
    "import ipywidgets as widgets ; from ipywidgets import interact, interactive, fixed, interact_manual, Button, HBox, VBox, Layout, GridspecLayout \n",
    "from IPython.display import Image\n",
    "import dna_features_viewer\n",
    "from dna_features_viewer import BiopythonTranslator, GraphicFeature, GraphicRecord, CircularGraphicRecord\n",
    "import tqdm.notebook as tq\n",
    "\n",
    "# Defining directories\n",
    "current_dir = pathlib.Path().absolute()\n",
    "sequences_dir = current_dir.parents[1].joinpath('DataBases','gene_files')\n",
    "video_dir = current_dir.parents[1].joinpath('DataBases','videos_for_sim_cell')\n",
    "rsnaped_dir = current_dir.parents[1].joinpath('rsnaped')\n",
    "\n",
    "masks_dir = current_dir.parents[1].joinpath('DataBases','masks_for_sim_cell')\n",
    "\n",
    "# Importing rSNAPsim_IP\n",
    "sys.path.append(str(rsnaped_dir))\n",
    "import rsnaped as rsp\n",
    "import matplotlib\n",
    "\n",
    "import matplotlib.pyplot as plt\n",
    "plt.style.use('default')\n",
    "plt.rcParams['figure.dpi'] = 120\n",
    "plt.rcParams['lines.linewidth'] = 1\n",
    "plt.rcParams['axes.linewidth'] = 1.5\n",
    "plt.rcParams['axes.grid'] = False\n"
   ]
  },
  {
   "cell_type": "code",
   "execution_count": null,
   "metadata": {},
   "outputs": [],
   "source": [
    "# Plasmid sequences\n",
    "gene_file_pUB_SM_KDM5B_PP7 = str(sequences_dir.joinpath('pUB_SM_KDM5B_PP7.gb')) # plasmid pUB_SM_KDM5B_PP7 \n",
    "gene_file_pUB_SM_p300_MS2 = str(sequences_dir.joinpath('pUB_SM_p300_MS2.gb')) # plasmid pUB_SM_p300_MS2\n",
    "\n",
    "# Coding sequence\n",
    "gene_file_KDM5B_PP7 = str(sequences_dir.joinpath('pUB_SM_KDM5B_PP7_coding_sequence.txt')) # coding sequence for SM_KDM5B_PP7    ### 5685 nt   ### 1895 codons\n",
    "gene_file_p300_MS2 = str(sequences_dir.joinpath('pUB_SM_p300_MS2_coding_sequence.txt'))  # coding sequence for SM_p300_MS2      ### 8268 nt   ### 2756 codons"
   ]
  },
  {
   "cell_type": "code",
   "execution_count": null,
   "metadata": {},
   "outputs": [],
   "source": [
    "from dna_features_viewer import BiopythonTranslator\n",
    "class MyCustomTranslator(BiopythonTranslator):\n",
    "    \"\"\"Custom translator\n",
    "    \"\"\"\n",
    "    def compute_feature_color(self, feature):\n",
    "        if feature.type == \"CDS\":\n",
    "            return \"#57B956\"\n",
    "        elif feature.type == \"FLAG\":\n",
    "            return \"#57B956\"\n",
    "        elif feature.type == \"MS2\":\n",
    "            return \"#098BF5\"\n",
    "        elif feature.type == \"PP7\": \n",
    "            return \"#EB5559\"\n",
    "        else:\n",
    "            return \"#C4B07B\""
   ]
  },
  {
   "cell_type": "code",
   "execution_count": null,
   "metadata": {},
   "outputs": [],
   "source": [
    "graphic_record = MyCustomTranslator().translate_record(gene_file_pUB_SM_KDM5B_PP7) \n",
    "ax, _ = graphic_record.plot(figure_width=20, strand_in_label_threshold=7)\n",
    "ax.set_title('pUB_SM_KDM5B_PP7 (1895 codons)')\n",
    "graphic_record.plot_legend(ax=ax, loc=1, ncol=3, frameon=False)\n",
    "#ax.figure.savefig(\"pUB_SM_KDM5B_PP7.png\")"
   ]
  },
  {
   "cell_type": "code",
   "execution_count": null,
   "metadata": {},
   "outputs": [],
   "source": [
    "graphic_record = MyCustomTranslator().translate_record(gene_file_pUB_SM_p300_MS2) \n",
    "ax, _ = graphic_record.plot(figure_width=20, strand_in_label_threshold=7)\n",
    "ax.set_title('pUB_SM_p300_MS2 (2756 codons)')\n",
    "graphic_record.plot_legend(ax=ax, loc=1, ncol=3, frameon=False)\n",
    "#ax.figure.savefig(\"pUB_SM_p300_MS2.png\")"
   ]
  },
  {
   "cell_type": "code",
   "execution_count": null,
   "metadata": {},
   "outputs": [],
   "source": [
    "# Constant Parameters\n",
    "save_as_tif = True # option to save the simulated video\n",
    "save_dataframe = True # option to save the simulation output as a dataframe in format csv. \n",
    "store_videos_in_memory = True\n",
    "save_as_gif = True\n",
    "save_dataframe = True\n",
    "scale_intensity_in_base_video= True\n",
    "spot_size = 7 # size of spots in pixels\n",
    "spot_sigma = 1 # sigma value for a 2d-gaussian point spread function.\n",
    "number_cells = 1 # Number of simulated Cell\n",
    "simulation_time_in_sec = 30\n",
    "simulated_RNA_intensities_method = 'random_values'\n",
    "frame_selection_empty_video = 'generate_from_gaussian' # Options are: 'constant' , 'shuffle' and 'loop' 'generate_from_gaussian'\n",
    "basal_intensity_in_background_video = 10000"
   ]
  },
  {
   "cell_type": "code",
   "execution_count": null,
   "metadata": {},
   "outputs": [],
   "source": [
    "list_gene_sequences = [gene_file_KDM5B_PP7,gene_file_p300_MS2] # path to gene sequences\n",
    "list_label_names = [0,1] # list of strings used to generate a classification field in the output data frame\n",
    "list_number_spots = [50, 50] # list of integers, where each element represents the number of spots\n",
    "list_target_channels_proteins = [1, 2] # channel where the simulated protein spots will be located. Integer between 0 and 2. \n",
    "list_target_channels_mRNA = [0, 0] # channel where the simulated mRNA spots will be located. Integer between 0 and 2. \n",
    "list_diffusion_coefficients =[3, 3] # diffusion coefficients for each gene\n",
    "list_elongation_rates = [10, 10] # elongation rates aa/sec\n",
    "list_initiation_rates = [0.08, 0.08] # initiation rates 1/sec"
   ]
  },
  {
   "cell_type": "code",
   "execution_count": null,
   "metadata": {},
   "outputs": [],
   "source": [
    "# list_gene_sequences = gene_file_KDM5B_PP7 # path to gene sequences\n",
    "# list_label_names = 0 # list of strings used to generate a classification field in the output data frame\n",
    "# list_number_spots = 50 # list of integers, where each element represents the number of spots\n",
    "# list_target_channels_proteins = 1 # channel where the simulated protein spots will be located. Integer between 0 and 2. \n",
    "# list_target_channels_mRNA = 0 # channel where the simulated mRNA spots will be located. Integer between 0 and 2. \n",
    "# list_diffusion_coefficients = 3 # diffusion coefficients for each gene\n",
    "# list_elongation_rates = 5.33 # elongation rates aa/sec\n",
    "# list_initiation_rates = 0.08 # initiation rates 1/sec"
   ]
  },
  {
   "cell_type": "code",
   "execution_count": null,
   "metadata": {},
   "outputs": [],
   "source": [
    "intensity_scale_ch0 = 2\n",
    "intensity_scale_ch1 = 2\n",
    "intensity_scale_ch2 = 2"
   ]
  },
  {
   "cell_type": "code",
   "execution_count": null,
   "metadata": {},
   "outputs": [],
   "source": [
    "list_videos, _,merged_dataframe_simulated_cells, _,_,_,_ = rsp.simulate_cell( video_dir, \n",
    "                                                                        list_gene_sequences=list_gene_sequences,\n",
    "                                                                        list_number_spots=list_number_spots,\n",
    "                                                                        list_target_channels_proteins=list_target_channels_proteins,\n",
    "                                                                        list_target_channels_mRNA=list_target_channels_mRNA, \n",
    "                                                                        list_diffusion_coefficients=list_diffusion_coefficients,\n",
    "                                                                        list_elongation_rates=list_elongation_rates,\n",
    "                                                                        list_initiation_rates=list_initiation_rates,\n",
    "                                                                        list_label_names=list_label_names,\n",
    "                                                                        masks_dir=masks_dir, \n",
    "                                                                        number_cells = number_cells,\n",
    "                                                                        simulation_time_in_sec = simulation_time_in_sec,\n",
    "                                                                        step_size_in_sec = 1,\n",
    "                                                                        save_as_tif = save_as_tif, \n",
    "                                                                        save_as_gif = save_as_gif,\n",
    "                                                                        save_dataframe = save_dataframe,\n",
    "                                                                        frame_selection_empty_video=frame_selection_empty_video,\n",
    "                                                                        spot_size = spot_size,\n",
    "                                                                        spot_sigma = spot_sigma,\n",
    "                                                                        intensity_scale_ch0 = intensity_scale_ch0,\n",
    "                                                                        intensity_scale_ch1 = intensity_scale_ch1,\n",
    "                                                                        intensity_scale_ch2 = intensity_scale_ch2,\n",
    "                                                                        dataframe_format = 'long',\n",
    "                                                                        simulated_RNA_intensities_method=simulated_RNA_intensities_method,\n",
    "                                                                        store_videos_in_memory= True,\n",
    "                                                                        scale_intensity_in_base_video =scale_intensity_in_base_video,\n",
    "                                                                        basal_intensity_in_background_video=basal_intensity_in_background_video)"
   ]
  },
  {
   "cell_type": "code",
   "execution_count": null,
   "metadata": {},
   "outputs": [],
   "source": [
    "merged_dataframe_simulated_cells.head()"
   ]
  },
  {
   "cell_type": "code",
   "execution_count": null,
   "metadata": {},
   "outputs": [],
   "source": [
    "# Loading the simulated video\n",
    "selected_cell = 0\n",
    "simulated_video = list_videos[selected_cell]"
   ]
  },
  {
   "cell_type": "code",
   "execution_count": null,
   "metadata": {},
   "outputs": [],
   "source": [
    "#@title Plotting the simulated cells\n",
    "selected_time_point = 1\n",
    "max_percentile=99.95\n",
    "print('Dimensions in the simulated video: ', simulated_video.shape)\n",
    "fig, ax = plt.subplots(3,2, figsize=(10, 7))\n",
    "int_red = simulated_video[selected_time_point,:,:,0]\n",
    "int_green = simulated_video[selected_time_point,:,:,1]\n",
    "int_blue = simulated_video[selected_time_point,:,:,2]\n",
    "\n",
    "print(np.min(int_red), np.max(int_red))\n",
    "print(np.min(int_green), np.max(int_green))\n",
    "print(np.min(int_blue), np.max(int_blue))\n",
    "\n",
    "# Red\n",
    "ax[0,0].imshow(int_red,cmap=plt.cm.Greys,vmax=np.percentile(int_red,max_percentile))\n",
    "ax[0,0].set_title('Channel 0 = RNA');ax[0,0].set_xticks([]); ax[0,0].set_yticks([])\n",
    "ax[0,1].hist(int_red.flatten(), bins=80,color='red')\n",
    "ax[0,1].set_xlabel('Intensity'); ax[0,1].set_ylabel('Count')\n",
    "\n",
    "# Green\n",
    "ax[1,0].imshow(int_green,cmap=plt.cm.Greys,vmax=np.percentile(int_green,max_percentile))\n",
    "ax[1,0].set_title('Channel 1 = Protein 1'); ax[1,0].set_xticks([]); ax[1,0].set_yticks([])\n",
    "ax[1,1].hist(int_green.flatten(), bins=80,color='green')\n",
    "ax[1,1].set_xlabel('Intensity'); ax[1,1].set_ylabel('Count')\n",
    "\n",
    "# Blue\n",
    "ax[2,0].imshow(int_blue,cmap=plt.cm.Greys,vmax=np.percentile(int_blue,max_percentile))\n",
    "ax[2,0].set_title('Channel 2 = Protein 2'); ax[2,0].set_xticks([]); ax[2,0].set_yticks([])\n",
    "ax[2,1].hist(int_blue.flatten(), bins=80,color='blue')\n",
    "ax[2,1].set_xlabel('Intensity'); ax[2,1].set_ylabel('Count')\n",
    "plt.show()"
   ]
  },
  {
   "cell_type": "code",
   "execution_count": null,
   "metadata": {},
   "outputs": [],
   "source": [
    "df = merged_dataframe_simulated_cells\n",
    "spot_type = 0\n",
    "SNR_red_channel = df.loc[ (df['cell_number']==selected_cell) ].SNR_red.values\n",
    "SNR_green_channel = df.loc[ (df['cell_number']==selected_cell) & (df['Classification']==0) ].SNR_green.values\n",
    "SNR_blue_channel = df.loc[ (df['cell_number']==selected_cell)  &  (df['Classification']==1) ].SNR_blue.values\n"
   ]
  },
  {
   "cell_type": "code",
   "execution_count": null,
   "metadata": {},
   "outputs": [],
   "source": [
    "#@title ####Plotting SNR\n",
    "\n",
    "# Plotting\n",
    "fig, ax = plt.subplots(1,3, figsize=(10, 3))\n",
    "ax[0].hist(SNR_red_channel, bins = 40, color = 'orangered')\n",
    "ax[0].set_ylabel('Count')\n",
    "ax[0].set_title('$SNR_{Red}$')\n",
    "ax[0].set_xlabel('SNR')\n",
    "\n",
    "ax[1].hist(SNR_green_channel, bins = 40, color = 'limegreen')\n",
    "ax[1].set_ylabel('Count')\n",
    "ax[1].set_title('$SNR_{Green}$')\n",
    "ax[1].set_xlabel('SNR')\n",
    "\n",
    "ax[2].hist(SNR_blue_channel, bins = 40, color = 'blue')\n",
    "ax[2].set_ylabel('Count')\n",
    "ax[2].set_title('$SNR_{Blue}$')\n",
    "ax[2].set_xlabel('SNR')\n",
    "plt.subplots_adjust(wspace=0.5, hspace=0)\n",
    "\n",
    "plt.show()\n",
    "\n",
    "print('mean_SNR_red', np.median(SNR_red_channel))\n",
    "print('mean_SNR_green', np.median(SNR_green_channel))\n",
    "print('mean_SNR_blue', np.median(SNR_blue_channel))\n"
   ]
  },
  {
   "cell_type": "code",
   "execution_count": null,
   "metadata": {},
   "outputs": [],
   "source": []
  }
 ],
 "metadata": {
  "kernelspec": {
   "display_name": "Python 3.8.5 ('rsnaped_env')",
   "language": "python",
   "name": "python3"
  },
  "language_info": {
   "codemirror_mode": {
    "name": "ipython",
    "version": 3
   },
   "file_extension": ".py",
   "mimetype": "text/x-python",
   "name": "python",
   "nbconvert_exporter": "python",
   "pygments_lexer": "ipython3",
   "version": "3.8.5"
  },
  "vscode": {
   "interpreter": {
    "hash": "daf7c258a197027f92a823c5e9002157216e53cdde30f9077602d149eebf1043"
   }
  }
 },
 "nbformat": 4,
 "nbformat_minor": 4
}
