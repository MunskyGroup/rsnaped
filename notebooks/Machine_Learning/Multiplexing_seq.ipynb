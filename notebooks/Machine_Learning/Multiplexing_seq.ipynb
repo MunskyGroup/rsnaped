{
 "cells": [
  {
   "cell_type": "code",
   "execution_count": null,
   "metadata": {},
   "outputs": [],
   "source": [
    "#@title Importing libraries (double-click to show code)\n",
    "import os\n",
    "import pkg_resources\n",
    "pkg_resources.require(\"numpy>=`1.20.1\")  #  to use specific numpy version\n",
    "import numpy as np\n",
    "import rsnapsim as rss\n",
    "import sys\n",
    "from sys import platform\n",
    "from skimage import io ; from skimage.io import imread; from skimage.measure import find_contours\n",
    "from random import randrange\n",
    "import pandas as pd\n",
    "import os; from os import listdir; from os.path import isfile, join\n",
    "import re\n",
    "import shutil\n",
    "import pathlib\n",
    "from random import randrange\n",
    "import ipywidgets as widgets ; from ipywidgets import interact, interactive, fixed, interact_manual, Button, HBox, VBox, Layout, GridspecLayout \n",
    "from IPython.display import Image\n",
    "import dna_features_viewer\n",
    "from dna_features_viewer import BiopythonTranslator, GraphicFeature, GraphicRecord, CircularGraphicRecord\n",
    "\n",
    "# Deffining directories\n",
    "current_dir = pathlib.Path().absolute()\n",
    "sequences_dir = current_dir.parents[1].joinpath('DataBases','gene_files')\n",
    "video_dir = current_dir.parents[1].joinpath('DataBases','videos_for_sim_cell')\n",
    "rsnaped_dir = current_dir.parents[1].joinpath('rsnaped')\n",
    "\n",
    "# Importing rSNAPsim_IP\n",
    "sys.path.append(str(rsnaped_dir))\n",
    "import rsnaped as rsp\n",
    "import matplotlib\n",
    "import matplotlib.pyplot as plt\n",
    "plt.style.use('default')\n",
    "plt.rcParams['figure.dpi'] = 120\n",
    "plt.rcParams['lines.linewidth'] = 1\n",
    "plt.rcParams['axes.linewidth'] = 1.5\n",
    "plt.rcParams['axes.grid'] = False\n"
   ]
  },
  {
   "cell_type": "code",
   "execution_count": null,
   "metadata": {},
   "outputs": [],
   "source": [
    "# Plasmid sequences\n",
    "gene_file_pUB_SM_KDM5B_PP7 = str(sequences_dir.joinpath('pUB_SM_KDM5B_PP7.gb')) # plasmid pUB_SM_KDM5B_PP7 \n",
    "gene_file_pUB_SM_p300_MS2 = str(sequences_dir.joinpath('pUB_SM_p300_MS2.gb')) # plasmid pUB_SM_p300_MS2\n",
    "\n",
    "# Coding sequence\n",
    "gene_file_KDM5B_PP7 = str(sequences_dir.joinpath('pUB_SM_KDM5B_PP7_coding_sequence.txt')) # coding sequence for SM_KDM5B_PP7    ### 5685 nt   ### 1895 codons\n",
    "gene_file_p300_MS2 = str(sequences_dir.joinpath('pUB_SM_p300_MS2_coding_sequence.txt'))  # coding sequence for SM_p300_MS2      ### 8268 nt   ### 2756 codons"
   ]
  },
  {
   "cell_type": "code",
   "execution_count": null,
   "metadata": {},
   "outputs": [],
   "source": [
    "from dna_features_viewer import BiopythonTranslator\n",
    "class MyCustomTranslator(BiopythonTranslator):\n",
    "    \"\"\"Custom translator\n",
    "    \"\"\"\n",
    "    def compute_feature_color(self, feature):\n",
    "        if feature.type == \"CDS\":\n",
    "            return \"#57B956\"\n",
    "        elif feature.type == \"FLAG\":\n",
    "            return \"#57B956\"\n",
    "        elif feature.type == \"MS2\":\n",
    "            return \"#098BF5\"\n",
    "        elif feature.type == \"PP7\": \n",
    "            return \"#EB5559\"\n",
    "        else:\n",
    "            return \"#C4B07B\""
   ]
  },
  {
   "cell_type": "code",
   "execution_count": null,
   "metadata": {},
   "outputs": [],
   "source": [
    "graphic_record = MyCustomTranslator().translate_record(gene_file_pUB_SM_KDM5B_PP7) \n",
    "ax, _ = graphic_record.plot(figure_width=20, strand_in_label_threshold=7)\n",
    "ax.set_title('pUB_SM_KDM5B_PP7 (1895 codons)')\n",
    "graphic_record.plot_legend(ax=ax, loc=1, ncol=3, frameon=False)\n",
    "ax.figure.savefig(\"pUB_SM_KDM5B_PP7.png\")"
   ]
  },
  {
   "cell_type": "code",
   "execution_count": null,
   "metadata": {},
   "outputs": [],
   "source": [
    "graphic_record = MyCustomTranslator().translate_record(gene_file_pUB_SM_p300_MS2) \n",
    "ax, _ = graphic_record.plot(figure_width=20, strand_in_label_threshold=7)\n",
    "ax.set_title('pUB_SM_p300_MS2 (2756 codons)')\n",
    "graphic_record.plot_legend(ax=ax, loc=1, ncol=3, frameon=False)\n",
    "ax.figure.savefig(\"pUB_SM_p300_MS2.png\")"
   ]
  },
  {
   "cell_type": "code",
   "execution_count": null,
   "metadata": {},
   "outputs": [],
   "source": [
    "list_files_names = sorted([f for f in listdir(video_dir) if isfile(join(video_dir, f)) and ('.tif') in f], key=str.lower)  # reading all tif files in the folder\n",
    "list_files_names.sort(key=lambda f: int(re.sub('\\D', '', f)))  # sorting the index in numerical order\n",
    "path_files = [ str(video_dir.joinpath(f).resolve()) for f in list_files_names ] # creating the complete path for each file\n",
    "num_cell_shapes = len(path_files)"
   ]
  },
  {
   "cell_type": "code",
   "execution_count": null,
   "metadata": {},
   "outputs": [],
   "source": [
    "# proteins with Cy3 (green), PP7 with JF646 (red), and MS2 with GFP (blue)."
   ]
  },
  {
   "cell_type": "code",
   "execution_count": null,
   "metadata": {},
   "outputs": [],
   "source": [
    "# Inputs\n",
    "list_gene_sequences = [gene_file_KDM5B_PP7, gene_file_p300_MS2] # path to gene sequences\n",
    "list_number_spots = [20, 20] # list of integers, where each element represents the number of spots\n",
    "\n",
    "list_target_channels_proteins = [1, 1] # channel where the simulated protein spots will be located. Integer between 0 and 2. \n",
    "\n",
    "list_target_channels_mRNA = [0, 2] # channel where the simulated mRNA spots will be located. Integer between 0 and 2. \n",
    "\n",
    "list_diffusion_coefficients =[0.5, 0.5] # diffusion coefficients for each gene\n",
    "list_label_names = ['kdm5b','p300'] # list of strings used to generate a classification field in the output data frame\n",
    "\n",
    "list_elongation_rates = [10, 10] # elongation rates aa/sec\n",
    "list_initiation_rates = [0.03, 0.03] # initiation rates 1/sec\n",
    "frame_selection_empty_video = 'shuffle' # Options are: 'constant' , 'shuffle' and 'loop'\n",
    "\n",
    "simulation_time_in_sec = 3000\n",
    "\n",
    "step_size_in_sec = 1\n",
    "save_as_tif = 0 # option to save the simulated video\n",
    "save_dataframe = 0 # option to save the simulation output as a dataframe in format csv. \n",
    "create_temp_folder = 0 # saves the video and data frame in a temp folder\n",
    "\n",
    "spot_size = 3 # size of spots in pixels"
   ]
  },
  {
   "cell_type": "code",
   "execution_count": null,
   "metadata": {},
   "outputs": [],
   "source": [
    "intensity_scale_ch0 = 60\n",
    "intensity_scale_ch1 = 60\n",
    "intensity_scale_ch2 = 60"
   ]
  },
  {
   "cell_type": "code",
   "execution_count": null,
   "metadata": {},
   "outputs": [],
   "source": [
    "# Number of simulated Cell\n",
    "number_cells = 50"
   ]
  },
  {
   "cell_type": "code",
   "execution_count": null,
   "metadata": {},
   "outputs": [],
   "source": [
    "list_dataframe_simulated_cell =[]\n",
    "list_ssa_all_cells_and_genes =[]\n",
    "list_videos =[]\n",
    "for i in range (0,number_cells ):\n",
    "    saved_file_name = 'cell_' + str(i)  # if the video or dataframe are save, this variable assigns the name to the files\n",
    "    sel_shape = randrange(num_cell_shapes)\n",
    "    video_path = path_files[sel_shape]\n",
    "    initial_video = io.imread(video_path) # video with empty cell\n",
    "    #tensor_video, single_dataframe_simulated_cell, list_ssa = rsp.SimulatedCellMultiplexing(initial_video,list_gene_sequences,list_number_spots,list_target_channels_proteins,list_target_channels_mRNA, list_diffusion_coefficients,list_label_names,list_elongation_rates,list_initiation_rates,simulation_time_in_sec,step_size_in_sec,save_as_tif, save_dataframe, saved_file_name,create_temp_folder,cell_number =i,frame_selection_empty_video=frame_selection_empty_video,spot_size =spot_size).make_simulation()\n",
    "    _, single_dataframe_simulated_cell, list_ssa = rsp.SimulatedCellMultiplexing(initial_video,list_gene_sequences,list_number_spots,list_target_channels_proteins,list_target_channels_mRNA, list_diffusion_coefficients,list_label_names,list_elongation_rates,list_initiation_rates,simulation_time_in_sec,step_size_in_sec,save_as_tif, save_dataframe, saved_file_name,create_temp_folder,cell_number =i,frame_selection_empty_video=frame_selection_empty_video,spot_size =spot_size).make_simulation()\n",
    "    list_dataframe_simulated_cell.append(single_dataframe_simulated_cell)\n",
    "    list_ssa_all_cells_and_genes.append(list_ssa)\n",
    "    #list_videos.append(tensor_video)"
   ]
  },
  {
   "cell_type": "code",
   "execution_count": null,
   "metadata": {},
   "outputs": [],
   "source": [
    "dataframe_simulated_cell = pd.concat(list_dataframe_simulated_cell)"
   ]
  },
  {
   "cell_type": "code",
   "execution_count": null,
   "metadata": {},
   "outputs": [],
   "source": [
    "dataframe_simulated_cell.to_csv('/home/luisub/Dropbox/multiplexing/multiplexing_csv.csv')"
   ]
  },
  {
   "cell_type": "code",
   "execution_count": null,
   "metadata": {},
   "outputs": [],
   "source": [
    "ssas_multiplexing = np.array(list_ssa_all_cells_and_genes)\n",
    "np.save('/home/luisub/Dropbox/multiplexing/ssas_multiplexing', ssas_multiplexing)"
   ]
  },
  {
   "cell_type": "code",
   "execution_count": null,
   "metadata": {},
   "outputs": [],
   "source": [
    "num_videos =len(list_videos)\n",
    "num_videos"
   ]
  },
  {
   "cell_type": "code",
   "execution_count": null,
   "metadata": {},
   "outputs": [],
   "source": [
    "raise"
   ]
  },
  {
   "cell_type": "code",
   "execution_count": null,
   "metadata": {},
   "outputs": [],
   "source": [
    "selected_cel =0\n",
    "selected_gene = 0 #kdm5b\n",
    "# time points in ssa\n",
    "nuber_ssa_trajectories = list_ssa_all_cells_and_genes[selected_cel][selected_gene].shape[0]\n",
    "number_tp = list_ssa_all_cells_and_genes[selected_cel][selected_gene].shape[1]\n",
    "nuber_ssa_trajectories, number_tp"
   ]
  },
  {
   "cell_type": "code",
   "execution_count": null,
   "metadata": {},
   "outputs": [],
   "source": [
    "plt.figure(figsize=(15,2))\n",
    "for tr in range(0,nuber_ssa_trajectories ):\n",
    "    plt.plot(list_ssa_all_cells_and_genes[selected_cel][selected_gene][tr] , '-',linewidth = 3,color='green')\n",
    "plt.title('SSA int (a.u.)')\n",
    "plt.show()"
   ]
  },
  {
   "cell_type": "code",
   "execution_count": null,
   "metadata": {},
   "outputs": [],
   "source": [
    "plt.figure(figsize=(15,2))\n",
    "for i in range(0,len(list_gene_sequences)):\n",
    "    for j in range (0,list_number_spots[i]):\n",
    "        if i >0:\n",
    "            spot_num_counter = j + list_number_spots[0]\n",
    "        else:\n",
    "            spot_num_counter = j\n",
    "        sim_cell_int_traj = dataframe_simulated_cell.loc[   (dataframe_simulated_cell['Classification']=='kdm5b') & (dataframe_simulated_cell['particle']==spot_num_counter) & (dataframe_simulated_cell['cell_number']==selected_cel)  ].green_int_mean.values\n",
    "        if sim_cell_int_traj.any():\n",
    "            plt.plot (sim_cell_int_traj ,linewidth = 1,color='green' )      \n",
    "plt.title('video int (a.u.)')\n",
    "plt.show()"
   ]
  },
  {
   "cell_type": "code",
   "execution_count": null,
   "metadata": {},
   "outputs": [],
   "source": [
    "# In this section of the code we will plot the videos for all cells using a for loop. \n",
    "# in the plot each row represents a cell and the columns represent the color channel.\n",
    "selected_timePoint = 0 # selecting a frame to display in the plot.\n",
    "\n",
    "fig, ax = plt.subplots(num_videos,3, figsize=(5, num_videos*2))\n",
    "for i in range(0,num_videos):\n",
    "  ax[i,0].imshow(list_videos[i][selected_timePoint,:,:,0],cmap='Greys_r')\n",
    "  ax[i,1].imshow(list_videos[i][selected_timePoint,:,:,1],cmap='Greys_r')\n",
    "  ax[i,2].imshow(list_videos[i][selected_timePoint,:,:,2],cmap='Greys_r')\n",
    "  ax[i,0].axis('off')\n",
    "  ax[i,1].axis('off')\n",
    "  ax[i,2].axis('off')\n",
    "plt.show()"
   ]
  },
  {
   "cell_type": "code",
   "execution_count": null,
   "metadata": {},
   "outputs": [],
   "source": [
    "from matplotlib import animation\n",
    "from IPython.display import HTML\n",
    "def make_movie(image_tensor, cmaps = ['Reds_r','Greens_r','Blues_r'], channels = True):\n",
    "  '''\n",
    "  returns an ipython.html obj to display an image tensor\n",
    "  '''\n",
    "  if channels:  # if channels = True we will make a 3 color / 3 plot movie\n",
    "    fig,axes = plt.subplots(1,3,figsize=(15, 7),tight_layout=True,)\n",
    "  else: # otherwise just one subplot is needed\n",
    "    fig,axes = plt.subplots(1,1,figsize=(15, 7),tight_layout=True,) #tight layout sets the axis's apart\n",
    "  #fig.subplots_adjust(left=0, bottom=0, right=1, top=1, wspace=None, hspace=None)\n",
    "  if channels: #if channels set up inital images here\n",
    "    im1 = axes[0].imshow(image_tensor[0,:,:,0], cmap=cmaps[0])  #get blank axes.image objects to maniuplate later\n",
    "    im2 = axes[1].imshow(image_tensor[0,:,:,1], cmap=cmaps[1])\n",
    "    im3 = axes[2].imshow(image_tensor[0,:,:,2], cmap=cmaps[2])\n",
    "    for k in range(3):\n",
    "      axes[k].set_title('Channel %i'%k)\n",
    "  else:\n",
    "    im1 = axes.imshow(image_tensor[0,:,:,:], cmap=cmaps[0]) #if merge just make one\n",
    "    axes.set_title('Merge')\n",
    "  plt.close()\n",
    "\n",
    "  #here set up the function that is called by FuncAnimation, it returns the artist objects and updates the frame by i\n",
    "  def movieFrame(i):\n",
    "    ## Extract all the image channels\n",
    "    #Define  frames\n",
    "    if channels:  #get the channels if 3 color\n",
    "      channel_1_img = image_tensor[i,:,:,0]\n",
    "      channel_2_img = image_tensor[i,:,:,1]\n",
    "      channel_3_img = image_tensor[i,:,:,2]\n",
    "      images = [channel_1_img, channel_2_img, channel_3_img]  # concatenate channels\n",
    "      axes_handles = [im1,im2,im3]  #Axes handles from the imshow\n",
    "    else:\n",
    "      channel_img = image_tensor[i,:,:,:]   \n",
    "      images = [channel_img,]  # concatenate channels\n",
    "      axes_handles = [im1,]  #Axes handles from the imshow\n",
    "\n",
    "    #update the axes imshow objects with the new data per k channels\n",
    "    for k,image_n in enumerate(images):  #for loop that returns an object and an index\n",
    "      axes_handles[k].set_array(images[k])  # \n",
    "    return axes_handles  #return the object\n",
    "  \n",
    "  #here call the animation function from matplotlib and then return the final HTML video object to the user\n",
    "  anim = animation.FuncAnimation(fig, movieFrame, frames=image_tensor.shape[0], interval=100, blit=True)\n",
    "  return HTML(anim.to_html5_video())"
   ]
  },
  {
   "cell_type": "code",
   "execution_count": null,
   "metadata": {},
   "outputs": [],
   "source": [
    "if 0:\n",
    "    make_movie(list_videos[1])"
   ]
  },
  {
   "cell_type": "code",
   "execution_count": null,
   "metadata": {},
   "outputs": [],
   "source": []
  }
 ],
 "metadata": {
  "kernelspec": {
   "display_name": "Python 3.8.2 64-bit",
   "language": "python",
   "name": "python3"
  },
  "language_info": {
   "codemirror_mode": {
    "name": "ipython",
    "version": 3
   },
   "file_extension": ".py",
   "mimetype": "text/x-python",
   "name": "python",
   "nbconvert_exporter": "python",
   "pygments_lexer": "ipython3",
   "version": "3.8.2"
  },
  "vscode": {
   "interpreter": {
    "hash": "31f2aee4e71d21fbe5cf8b01ff0e069b9275f58929596ceb00d14d90e3e16cd6"
   }
  }
 },
 "nbformat": 4,
 "nbformat_minor": 4
}
