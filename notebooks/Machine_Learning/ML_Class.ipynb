{
 "cells": [
  {
   "cell_type": "code",
   "execution_count": null,
   "id": "french-scott",
   "metadata": {},
   "outputs": [],
   "source": [
    "import os\n",
    "import pkg_resources\n",
    "pkg_resources.require(\"numpy>=`1.20.1\")  #  to use specific numpy version\n",
    "import numpy as np\n",
    "import rsnapsim as rss\n",
    "import sys\n",
    "from sys import platform\n",
    "from skimage import io ; from skimage.io import imread; from skimage.measure import find_contours\n",
    "import pandas as pd\n",
    "import os; from os import listdir; from os.path import isfile, join\n",
    "import re\n",
    "import shutil\n",
    "import pathlib\n",
    "from random import randrange\n",
    "# Importing rSNAPsim_IP\n",
    "import ipywidgets as widgets ; from ipywidgets import interact, interactive, fixed, interact_manual, Button, HBox, VBox, Layout, GridspecLayout ; from IPython.display import Image"
   ]
  },
  {
   "cell_type": "code",
   "execution_count": null,
   "id": "steady-marketing",
   "metadata": {},
   "outputs": [],
   "source": [
    "import matplotlib.pyplot as plt\n",
    "plt.style.use('dark_background')\n",
    "plt.rcParams['figure.dpi'] = 120\n",
    "plt.rcParams['lines.linewidth'] = 1\n",
    "plt.rcParams['axes.linewidth'] = 1.5\n",
    "plt.rcParams['font.size'] = 15\n",
    "plt.rcParams['axes.grid'] = False"
   ]
  },
  {
   "cell_type": "code",
   "execution_count": null,
   "id": "wicked-window",
   "metadata": {},
   "outputs": [],
   "source": [
    "# Deffining directories\n",
    "current_dir = pathlib.Path().absolute()\n",
    "sequences_dir = current_dir.parents[1].joinpath('DataBases','gene_files')\n",
    "video_dir = current_dir.parents[1].joinpath('DataBases','videos_for_sim_cell')\n",
    "rsnaped_dir = current_dir.parents[1].joinpath('rsnaped')"
   ]
  },
  {
   "cell_type": "code",
   "execution_count": null,
   "id": "unexpected-friday",
   "metadata": {},
   "outputs": [],
   "source": [
    "# Importing rSNAPsim_IP\n",
    "sys.path.append(str(rsnaped_dir))\n",
    "import rsnaped as rsp"
   ]
  },
  {
   "cell_type": "code",
   "execution_count": null,
   "id": "crucial-start",
   "metadata": {},
   "outputs": [],
   "source": [
    "# gene files\n",
    "gene_file_h2b = str(sequences_dir.joinpath('H2B_withTags.txt'))\n",
    "gene_file_bact = str(sequences_dir.joinpath('Bactin_withTags.txt'))"
   ]
  },
  {
   "cell_type": "code",
   "execution_count": null,
   "id": "electric-clone",
   "metadata": {},
   "outputs": [],
   "source": [
    "list_files_names = sorted([f for f in listdir(video_dir) if isfile(join(video_dir, f)) and ('.tif') in f], key=str.lower)  # reading all tif files in the folder\n",
    "list_files_names.sort(key=lambda f: int(re.sub('\\D', '', f)))  # sorting the index in numerical order\n",
    "path_files = [ str(video_dir.joinpath(f).resolve()) for f in list_files_names ] # creating the complete path for each file\n",
    "num_cell_shapes = len(path_files)\n",
    "sel_shape = randrange(num_cell_shapes)\n",
    "video_path = path_files[sel_shape]"
   ]
  },
  {
   "cell_type": "code",
   "execution_count": null,
   "id": "ideal-findings",
   "metadata": {},
   "outputs": [],
   "source": [
    "# Inputs\n",
    "inial_video = io.imread(video_path) # video with empty cell\n",
    "list_gene_sequences = [gene_file_h2b, gene_file_bact] # path to gene sequences\n",
    "list_number_spots = [30, 30] # list of integers, where each element represents the number of spots\n",
    "list_target_channels = [1, 1] # channel where the simulated spots will be located. \n",
    "list_diffusion_coefficients =[1, 1] # diffusion coefficients for each gene\n",
    "list_label_names = ['a','b'] # list of strings used to generate a classification field in the output data frame\n",
    "\n",
    "list_elongation_rates = [10, 10] # list of elongation rates (aa/sec)\n",
    "list_initation_rates = [0.03, 0.03] # list of initiation rates (1/sec)\n",
    "\n",
    "simulation_time_in_sec = 100\n",
    "step_size_in_sec = 1\n",
    "save_as_tif = 1 # option to save the simulated video\n",
    "save_dataframe = 1 # option to save the simulation output as a dataframe in format csv. \n",
    "saved_file_name = 'simulated_cell' # if the video or dataframe are save, this variable assigns the name to the files\n",
    "create_temp_folder = 1 # saves the video and data frame in a temp folder\n",
    "save_as_gif = 1  # saves the video as .gif in a temp folder"
   ]
  },
  {
   "cell_type": "code",
   "execution_count": null,
   "id": "sitting-holly",
   "metadata": {},
   "outputs": [],
   "source": [
    "tensor_video, dataframe_simulated_cell,list_ssa = rsp.SimulatedCellMultiplexing(inial_video,list_gene_sequences,list_number_spots,list_target_channels,list_diffusion_coefficients,list_label_names,list_elongation_rates,list_initation_rates,simulation_time_in_sec,step_size_in_sec,save_as_tif, save_dataframe, saved_file_name,create_temp_folder,cell_number =0,save_as_gif=save_as_gif).make_simulation()"
   ]
  },
  {
   "cell_type": "code",
   "execution_count": null,
   "id": "incredible-scholarship",
   "metadata": {},
   "outputs": [],
   "source": [
    "# Plot only selected trajectories\n",
    "plt.rcParams['figure.figsize'] = [5,5]\n",
    "#controls_pr, output_pr = rsp.VisualizerVideo(tensor_video,dataframe_particles=dataframe_simulated_cell,normalize=False).make_video_app()\n",
    "controls_pr, output_pr = rsp.VisualizerVideo(tensor_video,normalize=False,step_size_in_sec=step_size_in_sec).make_video_app()\n",
    "display(VBox([controls_pr, output_pr]))"
   ]
  },
  {
   "cell_type": "code",
   "execution_count": null,
   "id": "academic-slope",
   "metadata": {},
   "outputs": [],
   "source": [
    "dataframe_simulated_cell"
   ]
  },
  {
   "cell_type": "markdown",
   "id": "proud-notice",
   "metadata": {},
   "source": [
    "## Plotting time courses for gene 1"
   ]
  },
  {
   "cell_type": "code",
   "execution_count": null,
   "id": "rising-circulation",
   "metadata": {},
   "outputs": [],
   "source": [
    "plt.figure(figsize=(15,1.5))\n",
    "for tr in range(0,list_ssa[0].shape[0] ):\n",
    "    plt.plot(list_ssa[0][tr,:] , '-',linewidth = 3,color='green');\n",
    "plt.title('SSA int (a.u.)')\n",
    "plt.show()"
   ]
  },
  {
   "cell_type": "code",
   "execution_count": null,
   "id": "social-universe",
   "metadata": {},
   "outputs": [],
   "source": [
    "plt.figure(figsize=(15,1.5))\n",
    "for i in range(0,len(list_gene_sequences)):\n",
    "    for j in range (0,list_number_spots[i]):\n",
    "        if i >0:\n",
    "            spot_num_counter = j + list_number_spots[0]\n",
    "        else:\n",
    "            spot_num_counter = j\n",
    "        plt.plot (dataframe_simulated_cell.loc[(dataframe_simulated_cell['Classification']=='a') &  (dataframe_simulated_cell['particle']==spot_num_counter)].green_int_mean.values[:] ,linewidth = 3,color='magenta' )      \n",
    "plt.title('video int (a.u.)')\n",
    "plt.show()"
   ]
  },
  {
   "cell_type": "markdown",
   "id": "auburn-feeling",
   "metadata": {},
   "source": [
    "## Plotting time courses for gene 2"
   ]
  },
  {
   "cell_type": "code",
   "execution_count": null,
   "id": "level-theorem",
   "metadata": {},
   "outputs": [],
   "source": [
    "plt.figure(figsize=(15,1.5))\n",
    "for tr in range(0,list_ssa[1].shape[0] ):\n",
    "    plt.plot(list_ssa[1][tr,:] , '-',linewidth = 3,color='green');\n",
    "plt.title('SSA int (a.u.)')\n",
    "plt.show()"
   ]
  },
  {
   "cell_type": "code",
   "execution_count": null,
   "id": "handmade-salmon",
   "metadata": {},
   "outputs": [],
   "source": [
    "plt.figure(figsize=(15,1.5))\n",
    "for i in range(0,len(list_gene_sequences)):\n",
    "    for j in range (0,list_number_spots[i]):\n",
    "        if i >0:\n",
    "            spot_num_counter = j + list_number_spots[0] # this is just a counter for that creates the spot number based on list_number_spots\n",
    "        else:\n",
    "            spot_num_counter = j\n",
    "        plt.plot (dataframe_simulated_cell.loc[(dataframe_simulated_cell['Classification']=='b') &  (dataframe_simulated_cell['particle']==spot_num_counter)].green_int_mean.values[:] ,linewidth = 3,color='magenta' )   \n",
    "plt.title('video int (a.u.)')\n",
    "plt.show()"
   ]
  },
  {
   "cell_type": "code",
   "execution_count": null,
   "id": "appropriate-appreciation",
   "metadata": {},
   "outputs": [],
   "source": []
  }
 ],
 "metadata": {
  "kernelspec": {
   "display_name": "Python 3.8.2 64-bit",
   "language": "python",
   "name": "python3"
  },
  "language_info": {
   "codemirror_mode": {
    "name": "ipython",
    "version": 3
   },
   "file_extension": ".py",
   "mimetype": "text/x-python",
   "name": "python",
   "nbconvert_exporter": "python",
   "pygments_lexer": "ipython3",
   "version": "3.8.2"
  },
  "vscode": {
   "interpreter": {
    "hash": "31f2aee4e71d21fbe5cf8b01ff0e069b9275f58929596ceb00d14d90e3e16cd6"
   }
  }
 },
 "nbformat": 4,
 "nbformat_minor": 5
}
