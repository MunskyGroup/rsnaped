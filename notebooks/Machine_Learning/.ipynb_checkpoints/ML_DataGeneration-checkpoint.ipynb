{
 "cells": [
  {
   "cell_type": "code",
   "execution_count": 1,
   "id": "parliamentary-reservation",
   "metadata": {},
   "outputs": [
    {
     "name": "stdout",
     "output_type": "stream",
     "text": [
      "numpy version = 1.20.0\n",
      "rsnapsim version = 0.0.18\n"
     ]
    }
   ],
   "source": [
    "import os\n",
    "import pkg_resources\n",
    "pkg_resources.require(\"numpy>=`1.20.1\")  #  to use specific numpy version\n",
    "import numpy as np\n",
    "import rsnapsim as rss\n",
    "print('numpy version =', np.version.version)\n",
    "print('rsnapsim version =',rss.__version__)\n",
    "from sys import platform\n",
    "import os\n",
    "from skimage import io ; from skimage.io import imread; from skimage.measure import find_contours\n",
    "from random import randrange\n",
    "import os; from os import listdir; from os.path import isfile, join\n",
    "import pandas as pd\n",
    "import os; from os import listdir; from os.path import isfile, join\n",
    "import re\n",
    "import shutil\n",
    "from random import randrange\n",
    "# Importing rSNAPsim_IP\n",
    "cwd = os.getcwd(); os.chdir('../../rsnaped'); import rsnaped as rsp ; os.chdir(cwd) # return to the working directory\n",
    "import ipywidgets as widgets ; from ipywidgets import interact, interactive, fixed, interact_manual, Button, HBox, VBox, Layout, GridspecLayout ; from IPython.display import Image"
   ]
  },
  {
   "cell_type": "code",
   "execution_count": 2,
   "id": "adjusted-proposal",
   "metadata": {},
   "outputs": [],
   "source": [
    "import matplotlib.pyplot as plt\n",
    "plt.style.use('dark_background')\n",
    "plt.rcParams['figure.dpi'] = 120\n",
    "plt.rcParams['lines.linewidth'] = 1\n",
    "plt.rcParams['axes.linewidth'] = 1.5\n",
    "plt.rcParams['font.size'] = 15\n",
    "plt.rcParams['axes.grid'] = False"
   ]
  },
  {
   "cell_type": "code",
   "execution_count": 3,
   "id": "liked-router",
   "metadata": {},
   "outputs": [],
   "source": [
    "# gene files\n",
    "gene_file_h2b = '../../DataBases/gene_files/H2B_withTags.txt'\n",
    "gene_file_bact = '../../DataBases/gene_files/Bactin_withTags.txt'"
   ]
  },
  {
   "cell_type": "code",
   "execution_count": 4,
   "id": "gentle-check",
   "metadata": {},
   "outputs": [],
   "source": [
    "# initial video\n",
    "empty_cells_directory_name = '../../DataBases/videos_for_sim_cell'"
   ]
  },
  {
   "cell_type": "code",
   "execution_count": 5,
   "id": "exposed-boost",
   "metadata": {},
   "outputs": [],
   "source": [
    "list_files_names = sorted([f for f in listdir(empty_cells_directory_name) if isfile(join(empty_cells_directory_name, f)) and ('.tif') in f], key=str.lower)  # reading all tif files in the folder\n",
    "list_files_names.sort(key=lambda f: int(re.sub('\\D', '', f)))  # sorting the index in numerical order\n",
    "path_files = [ empty_cells_directory_name+'/'+f for f in list_files_names ] # creating the complete path for each file\n",
    "num_cell_shapes = len(path_files)"
   ]
  },
  {
   "cell_type": "code",
   "execution_count": 6,
   "id": "official-supervisor",
   "metadata": {},
   "outputs": [],
   "source": [
    "# Inputs\n",
    "list_gene_sequences = [gene_file_h2b, gene_file_bact] # path to gene sequences\n",
    "list_number_spots = [20, 10] # list of integers, where each element represents the number of spots\n",
    "list_target_channels = [1, 1] # channel where the simulated spots will be located. \n",
    "list_diffusion_coefficients =[0.01, 1] # diffusion coefficients for each gene\n",
    "list_label_names = ['a','b'] # list of strings used to generate a classification field in the output data frame\n",
    "simulation_time_in_sec = 100\n",
    "step_size_in_sec = 1\n",
    "save_as_tif = 0 # option to save the simulated video\n",
    "save_dataframe = 0 # option to save the simulation output as a dataframe in format csv. \n",
    "saved_file_name = 'simulated_cell' # if the video or dataframe are save, this variable assigns the name to the files\n",
    "create_temp_folder = 0 # saves the video and data frame in a temp folder"
   ]
  },
  {
   "cell_type": "code",
   "execution_count": 7,
   "id": "fifty-history",
   "metadata": {},
   "outputs": [],
   "source": [
    "# Number of simulated Cell\n",
    "number_cells = 2"
   ]
  },
  {
   "cell_type": "code",
   "execution_count": null,
   "id": "comparative-mechanism",
   "metadata": {},
   "outputs": [],
   "source": [
    "list_dataframe_simulated_cell =[]\n",
    "for i in range (0,number_cells ):\n",
    "    sel_shape = randrange(num_cell_shapes)\n",
    "    video_path = path_files[sel_shape]\n",
    "    inial_video = io.imread(video_path) # video with empty cell\n",
    "    _, single_dataframe_simulated_cell,list_ssa = rsp.SimulatedCellMultiplexing(inial_video,list_gene_sequences,list_number_spots,list_target_channels,list_diffusion_coefficients,list_label_names,simulation_time_in_sec,step_size_in_sec,save_as_tif, save_dataframe, saved_file_name,create_temp_folder,cell_number =i).make_simulation()\n",
    "    list_dataframe_simulated_cell.append(single_dataframe_simulated_cell)"
   ]
  },
  {
   "cell_type": "code",
   "execution_count": null,
   "id": "awful-briefing",
   "metadata": {},
   "outputs": [],
   "source": [
    "dataframe_simulated_cell = pd.concat(list_dataframe_simulated_cell)"
   ]
  },
  {
   "cell_type": "code",
   "execution_count": null,
   "id": "attractive-database",
   "metadata": {},
   "outputs": [],
   "source": [
    "dataframe_simulated_cell"
   ]
  },
  {
   "cell_type": "code",
   "execution_count": null,
   "id": "written-glasgow",
   "metadata": {},
   "outputs": [],
   "source": [
    "list_ssa[0].shape"
   ]
  },
  {
   "cell_type": "code",
   "execution_count": null,
   "id": "public-affiliate",
   "metadata": {},
   "outputs": [],
   "source": []
  }
 ],
 "metadata": {
  "kernelspec": {
   "display_name": "Python 3",
   "language": "python",
   "name": "python3"
  },
  "language_info": {
   "codemirror_mode": {
    "name": "ipython",
    "version": 3
   },
   "file_extension": ".py",
   "mimetype": "text/x-python",
   "name": "python",
   "nbconvert_exporter": "python",
   "pygments_lexer": "ipython3",
   "version": "3.8.5"
  }
 },
 "nbformat": 4,
 "nbformat_minor": 5
}
