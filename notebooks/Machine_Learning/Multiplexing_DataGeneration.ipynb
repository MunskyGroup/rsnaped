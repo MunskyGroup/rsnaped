{
 "cells": [
  {
   "cell_type": "code",
   "execution_count": null,
   "metadata": {},
   "outputs": [],
   "source": [
    "#@title Importing libraries (double-click to show code)\n",
    "import os\n",
    "import pkg_resources\n",
    "pkg_resources.require(\"numpy>=`1.20.1\")  #  to use specific numpy version\n",
    "import numpy as np\n",
    "import rsnapsim as rss\n",
    "import sys\n",
    "from sys import platform\n",
    "from skimage import io ; from skimage.io import imread; from skimage.measure import find_contours\n",
    "from random import randrange\n",
    "import pandas as pd\n",
    "import os; from os import listdir; from os.path import isfile, join\n",
    "import re\n",
    "import shutil\n",
    "import pathlib\n",
    "from pathlib import Path\n",
    "from random import randrange\n",
    "import ipywidgets as widgets ; from ipywidgets import interact, interactive, fixed, interact_manual, Button, HBox, VBox, Layout, GridspecLayout \n",
    "from IPython.display import Image\n",
    "import dna_features_viewer\n",
    "from dna_features_viewer import BiopythonTranslator, GraphicFeature, GraphicRecord, CircularGraphicRecord\n",
    "import tqdm.notebook as tq\n",
    "\n",
    "# Deffining directories\n",
    "current_dir = pathlib.Path().absolute()\n",
    "sequences_dir = current_dir.parents[1].joinpath('DataBases','gene_files')\n",
    "video_dir = current_dir.parents[1].joinpath('DataBases','videos_for_sim_cell')\n",
    "rsnaped_dir = current_dir.parents[1].joinpath('rsnaped')\n",
    "\n",
    "# Importing rSNAPsim_IP\n",
    "sys.path.append(str(rsnaped_dir))\n",
    "import rsnaped as rsp\n",
    "import matplotlib\n",
    "\n",
    "import matplotlib.pyplot as plt\n",
    "plt.style.use('default')\n",
    "plt.rcParams['figure.dpi'] = 120\n",
    "plt.rcParams['lines.linewidth'] = 1\n",
    "plt.rcParams['axes.linewidth'] = 1.5\n",
    "plt.rcParams['axes.grid'] = False\n"
   ]
  },
  {
   "cell_type": "code",
   "execution_count": null,
   "metadata": {},
   "outputs": [],
   "source": [
    "# Plasmid sequences\n",
    "gene_file_pUB_SM_KDM5B_PP7 = str(sequences_dir.joinpath('pUB_SM_KDM5B_PP7.gb')) # plasmid pUB_SM_KDM5B_PP7 \n",
    "gene_file_pUB_SM_p300_MS2 = str(sequences_dir.joinpath('pUB_SM_p300_MS2.gb')) # plasmid pUB_SM_p300_MS2\n",
    "\n",
    "# Coding sequence\n",
    "gene_file_KDM5B_PP7 = str(sequences_dir.joinpath('pUB_SM_KDM5B_PP7_coding_sequence.txt')) # coding sequence for SM_KDM5B_PP7    ### 5685 nt   ### 1895 codons\n",
    "gene_file_p300_MS2 = str(sequences_dir.joinpath('pUB_SM_p300_MS2_coding_sequence.txt'))  # coding sequence for SM_p300_MS2      ### 8268 nt   ### 2756 codons"
   ]
  },
  {
   "cell_type": "code",
   "execution_count": null,
   "metadata": {},
   "outputs": [],
   "source": [
    "from dna_features_viewer import BiopythonTranslator\n",
    "class MyCustomTranslator(BiopythonTranslator):\n",
    "    \"\"\"Custom translator\n",
    "    \"\"\"\n",
    "    def compute_feature_color(self, feature):\n",
    "        if feature.type == \"CDS\":\n",
    "            return \"#57B956\"\n",
    "        elif feature.type == \"FLAG\":\n",
    "            return \"#57B956\"\n",
    "        elif feature.type == \"MS2\":\n",
    "            return \"#098BF5\"\n",
    "        elif feature.type == \"PP7\": \n",
    "            return \"#EB5559\"\n",
    "        else:\n",
    "            return \"#C4B07B\""
   ]
  },
  {
   "cell_type": "code",
   "execution_count": null,
   "metadata": {},
   "outputs": [],
   "source": [
    "graphic_record = MyCustomTranslator().translate_record(gene_file_pUB_SM_KDM5B_PP7) \n",
    "ax, _ = graphic_record.plot(figure_width=20, strand_in_label_threshold=7)\n",
    "ax.set_title('pUB_SM_KDM5B_PP7 (1895 codons)')\n",
    "graphic_record.plot_legend(ax=ax, loc=1, ncol=3, frameon=False)\n",
    "#ax.figure.savefig(\"pUB_SM_KDM5B_PP7.png\")"
   ]
  },
  {
   "cell_type": "code",
   "execution_count": null,
   "metadata": {},
   "outputs": [],
   "source": [
    "graphic_record = MyCustomTranslator().translate_record(gene_file_pUB_SM_p300_MS2) \n",
    "ax, _ = graphic_record.plot(figure_width=20, strand_in_label_threshold=7)\n",
    "ax.set_title('pUB_SM_p300_MS2 (2756 codons)')\n",
    "graphic_record.plot_legend(ax=ax, loc=1, ncol=3, frameon=False)\n",
    "#ax.figure.savefig(\"pUB_SM_p300_MS2.png\")"
   ]
  },
  {
   "cell_type": "code",
   "execution_count": null,
   "metadata": {},
   "outputs": [],
   "source": [
    "# Reading all empty cells in directory\n",
    "list_files_names = sorted([f for f in listdir(video_dir) if isfile(join(video_dir, f)) and ('.tif') in f], key=str.lower)  # reading all tif files in the folder\n",
    "list_files_names.sort(key=lambda f: int(re.sub('\\D', '', f)))  # sorting the index in numerical order\n",
    "path_files = [ str(video_dir.joinpath(f).resolve()) for f in list_files_names ] # creating the complete path for each file\n",
    "num_cell_shapes = len(path_files)"
   ]
  },
  {
   "cell_type": "code",
   "execution_count": null,
   "metadata": {},
   "outputs": [],
   "source": [
    "# Constant Parameters\n",
    "list_gene_sequences = [gene_file_KDM5B_PP7, gene_file_p300_MS2] # path to gene sequences\n",
    "#list_label_names = ['kdm5b','p300'] # list of strings used to generate a classification field in the output data frame\n",
    "list_label_names = [0,1] # list of strings used to generate a classification field in the output data frame\n",
    "\n",
    "step_size_in_sec = 1 # step size\n",
    "save_as_tif = 0 # option to save the simulated video\n",
    "save_dataframe = 0 # option to save the simulation output as a dataframe in format csv. \n",
    "create_temp_folder = 0 # saves the video and data frame in a temp folder\n",
    "spot_size = 5 # size of spots in pixels\n",
    "list_number_spots = [25, 25] # list of integers, where each element represents the number of spots\n",
    "number_cells = 20 # Number of simulated Cell\n",
    "list_target_channels_proteins = [1, 1] # channel where the simulated protein spots will be located. Integer between 0 and 2. \n",
    "list_target_channels_mRNA = [0, 2] # channel where the simulated mRNA spots will be located. Integer between 0 and 2. \n",
    "simulation_time_in_sec = 3000"
   ]
  },
  {
   "cell_type": "code",
   "execution_count": null,
   "metadata": {},
   "outputs": [],
   "source": [
    "# Parameters that affect the simulation dynamics.\n",
    "#frame_selection_empty_video = 'constant' # Options are: 'constant' , 'shuffle' and 'loop'\n",
    "#list_diffusion_coefficients =[0.55, 0.55] # diffusion coefficients for each gene\n",
    "#list_elongation_rates = [10, 10] # elongation rates aa/sec\n",
    "#list_initiation_rates = [0.03, 0.03] # initiation rates 1/sec"
   ]
  },
  {
   "cell_type": "code",
   "execution_count": null,
   "metadata": {},
   "outputs": [],
   "source": [
    "intensity_scale_ch0 = 100\n",
    "intensity_scale_ch1 = 200\n",
    "intensity_scale_ch2 = 200"
   ]
  },
  {
   "cell_type": "code",
   "execution_count": null,
   "metadata": {},
   "outputs": [],
   "source": [
    "# Path to store data\n",
    "#multiplexing_path_folder = Path('/','home','luisub','Dropbox','multiplexing')   # Dropbox Linux\n",
    "current_folder = pathlib.Path().absolute()\n",
    "multiplexing_path_folder = current_folder.joinpath('temp')\n",
    "if not os.path.exists(str(multiplexing_path_folder)):\n",
    "    os.makedirs(str(multiplexing_path_folder))\n",
    "\n",
    "#multiplexing_path_folder = Path('/','Users','luisaguilera','Dropbox','multiplexing')  # Dropbox Mac\n",
    "#multiplexing_path_folder = Path('/','Users','luisaguilera','Desktop','testing')"
   ]
  },
  {
   "cell_type": "code",
   "execution_count": null,
   "metadata": {},
   "outputs": [],
   "source": [
    "def simulate_multiplexing(tested_list_elongation_rates,tested_list_initiation_rates,tested_list_diffusion_coefficients,multiplexing_path_folder):\n",
    "    # function  that simulates the multiplexing experiments    \n",
    "    list_dataframe_simulated_cell =[]\n",
    "    list_ssa_all_cells_and_genes =[]\n",
    "    for i in tq.tqdm(range(0,number_cells)): # for i in range (0,number_cells ):\n",
    "        saved_file_name = 'cell_' + str(i)  # if the video or dataframe are save, this variable assigns the name to the files\n",
    "        sel_shape = randrange(num_cell_shapes)\n",
    "        video_path = path_files[sel_shape]\n",
    "        initial_video = io.imread(video_path) # video with empty cell\n",
    "\n",
    "        # This step reduces the intensity of the empty video by a half. This is necessary to match the intensity in a video with spots. Check code \"Analysis_simulated_cells.ipynb\"\n",
    "        initial_video = initial_video//2\n",
    "        _, single_dataframe_simulated_cell, list_ssa = rsp.SimulatedCellMultiplexing(initial_video,list_gene_sequences,list_number_spots,list_target_channels_proteins,list_target_channels_mRNA, tested_list_diffusion_coefficients,list_label_names,tested_list_elongation_rates,tested_list_initiation_rates,simulation_time_in_sec,step_size_in_sec,save_as_tif, save_dataframe, saved_file_name,create_temp_folder,cell_number =i,frame_selection_empty_video=frame_selection_empty_video,spot_size =spot_size ,intensity_scale_ch0 = intensity_scale_ch0,intensity_scale_ch1 = intensity_scale_ch1,intensity_scale_ch2 = intensity_scale_ch2).make_simulation()\n",
    "        list_dataframe_simulated_cell.append(single_dataframe_simulated_cell)\n",
    "        list_ssa_all_cells_and_genes.append(list_ssa)\n",
    "    # Creating a folder\n",
    "    folder_to_save_data = 'multiplexing_data__bg_' + frame_selection_empty_video + '__ke_' + str(tested_list_elongation_rates[0])+'_'+str(tested_list_elongation_rates[1])+'__ki_'+str(tested_list_initiation_rates[0])[2:]+'_'+str(tested_list_initiation_rates[1])[2:]+'__kdiff_'+str(tested_list_diffusion_coefficients[0])+'_'+str(tested_list_diffusion_coefficients[1])  + '__time_' + str(simulation_time_in_sec) + '__cells_' + str(number_cells) +'__spots_' +str(list_number_spots[0])+ '_' +str(list_number_spots[1]) +'__int_scale_ch0_' +str(intensity_scale_ch0)+'__int_scale_ch1_' +str(intensity_scale_ch1)+'__int_scale_ch2_' +str(intensity_scale_ch2)\n",
    "    folder_to_save_data = folder_to_save_data.replace(\".\", \"_\")\n",
    "    multiplexing_path = multiplexing_path_folder.joinpath(folder_to_save_data)\n",
    "    dataframe_simulated_cell = pd.concat(list_dataframe_simulated_cell)\n",
    "    ssas_multiplexing = np.array(list_ssa_all_cells_and_genes)\n",
    "    return multiplexing_path,folder_to_save_data, dataframe_simulated_cell, ssas_multiplexing"
   ]
  },
  {
   "cell_type": "code",
   "execution_count": null,
   "metadata": {},
   "outputs": [],
   "source": [
    "def reduce_dataframe(df):\n",
    "    # Remove two columns name is 'C' and 'D'\n",
    "    return df.drop(['red_int_std', 'green_int_std','blue_int_std', 'x','y','SNR_red', 'SNR_green', 'SNR_blue','background_int_mean_red','background_int_mean_green','background_int_mean_blue','background_int_std_red','background_int_std_green','background_int_std_blue'], axis = 1)\n"
   ]
  },
  {
   "cell_type": "code",
   "execution_count": null,
   "metadata": {},
   "outputs": [],
   "source": [
    "def save_data (multiplexing_path,folder_to_save_data, dataframe_simulated_cell, ssas_multiplexing):\n",
    "    security_testing = multiplexing_path.parents[0].exists()\n",
    "    # testing if the parent path exist\n",
    "    if security_testing == True:\n",
    "        if not multiplexing_path.exists():\n",
    "            #multiplexing_path.mkdir()\n",
    "            os.makedirs(multiplexing_path)\n",
    "        else:\n",
    "            shutil.rmtree(multiplexing_path)\n",
    "            #multiplexing_path.mkdir()\n",
    "            os.makedirs(multiplexing_path)\n",
    "        # saving the dataframe\n",
    "        dataframe_simulated_cell.to_csv( multiplexing_path.joinpath('multiplexing_csv.csv'), float_format=\"%.2f\")\n",
    "        # saving the ssa\n",
    "        np.save(multiplexing_path.joinpath('ssas_multiplexing.npy') , ssas_multiplexing)\n",
    "        # creating zip\n",
    "        shutil.make_archive(multiplexing_path, 'zip', multiplexing_path.parents[0],folder_to_save_data)\n",
    "        shutil.rmtree(multiplexing_path)\n",
    "    else:\n",
    "        print ('The folder doesnt exist')"
   ]
  },
  {
   "cell_type": "code",
   "execution_count": null,
   "metadata": {},
   "outputs": [],
   "source": [
    "frame_selection_empty_video = 'constant' # Options are: 'constant' , 'shuffle' and 'loop'\n",
    "# Simulation_0\n",
    "list_diffusion_coefficients =[0.55, 0.55] # diffusion coefficients for each gene\n",
    "list_elongation_rates = [5.33, 5.33] # elongation rates aa/sec\n",
    "list_initiation_rates = [0.08, 0.08] # initiation rates 1/sec\n",
    "multiplexing_path,folder_to_save_data, dataframe_simulated_cell_complete, ssas_multiplexing = simulate_multiplexing(list_elongation_rates,list_initiation_rates,list_diffusion_coefficients,multiplexing_path_folder)\n",
    "\n",
    "dataframe_simulated_cell = reduce_dataframe(dataframe_simulated_cell_complete)\n",
    "save_data (multiplexing_path,folder_to_save_data, dataframe_simulated_cell, ssas_multiplexing)\n",
    "\n",
    "#del multiplexing_path,folder_to_save_data, dataframe_simulated_cell,dataframe_simulated_cell_complete, ssas_multiplexing"
   ]
  },
  {
   "cell_type": "code",
   "execution_count": null,
   "metadata": {},
   "outputs": [],
   "source": [
    "#dataframe_simulated_cell_complete.head()"
   ]
  },
  {
   "cell_type": "code",
   "execution_count": null,
   "metadata": {},
   "outputs": [],
   "source": [
    "raise"
   ]
  },
  {
   "cell_type": "code",
   "execution_count": null,
   "metadata": {},
   "outputs": [],
   "source": [
    "frame_selection_empty_video = 'shuffle' # Options are: 'constant' , 'shuffle' and 'loop'\n",
    "# Simulation_1\n",
    "list_diffusion_coefficients =[0.55, 0.55] # diffusion coefficients for each gene\n",
    "list_elongation_rates = [10, 10] # elongation rates aa/sec\n",
    "list_initiation_rates = [0.03, 0.03] # initiation rates 1/sec\n",
    "multiplexing_path,folder_to_save_data, dataframe_simulated_cell, ssas_multiplexing = simulate_multiplexing(list_elongation_rates,list_initiation_rates,list_diffusion_coefficients,multiplexing_path_folder)\n",
    "save_data (multiplexing_path,folder_to_save_data, dataframe_simulated_cell, ssas_multiplexing)\n",
    "del multiplexing_path,folder_to_save_data, dataframe_simulated_cell, ssas_multiplexing"
   ]
  },
  {
   "cell_type": "code",
   "execution_count": null,
   "metadata": {},
   "outputs": [],
   "source": [
    "raise"
   ]
  },
  {
   "cell_type": "code",
   "execution_count": null,
   "metadata": {},
   "outputs": [],
   "source": [
    "# Simulation_2\n",
    "list_diffusion_coefficients =[0.5, 0.5] # diffusion coefficients for each gene\n",
    "list_elongation_rates = [10, 10] # elongation rates aa/sec\n",
    "list_initiation_rates = [0.05, 0.03] # initiation rates 1/sec\n",
    "multiplexing_path,folder_to_save_data, dataframe_simulated_cell, ssas_multiplexing = simulate_multiplexing(list_elongation_rates,list_initiation_rates,list_diffusion_coefficients,multiplexing_path_folder)\n",
    "save_data (multiplexing_path,folder_to_save_data, dataframe_simulated_cell, ssas_multiplexing)\n",
    "multiplexing_path,folder_to_save_data, dataframe_simulated_cell, ssas_multiplexing"
   ]
  },
  {
   "cell_type": "code",
   "execution_count": null,
   "metadata": {},
   "outputs": [],
   "source": [
    "# Simulation_3\n",
    "list_diffusion_coefficients =[0.9, 0.2] # diffusion coefficients for each gene\n",
    "list_elongation_rates = [10, 10] # elongation rates aa/sec\n",
    "list_initiation_rates = [0.03, 0.03] # initiation rates 1/sec\n",
    "multiplexing_path,folder_to_save_data, dataframe_simulated_cell, ssas_multiplexing = simulate_multiplexing(list_elongation_rates,list_initiation_rates,list_diffusion_coefficients,multiplexing_path_folder)\n",
    "save_data (multiplexing_path,folder_to_save_data, dataframe_simulated_cell, ssas_multiplexing)\n",
    "multiplexing_path,folder_to_save_data, dataframe_simulated_cell, ssas_multiplexing"
   ]
  },
  {
   "cell_type": "code",
   "execution_count": null,
   "metadata": {},
   "outputs": [],
   "source": []
  }
 ],
 "metadata": {
  "interpreter": {
   "hash": "2d20c41a30a05ca7c8f607565b7894a7eda3fc1d8a48517f534debb334e955ad"
  },
  "kernelspec": {
   "display_name": "Python 3.8.5 64-bit ('base': conda)",
   "name": "python3"
  },
  "language_info": {
   "codemirror_mode": {
    "name": "ipython",
    "version": 3
   },
   "file_extension": ".py",
   "mimetype": "text/x-python",
   "name": "python",
   "nbconvert_exporter": "python",
   "pygments_lexer": "ipython3",
   "version": "3.8.5"
  }
 },
 "nbformat": 4,
 "nbformat_minor": 4
}
