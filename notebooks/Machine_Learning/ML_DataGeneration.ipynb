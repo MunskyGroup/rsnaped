{
 "cells": [
  {
   "cell_type": "code",
   "execution_count": 1,
   "id": "recorded-purse",
   "metadata": {},
   "outputs": [],
   "source": [
    "import os\n",
    "import pkg_resources\n",
    "pkg_resources.require(\"numpy>=`1.20.1\")  #  to use specific numpy version\n",
    "import numpy as np\n",
    "import rsnapsim as rss\n",
    "import sys\n",
    "from sys import platform\n",
    "from skimage import io ; from skimage.io import imread; from skimage.measure import find_contours\n",
    "from random import randrange\n",
    "import pandas as pd\n",
    "import os; from os import listdir; from os.path import isfile, join\n",
    "import re\n",
    "import shutil\n",
    "import pathlib\n",
    "from random import randrange\n",
    "import ipywidgets as widgets ; from ipywidgets import interact, interactive, fixed, interact_manual, Button, HBox, VBox, Layout, GridspecLayout ; from IPython.display import Image"
   ]
  },
  {
   "cell_type": "code",
   "execution_count": 2,
   "id": "lesser-usage",
   "metadata": {},
   "outputs": [],
   "source": [
    "import matplotlib.pyplot as plt\n",
    "plt.style.use('dark_background')\n",
    "plt.rcParams['figure.dpi'] = 120\n",
    "plt.rcParams['lines.linewidth'] = 1\n",
    "plt.rcParams['axes.linewidth'] = 1.5\n",
    "plt.rcParams['font.size'] = 15\n",
    "plt.rcParams['axes.grid'] = False"
   ]
  },
  {
   "cell_type": "code",
   "execution_count": 3,
   "id": "interpreted-forth",
   "metadata": {},
   "outputs": [],
   "source": [
    "# Deffining directories\n",
    "current_dir = pathlib.Path().absolute()\n",
    "sequences_dir = current_dir.parents[1].joinpath('DataBases','gene_files')\n",
    "video_dir = current_dir.parents[1].joinpath('DataBases','videos_for_sim_cell')\n",
    "rsnaped_dir = current_dir.parents[1].joinpath('rsnaped')"
   ]
  },
  {
   "cell_type": "code",
   "execution_count": 4,
   "id": "utility-africa",
   "metadata": {},
   "outputs": [],
   "source": [
    "# Importing rSNAPsim_IP\n",
    "sys.path.append(str(rsnaped_dir))\n",
    "import rsnaped as rsp"
   ]
  },
  {
   "cell_type": "code",
   "execution_count": 5,
   "id": "built-found",
   "metadata": {},
   "outputs": [],
   "source": [
    "# gene files\n",
    "gene_file_h2b = str(sequences_dir.joinpath('H2B_withTags.txt'))\n",
    "gene_file_bact = str(sequences_dir.joinpath('Bactin_withTags.txt'))"
   ]
  },
  {
   "cell_type": "code",
   "execution_count": 7,
   "id": "induced-supply",
   "metadata": {},
   "outputs": [],
   "source": [
    "list_files_names = sorted([f for f in listdir(video_dir) if isfile(join(video_dir, f)) and ('.tif') in f], key=str.lower)  # reading all tif files in the folder\n",
    "list_files_names.sort(key=lambda f: int(re.sub('\\D', '', f)))  # sorting the index in numerical order\n",
    "path_files = [ str(video_dir.joinpath(f).resolve()) for f in list_files_names ] # creating the complete path for each file\n",
    "num_cell_shapes = len(path_files)"
   ]
  },
  {
   "cell_type": "code",
   "execution_count": 8,
   "id": "outer-helping",
   "metadata": {},
   "outputs": [],
   "source": [
    "# Inputs\n",
    "list_gene_sequences = [gene_file_h2b, gene_file_bact] # path to gene sequences\n",
    "list_number_spots = [20, 10] # list of integers, where each element represents the number of spots\n",
    "list_target_channels = [1, 1] # channel where the simulated spots will be located. \n",
    "list_diffusion_coefficients =[1, 1] # diffusion coefficients for each gene\n",
    "list_label_names = ['a','b'] # list of strings used to generate a classification field in the output data frame\n",
    "\n",
    "list_elongation_rates = [3, 3] # elongation rates aa/sec\n",
    "list_initation_rates = [0.03, 0.03] # initiation rates 1/sec\n",
    "frame_selection_empty_video = 'constant' # Options are: 'constant' , 'shuffle' and 'loop'\n",
    "\n",
    "simulation_time_in_sec = 100\n",
    "step_size_in_sec = 1\n",
    "save_as_tif = 0 # option to save the simulated video\n",
    "save_dataframe = 0 # option to save the simulation output as a dataframe in format csv. \n",
    "saved_file_name = 'simulated_cell' # if the video or dataframe are save, this variable assigns the name to the files\n",
    "create_temp_folder = 0 # saves the video and data frame in a temp folder\n"
   ]
  },
  {
   "cell_type": "code",
   "execution_count": 9,
   "id": "severe-figure",
   "metadata": {},
   "outputs": [],
   "source": [
    "# Number of simulated Cell\n",
    "number_cells = 2"
   ]
  },
  {
   "cell_type": "code",
   "execution_count": 10,
   "id": "competent-money",
   "metadata": {},
   "outputs": [],
   "source": [
    "list_dataframe_simulated_cell =[]\n",
    "for i in range (0,number_cells ):\n",
    "    sel_shape = randrange(num_cell_shapes)\n",
    "    video_path = path_files[sel_shape]\n",
    "    inial_video = io.imread(video_path) # video with empty cell\n",
    "    _, single_dataframe_simulated_cell,list_ssa = rsp.SimulatedCellMultiplexing(inial_video,list_gene_sequences,list_number_spots,list_target_channels,list_diffusion_coefficients,list_label_names,list_elongation_rates,list_initation_rates,simulation_time_in_sec,step_size_in_sec,save_as_tif, save_dataframe, saved_file_name,create_temp_folder,cell_number =i,frame_selection_empty_video=frame_selection_empty_video).make_simulation()\n",
    "    list_dataframe_simulated_cell.append(single_dataframe_simulated_cell)"
   ]
  },
  {
   "cell_type": "code",
   "execution_count": 11,
   "id": "worthy-raise",
   "metadata": {},
   "outputs": [],
   "source": [
    "dataframe_simulated_cell = pd.concat(list_dataframe_simulated_cell)"
   ]
  },
  {
   "cell_type": "code",
   "execution_count": 12,
   "id": "unlikely-multimedia",
   "metadata": {},
   "outputs": [
    {
     "data": {
      "text/html": [
       "<div>\n",
       "<style scoped>\n",
       "    .dataframe tbody tr th:only-of-type {\n",
       "        vertical-align: middle;\n",
       "    }\n",
       "\n",
       "    .dataframe tbody tr th {\n",
       "        vertical-align: top;\n",
       "    }\n",
       "\n",
       "    .dataframe thead th {\n",
       "        text-align: right;\n",
       "    }\n",
       "</style>\n",
       "<table border=\"1\" class=\"dataframe\">\n",
       "  <thead>\n",
       "    <tr style=\"text-align: right;\">\n",
       "      <th></th>\n",
       "      <th>cell_number</th>\n",
       "      <th>particle</th>\n",
       "      <th>frame</th>\n",
       "      <th>red_int_mean</th>\n",
       "      <th>green_int_mean</th>\n",
       "      <th>blue_int_mean</th>\n",
       "      <th>red_int_std</th>\n",
       "      <th>green_int_std</th>\n",
       "      <th>blue_int_std</th>\n",
       "      <th>x</th>\n",
       "      <th>y</th>\n",
       "      <th>Classification</th>\n",
       "    </tr>\n",
       "  </thead>\n",
       "  <tbody>\n",
       "    <tr>\n",
       "      <th>0</th>\n",
       "      <td>0</td>\n",
       "      <td>0</td>\n",
       "      <td>0</td>\n",
       "      <td>1141.5</td>\n",
       "      <td>163.0</td>\n",
       "      <td>0.0</td>\n",
       "      <td>308.227698</td>\n",
       "      <td>0.0</td>\n",
       "      <td>0.0</td>\n",
       "      <td>240.0</td>\n",
       "      <td>286.0</td>\n",
       "      <td>a</td>\n",
       "    </tr>\n",
       "    <tr>\n",
       "      <th>1</th>\n",
       "      <td>0</td>\n",
       "      <td>0</td>\n",
       "      <td>1</td>\n",
       "      <td>1201.5</td>\n",
       "      <td>163.0</td>\n",
       "      <td>0.0</td>\n",
       "      <td>322.469809</td>\n",
       "      <td>0.0</td>\n",
       "      <td>0.0</td>\n",
       "      <td>240.0</td>\n",
       "      <td>286.0</td>\n",
       "      <td>a</td>\n",
       "    </tr>\n",
       "    <tr>\n",
       "      <th>2</th>\n",
       "      <td>0</td>\n",
       "      <td>0</td>\n",
       "      <td>2</td>\n",
       "      <td>1607.0</td>\n",
       "      <td>168.0</td>\n",
       "      <td>0.0</td>\n",
       "      <td>423.917547</td>\n",
       "      <td>0.0</td>\n",
       "      <td>0.0</td>\n",
       "      <td>242.0</td>\n",
       "      <td>285.0</td>\n",
       "      <td>a</td>\n",
       "    </tr>\n",
       "    <tr>\n",
       "      <th>3</th>\n",
       "      <td>0</td>\n",
       "      <td>0</td>\n",
       "      <td>3</td>\n",
       "      <td>1440.5</td>\n",
       "      <td>167.0</td>\n",
       "      <td>0.0</td>\n",
       "      <td>381.400577</td>\n",
       "      <td>0.0</td>\n",
       "      <td>0.0</td>\n",
       "      <td>242.0</td>\n",
       "      <td>285.0</td>\n",
       "      <td>a</td>\n",
       "    </tr>\n",
       "    <tr>\n",
       "      <th>4</th>\n",
       "      <td>0</td>\n",
       "      <td>0</td>\n",
       "      <td>4</td>\n",
       "      <td>547.0</td>\n",
       "      <td>167.5</td>\n",
       "      <td>0.0</td>\n",
       "      <td>103.997200</td>\n",
       "      <td>0.0</td>\n",
       "      <td>0.0</td>\n",
       "      <td>242.0</td>\n",
       "      <td>285.0</td>\n",
       "      <td>a</td>\n",
       "    </tr>\n",
       "  </tbody>\n",
       "</table>\n",
       "</div>"
      ],
      "text/plain": [
       "   cell_number  particle  frame  red_int_mean  green_int_mean  blue_int_mean  \\\n",
       "0            0         0      0        1141.5           163.0            0.0   \n",
       "1            0         0      1        1201.5           163.0            0.0   \n",
       "2            0         0      2        1607.0           168.0            0.0   \n",
       "3            0         0      3        1440.5           167.0            0.0   \n",
       "4            0         0      4         547.0           167.5            0.0   \n",
       "\n",
       "   red_int_std  green_int_std  blue_int_std      x      y Classification  \n",
       "0   308.227698            0.0           0.0  240.0  286.0              a  \n",
       "1   322.469809            0.0           0.0  240.0  286.0              a  \n",
       "2   423.917547            0.0           0.0  242.0  285.0              a  \n",
       "3   381.400577            0.0           0.0  242.0  285.0              a  \n",
       "4   103.997200            0.0           0.0  242.0  285.0              a  "
      ]
     },
     "execution_count": 12,
     "metadata": {},
     "output_type": "execute_result"
    }
   ],
   "source": [
    "dataframe_simulated_cell.head()"
   ]
  },
  {
   "cell_type": "code",
   "execution_count": null,
   "id": "coated-weapon",
   "metadata": {},
   "outputs": [],
   "source": []
  },
  {
   "cell_type": "code",
   "execution_count": null,
   "id": "threaded-anaheim",
   "metadata": {},
   "outputs": [],
   "source": []
  }
 ],
 "metadata": {
  "kernelspec": {
   "display_name": "Python 3",
   "language": "python",
   "name": "python3"
  },
  "language_info": {
   "codemirror_mode": {
    "name": "ipython",
    "version": 3
   },
   "file_extension": ".py",
   "mimetype": "text/x-python",
   "name": "python",
   "nbconvert_exporter": "python",
   "pygments_lexer": "ipython3",
   "version": "3.8.5"
  }
 },
 "nbformat": 4,
 "nbformat_minor": 5
}
