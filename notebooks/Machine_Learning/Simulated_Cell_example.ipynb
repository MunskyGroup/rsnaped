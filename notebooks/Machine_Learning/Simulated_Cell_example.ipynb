{
 "cells": [
  {
   "cell_type": "code",
   "execution_count": null,
   "metadata": {},
   "outputs": [],
   "source": [
    "import pkg_resources\n",
    "pkg_resources.require(\"numpy>=`1.20.1\")  #  to use specific numpy version\n",
    "import numpy as np\n",
    "import rsnapsim as rss\n",
    "import sys; from sys import platform\n",
    "from skimage import io ; from skimage.io import imread; from skimage.measure import find_contours\n",
    "from random import randrange\n",
    "import os; from os import listdir; from os.path import isfile, join\n",
    "import pandas as pd\n",
    "import re\n",
    "import shutil\n",
    "from random import randrange\n",
    "import pathlib\n",
    "import ipywidgets as widgets ; from ipywidgets import interact, interactive, fixed, interact_manual, Button, HBox, VBox, Layout, GridspecLayout ; from IPython.display import Image\n",
    "\n",
    "# Plotting\n",
    "import matplotlib.pyplot as plt\n",
    "plt.style.use('dark_background')\n",
    "plt.rcParams['figure.dpi'] = 120\n",
    "plt.rcParams['lines.linewidth'] = 1\n",
    "plt.rcParams['axes.linewidth'] = 1.5\n",
    "plt.rcParams['font.size'] = 15\n",
    "plt.rcParams['axes.grid'] = False"
   ]
  },
  {
   "cell_type": "code",
   "execution_count": null,
   "metadata": {},
   "outputs": [],
   "source": [
    "# Deffining directories\n",
    "current_dir = pathlib.Path().absolute()\n",
    "sequences_dir = current_dir.parents[1].joinpath('DataBases','gene_files')\n",
    "video_dir = current_dir.parents[1].joinpath('DataBases','videos_for_sim_cell')\n",
    "rsnaped_dir = current_dir.parents[1].joinpath('rsnaped')"
   ]
  },
  {
   "cell_type": "code",
   "execution_count": null,
   "metadata": {},
   "outputs": [],
   "source": [
    "# Importing rSNAPsim_IP\n",
    "sys.path.append(str(rsnaped_dir))\n",
    "import rsnaped as rsp"
   ]
  },
  {
   "cell_type": "code",
   "execution_count": null,
   "metadata": {},
   "outputs": [],
   "source": [
    "# gene files\n",
    "gene_file_h2b = str(sequences_dir.joinpath('H2B_withTags.txt'))\n",
    "gene_file_bact = str(sequences_dir.joinpath('Bactin_withTags.txt'))"
   ]
  },
  {
   "cell_type": "code",
   "execution_count": null,
   "metadata": {},
   "outputs": [],
   "source": [
    "list_files_names = sorted([f for f in listdir(video_dir) if isfile(join(video_dir, f)) and ('.tif') in f], key=str.lower)  # reading all tif files in the folder\n",
    "list_files_names.sort(key=lambda f: int(re.sub('\\D', '', f)))  # sorting the index in numerical order\n",
    "path_files = [ str(video_dir.joinpath(f).resolve()) for f in list_files_names ] # creating the complete path for each file"
   ]
  },
  {
   "cell_type": "code",
   "execution_count": null,
   "metadata": {},
   "outputs": [],
   "source": [
    "num_cell_shapes = len(path_files)\n",
    "sel_shape = randrange(num_cell_shapes)\n",
    "sel_shape = 0\n",
    "video_path = path_files[sel_shape]"
   ]
  },
  {
   "cell_type": "markdown",
   "metadata": {},
   "source": [
    "# Simulated Cell customization"
   ]
  },
  {
   "cell_type": "code",
   "execution_count": null,
   "metadata": {},
   "outputs": [],
   "source": [
    "# Inputs\n",
    "inial_video = io.imread(video_path) # video with empty cell\n",
    "list_gene_sequences = [gene_file_h2b, gene_file_bact] # path to gene sequences\n",
    "list_number_spots = [1,1] # list of integers, where each element represents the number of spots\n",
    "list_target_channels_proteins = [1, 1] # channel where the simulated spots will be located.\n",
    "list_target_channels_mRNA = [0,0]\n",
    "list_label_names = ['a','b'] # list of strings used to generate a classification field in the output data frame\n",
    "list_elongation_rates = [3, 3] # list of elongation rates (aa/sec)\n",
    "list_initation_rates = [0.1, 0.1] # list of initiation rates (1/sec)\n",
    "frame_selection_empty_video = 'constant' # Options are: 'constant' , 'shuffle' and 'loop'\n",
    "simulation_time_in_sec = 3000\n",
    "step_size_in_sec = 1\n",
    "list_diffusion_coefficients =[0, 0] # diffusion coefficients for each gene"
   ]
  },
  {
   "cell_type": "code",
   "execution_count": null,
   "metadata": {},
   "outputs": [],
   "source": [
    "# Inputs\n",
    "inial_video = io.imread(video_path) # video with empty cell\n",
    "list_gene_sequences = [gene_file_h2b] # path to gene sequences\n",
    "list_number_spots = [10] # list of integers, where each element represents the number of spots\n",
    "list_target_channels_proteins = [1] # channel where the simulated spots will be located.\n",
    "list_target_channels_mRNA = [0]\n",
    "list_label_names = ['a'] # list of strings used to generate a classification field in the output data frame\n",
    "list_elongation_rates = [3] # list of elongation rates (aa/sec)\n",
    "list_initation_rates = [0.1] # list of initiation rates (1/sec)\n",
    "frame_selection_empty_video = 'constant' # Options are: 'constant' , 'shuffle' and 'loop'\n",
    "simulation_time_in_sec = 10\n",
    "step_size_in_sec = 1\n",
    "list_diffusion_coefficients =[1] # diffusion coefficients for each gene"
   ]
  },
  {
   "cell_type": "code",
   "execution_count": null,
   "metadata": {},
   "outputs": [],
   "source": [
    "save_as_tif = 0 # option to save the simulated video\n",
    "save_dataframe = 1 # option to save the simulation output as a dataframe in format csv. \n",
    "saved_file_name = 'simulated_cell' # if the video or dataframe are save, this variable assigns the name to the files\n",
    "create_temp_folder = 1 # saves the video and data frame in a temp folder\n",
    "save_as_gif = 0  # saves the video as .gif in a temp folder"
   ]
  },
  {
   "cell_type": "code",
   "execution_count": null,
   "metadata": {},
   "outputs": [],
   "source": [
    "tensor_video, dataframe_simulated_cell,list_ssa = rsp.SimulatedCellMultiplexing(inial_video,list_gene_sequences,list_number_spots,list_target_channels_proteins,list_target_channels_mRNA,list_diffusion_coefficients,list_label_names,list_elongation_rates,list_initation_rates,simulation_time_in_sec,step_size_in_sec,save_as_tif, save_dataframe, saved_file_name,create_temp_folder,cell_number =0,save_as_gif=save_as_gif,perform_video_augmentation=1,frame_selection_empty_video=frame_selection_empty_video).make_simulation()"
   ]
  },
  {
   "cell_type": "markdown",
   "metadata": {},
   "source": [
    "# Signal to Noise Ratio"
   ]
  },
  {
   "cell_type": "code",
   "execution_count": null,
   "metadata": {},
   "outputs": [],
   "source": [
    "np.mean(dataframe_simulated_cell.SNR_red.values)"
   ]
  },
  {
   "cell_type": "code",
   "execution_count": null,
   "metadata": {},
   "outputs": [],
   "source": [
    "plt.figure(figsize=(15,1))\n",
    "for i in range(0,len(list_gene_sequences)):\n",
    "    for j in range (0,list_number_spots[i]):\n",
    "        if i >0:\n",
    "            spot_num_counter = j + list_number_spots[0]\n",
    "        else:\n",
    "            spot_num_counter = j\n",
    "        sim_snr_r = dataframe_simulated_cell.loc[(dataframe_simulated_cell['Classification']=='a') & (dataframe_simulated_cell['particle']==spot_num_counter)].SNR_red.values[:]\n",
    "        sim_snr_g = dataframe_simulated_cell.loc[(dataframe_simulated_cell['Classification']=='a') & (dataframe_simulated_cell['particle']==spot_num_counter)].SNR_green.values[:]\n",
    "        sim_snr_b = dataframe_simulated_cell.loc[(dataframe_simulated_cell['Classification']=='a') & (dataframe_simulated_cell['particle']==spot_num_counter)].SNR_blue.values[:]\n",
    "        #plt.plot(sim_snr_r,color='r')\n",
    "        plt.plot(sim_snr_g,color='g')\n",
    "        #plt.plot(sim_snr_b,color='b')  \n",
    "plt.title('SNR')\n",
    "plt.show()"
   ]
  },
  {
   "cell_type": "code",
   "execution_count": null,
   "metadata": {},
   "outputs": [],
   "source": [
    "plt.figure(figsize=(15,1))\n",
    "for i in range(0,len(list_gene_sequences)):\n",
    "    for j in range (0,list_number_spots[i]):\n",
    "        if i >0:\n",
    "            spot_num_counter = j + list_number_spots[0]\n",
    "        else:\n",
    "            spot_num_counter = j\n",
    "        sim_snr_r = dataframe_simulated_cell.loc[(dataframe_simulated_cell['Classification']=='a') & (dataframe_simulated_cell['particle']==spot_num_counter)].SNR_red.values[:]\n",
    "        sim_snr_g = dataframe_simulated_cell.loc[(dataframe_simulated_cell['Classification']=='a') & (dataframe_simulated_cell['particle']==spot_num_counter)].SNR_green.values[:]\n",
    "        sim_snr_b = dataframe_simulated_cell.loc[(dataframe_simulated_cell['Classification']=='a') & (dataframe_simulated_cell['particle']==spot_num_counter)].SNR_blue.values[:]\n",
    "        #plt.plot(sim_snr_r,color='r')\n",
    "        #plt.plot(sim_snr_g,color='g')\n",
    "        plt.plot(sim_snr_b,color='b')  \n",
    "plt.title('SNR')\n",
    "plt.show()"
   ]
  },
  {
   "cell_type": "code",
   "execution_count": null,
   "metadata": {},
   "outputs": [],
   "source": [
    "plt.figure(figsize=(15,1))\n",
    "for i in range(0,len(list_gene_sequences)):\n",
    "    for j in range (0,list_number_spots[i]):\n",
    "        if i >0:\n",
    "            spot_num_counter = j + list_number_spots[0]\n",
    "        else:\n",
    "            spot_num_counter = j\n",
    "        sim_snr_r = dataframe_simulated_cell.loc[(dataframe_simulated_cell['Classification']=='a') & (dataframe_simulated_cell['particle']==spot_num_counter)].SNR_red.values[:]\n",
    "        sim_snr_g = dataframe_simulated_cell.loc[(dataframe_simulated_cell['Classification']=='a') & (dataframe_simulated_cell['particle']==spot_num_counter)].SNR_green.values[:]\n",
    "        sim_snr_b = dataframe_simulated_cell.loc[(dataframe_simulated_cell['Classification']=='a') & (dataframe_simulated_cell['particle']==spot_num_counter)].SNR_blue.values[:]\n",
    "        plt.plot(sim_snr_r,color='r')\n",
    "        #plt.plot(sim_snr_g,color='g')\n",
    "        #plt.plot(sim_snr_b,color='b')  \n",
    "plt.title('SNR')\n",
    "plt.show()"
   ]
  },
  {
   "cell_type": "code",
   "execution_count": null,
   "metadata": {},
   "outputs": [],
   "source": [
    "plt.hist(sim_snr_r,bins=60,density=True, stacked=True, color='orangered' ) \n",
    "plt.show()"
   ]
  },
  {
   "cell_type": "code",
   "execution_count": null,
   "metadata": {},
   "outputs": [],
   "source": [
    "plt.rcParams['figure.figsize'] = [10,10]\n",
    "plt.imshow(tensor_video[5,:,:,0],cmap='gray')\n",
    "plt.show()"
   ]
  },
  {
   "cell_type": "code",
   "execution_count": null,
   "metadata": {},
   "outputs": [],
   "source": [
    "raise"
   ]
  },
  {
   "cell_type": "markdown",
   "metadata": {},
   "source": [
    "## Simulated data set"
   ]
  },
  {
   "cell_type": "markdown",
   "metadata": {},
   "source": [
    "## Plotting time courses for gene 1"
   ]
  },
  {
   "cell_type": "code",
   "execution_count": null,
   "metadata": {},
   "outputs": [],
   "source": [
    "plt.figure(figsize=(15,1))\n",
    "for tr in range(0,list_ssa[0].shape[0] ):\n",
    "    plt.plot(list_ssa[0][tr,:]/np.amax(list_ssa[0][tr,:]) , '-',linewidth = 3,color='green');\n",
    "plt.title('SSA int (a.u.)')\n",
    "plt.show()"
   ]
  },
  {
   "cell_type": "code",
   "execution_count": null,
   "metadata": {
    "jupyter": {
     "source_hidden": true
    }
   },
   "outputs": [],
   "source": [
    "plt.figure(figsize=(15,1))\n",
    "for i in range(0,len(list_gene_sequences)):\n",
    "    for j in range (0,list_number_spots[i]):\n",
    "        if i >0:\n",
    "            spot_num_counter = j + list_number_spots[0]\n",
    "        else:\n",
    "            spot_num_counter = j\n",
    "        sim_cell_int_traj = dataframe_simulated_cell.loc[(dataframe_simulated_cell['Classification']=='a') & (dataframe_simulated_cell['particle']==spot_num_counter)].green_int_mean.values[:]\n",
    "        if sim_cell_int_traj.any():\n",
    "            plt.plot (sim_cell_int_traj/np.amax(sim_cell_int_traj) ,linewidth = 3,color='magenta' )      \n",
    "plt.title('video int (a.u.)')\n",
    "plt.show()"
   ]
  },
  {
   "cell_type": "markdown",
   "metadata": {},
   "source": [
    "## Plotting time courses for gene 2"
   ]
  },
  {
   "cell_type": "code",
   "execution_count": null,
   "metadata": {},
   "outputs": [],
   "source": [
    "plt.figure(figsize=(15,1))\n",
    "for tr in range(0,list_ssa[1].shape[0] ):\n",
    "    plt.plot(list_ssa[1][tr,:]/np.amax(list_ssa[1][tr,:] ) , '-',linewidth = 3,color='green');\n",
    "plt.title('SSA int (a.u.)')\n",
    "plt.show()"
   ]
  },
  {
   "cell_type": "code",
   "execution_count": null,
   "metadata": {
    "jupyter": {
     "source_hidden": true
    }
   },
   "outputs": [],
   "source": [
    "plt.figure(figsize=(15,1))\n",
    "for i in range(0,len(list_gene_sequences)):\n",
    "    for j in range (0,list_number_spots[i]):\n",
    "        if i >0:\n",
    "            spot_num_counter = j + list_number_spots[0] # this is just a counter for that creates the spot number based on list_number_spots\n",
    "        else:\n",
    "            spot_num_counter = j\n",
    "        sim_cell_int_traj_b = dataframe_simulated_cell.loc[(dataframe_simulated_cell['Classification']=='b') &  (dataframe_simulated_cell['particle']==spot_num_counter)].green_int_mean.values[:]\n",
    "        if sim_cell_int_traj_b.any():\n",
    "            plt.plot (sim_cell_int_traj_b/np.amax(sim_cell_int_traj_b)  ,linewidth = 3,color='magenta' )   \n",
    "plt.title('video int (a.u.)')\n",
    "plt.show()"
   ]
  },
  {
   "cell_type": "code",
   "execution_count": null,
   "metadata": {},
   "outputs": [],
   "source": [
    "# Plot only selected trajectories\n",
    "plt.rcParams['figure.figsize'] = [5,5]\n",
    "controls_pr, output_pr = rsp.VisualizerVideo(tensor_video,normalize=False,step_size_in_sec=step_size_in_sec).make_video_app()\n",
    "display(VBox([controls_pr, output_pr]));"
   ]
  },
  {
   "cell_type": "code",
   "execution_count": null,
   "metadata": {},
   "outputs": [],
   "source": []
  }
 ],
 "metadata": {
  "interpreter": {
   "hash": "ff7d081ce4817123eaa831f172a3e70559f334d78f7532d1a0ec42cef63090fa"
  },
  "kernelspec": {
   "display_name": "Python 3.8.5 64-bit ('base': conda)",
   "name": "python3"
  },
  "language_info": {
   "codemirror_mode": {
    "name": "ipython",
    "version": 3
   },
   "file_extension": ".py",
   "mimetype": "text/x-python",
   "name": "python",
   "nbconvert_exporter": "python",
   "pygments_lexer": "ipython3",
   "version": "3.8.5"
  }
 },
 "nbformat": 4,
 "nbformat_minor": 5
}
