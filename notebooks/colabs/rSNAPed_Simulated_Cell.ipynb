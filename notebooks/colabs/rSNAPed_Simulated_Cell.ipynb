{
  "cells": [
    {
      "cell_type": "markdown",
      "metadata": {
        "id": "jM1mruILLtdp"
      },
      "source": [
        "# rSNAPed : RNA Sequence to NAscent Protein Experiment Designer. \n",
        "\n",
        "___\n",
        "\n",
        "**rSNAPed** is a library to simulate single-molecule gene expression experiments to test machine learning and computational pipelines. The code generates simulated intensity translation spots using [rSNAPsim](https://github.com/MunskyGroup/rSNAPsim). Cell segmentation is performed using [Cellpose](https://github.com/MouseLand/cellpose). Spot detection and tracking is achieved using [Trackpy](http://soft-matter.github.io/trackpy/dev/index.html). If you use `rSNAPed`, please make sure you properly cite `cellpose`, `trackpy` and `rSNAPsim`.\n",
        "\n",
        "___\n",
        "\n",
        "Please cite as:\n",
        "___\n",
        "Luis Aguilera, William Raymond, Tatsuya Morisaki, Brooke Silagy, Timothy J. Stasevich, & Brian Munsky. (2022). rSNAPed. RNA Sequence to NAscent Protein Experiment Designer. (v0.1-beta.2). Zenodo. https://doi.org/10.5281/zenodo.6967555\n",
        "\n",
        "---\n",
        "\n",
        "```\n",
        "Author: Luis Aguilera\n",
        "Contact Info: luis.aguilera@colostate.edu\n",
        "\n",
        "Copyright (c) 2022 \n",
        "Luis Aguilera, Will Raymond, \n",
        "Tim Stasevich, Brian Munsky,\n",
        "Colorado State University.\n",
        "Licensed under BSD-3-Clause license.\n",
        "```"
      ]
    },
    {
      "cell_type": "markdown",
      "metadata": {
        "id": "TcHJZNLPO9dd"
      },
      "source": [
        "# Ethical Considerations and Content Policy\n",
        "___\n",
        "You must accept our Content Policy when using this library: \n",
        "\n",
        "* All simulated images generated with this software are intended to be used to test Machine Learning or computational algorithms. \n",
        "* All images generated with this software should always be labeled with the specific term \"simulated images\".\n",
        "* All datasets resulting from a simulated image should explicitly be reported with the term \"simulated data\".\n",
        "* Under any circumstance, a simulated image or dataset generated with rSNAPed should not be used to misrepresent real data.\n",
        "* For public or private use, you must clearly disclose that the generated images are simulated and give proper credit to rSNAPed.\n",
        "\n",
        "By running this notebook you accept our Content Policy. "
      ]
    },
    {
      "cell_type": "markdown",
      "metadata": {
        "id": "_OEhoDbfb9gI"
      },
      "source": [
        "# Importing rSNAPed\n",
        "\n",
        "____"
      ]
    },
    {
      "cell_type": "code",
      "execution_count": null,
      "metadata": {
        "cellView": "form",
        "id": "tBQt-Mdsat9n"
      },
      "outputs": [],
      "source": [
        "\"\"\" #@title Installing libraries - This will take some minutes\n",
        "%%capture\n",
        "\n",
        "!pip uninstall opencv_python_headless -y\n",
        "!pip install \"opencv-python-headless<4.3\"\n",
        "!pip install cellpose\n",
        "!pip install 'imgaug==0.2.5'\n",
        "!pip install 'trackpy>=0.5.0' \n",
        "!pip install 'seaborn>=0.11.2\n",
        "!pip install 'bqplot>=0.12.21'\n",
        "!pip install 'tifffile==2021.11.2'\n",
        "!pip install 'snapgene_reader>=0.1.18'\n",
        "!pip install 'joblib>=1.0.1'\n",
        "!pip install 'pandas>=1.1.5'\n",
        "!pip install 'ipywidgets>=7.6.3'\n",
        "!pip install 'tqdm>=4.56.2'\n",
        "!pip install 'imageio>=2.9.0'\n",
        "!pip install 'ipympl==0.8.5'\n",
        "!pip install 'croparray>=0.1.2'\n",
        "!pip install biopython\n",
        "!apt install libeigen3-dev\n",
        "!ln -sf /usr/include/eigen3/Eigen /usr/include/Eigen\n",
        "!pip install 'rsnapsim-ssa-cpp==0.0.20'\n",
        "!pip install 'rsnapsim==0.0.47'\n",
        "\n",
        "# Importing libraries\n",
        "import os; from os import listdir; from os.path import isfile, join\n",
        "import re  \n",
        "import matplotlib.pyplot as plt \n",
        "from skimage.io import imread        # Module from skimage to read images as numpy arrays\n",
        "import numpy as np \n",
        "from tqdm.notebook import tqdm\n",
        "from timeit import default_timer as timer\n",
        "import scipy\n",
        "import pandas as pd\n",
        "import shutil\n",
        "import pathlib\n",
        "import sys\n",
        "import seaborn as sns\n",
        "import rsnapsim as rss\n",
        "import scipy.stats as stats\n",
        "import random\n",
        "from random import randrange\n",
        "from matplotlib.animation import FuncAnimation, PillowWriter\n",
        "from dna_features_viewer import BiopythonTranslator\n",
        "from croparray import crop_array_tools as ca \n",
        "\n",
        "# Defining directories\n",
        "current_dir = pathlib.Path().absolute()\n",
        "rsnaped_dir = current_dir.joinpath('rsnaped')\n",
        "sequences_dir = rsnaped_dir.joinpath('DataBases','gene_files')\n",
        "video_dir = rsnaped_dir.joinpath('DataBases','videos_for_sim_cell')\n",
        "gene_file = rsnaped_dir.joinpath('DataBases','gene_files','KDM5B_withTags.txt')\n",
        "masks_dir = rsnaped_dir.joinpath('DataBases','masks_for_sim_cell')\n",
        "\n",
        "# cloning the rSNAPed repository \n",
        "!git clone --depth 1 https://github.com/MunskyGroup/rsnaped.git\n",
        "sys.path.append(str(rsnaped_dir.joinpath('rsnaped')))\n",
        "import rsnaped as rsp \"\"\"\n"
      ]
    },
    {
      "cell_type": "code",
      "execution_count": null,
      "metadata": {},
      "outputs": [],
      "source": [
        "import os; from os import listdir; from os.path import isfile, join\n",
        "import re  \n",
        "import matplotlib.pyplot as plt \n",
        "from skimage.io import imread        # Module from skimage to read images as numpy arrays\n",
        "import numpy as np \n",
        "from tqdm.notebook import tqdm\n",
        "from timeit import default_timer as timer\n",
        "import scipy\n",
        "import pandas as pd\n",
        "import shutil\n",
        "import pathlib\n",
        "import sys\n",
        "import seaborn as sns\n",
        "import rsnapsim as rss\n",
        "import scipy.stats as stats\n",
        "import random\n",
        "from random import randrange\n",
        "from matplotlib.animation import FuncAnimation, PillowWriter\n",
        "from dna_features_viewer import BiopythonTranslator\n",
        "from croparray import crop_array_tools as ca \n"
      ]
    },
    {
      "cell_type": "code",
      "execution_count": null,
      "metadata": {},
      "outputs": [],
      "source": [
        "# Defining directories\n",
        "current_dir = pathlib.Path().absolute()\n",
        "sequences_dir = current_dir.parents[1].joinpath('DataBases','gene_files')\n",
        "video_dir = current_dir.parents[1].joinpath('DataBases','videos_for_sim_cell')\n",
        "trajectories_dir = current_dir.parents[1].joinpath('DataBases','rsnapsim_simulations','kdm5b_ssa.npy')\n",
        "rsnaped_dir = current_dir.parents[1].joinpath('rsnaped')\n",
        "gene_file = current_dir.parents[1].joinpath('DataBases','gene_files','KDM5B_withTags.txt')\n",
        "masks_dir = current_dir.parents[1].joinpath('DataBases','masks_for_sim_cell')"
      ]
    },
    {
      "cell_type": "code",
      "execution_count": null,
      "metadata": {},
      "outputs": [],
      "source": [
        "# Importing rSNAPed\n",
        "sys.path.append(str(rsnaped_dir))\n",
        "import rsnaped as rsp"
      ]
    },
    {
      "cell_type": "markdown",
      "metadata": {
        "id": "uujy2SDpnHMZ"
      },
      "source": [
        "# Gene Construct\n",
        "\n",
        "____"
      ]
    },
    {
      "cell_type": "code",
      "execution_count": null,
      "metadata": {
        "cellView": "form",
        "id": "TsAFuIfEfnRK"
      },
      "outputs": [],
      "source": [
        "#@title Function to plot DNA sequence with the library [dna_features_viewer](https://edinburgh-genome-foundry.github.io/DnaFeaturesViewer/)\n",
        "plt.style.use('default')\n",
        "plt.rcParams['figure.dpi'] = 120\n",
        "plt.rcParams['lines.linewidth'] = 1\n",
        "plt.rcParams['axes.linewidth'] = 1.5\n",
        "plt.rcParams['axes.grid'] = False\n",
        "\n",
        "class MyCustomTranslator(BiopythonTranslator):\n",
        "    \"\"\"Custom translator\n",
        "    \"\"\"\n",
        "    def compute_feature_color(self, feature):\n",
        "        if feature.type == \"CDS\":\n",
        "            return \"#57B956\"\n",
        "        elif feature.type == \"FLAG\":\n",
        "            return \"#ff0000\"\n",
        "        elif feature.type == \"MS2\":\n",
        "            return \"#098BF5\"\n",
        "        elif feature.type == \"PP7\": \n",
        "            return \"#EB5559\"\n",
        "        else:\n",
        "            return \"#C4B07B\""
      ]
    },
    {
      "cell_type": "code",
      "execution_count": null,
      "metadata": {
        "cellView": "form",
        "colab": {
          "base_uri": "https://localhost:8080/"
        },
        "id": "uP85pPm2aHKE",
        "outputId": "4f3d323c-dcc2-42b0-c8db-76a5d63b6b86"
      },
      "outputs": [],
      "source": [
        "\"\"\" #@title Reading the GenBank file\n",
        "gene_file_pUB_SM_KDM5B_PP7 = str(sequences_dir.joinpath('kdm5b.gb')) # plasmid pUB_SM_KDM5B_PP7\n",
        "\n",
        "count = 0 \n",
        "with open(gene_file_pUB_SM_KDM5B_PP7) as file:\n",
        "    for line in file:\n",
        "       print(line)\n",
        "       count = count + 1 \"\"\""
      ]
    },
    {
      "cell_type": "code",
      "execution_count": null,
      "metadata": {
        "colab": {
          "base_uri": "https://localhost:8080/",
          "height": 246
        },
        "id": "03qOoubDgCsG",
        "outputId": "0c902f37-591d-4eed-9962-a3373d147ae6"
      },
      "outputs": [],
      "source": [
        "# Plasmid sequences\n",
        "gene_file_KDM5B = str(sequences_dir.joinpath('kdm5b.gb')) \n",
        "graphic_record = MyCustomTranslator().translate_record(gene_file_KDM5B) \n",
        "ax, _ = graphic_record.plot(figure_width=20, strand_in_label_threshold=7)\n",
        "graphic_record.plot_legend(ax=ax, loc=1, ncol=3, frameon=False)\n",
        "name_figure = 'sequence.png'"
      ]
    },
    {
      "cell_type": "markdown",
      "metadata": {
        "id": "-ulcR1lWeFy8"
      },
      "source": [
        "# Simulating single-molecule translation experiments\n",
        "\n",
        "____"
      ]
    },
    {
      "cell_type": "markdown",
      "metadata": {
        "id": "eOz4c3wad3IL"
      },
      "source": [
        "[//]: <> ( <img src= https://github.com/MunskyGroup/rsnaped/raw/master/docs/images/presentation/presentation_rsnaped_colab/Slide4.png alt=\"drawing\" width=\"1200\"/>)"
      ]
    },
    {
      "cell_type": "markdown",
      "metadata": {
        "id": "qBpfstpdg1CN"
      },
      "source": [
        "### Parameters for the simulation\n",
        "___"
      ]
    },
    {
      "cell_type": "code",
      "execution_count": null,
      "metadata": {
        "id": "IguyX8Hxg1Mi"
      },
      "outputs": [],
      "source": [
        "# These are the parameters that need to be tested. \n",
        "number_spots_per_cell = 80     \n",
        "intensity_calculation_method = 'disk_donut'  # options are : 'total_intensity' and 'disk_donut' 'gaussian_fit'\n",
        "frame_selection_empty_video = 'generate_from_gaussian' #'linear_interpolation' # Options are: 'constant' , 'shuffle', 'loop', 'linear_interpolation', 'generate_from_poisson', 'generate_from_gaussian'\n",
        "simulated_RNA_intensities = 'constant'  # optiions are 'constant' or 'random_values'\n",
        "\n",
        "particle_size = 7              # spot size for the simulation and tracking.\n",
        "elongation_rate = 20           # reported values 0.1 to 15  \n",
        "initiation_rate = 0.1          # reported values 0.03\n",
        "diffusion_coefficient = 2      # reported values 0.5 px^s \n",
        "\n",
        "simulation_time_in_sec = 400   # 0.55\n",
        "# Perturbations\n",
        "use_Harringtonin=0\n",
        "perturbation_time_start = 0\n",
        "perturbation_time_stop = 0\n",
        "\n",
        "# Intensity scale\n",
        "intensity_scale_ch0 = 800\n",
        "intensity_scale_ch1 = 800\n",
        "intensity_scale_ch2 = 0"
      ]
    },
    {
      "cell_type": "code",
      "execution_count": null,
      "metadata": {
        "cellView": "form",
        "id": "7q-x8u9MUCpM"
      },
      "outputs": [],
      "source": [
        "#@title ####Function to simulate cell\n",
        "\n",
        "def fun_simulated_cells(current_dir, video_dir,masks_dir=None,ke=3,ki=0.03,gene_file =None, trajectories_dir=None, number_of_simulated_cells=3,number_spots_per_cell=80,\n",
        "    simulation_time_in_sec =100,step_size_in_sec=1,particle_size=5, diffusion_coefficient =1, path_to_save_output='temp',\n",
        "    intensity_calculation_method='gaussian_fit',frame_selection_empty_video=frame_selection_empty_video,\n",
        "    perturbation_time_start=perturbation_time_start,perturbation_time_stop=perturbation_time_stop,\n",
        "    use_Harringtonin=use_Harringtonin,save_as_gif=False,simulated_RNA_intensities='constant' ,dataframe_format='long'):\n",
        "    spot_size = particle_size\n",
        "    spot_sigma = 1\n",
        "    # Code that creates the folder to store results.\n",
        "    diffusion_coefficient_string = str(diffusion_coefficient).replace('.','_')\n",
        "    directory_name = 'Simulation_'+'ns_'+str(number_spots_per_cell) +'_diff_'+ diffusion_coefficient_string \n",
        "    path_to_save_output = 'temp'\n",
        "    save_to_path =  current_dir.joinpath(path_to_save_output , directory_name )\n",
        "    if not os.path.exists(str(save_to_path)):\n",
        "        os.makedirs(str(save_to_path))\n",
        "    else:\n",
        "        shutil.rmtree(str(save_to_path))\n",
        "        os.makedirs(str(save_to_path))\n",
        "    counter = 0\n",
        "    ## Main loop that creates each cell and dataframe\n",
        "    for cell_number in range (0, number_of_simulated_cells):\n",
        "        output_directory_name = str(video_dir)\n",
        "        list_files_names = sorted([f for f in listdir(output_directory_name) if isfile(join(output_directory_name, f)) and ('.tif') in f], key=str.lower)  # reading all tif files in the folder\n",
        "        list_files_names.sort(key=lambda f: int(re.sub('\\D', '', f)))  # sorting the index in numerical order\n",
        "        path_files = [ str(video_dir.joinpath(f).resolve()) for f in list_files_names ] # creating the complete path for each file\n",
        "        selected_video = 0 #randrange(len(path_files))\n",
        "        video_path = path_files[selected_video]        \n",
        "        video = imread(video_path) \n",
        "        # Loading the mask image\n",
        "        if not (masks_dir is None):\n",
        "            mask_image=imread(masks_dir.joinpath('mask_cell_shape_'+str(selected_video)+'.tif'))       \n",
        "        else:\n",
        "            mask_image=None\n",
        "        # Reducing in a half the intensity in the original video\n",
        "        empty_videos = video\n",
        "        counter +=1\n",
        "        if counter>=len(path_files):\n",
        "            counter =0\n",
        "        if not (trajectories_dir is None ):\n",
        "            # Loading trajectories from file\n",
        "            ssa_trajectories = np.load(str(trajectories_dir))\n",
        "            random_index_ch0 = np.random.randint(low=0, high=ssa_trajectories.shape[0]-1, size=(number_spots_per_cell,))\n",
        "            random_index_ch1 = np.random.randint(low=0, high=ssa_trajectories.shape[0]-1, size=(number_spots_per_cell,))\n",
        "            random_index_ch2 = np.random.randint(low=0, high=ssa_trajectories.shape[0]-1, size=(number_spots_per_cell,))\n",
        "            \n",
        "            simulated_trajectories_ch0 = ssa_trajectories[random_index_ch0,0:simulation_time_in_sec:step_size_in_sec] / 10 # converting to ump\n",
        "            simulated_trajectories_ch1 = ssa_trajectories[random_index_ch1,0:simulation_time_in_sec:step_size_in_sec] / 10 # converting to ump\n",
        "            simulated_trajectories_ch2 =  ssa_trajectories[random_index_ch2,0:simulation_time_in_sec:step_size_in_sec] / 10 # converting to ump\n",
        "        else:\n",
        "            # Simulations for intensity\n",
        "            ssa1,ssa1_ump,_ = rsp.SSA_rsnapsim(gene_file,ke,ki,frames=simulation_time_in_sec,frame_rate=1,n_traj=number_spots_per_cell,use_Harringtonin=use_Harringtonin,use_FRAP=0, \n",
        "                                               perturbation_time_start=perturbation_time_start,perturbation_time_stop=perturbation_time_stop).simulate() \n",
        "            simulated_trajectories_ch1 = ssa1_ump\n",
        "            ssa2,ssa2_ump,_ =  rsp.SSA_rsnapsim(gene_file,ke,ki,frames=simulation_time_in_sec,frame_rate=1,n_traj=number_spots_per_cell,use_Harringtonin=use_Harringtonin,use_FRAP=0, \n",
        "                                                perturbation_time_start=perturbation_time_start,perturbation_time_stop=perturbation_time_stop).simulate() \n",
        "            simulated_trajectories_ch2 = ssa2_ump\n",
        "            simulated_trajectories_ch0 = rsp.SimulateRNA(shape_output_array=(number_spots_per_cell, simulation_time_in_sec), rna_intensity_method=simulated_RNA_intensities,\n",
        "                                                         min_int=0,max_int=5,mean_int=5 ).simulate()\n",
        "        #simulated_trajectories_ch0 = None\n",
        "        # Running the cell simulation\n",
        "        saved_file_name = str(save_to_path.joinpath('sim_cell_'+str(cell_number)))\n",
        "        _ , _, _ = rsp.SimulatedCell( base_video=video, mask_image=mask_image, number_spots = number_spots_per_cell, number_frames=simulation_time_in_sec, step_size=step_size_in_sec, \n",
        "                                     diffusion_coefficient =diffusion_coefficient, simulated_trajectories_ch0=simulated_trajectories_ch0, size_spot_ch0=spot_size, spot_sigma_ch0=spot_sigma, \n",
        "                                     simulated_trajectories_ch1=simulated_trajectories_ch1, size_spot_ch1=spot_size, spot_sigma_ch1=spot_sigma, simulated_trajectories_ch2=simulated_trajectories_ch2, \n",
        "                                     size_spot_ch2=spot_size, spot_sigma_ch2=spot_sigma, ignore_ch0=0,ignore_ch1=0, ignore_ch2=0,save_as_tif_uint8=0,save_as_tif =1,save_as_gif=save_as_gif, save_dataframe=1,\n",
        "                                     saved_file_name=saved_file_name,create_temp_folder = False, intensity_calculation_method=intensity_calculation_method,perform_video_augmentation=0,\n",
        "                                     frame_selection_empty_video=frame_selection_empty_video ,intensity_scale_ch0 = intensity_scale_ch0,intensity_scale_ch1 = intensity_scale_ch1,\n",
        "                                     intensity_scale_ch2 = intensity_scale_ch2,dataframe_format=dataframe_format).make_simulation()      \n",
        "        print ('The results are saved in folder: ', saved_file_name)\n",
        "    return save_to_path, simulated_trajectories_ch0, simulated_trajectories_ch1, simulated_trajectories_ch2, empty_videos"
      ]
    },
    {
      "cell_type": "code",
      "execution_count": null,
      "metadata": {
        "colab": {
          "base_uri": "https://localhost:8080/"
        },
        "id": "NKA5bAHXhVJX",
        "outputId": "fade3f0c-145f-4d92-de8d-900e974352fd"
      },
      "outputs": [],
      "source": [
        "# running the simulation\n",
        "start = timer()\n",
        "output_directory_name, _, _, _, _ = fun_simulated_cells(current_dir,video_dir,masks_dir=masks_dir,ke=elongation_rate, \n",
        "                                                                    ki=initiation_rate,gene_file= gene_file, \n",
        "                                                                    number_of_simulated_cells=1,number_spots_per_cell=number_spots_per_cell,\n",
        "                                                                    simulation_time_in_sec =simulation_time_in_sec,step_size_in_sec=1,particle_size=particle_size, \n",
        "                                                                    diffusion_coefficient=diffusion_coefficient,intensity_calculation_method=intensity_calculation_method,\n",
        "                                                                    frame_selection_empty_video=frame_selection_empty_video,perturbation_time_start=perturbation_time_start,\n",
        "                                                                    perturbation_time_stop=perturbation_time_stop,use_Harringtonin=use_Harringtonin,\n",
        "                                                                    simulated_RNA_intensities=simulated_RNA_intensities)\n",
        "end = timer()\n",
        "print('Time to generate simulated data:',round(end - start), ' sec')"
      ]
    },
    {
      "cell_type": "markdown",
      "metadata": {
        "id": "6SyFtxE_iwaP"
      },
      "source": [
        "#### Display results as images and dataframe\n",
        "____"
      ]
    },
    {
      "cell_type": "code",
      "execution_count": null,
      "metadata": {
        "id": "tZ3Y5dWustNg"
      },
      "outputs": [],
      "source": [
        "# Loading the simulated video\n",
        "simulated_video = imread(str(output_directory_name)+'/sim_cell_0.tif')"
      ]
    },
    {
      "cell_type": "markdown",
      "metadata": {
        "id": "DsSrTFO2iqDM"
      },
      "source": [
        "### Plotting the simulated image\n",
        "\n",
        "\n"
      ]
    },
    {
      "cell_type": "code",
      "execution_count": null,
      "metadata": {
        "cellView": "form",
        "colab": {
          "base_uri": "https://localhost:8080/",
          "height": 788
        },
        "id": "38eojt_TZRX-",
        "outputId": "a8134364-1f75-46e8-ab7f-d7ced48965ec"
      },
      "outputs": [],
      "source": [
        "#@title Plotting the simulated cells\n",
        "selected_time_point = 1\n",
        "max_percentile=99.95\n",
        "print('Dimensions in the simulated video: ', simulated_video.shape)\n",
        "fig, ax = plt.subplots(3,2, figsize=(10, 7))\n",
        "int_red = simulated_video[selected_time_point,:,:,0]\n",
        "int_green = simulated_video[selected_time_point,:,:,1]\n",
        "int_blue = simulated_video[selected_time_point,:,:,2]\n",
        "\n",
        "# Red\n",
        "ax[0,0].imshow(int_red,cmap=plt.cm.Greys,vmax=np.percentile(int_red,max_percentile))\n",
        "ax[0,0].set_title('Channel 0 = RNA');ax[0,0].set_xticks([]); ax[0,0].set_yticks([])\n",
        "ax[0,1].hist(int_red.flatten(), bins=80,color='red')\n",
        "ax[0,1].set_xlabel('Intensity'); ax[0,1].set_ylabel('Count')\n",
        "\n",
        "# Green\n",
        "ax[1,0].imshow(int_green,cmap=plt.cm.Greys,vmax=np.percentile(int_green,max_percentile))\n",
        "ax[1,0].set_title('Channel 1 = Protein 1'); ax[1,0].set_xticks([]); ax[1,0].set_yticks([])\n",
        "ax[1,1].hist(int_green.flatten(), bins=80,color='green')\n",
        "ax[1,1].set_xlabel('Intensity'); ax[1,1].set_ylabel('Count')\n",
        "\n",
        "# Blue\n",
        "ax[2,0].imshow(int_blue,cmap=plt.cm.Greys,vmax=np.percentile(int_blue,max_percentile))\n",
        "ax[2,0].set_title('Channel 2 = Protein 2'); ax[2,0].set_xticks([]); ax[2,0].set_yticks([])\n",
        "ax[2,1].hist(int_blue.flatten(), bins=80,color='blue')\n",
        "ax[2,1].set_xlabel('Intensity'); ax[2,1].set_ylabel('Count')\n",
        "plt.show()"
      ]
    },
    {
      "cell_type": "code",
      "execution_count": null,
      "metadata": {
        "cellView": "form",
        "colab": {
          "base_uri": "https://localhost:8080/",
          "height": 402
        },
        "id": "xsE902MPaIjG",
        "outputId": "2b66c26b-5e1f-4eb7-c282-52cbe1fa7632"
      },
      "outputs": [],
      "source": [
        "\"\"\" # @title Visualizing the simulated video\n",
        "max_frames = simulated_video.shape[0]\n",
        "reduced_video = simulated_video[0:max_frames,:,:,:]\n",
        "fig,axes = plt.subplots(1,3,dpi=120,figsize=(10,3))\n",
        "i=0\n",
        "# Define inital frames\n",
        "Red = reduced_video[i,:,:,0]\n",
        "im1 = axes[0].imshow(Red,cmap='Greys_r')\n",
        "Green = reduced_video[i,:,:,1]\n",
        "im2 = axes[1].imshow(Green,cmap='Greys_r')\n",
        "Blue = reduced_video[i,:,:,2]\n",
        "im3 =  axes[2].imshow(Blue,cmap='Greys_r')\n",
        "axes[0].axis('off')\n",
        "axes[1].axis('off')\n",
        "axes[2].axis('off')\n",
        "axes[0].set_title('Channel 0')\n",
        "axes[1].set_title('Channel 1')\n",
        "axes[2].set_title('Channel 2')\n",
        "\n",
        "def movieFrame(i):\n",
        "  Red = reduced_video[i,:,:,0]\n",
        "  Green = reduced_video[i,:,:,1]\n",
        "  Blue = reduced_video[i,:,:,2]\n",
        "  images = [Red,Green,Blue]\n",
        "  image_handles = [im1,im2,im3]\n",
        "  for k,image_n in enumerate(images):\n",
        "    image_handles[k].set_array(images[k])\n",
        "  return image_handles\n",
        "  \n",
        "plt.close()\n",
        "anim = FuncAnimation(fig, movieFrame, frames=max_frames, interval=60, blit=True)\n",
        "\n",
        "#anim.save(\"simulated_cell_1.gif\", dpi=300, writer=PillowWriter(fps=5))\n",
        "\n",
        "from IPython.display import HTML\n",
        "HTML(anim.to_html5_video()) \"\"\""
      ]
    },
    {
      "cell_type": "code",
      "execution_count": null,
      "metadata": {
        "colab": {
          "base_uri": "https://localhost:8080/",
          "height": 493
        },
        "id": "AYLad9JdvslI",
        "outputId": "276a6420-95ca-4ab3-fb59-42f82dc90d64"
      },
      "outputs": [],
      "source": [
        "df = pd.read_csv(str(output_directory_name)+'/sim_cell_0_df.csv')\n",
        "df"
      ]
    },
    {
      "cell_type": "code",
      "execution_count": null,
      "metadata": {
        "colab": {
          "base_uri": "https://localhost:8080/"
        },
        "id": "Ga3ZIBHIbg-b",
        "outputId": "e3a75c72-3536-4e15-9be7-f44ede0589cb"
      },
      "outputs": [],
      "source": [
        "df.columns"
      ]
    },
    {
      "cell_type": "markdown",
      "metadata": {
        "id": "_kKMFZi7Xchx"
      },
      "source": [
        "# Signal to Noise Ratio (SNR). \n",
        "\n",
        "___\n",
        "\n",
        "The SNR is a metric to calculate the 'strength' of the signal over the noise in the image.\n",
        "\n",
        "$SNR = \\frac{I_{in}-I_{out}}{\\sigma_{out}}$,\n",
        "\n",
        "where, is the intensity in the translation site $I_{in}$, is the intensity in an area outside the translation site $I_{out}$,and $\\sigma_{OUT}$ is the standard deviation outside the translation site."
      ]
    },
    {
      "cell_type": "code",
      "execution_count": null,
      "metadata": {
        "id": "q13NsSxWXbL2"
      },
      "outputs": [],
      "source": [
        "SNR_red_channel = df.SNR_red.values\n",
        "SNR_green_channel = df.SNR_green.values"
      ]
    },
    {
      "cell_type": "code",
      "execution_count": null,
      "metadata": {
        "cellView": "form",
        "colab": {
          "base_uri": "https://localhost:8080/",
          "height": 419
        },
        "id": "Fy5P7C2LXbZr",
        "outputId": "1f9cd849-0694-450e-e9d9-354c0f24a455"
      },
      "outputs": [],
      "source": [
        "#@title ####Plotting SNR\n",
        "\n",
        "# Plotting\n",
        "fig, ax = plt.subplots(1,2, figsize=(10, 3))\n",
        "ax[0].hist(SNR_red_channel, bins = 40, color = 'orangered')\n",
        "ax[0].set_ylabel('Count')\n",
        "ax[0].set_title('$SNR_{Red}$')\n",
        "ax[0].set_xlabel('SNR')\n",
        "\n",
        "ax[1].hist(SNR_green_channel, bins = 40, color = 'limegreen')\n",
        "ax[1].set_ylabel('Count')\n",
        "ax[1].set_title('$SNR_{Green}$')\n",
        "ax[1].set_xlabel('SNR')\n",
        "\n",
        "plt.show()"
      ]
    },
    {
      "cell_type": "code",
      "execution_count": null,
      "metadata": {},
      "outputs": [],
      "source": [
        "raise"
      ]
    },
    {
      "cell_type": "markdown",
      "metadata": {
        "id": "hDcct541dJJC"
      },
      "source": [
        "#Mean Square Displacement (MSD). \n",
        "\n",
        "___"
      ]
    },
    {
      "cell_type": "markdown",
      "metadata": {
        "id": "LbG8xPAldLBE"
      },
      "source": [
        "MSD is a metric to calculate the average movement of particles with respect to time. [MSD formal definition](https://en.wikipedia.org/wiki/Mean_squared_displacement).\n",
        "\n",
        "</br>\n",
        "${\\rm MSD}=\\frac{1}{N}\\sum_{i=1}^N |\\mathbf{x^{(i)}}(t) - \\mathbf{x^{(i)}}(0)|^2 $\n",
        "</br>\n",
        "\n",
        "\n",
        "</br>\n",
        "where $N$ is the number of particles, $\\mathbf{x^{(i)}}(0)$ is the reference position of the $i^{th}$ particle, and $\\mathbf{x^{(i)}}(t)$ is the position of the $i^{th}$ particle at time $t$.\n",
        "\n",
        "</br>\n",
        "\n",
        "In a random motion process, there is a linear relationship between the MSD and time $t$. [Link with the derivation of this formula](https://en.wikipedia.org/wiki/Mean_squared_displacement).\n",
        "</br>\n",
        "\n",
        "\n",
        "$MSD= 2nDt$,\n",
        "</br>\n",
        "\n",
        "where $n$ is the number of dimensions,  $D$ is the  diffusion coefficient, \n",
        "</br>\n",
        "\n",
        "$D= \\frac{k_B \\cdot T}{6 \\pi \\eta r}$ (Einstein-Stokes equation)\n",
        "\n",
        "*   Proportional to: $k_B$ Boltzman constant, $T$ absolute temperature\n",
        "*   Inversely Proportional: $\\eta$ is the viscocity, $r$ particle radius.\n",
        "\n",
        "For more deails please check this [notebook](https://colab.research.google.com/drive/18jXJi3D7OvRftR8Y6KmZK3Do0syPP2ij?usp=sharing)"
      ]
    },
    {
      "cell_type": "code",
      "execution_count": null,
      "metadata": {
        "cellView": "form",
        "id": "ctDg2oHOdLYv"
      },
      "outputs": [],
      "source": [
        "#@title #### Function to calculate msd\n",
        "def compute_msd(trajectory):\n",
        "  '''\n",
        "  This function is intended to calculate the mean square displacement of a given trajectory.\n",
        "  msd(τ)  = <[r(t+τ) - r(t)]^2>\n",
        "  Inputs:\n",
        "    trajectory: list of temporal evolution of a centers of mass .  [Y_val_particle_i_tp_0, X_val_particle_i_tp_0]   , ... , [Y_val_particle_i_tp_n, X_val_particle_i_tp_n] ]\n",
        "\n",
        "  Returns\n",
        "    msd: float, mean square displacement\n",
        "    rmsd: float, root mean square displacement\n",
        "  '''\n",
        "  total_length_trajectory=len(trajectory)\n",
        "  msd=[]\n",
        "  for i in range(total_length_trajectory-1):\n",
        "      tau=i+1\n",
        "      # Distance that a particle moves for each time point (tau) divided by time\n",
        "      # msd(τ)                 = <[r(t+τ)  -    r(t)]^2>\n",
        "      msd.append(np.sum((trajectory[0:-tau]-trajectory[tau::])**2)/float(total_length_trajectory-tau)) # Reverse Indexing \n",
        "  # Converting list to np.array\n",
        "  msd=np.array(msd)   # array with shape Nspots vs time_points\n",
        "  rmsd = np.sqrt(msd)\n",
        "  return msd, rmsd "
      ]
    },
    {
      "cell_type": "code",
      "execution_count": null,
      "metadata": {
        "id": "FhijyKDAdLu5"
      },
      "outputs": [],
      "source": [
        "# Calculating the MSD\n",
        "t=np.arange(1,simulation_time_in_sec,1)\n",
        "msd_trajectories = np.zeros((number_spots_per_cell,simulation_time_in_sec-1))\n",
        "rmsd_trajectories = np.zeros((number_spots_per_cell,simulation_time_in_sec-1))\n",
        "for i in range(0,number_spots_per_cell):\n",
        "  # extracting the particle positions from the dataframe.\n",
        "  particle_trajectory = df[['y','x']] [df['particle'] == i].values\n",
        "  msd_trajectories[i,:], rmsd_trajectories[i,:] = compute_msd(particle_trajectory)"
      ]
    },
    {
      "cell_type": "code",
      "execution_count": null,
      "metadata": {
        "id": "UNDba9jXhc-J"
      },
      "outputs": [],
      "source": [
        "# MSD Statistics (mu, sigma) for all trajectories.\n",
        "msd_trajectories_all_mu = np.mean(msd_trajectories,axis=0)\n",
        "msd_trajectories_all_sem = np.std(msd_trajectories,axis=0) /np.sqrt(number_spots_per_cell)"
      ]
    },
    {
      "cell_type": "code",
      "execution_count": null,
      "metadata": {
        "id": "IiOV6Re4i_Bl"
      },
      "outputs": [],
      "source": [
        "# calculating the Diffusion coefficient\n",
        "# k_dif = msd / (2 * n * t) \n",
        "k_diff_calulated = msd_trajectories_all_mu/(2*t)"
      ]
    },
    {
      "cell_type": "code",
      "execution_count": null,
      "metadata": {
        "cellView": "form",
        "colab": {
          "base_uri": "https://localhost:8080/",
          "height": 418
        },
        "id": "GYxkRgfphgz7",
        "outputId": "4ec25b1f-f977-45cb-a392-8b06c0821365"
      },
      "outputs": [],
      "source": [
        "#@title ####Plotting the MSD vs Time\n",
        "downsampling = 20\n",
        "\n",
        "fig, ax = plt.subplots(1,2, figsize=(10, 3))\n",
        "\n",
        "for i in range(0,number_spots_per_cell):\n",
        "  ax[0].plot(msd_trajectories[i,:],'-',color=[0.8,0.8,0.8])\n",
        "ax[0].errorbar(t[::downsampling], msd_trajectories_all_mu[::downsampling],  yerr=msd_trajectories_all_sem[::downsampling],ecolor='dodgerblue',linestyle='')\n",
        "ax[0].plot(t[::downsampling], msd_trajectories_all_mu[::downsampling], marker='o', markersize=5, linestyle='-',color='dodgerblue',label ='mean' )\n",
        "ax[0].legend()\n",
        "ax[0].set_title('Mean square displacement')\n",
        "ax[0].set_ylabel('MSD ($px^2$)')\n",
        "ax[0].set_xlabel('time (s)')\n",
        "ax[0].set_ylim((0,3000))\n",
        "\n",
        "ax[1].plot(t[::downsampling], k_diff_calulated[::downsampling], marker='o', markersize=5, linestyle='-',color='dodgerblue',label ='mean' )\n",
        "ax[1].legend()\n",
        "ax[1].set_title('Diffusion coefficient')\n",
        "ax[1].set_ylabel('D ($px^{2}$/sec)')\n",
        "ax[1].set_xlabel('time (s)')\n",
        "\n",
        "\n",
        "plt.show()"
      ]
    },
    {
      "cell_type": "markdown",
      "metadata": {
        "id": "D65KgJf4h6bM"
      },
      "source": [
        "[//]: <> ( <img src= https://github.com/MunskyGroup/uqbio2022/raw/master/files/files_image_processing/module_1_3/images/Slide6.png alt=\"drawing\" width=\"600\"/> )"
      ]
    },
    {
      "cell_type": "code",
      "execution_count": null,
      "metadata": {
        "cellView": "form",
        "colab": {
          "base_uri": "https://localhost:8080/",
          "height": 372
        },
        "id": "qsIU3bCMqecc",
        "outputId": "b9c27e4f-9cb6-492c-c41a-3dc908983c24"
      },
      "outputs": [],
      "source": [
        "#@title Plotting trajectories of intensity in the video\n",
        "\n",
        "intensity_values_in_image = np.zeros((number_spots_per_cell,simulation_time_in_sec)) # pre-allocating memory for intensity\n",
        "for i in range(number_spots_per_cell):\n",
        "  intensity_values_in_image[i,:] = df[df['particle'] ==i].green_int_mean.values\n",
        "  \n",
        "print('simulated trajectories shape: ', intensity_values_in_image.shape)\n",
        "\n",
        "fig, ax = plt.subplots(1,2, figsize=(10, 2.5), gridspec_kw = {'width_ratios': [4, 1]})\n",
        "ax[0].plot(intensity_values_in_image.T,'grey',alpha = .1)\n",
        "ax[0].plot(intensity_values_in_image[25,:].T,'-', linewidth = 1, color = 'limegreen',label = 'representative')\n",
        "ax[0].set_xlabel('Time (s)')\n",
        "ax[0].set_ylabel('Intensity (au)')\n",
        "ax[0].set_ylim((intensity_values_in_image.min(),intensity_values_in_image.max()))\n",
        "ax[0].set_title('Intensities from simulated video', color ='k')\n",
        "ax[0].legend()\n",
        "ax[1].hist(intensity_values_in_image[:,selected_time_point] , bins = 40, color = 'limegreen', orientation = 'horizontal')\n",
        "ax[1].set_ylim((intensity_values_in_image.min(),intensity_values_in_image.max()))\n",
        "ax[1].set_xlabel('Count')\n",
        "plt.subplots_adjust(wspace=0.15, hspace=0)\n",
        "plt.show()"
      ]
    },
    {
      "cell_type": "code",
      "execution_count": null,
      "metadata": {
        "cellView": "form",
        "colab": {
          "base_uri": "https://localhost:8080/",
          "height": 388
        },
        "id": "EHdisXo8qeiI",
        "outputId": "4520ebc7-8d05-4edd-ddd7-eb7ee75d90be"
      },
      "outputs": [],
      "source": [
        "#@title Plotting trajectories of intensity from the SSA\n",
        "\n",
        "# Generating a large sample from the SSA-TASEP model\n",
        "number_trajectories = 400\n",
        "selected_time_point = 0\n",
        "ssa, ssa_ump, _ = rsp.SSA_rsnapsim(gene_file,ke=elongation_rate,ki=initiation_rate,frames=simulation_time_in_sec,frame_rate=1,n_traj=number_trajectories,use_Harringtonin=use_Harringtonin,use_FRAP=0, perturbation_time_start=perturbation_time_start,perturbation_time_stop=perturbation_time_stop).simulate() # rss.ssa_solver(n_traj = number_spots_per_cell, start_time=starting_time,tf=starting_time+n_frames, tstep=starting_time+n_frames,k_elong_mean=3, k_initiation=.03)  # tstep = total number of steps including the burnin time \n",
        "print('ssa shape: ', ssa_ump.shape)\n",
        "\n",
        "fig, ax = plt.subplots(1,2, figsize=(10, 2.5), gridspec_kw = {'width_ratios': [4, 1]})\n",
        "ax[0].plot(ssa_ump.T,'grey',alpha = .1)\n",
        "ax[0].plot(ssa_ump[25,:].T,'-', linewidth = 2, color = 'k',label = 'representative')\n",
        "ax[0].set_xlabel('Time (s)')\n",
        "ax[0].set_ylabel('Intensity (ump)')\n",
        "ax[0].set_ylim((ssa_ump.min(),ssa_ump.max()))\n",
        "ax[0].set_title('Intensities from  SSA - TASEP model', color ='k')\n",
        "ax[0].legend()\n",
        "ax[1].hist(ssa_ump[:,selected_time_point] , bins = 40, color = 'k', orientation = 'horizontal')\n",
        "ax[1].set_ylim((ssa_ump.min(),ssa_ump.max()))\n",
        "ax[1].set_xlabel('Count')\n",
        "plt.subplots_adjust(wspace=0.15, hspace=0)\n",
        "plt.show()"
      ]
    },
    {
      "cell_type": "code",
      "execution_count": null,
      "metadata": {
        "cellView": "form",
        "id": "vn2iJ1GIqeos"
      },
      "outputs": [],
      "source": [
        "#@title ####Code to calculate the auto-correlation function.\n",
        "def get_autocorrelation(data, g0='G0', norm='individual'):\n",
        "    n_traj = data.shape[0]\n",
        "    acf_vec = np.zeros(data.shape)\n",
        "\n",
        "    def get_acc_fft(signal):\n",
        "        N = len(signal)\n",
        "        fvi = np.fft.fft(signal, n=2*N)\n",
        "        acf = fvi*np.conjugate(fvi)\n",
        "        acf = np.fft.ifft(acf)\n",
        "        acf = np.real(acf[:N])/float(N)\n",
        "        return acf\n",
        "\n",
        "    global_mean = np.mean(data)\n",
        "    global_var = np.var(data)\n",
        "    for i in range(n_traj):\n",
        "        if norm == 'individual':\n",
        "            if np.mean(data[i] == 0):\n",
        "                signal = (data[i] - 1e-6) / 1e-6\n",
        "            else:\n",
        "                signal = (data[i] - np.mean(data[i])) / np.var(data[i])\n",
        "        else:\n",
        "            signal = (data[i] - global_mean) / global_var\n",
        "        if g0 == 'G1':\n",
        "            g1 = get_acc_fft(signal)[1]\n",
        "            acf_vec[i] = get_acc_fft(signal)/g1\n",
        "        if g0 == 'G0':\n",
        "            g = get_acc_fft(signal)[0]\n",
        "            acf_vec[i] = get_acc_fft(signal)/g\n",
        "    return acf_vec"
      ]
    },
    {
      "cell_type": "markdown",
      "metadata": {
        "id": "jG4Df4sqJzbw"
      },
      "source": [
        "# Autocorrelation function ($G(\\tau)$).\n",
        "\n",
        "____\n",
        "Correlation between a signal with respect of itself at diferent time intervals ($\\tau$)\n",
        "\n",
        "$G(\\tau) = \\frac{\\operatorname{E} \\left[(I_{t+\\tau} - \\mu_{I})(I_{t} - \\mu_{I})\\right]}{\\sigma_{I}^2}$\n"
      ]
    },
    {
      "cell_type": "code",
      "execution_count": null,
      "metadata": {
        "cellView": "form",
        "colab": {
          "base_uri": "https://localhost:8080/",
          "height": 451
        },
        "id": "REKoNOhpH5TS",
        "outputId": "7f4dac56-9fec-456b-a45f-d1b7d782091d"
      },
      "outputs": [],
      "source": [
        "#@title ####  Plotting the auto-correlation function\n",
        "\n",
        "\n",
        "# Calculating the auto-correlation function for SSA\n",
        "acf_from_ssa = get_autocorrelation(ssa_ump, g0='G0', norm='none')\n",
        "mean_acf_ssa = np.mean(acf_from_ssa, axis=0)\n",
        "err_acf_ssa = np.std(acf_from_ssa, axis=0)  \n",
        "\n",
        "acf_from_data = get_autocorrelation(intensity_values_in_image, g0='G0', norm='none')\n",
        "mean_acf_data = np.mean(acf_from_data, axis=0)\n",
        "err_acf_data = np.std(mean_acf_data, axis=0) \n",
        "\n",
        "#max_x_val = np.min((400, len(mean_acf_ssa)))\n",
        "\n",
        "# Plotting the ACF and its mean.\n",
        "fig, ax = plt.subplots(1,2, figsize=(10, 3))\n",
        "# Plotting ACF for SSA\n",
        "tau = np.arange(0, len(mean_acf_ssa), 1)\n",
        "ax[0].axhline(y=0, color='k', linestyle='-', linewidth=0.5)\n",
        "ax[0].plot(tau, mean_acf_ssa, '-', linewidth=3, color='k', label='mean ACF')\n",
        "ax[0].fill_between(tau, mean_acf_ssa - err_acf_ssa, mean_acf_ssa + err_acf_ssa, color='grey', alpha=0.1)\n",
        "ax[0].set_ylim((-0.2, 1))\n",
        "ax[0].set_xlabel('tau')\n",
        "ax[0].set_ylabel(r'G/G(0)')\n",
        "ax[0].set_title('SSA', color ='k')\n",
        "# Plotting the ACF for Image\n",
        "ax[1].axhline(y=0, color='k', linestyle='-', linewidth=0.5)\n",
        "ax[1].plot(tau, mean_acf_data, '-', linewidth=3, color='limegreen', label='mean ACF')\n",
        "ax[1].fill_between(tau, mean_acf_data - err_acf_data, mean_acf_data + err_acf_data, color='grey', alpha=0.1)\n",
        "ax[1].set_ylim((-0.2, 1))\n",
        "ax[1].set_xlabel('tau')\n",
        "ax[1].set_ylabel(r'G/G(0)')\n",
        "\n",
        "ax[1].set_title('Image', color ='k')\n",
        "\n",
        "try:\n",
        "  tau_ssa = tau[np.where(mean_acf_ssa<0)[0][0]]\n",
        "  print('The dwell (decorrelation) time from the SSA is ', str(tau_ssa) , 'seconds')\n",
        "  ax[0].plot([tau_ssa,tau_ssa], [0,0.25], '--', linewidth=1, color='orangered', label= r'$\\tau_{ssa}$')\n",
        "\n",
        "  tau_image = tau[np.where(mean_acf_data<0)[0][0]]\n",
        "  print('The dwell (decorrelation) time from the image is ', str(tau_image) , 'seconds')\n",
        "  ax[1].plot([tau_image,tau_image], [0,0.25], '--', linewidth=1, color='orangered', label= r'$\\tau_{Image}$')\n",
        "except:\n",
        "  print('It was not possible to estimate the dwell (decorrelation) times.')\n",
        "  tau_ssa =1\n",
        "  tau_image =1\n",
        "\n",
        "ax[0].legend()\n",
        "ax[1].legend()\n",
        "\n",
        "plt.show()\n"
      ]
    },
    {
      "cell_type": "markdown",
      "metadata": {
        "id": "IZopwinjuNVX"
      },
      "source": [
        "Make sure to discuss about the [shot noise](https://en.wikipedia.org/wiki/Shot_noise). Ask Brian, Tim or Tatsuya to elaborate. \n",
        "\n",
        "Coulon, Antoine, et al. \"Kinetic competition during the transcription cycle results in stochastic RNA processing.\" Elife 3 (2014): e03939.[Link to publication](https://elifesciences.org/articles/03939)\n"
      ]
    },
    {
      "cell_type": "markdown",
      "metadata": {
        "id": "IQydeWVS7OYd"
      },
      "source": [
        "## Calculating Elongation ($k_{e}$) rates from the $G(\\tau)$\n",
        "\n",
        "_____\n",
        "\n",
        "$\\tilde{k_{e}} = \\frac{L}{\\tau_{dw}} $,\n",
        "\n",
        "where $L$ is the gene length in codons, and $\\tau_{dw}$ is the dwell time."
      ]
    },
    {
      "cell_type": "code",
      "execution_count": null,
      "metadata": {
        "colab": {
          "base_uri": "https://localhost:8080/"
        },
        "id": "LqYCAQqR7oh2",
        "outputId": "dfd54b04-dc83-4104-b5cb-78b5baf6092a"
      },
      "outputs": [],
      "source": [
        "protein_strs = rss.seqmanip.open_seq_file(str(gene_file))[0] # getting the protein length from the gene file.\n",
        "protein_length = len(protein_strs['1'][0])\n",
        "print ('The calculated elongation rate in the SSA is:   ',   str(np.round(protein_length/tau_ssa,1)), ' (aa/sec) \\n') \n",
        "print ('The calculated elongation rate in the image is: ', str(np.round(protein_length/tau_image,1)), ' (aa/sec) \\n'  )"
      ]
    },
    {
      "cell_type": "markdown",
      "metadata": {
        "id": "HWejqq5ilan0"
      },
      "source": [
        "#### Removing outliers"
      ]
    },
    {
      "cell_type": "code",
      "execution_count": null,
      "metadata": {
        "id": "IClcUw8Zla1U"
      },
      "outputs": [],
      "source": [
        "def remove_extrema(vector ,max_percentile = 99):\n",
        "    '''This function is intended to remove extrema data given by the min and max percentiles specified by the user'''\n",
        "    max_val = np.percentile(vector, max_percentile)\n",
        "    new_vector = vector [vector< max_val] \n",
        "    return new_vector"
      ]
    },
    {
      "cell_type": "markdown",
      "metadata": {
        "id": "5eWORsyHRpo5"
      },
      "source": [
        "### Normalizing data\n",
        "\n",
        "$ X_{norm} = \\frac{X -min(X)}{max(X) - min(X)} $"
      ]
    },
    {
      "cell_type": "code",
      "execution_count": null,
      "metadata": {
        "id": "42Ck7QbhRqIG"
      },
      "outputs": [],
      "source": [
        "# Normalizing data\n",
        "selected_time_point = 0\n",
        "data1_raw = ssa_ump[:,selected_time_point].flatten() \n",
        "data1 = (data1_raw- np.min(data1_raw)) / (np.max(data1_raw)-np.min(data1_raw))\n",
        "data_sorted_1 = np.sort(data1)\n",
        "p_1 =np.linspace(0, 1, len(data1), endpoint=False)\n",
        "\n",
        "data2_raw = remove_extrema(intensity_values_in_image[:,selected_time_point].flatten(), max_percentile = 98)\n",
        "data2 = (data2_raw - np.min(data2_raw)) / (np.max(data2_raw)-np.min(data2_raw))\n",
        "data_sorted_2 = np.sort(data2)\n",
        "p_2 =np.linspace(0, 1, len(data2), endpoint=False)"
      ]
    },
    {
      "cell_type": "markdown",
      "metadata": {
        "id": "fCZsBxkRgfxk"
      },
      "source": [
        "## Comparing empirical distributions between the SSA and the intensity in the image.\n"
      ]
    },
    {
      "cell_type": "markdown",
      "metadata": {
        "id": "EYJHzAf6hAvh"
      },
      "source": [
        "The empirial distribution function (EDF)\n",
        "\n",
        "$F(X) = \\frac{1}{n} ∑_{i=1}^{n} I_{(X_{i} \\le x)}$\n",
        "\n",
        "$I_{A}$ is the indicator function of the event $A$."
      ]
    },
    {
      "cell_type": "markdown",
      "metadata": {
        "id": "--eqVtWYgkPB"
      },
      "source": [
        "The empirical cumulative distribution function (eCDF) of random variable X\n",
        "\n",
        "$F_{X}(x) = P(X \\le x) $.\n",
        "\n",
        "\n",
        "Definitions from [Ramachandran, 2020].\n"
      ]
    },
    {
      "cell_type": "code",
      "execution_count": null,
      "metadata": {
        "cellView": "form",
        "colab": {
          "base_uri": "https://localhost:8080/",
          "height": 519
        },
        "id": "w7IWkKK9GRqp",
        "outputId": "b861f06b-ed23-44a3-fddb-c65e41c756f1"
      },
      "outputs": [],
      "source": [
        "#@title Plotting empirical distribution functions\n",
        "\n",
        "# Plotting\n",
        "fig, ax = plt.subplots(1,3, figsize=(15, 4))\n",
        "ax[0].hist(data_sorted_1, bins = 40, color = 'k')\n",
        "ax[0].set_ylabel('Count')\n",
        "ax[0].set_title('EDF ($\\hat{I_{SSA}}$)')\n",
        "ax[1].hist(data_sorted_2, bins = 40, color = 'limegreen')\n",
        "ax[1].set_ylabel('Count')\n",
        "ax[1].set_title('EDF ($\\hat{I_{image}}$)')\n",
        "ax[2].plot(data_sorted_1, p_1,linewidth=3,label ='SSA',color ='k')\n",
        "ax[2].plot(data_sorted_2, p_2,linewidth=3,label ='Image',color ='limegreen')\n",
        "ax[2].set_title('eCDF')\n",
        "ax[2].set_ylabel('Frequency')\n",
        "ax[2].set_xlabel('Normalized intensity')\n",
        "ax[2].legend()\n",
        "plt.show()"
      ]
    },
    {
      "cell_type": "markdown",
      "metadata": {
        "id": "1YxILpV5Hu-w"
      },
      "source": [
        "#### Metric to compare distributions"
      ]
    },
    {
      "cell_type": "markdown",
      "metadata": {
        "id": "n5ZiFYuCHv0y"
      },
      "source": [
        "The Kolmogorov distance $D_{KS}$ is the maximum vertical distance between two eCDF $F_1$ and $F_2$, with $n$ and $m$ samples, respectively.\n",
        "\n",
        "$D_{KS}=\\max_x |F_{1,n}(x)-F_{2,m}(x)|$"
      ]
    },
    {
      "cell_type": "code",
      "execution_count": null,
      "metadata": {
        "colab": {
          "base_uri": "https://localhost:8080/"
        },
        "id": "R6K2lrtBHv-_",
        "outputId": "c448c454-7b44-4b15-e575-d301aa22a60a"
      },
      "outputs": [],
      "source": [
        "# Calculating Kolmogorov distance between the two ECDF.\n",
        "ks_distance = scipy.stats.kstest(data_sorted_1,data_sorted_2).statistic\n",
        "print('The KS-distance between SSA and image is:' , round(ks_distance,2))"
      ]
    },
    {
      "cell_type": "markdown",
      "metadata": {
        "id": "ZXIGBQgPAjMU"
      },
      "source": [
        "# Calculating ribosome initiation rates ($k_{i}$).\n",
        "_____\n",
        "$\\tilde{k_{i}} ≈ \\frac{\\mu_{I}}{\\tau_{dw}}$,\n",
        "\n",
        "where $\\mu_{I}$ is the mean intensity in units of mature protein (UMP), and $\\tau_{dw}$ is the dwell time calculated from the autocorrelation function.\n",
        "\n",
        "From Eq 21 in [Aguilera 2019 paper] (https://journals.plos.org/ploscompbiol/article?id=10.1371/journal.pcbi.1007425)"
      ]
    },
    {
      "cell_type": "code",
      "execution_count": null,
      "metadata": {
        "colab": {
          "base_uri": "https://localhost:8080/"
        },
        "id": "FFApZsAUAjec",
        "outputId": "cf8a6424-422f-4279-b320-9c8bdd397ee6"
      },
      "outputs": [],
      "source": [
        "mean_int_ssa = np.mean(data1_raw)\n",
        "calculated_initiation_rate_ssa = np.round(mean_int_ssa /tau_ssa ,2)\n",
        "print('The calculated intensity rate for the SSA is: ', calculated_initiation_rate_ssa ,' 1/sec')"
      ]
    },
    {
      "cell_type": "markdown",
      "metadata": {
        "id": "p7HEYt1xG9fV"
      },
      "source": [
        "To relate fluorescence units to units of mature proteins (UMP) we need to determine a scaling factor. To see more about this, please check [Morisaki et al, 2016. Real-time quantification of single RNA translation dynamics in living cells](https://www.science.org/doi/10.1126/science.aaf0899)\n"
      ]
    },
    {
      "cell_type": "code",
      "execution_count": null,
      "metadata": {
        "colab": {
          "base_uri": "https://localhost:8080/"
        },
        "id": "-qXA1VduEYrB",
        "outputId": "de483766-2543-4c6e-9783-484e4d0520f4"
      },
      "outputs": [],
      "source": [
        "# Determining this scaling factor requires performing an experiment with a single tag and then determining the absolute intensity obtained from a single tagged spot\n",
        "number_probes_in_construct = 10\n",
        "intensity_in_single_tagged_spot = 10 # assumed number.\n",
        "scaling_factor = (number_probes_in_construct * intensity_in_single_tagged_spot)\n",
        "\n",
        "# Converting fluorescence units to units of mature proteins (UMP). \n",
        "mean_int_image = np.mean(data2_raw)\n",
        "mean_int_image_ump =mean_int_image/scaling_factor\n",
        "calculated_initiation_rate_image = np.round(mean_int_image_ump /tau_image,2)\n",
        "print('The calculated intensity rate for the image is: ', calculated_initiation_rate_image ,' 1/sec ')"
      ]
    },
    {
      "cell_type": "code",
      "execution_count": null,
      "metadata": {},
      "outputs": [],
      "source": [
        "raise"
      ]
    },
    {
      "cell_type": "markdown",
      "metadata": {
        "id": "8q5b1YTRePpS"
      },
      "source": [
        "# Quality Control\n",
        "_____"
      ]
    },
    {
      "cell_type": "markdown",
      "metadata": {
        "id": "oiPz0wo5dYhb"
      },
      "source": [
        "### Visualizing spots using CropArray\n"
      ]
    },
    {
      "cell_type": "markdown",
      "metadata": {
        "id": "Ma_E8eZ-cKO8"
      },
      "source": [
        "To use croparray we need to use the simulated video and a dataframe with the particle spositions."
      ]
    },
    {
      "cell_type": "code",
      "execution_count": null,
      "metadata": {
        "colab": {
          "base_uri": "https://localhost:8080/"
        },
        "id": "dV0I9SY0cP0k",
        "outputId": "96822eed-d42d-4f6e-fa22-eb782c072ab0"
      },
      "outputs": [],
      "source": [
        "# Shape in the simulated video (f, y, x, ch). \n",
        "simulated_video.shape"
      ]
    },
    {
      "cell_type": "code",
      "execution_count": null,
      "metadata": {
        "cellView": "form",
        "colab": {
          "base_uri": "https://localhost:8080/"
        },
        "id": "BbF-jCEXc-xO",
        "outputId": "e4cf3680-a48f-4742-8ae3-cec709672d3c"
      },
      "outputs": [],
      "source": [
        "#@title #### Converting the video and dataframe into Croparray fromat.\n",
        "# For croparray the dimensions MUST be (fov, f , z, y, x, ch)\n",
        "img_croparray = np.expand_dims(simulated_video,axis=(0,2)) \n",
        "img_croparray.shape \n",
        "\n",
        "# Renaming some colums and adding values to the new columns\n",
        "spots = df.copy() # Creating a copy of the dataframe\n",
        "# renaming some columns\n",
        "spots['id']=spots.index \n",
        "spots.rename(columns={'x': 'xc','y': 'yc', 'frame': 'f'}, inplace=True, errors='raise')\n",
        "# adding column with fov.\n",
        "spots['fov']= 0\n",
        "spots.rename(columns={'particle':'id'})\n",
        "spots = spots[['fov','id','f','yc','xc']]  \n",
        "\n",
        "# Creating the croparray\n",
        "my_ca = ca.create_crop_array(img_croparray,spots,xy_pad=3)\n",
        "#print(my_ca.coords , '\\n')\n",
        "#print(my_ca.dims)\n",
        "\n",
        "# Changing the format to best_z. \n",
        "best_z = ca.best_z_proj(my_ca, ref_ch=0, disk_r=3, roll_n=1)\n",
        "#print(best_z.coords , '\\n')\n",
        "#print(best_z.dims)\n",
        "\n",
        "# View the action of montage\n",
        "my_ca_montage= ca.montage(best_z, row = 'n', col = 't')\n",
        "#print(my_ca_montage.dims)\n",
        "#print(my_ca_montage.coords)"
      ]
    },
    {
      "cell_type": "code",
      "execution_count": null,
      "metadata": {
        "cellView": "form",
        "colab": {
          "base_uri": "https://localhost:8080/",
          "height": 548
        },
        "id": "WG4d6C4vcseO",
        "outputId": "434d70e6-c7d4-4593-9dbd-69379ae999c9"
      },
      "outputs": [],
      "source": [
        "#@title Plotting croparray for channel 0\n",
        "montage_ch0  = my_ca_montage.sel(ch=0).values\n",
        "plt.figure(figsize=(30,5))\n",
        "plt.imshow(montage_ch0[0],cmap='Greys_r')\n",
        "plt.xlabel('Time (s)', size=10)\n",
        "plt.ylabel('Particles', size=10)\n",
        "plt.xticks([])\n",
        "plt.yticks([])\n",
        "plt.show()"
      ]
    },
    {
      "cell_type": "code",
      "execution_count": null,
      "metadata": {
        "cellView": "form",
        "colab": {
          "base_uri": "https://localhost:8080/",
          "height": 548
        },
        "id": "shZiWtTHuMCb",
        "outputId": "aee11e23-9b31-4ca2-dbcb-d2c92a532ba9"
      },
      "outputs": [],
      "source": [
        "#@title Plotting croparray for channel 1\n",
        "\n",
        "montage_ch1  = my_ca_montage.sel(ch=1).values\n",
        "plt.figure(figsize=(30,5))\n",
        "plt.imshow(montage_ch1[0],cmap='Greys_r')\n",
        "plt.xlabel('Time (s)', size=10)\n",
        "plt.ylabel('Particle', size=10)\n",
        "plt.xticks([])\n",
        "plt.yticks([])\n",
        "plt.show()"
      ]
    },
    {
      "cell_type": "code",
      "execution_count": null,
      "metadata": {
        "cellView": "form",
        "colab": {
          "base_uri": "https://localhost:8080/",
          "height": 548
        },
        "id": "8Qq-HnjFuTK2",
        "outputId": "3e4ab0a9-dcbb-4ae8-8863-83951f37e512"
      },
      "outputs": [],
      "source": [
        "#@title Plotting croparray for channel 2\n",
        "\n",
        "montage_ch2  = my_ca_montage.sel(ch=2).values\n",
        "plt.figure(figsize=(30,5))\n",
        "plt.imshow(montage_ch2[0],cmap='Greys_r')\n",
        "plt.xlabel('Time (s)', size=10)\n",
        "plt.ylabel('Particle', size=10)\n",
        "plt.xticks([])\n",
        "plt.yticks([])\n",
        "plt.show()"
      ]
    },
    {
      "cell_type": "markdown",
      "metadata": {
        "id": "w9rPrE-5WsA_"
      },
      "source": [
        "## Testing for Bleed-through (crosstalk) of fluorescence emission spectra."
      ]
    },
    {
      "cell_type": "code",
      "execution_count": null,
      "metadata": {
        "cellView": "form",
        "id": "4hE7fIPqU-82"
      },
      "outputs": [],
      "source": [
        "#@title ###Extracting data from pandas dataframe\n",
        "\n",
        "def extracting_data(dataframe,selected_field='green_int_mean', remove_negative_values=False,remove_extreme_values=False,selected_time=0):\n",
        "    extracted_data = dataframe.loc[(dataframe['frame']==selected_time)][selected_field].values\n",
        "    # Negative values may appear if the intensity in the background is higher than the intensity in the spot. This option allows to remove negative values.\n",
        "    if remove_negative_values == True:\n",
        "        extracted_data =  extracted_data[extracted_data>=0] \n",
        "    # To plot the histogram, we could remove extreme values. Extreme values are defined as those above the 98 percentile. \n",
        "    if remove_extreme_values==True:\n",
        "        extracted_data= remove_extrema(extracted_data)  \n",
        "    # Option to normalize data to the maximum value.\n",
        "    normalized_extracted_data = (extracted_data-np.min(extracted_data))/ (np.max(extracted_data)-np.min(extracted_data))  \n",
        "    return extracted_data,normalized_extracted_data"
      ]
    },
    {
      "cell_type": "code",
      "execution_count": null,
      "metadata": {
        "cellView": "form",
        "id": "ICUCGakdUDRG"
      },
      "outputs": [],
      "source": [
        "#@title Function for scatter plot\n",
        "\n",
        "def plot_scatter_spots_cell_size(x,y,plot_title,selected_color = '#1C00FE',xlabel='',ylabel='',max_percentile=95):\n",
        "    \n",
        "    df_join_distribution = pd.DataFrame({'X':x,'Y':y})\n",
        "\n",
        "    # Removing outliers as values that are above 98% percentile\n",
        "    df_join_distribution.sort_values(by=['X'], ascending=True,inplace=True)\n",
        "    print('Scatter plot removing values that are avobe the ',str(max_percentile),' percentile')\n",
        "    len_df = len (df_join_distribution)\n",
        "    df_join_distribution_wo_outliers = df_join_distribution.head(int(len_df*(max_percentile/100)))\n",
        "    \n",
        "    r, p = stats.pearsonr(df_join_distribution_wo_outliers.X.values, df_join_distribution_wo_outliers.Y.values)\n",
        "    \n",
        "    plt.figure(figsize=(4, 4))\n",
        "    sns.set(font_scale = 1.3)\n",
        "    b = sns.jointplot(data=df_join_distribution_wo_outliers, y='Y', x='X', color= selected_color , marginal_kws=dict(bins=40, rug=True))\n",
        "    b.plot_joint(sns.rugplot, height=0, color=[0.7,0.7,0.7], clip_on=True)\n",
        "    b.plot_joint(sns.kdeplot, color=[0.5,0.5,0.5], levels=5)\n",
        "    b.plot_joint(sns.regplot,scatter_kws={'color': 'orangered',\"s\":10, 'marker':'o'}, line_kws={'color': selected_color,'lw': 2} )\n",
        "    blank_plot, = b.ax_joint.plot([], [], linestyle=\"\", alpha=0)\n",
        "    b.ax_joint.legend([blank_plot],['r={:.2f}'.format( np.round(r,2))],loc='upper left',)\n",
        "    b.ax_joint.set_xlim(np.percentile(x,1), np.percentile(x,max_percentile))\n",
        "    b.ax_joint.set_ylim(np.percentile(y,1), np.percentile(y,max_percentile))\n",
        "    b.fig.suptitle(plot_title)\n",
        "    b.ax_joint.set_xlabel(xlabel)\n",
        "    b.ax_joint.set_ylabel(ylabel)\n",
        "    b.ax_joint.collections[0].set_alpha(0)\n",
        "    b.fig.tight_layout()\n",
        "    b.fig.subplots_adjust(top=0.92) \n",
        "    plt.show()\n",
        "    return"
      ]
    },
    {
      "cell_type": "markdown",
      "metadata": {
        "id": "o4zR-FBnee3R"
      },
      "source": [
        "### Comparing intenisty between the Red and Green channels"
      ]
    },
    {
      "cell_type": "code",
      "execution_count": null,
      "metadata": {
        "colab": {
          "base_uri": "https://localhost:8080/",
          "height": 772
        },
        "id": "--1R2uv4UPlA",
        "outputId": "5018658a-98a5-4ad2-a00e-289fea756b20"
      },
      "outputs": [],
      "source": [
        "# Scatter plots intensity comparing all channels\n",
        "int_red,_ =  extracting_data(dataframe=df, selected_field='red_int_mean')\n",
        "int_green,_ =  extracting_data(dataframe=df,selected_field='green_int_mean')\n",
        "plot_scatter_spots_cell_size(int_red,int_green,plot_title='Red vs Green',selected_color = '#1C00FE',xlabel='red intensity',ylabel='green intensity',max_percentile=97)"
      ]
    },
    {
      "cell_type": "markdown",
      "metadata": {
        "id": "6dzjmY1MjNmC"
      },
      "source": [
        "# References\n",
        "_____"
      ]
    },
    {
      "cell_type": "markdown",
      "metadata": {
        "id": "uN51OLABjPdt"
      },
      "source": [
        "[1] Ramachandran, K.M. and Tsokos, C.P., 2020. Mathematical statistics with applications in R. Academic Press.\n",
        "\n",
        "Katz, Zachary B., et al. \"Mapping translation'hot-spots' in live cells by tracking single molecules of mRNA and ribosomes.\" Elife 5 (2016): e10415.\n",
        "\n",
        "\n",
        "Morisaki, T., Lyon, K., DeLuca, K.F., DeLuca, J.G., English, B.P., Zhang, Z., Lavis, L.D., Grimm, J.B., Viswanathan, S., Looger, L.L. and Lionnet, T., 2016. Real-time quantification of single RNA translation dynamics in living cells. Science, 352(6292), pp.1425-1429.\n"
      ]
    }
  ],
  "metadata": {
    "colab": {
      "collapsed_sections": [],
      "name": "rSNAPed_Simulated_Cell.ipynb",
      "provenance": []
    },
    "gpuClass": "standard",
    "kernelspec": {
      "display_name": "Python 3.8.5 ('rsnaped_env')",
      "language": "python",
      "name": "python3"
    },
    "language_info": {
      "codemirror_mode": {
        "name": "ipython",
        "version": 3
      },
      "file_extension": ".py",
      "mimetype": "text/x-python",
      "name": "python",
      "nbconvert_exporter": "python",
      "pygments_lexer": "ipython3",
      "version": "3.8.5"
    },
    "vscode": {
      "interpreter": {
        "hash": "daf7c258a197027f92a823c5e9002157216e53cdde30f9077602d149eebf1043"
      }
    }
  },
  "nbformat": 4,
  "nbformat_minor": 0
}
