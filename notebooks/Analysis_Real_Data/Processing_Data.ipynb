{
 "cells": [
  {
   "cell_type": "markdown",
   "id": "8c32be38",
   "metadata": {},
   "source": [
    "# Integrated Simulations"
   ]
  },
  {
   "cell_type": "code",
   "execution_count": null,
   "id": "3395177f",
   "metadata": {
    "jupyter": {
     "source_hidden": true
    }
   },
   "outputs": [],
   "source": [
    "import os; from os import listdir; from os.path import isfile, join\n",
    "import re  \n",
    "#from skimage import io \n",
    "from skimage.io import imread\n",
    "# To manipulate arrays\n",
    "import numpy as np \n",
    "import random\n",
    "from tqdm.notebook import tqdm\n",
    "from timeit import default_timer as timer\n",
    "import scipy\n",
    "import pandas as pd\n",
    "import shutil\n",
    "import pathlib\n",
    "import sys\n",
    "import rsnapsim as rss\n",
    "from skimage.exposure import rescale_intensity\n",
    "# Plotting\n",
    "import matplotlib as mpl ; import matplotlib.pyplot as plt \n",
    "# To create interactive elements\n",
    "import ipywidgets as widgets ; from ipywidgets import interact, interactive, fixed, interact_manual, Button, HBox, VBox, Layout, GridspecLayout ; from IPython.display import Image\n",
    "# Importing rsnaped\n",
    "current_dir = pathlib.Path().absolute()\n",
    "rsnaped_dir = current_dir.parents[1].joinpath('rsnaped')\n",
    "sys.path.append(str(rsnaped_dir))\n",
    "import rsnaped as rsp"
   ]
  },
  {
   "cell_type": "code",
   "execution_count": null,
   "id": "915094d4",
   "metadata": {},
   "outputs": [],
   "source": [
    "\n",
    "# Deffining directories\n",
    "video_dir = current_dir.parents[1].joinpath('DataBases/CAP_IRES')\n",
    "#video_dir = current_dir.parents[1].joinpath('DataBases/12xSun-KDM5B___1xFLAG-12xSun-AlexX')\n",
    "#video_dir = current_dir.parents[1].joinpath('DataBases','Hela')\n"
   ]
  },
  {
   "cell_type": "code",
   "execution_count": null,
   "id": "ba46444e",
   "metadata": {},
   "outputs": [],
   "source": [
    "#Function to detect all tif files in a folder\n",
    "def folder_reader(folder):\n",
    "    '''\n",
    "    This function imports all tif files in a give folder.\n",
    "    Input:\n",
    "    folder: str, with the file name.\n",
    "    \n",
    "    Returns:\n",
    "    list_files_names :  List of str with all file names\n",
    "    path_files : List of str with all file paths\n",
    "    '''\n",
    "    # Reads the folder with the results and import the simulations as lists\n",
    "    list_files_names = sorted([f for f in listdir(folder) if isfile(join(folder, f)) and ('.tif') in f], key=str.lower)  # reading all tif files in the folder\n",
    "    try:\n",
    "        list_files_names.sort(key=lambda f: int(re.sub('\\D', '', f)))  # sorting the index in numerical order\n",
    "    except:\n",
    "        pass\n",
    "    path_files = [ str(folder.joinpath(f).resolve()) for f in list_files_names ] # creating the complete path for each file\n",
    "    # Reading the microscopy data\n",
    "    max_frames_to_read = 100\n",
    "    list_videos = [imread(f)[0:max_frames_to_read,:,:,:] for f in  path_files] # List with all the videos. \n",
    "    num_videos = len(path_files) # the number of videos in the folder is the length of list_videos\n",
    "    return path_files, list_files_names,list_videos, num_videos"
   ]
  },
  {
   "cell_type": "code",
   "execution_count": null,
   "id": "76f014f8",
   "metadata": {},
   "outputs": [],
   "source": [
    "# Load videos \n",
    "path_files,list_files_names,list_videos, num_videos = folder_reader(video_dir)\n",
    "print(path_files)"
   ]
  },
  {
   "cell_type": "code",
   "execution_count": null,
   "id": "03124fbc",
   "metadata": {},
   "outputs": [],
   "source": [
    "def plot_original_images(image,slice=0):\n",
    "    '''\n",
    "    This function plots all the channels for the original image.\n",
    "    '''\n",
    "    number_channels = image.shape[3]\n",
    "    fig, axes = plt.subplots(nrows=1, ncols=number_channels, figsize=(15, 5))\n",
    "    for i in range (0,number_channels ):\n",
    "        img_2d = image[slice,:,:,i]\n",
    "        img_2d_rescaled = rsp.RemoveExtrema(img_2d, min_percentile = 0.1, max_percentile= 99.9, selected_channels=[0,1]).remove_outliers()\n",
    "        axes[i].imshow(img_2d_rescaled, cmap='viridis') \n",
    "        axes[i].set_title('Channel_'+str(i))\n",
    "    plt.show()"
   ]
  },
  {
   "cell_type": "code",
   "execution_count": null,
   "id": "6ef1fa39",
   "metadata": {},
   "outputs": [],
   "source": [
    "for i,vid in enumerate(list_videos):\n",
    "    plot_original_images(vid)"
   ]
  },
  {
   "cell_type": "code",
   "execution_count": null,
   "id": "a78b2440",
   "metadata": {},
   "outputs": [],
   "source": [
    "print(list_videos[0].shape)"
   ]
  },
  {
   "cell_type": "markdown",
   "id": "261b5dc8",
   "metadata": {},
   "source": [
    "# Tracking"
   ]
  },
  {
   "cell_type": "code",
   "execution_count": null,
   "id": "f36b59ee",
   "metadata": {},
   "outputs": [],
   "source": [
    "intensity_calculation_method = 'disk_donut'  # options are : 'total_intensity' and 'disk_donut' 'gaussian_fit'\n",
    "mask_selection_method = 'max_area'           # options are : 'max_spots' and 'max_area' \n",
    "use_optimization_for_tracking = 1            # 0 not using, 1 is using optimization\n",
    "min_percentage_time_tracking = 0.3            # (normalized) minimum time to consider a trajectory.\n",
    "particle_detection_size = 7                  # spot size for the simulation and tracking.\n",
    "selected_channel = 0                         # Selected channel for tracking\n",
    "average_cell_diameter = 200                    # cell diameter\n",
    "intensity_threshold_tracking = None          # intensity threshold. If None, the code uses automatic detection # "
   ]
  },
  {
   "cell_type": "code",
   "execution_count": null,
   "id": "9c9b62e4",
   "metadata": {},
   "outputs": [],
   "source": [
    "list_DataFrame_particles_intensities= []\n",
    "for i, temp_video in enumerate(list_videos):\n",
    "    DataFrame_particles_intensities, _, _, _,_, _, _ = rsp.PipelineTracking(temp_video,particle_size=particle_detection_size,file_name=list_files_names[i],selected_channel=selected_channel,intensity_calculation_method =intensity_calculation_method, mask_selection_method = mask_selection_method,show_plot=1,use_optimization_for_tracking=use_optimization_for_tracking,real_positions_dataframe = None, average_cell_diameter=average_cell_diameter, print_process_times=1,min_percentage_time_tracking=min_percentage_time_tracking,intensity_threshold_tracking=intensity_threshold_tracking).run()    \n",
    "    list_DataFrame_particles_intensities.append(DataFrame_particles_intensities)"
   ]
  },
  {
   "cell_type": "code",
   "execution_count": null,
   "id": "db96498e",
   "metadata": {},
   "outputs": [],
   "source": [
    "df =list_DataFrame_particles_intensities[0]\n"
   ]
  },
  {
   "cell_type": "code",
   "execution_count": null,
   "id": "04bbf7cb",
   "metadata": {},
   "outputs": [],
   "source": [
    "df"
   ]
  },
  {
   "cell_type": "code",
   "execution_count": null,
   "id": "7257d1a4",
   "metadata": {},
   "outputs": [],
   "source": []
  },
  {
   "cell_type": "code",
   "execution_count": null,
   "id": "bdfcbe21",
   "metadata": {},
   "outputs": [],
   "source": []
  }
 ],
 "metadata": {
  "kernelspec": {
   "display_name": "Python 3.8.5 ('rsnaped_env')",
   "language": "python",
   "name": "python3"
  },
  "language_info": {
   "codemirror_mode": {
    "name": "ipython",
    "version": 3
   },
   "file_extension": ".py",
   "mimetype": "text/x-python",
   "name": "python",
   "nbconvert_exporter": "python",
   "pygments_lexer": "ipython3",
   "version": "3.8.5"
  },
  "vscode": {
   "interpreter": {
    "hash": "daf7c258a197027f92a823c5e9002157216e53cdde30f9077602d149eebf1043"
   }
  }
 },
 "nbformat": 4,
 "nbformat_minor": 5
}
