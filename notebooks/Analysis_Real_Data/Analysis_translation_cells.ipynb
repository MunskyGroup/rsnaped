{
 "cells": [
  {
   "cell_type": "markdown",
   "metadata": {},
   "source": [
    "# Real data"
   ]
  },
  {
   "cell_type": "code",
   "execution_count": null,
   "metadata": {
    "jupyter": {
     "source_hidden": true
    }
   },
   "outputs": [],
   "source": [
    "import os; from os import listdir; from os.path import isfile, join\n",
    "import re  \n",
    "#from skimage import io \n",
    "from skimage.io import imread\n",
    "# To manipulate arrays\n",
    "import numpy as np \n",
    "import random\n",
    "from tqdm.notebook import tqdm\n",
    "from timeit import default_timer as timer\n",
    "import scipy\n",
    "import pandas as pd\n",
    "import shutil\n",
    "import pathlib\n",
    "import sys\n",
    "import rsnapsim as rss\n",
    "\n",
    "from skimage.exposure import rescale_intensity\n",
    "# Plotting\n",
    "import matplotlib as mpl ; import matplotlib.pyplot as plt \n",
    "# To create interactive elements\n",
    "import ipywidgets as widgets ; from ipywidgets import interact, interactive, fixed, interact_manual, Button, HBox, VBox, Layout, GridspecLayout ; from IPython.display import Image\n",
    "import dna_features_viewer\n",
    "from dna_features_viewer import BiopythonTranslator, GraphicFeature, GraphicRecord, CircularGraphicRecord\n",
    "\n",
    "# Deffining directories\n",
    "current_dir = pathlib.Path().absolute()\n",
    "sequences_dir = current_dir.parents[1].joinpath('DataBases','gene_files')\n",
    "video_dir = current_dir.parents[1].joinpath('DataBases','LargeDataSets','20190909_u2os_multiplex','smFLAG-KDM5B')\n",
    "#video_dir = current_dir.parents[1].joinpath('DataBases','LargeDataSets','20190909_u2os_multiplex','smFLAG-ActB')\n",
    "\n",
    "rsnaped_dir = current_dir.parents[1].joinpath('rsnaped')\n",
    "\n",
    "# Importing rSNAPed\n",
    "sys.path.append(str(rsnaped_dir))\n",
    "import rsnaped as rsp\n"
   ]
  },
  {
   "cell_type": "code",
   "execution_count": null,
   "metadata": {},
   "outputs": [],
   "source": [
    "# Paths to dropbox\n",
    "from sys import platform as _platform\n",
    "if _platform == \"linux\" or _platform == \"linux2\":\n",
    "    dropbox_address = pathlib.Path('/','home','luisub','Dropbox', 'Project_rSNAPed','manuscript','Figures')\n",
    "elif _platform == \"darwin\":\n",
    "    dropbox_address = pathlib.Path('/','Users','luisaguilera','Dropbox', 'Project_rSNAPed','manuscript','Figures')"
   ]
  },
  {
   "cell_type": "code",
   "execution_count": null,
   "metadata": {},
   "outputs": [],
   "source": [
    "#Function to detect all tif files in a folder\n",
    "def folder_reader(folder):\n",
    "    '''\n",
    "    This function imports all tif files in a give folder.\n",
    "    Input:\n",
    "    folder: str, with the file name.\n",
    "\n",
    "    Returns:\n",
    "    list_files_names :  List of str with all file names\n",
    "    path_files : List of str with all file paths\n",
    "    '''\n",
    "    # Reads the folder with the results and import the simulations as lists\n",
    "    list_files_names = sorted([f for f in listdir(folder) if isfile(join(folder, f)) and ('.tif') in f], key=str.lower)  # reading all tif files in the folder\n",
    "    list_files_names.sort(key=lambda f: int(re.sub('\\D', '', f)))  # sorting the index in numerical order\n",
    "    path_files = [ str(folder.joinpath(f).resolve()) for f in list_files_names ] # creating the complete path for each file\n",
    "    # Reading the microscopy data\n",
    "    max_frames_to_read = 100\n",
    "    list_videos = [imread(f)[0:max_frames_to_read,:,:,:] for f in  path_files] # List with all the videos. \n",
    "    num_videos = len(path_files) # the number of videos in the folder is the length of list_videos\n",
    "    return path_files, list_files_names,list_videos, num_videos"
   ]
  },
  {
   "cell_type": "code",
   "execution_count": null,
   "metadata": {},
   "outputs": [],
   "source": [
    "# Load gene sequences\n",
    "path_files,list_files_names,list_videos, num_videos = folder_reader(video_dir)\n",
    "print(path_files)"
   ]
  },
  {
   "cell_type": "code",
   "execution_count": null,
   "metadata": {},
   "outputs": [],
   "source": [
    "# Coding sequence\n",
    "#gene_file = str(sequences_dir.joinpath('Bactin_withTags.txt')) # coding sequence for SM_KDM5B_PP7    ### 5685 nt   ### 1895 codons\n",
    "gene_file= str(sequences_dir.joinpath('KDM5B_withTags.txt'))  # coding sequence for SM_p300_MS2      ### 8268 nt   ### 2756 codons"
   ]
  },
  {
   "cell_type": "code",
   "execution_count": null,
   "metadata": {},
   "outputs": [],
   "source": [
    "# Simulating a TASEP model for the beta-actin gene\n",
    "poi_strs, poi_objs, tagged_pois,raw_seq = rss.seqmanip.open_seq_file(gene_file)  #open this file and find all valid protein of interest objs\n",
    "gene_mrna = tagged_pois['1'][0]  #lets take the first one since thats the longest\n",
    "rss.solver.protein = gene_mrna #pass this protein object to the solver\n",
    "gene_mrna.visualize_probe()  # what does our construct look like?"
   ]
  },
  {
   "cell_type": "code",
   "execution_count": null,
   "metadata": {},
   "outputs": [],
   "source": [
    "intensity_calculation_method = 'disk_donut'  # options are : 'total_intensity' and 'disk_donut' 'gaussian_fit'\n",
    "mask_selection_method = 'max_area' # options are : 'max_spots' and 'max_area' \n",
    "use_optimization_for_tracking = 0 # 0 not using, 1 is using optimization\n",
    "#frame_selection_empty_video = 'constant' # Options are: 'constant' , 'shuffle' and 'loop'\n",
    "#particle_size = 3 # spot size for the simulation and tracking.\n",
    "particle_detection_size = 5 # spot size for the simulation and tracking."
   ]
  },
  {
   "cell_type": "code",
   "execution_count": null,
   "metadata": {},
   "outputs": [],
   "source": [
    "def plot_original_images(image,slice=0):\n",
    "    '''\n",
    "    This function plots all the channels for the original image.\n",
    "    '''\n",
    "    number_channels = image.shape[3]\n",
    "    fig, axes = plt.subplots(nrows=1, ncols=number_channels, figsize=(15, 5))\n",
    "    for i in range (0,number_channels ):\n",
    "        img_2d = image[slice,:,:,i]\n",
    "        img_2d_rescaled = rsp.RemoveExtrema(img_2d, min_percentile = 0.5, max_percentile= 99.5, selected_channels=[0,1]).remove_outliers()\n",
    "        axes[i].imshow(img_2d_rescaled, cmap='viridis') \n",
    "        axes[i].set_title('Channel_'+str(i))\n",
    "    plt.show()"
   ]
  },
  {
   "cell_type": "code",
   "execution_count": null,
   "metadata": {},
   "outputs": [],
   "source": [
    "plot_original_images(list_videos[0])\n",
    "plot_original_images(list_videos[1])"
   ]
  },
  {
   "cell_type": "code",
   "execution_count": null,
   "metadata": {},
   "outputs": [],
   "source": [
    "list_DataFrame_particles_intensities= []\n",
    "for i, temp_video in enumerate(list_videos):\n",
    "    DataFrame_particles_intensities, _, _, _,_, _, _ = rsp.PipelineTracking(temp_video,particle_size=particle_detection_size,file_name=list_files_names[i],selected_channel=0,intensity_calculation_method =intensity_calculation_method, mask_selection_method = mask_selection_method,show_plot=1,use_optimization_for_tracking=use_optimization_for_tracking,real_positions_dataframe = None, average_cell_diameter=200, print_process_times=1).run()    \n",
    "    list_DataFrame_particles_intensities.append(DataFrame_particles_intensities)"
   ]
  },
  {
   "cell_type": "code",
   "execution_count": null,
   "metadata": {},
   "outputs": [],
   "source": [
    "all_data = True\n",
    "sel_timepoint = 0\n",
    "sel_cell = 0"
   ]
  },
  {
   "cell_type": "code",
   "execution_count": null,
   "metadata": {},
   "outputs": [],
   "source": [
    "df =list_DataFrame_particles_intensities[sel_cell]\n",
    "df"
   ]
  },
  {
   "cell_type": "code",
   "execution_count": null,
   "metadata": {},
   "outputs": [],
   "source": [
    "print(list_videos[sel_cell][0,:,:,0].mean())\n",
    "print(list_videos[sel_cell][0,:,:,1].mean())\n",
    "print(list_videos[sel_cell][0,:,:,2].mean())"
   ]
  },
  {
   "cell_type": "markdown",
   "metadata": {},
   "source": [
    "# Plotting figures"
   ]
  },
  {
   "cell_type": "code",
   "execution_count": null,
   "metadata": {},
   "outputs": [],
   "source": [
    "fig_size = (20, 5)\n",
    "f = plt.figure(figsize=fig_size)\n",
    "def fun_scatter_plot(x,y, title='', xlab='', ylab='',\n",
    "                alpha=1, color='r',\n",
    "                subplots=False, show_grid=True, fig=f,font_size=8):\n",
    "    m, b = np.polyfit(x,y, 1)\n",
    "    mean_x = np.mean(x)\n",
    "    mean_y = np.mean(y)\n",
    "    #axarr = f.add_subplot(1,1,1)\n",
    "    plt.scatter(x, y, alpha=alpha, color=color, s= 2)\n",
    "    plt.plot(x, m*x + b,'-w',linewidth=1)\n",
    "    plt.plot(mean_x,mean_y,'o',color='w' ,  markersize=10)\n",
    "    plt.xlim(min(x), max(x))\n",
    "    plt.xlabel(xlab, size=font_size)\n",
    "    plt.ylabel(ylab, size=font_size)\n",
    "    plt.grid(show_grid)\n",
    "    plt.title(title, size=font_size)\n",
    "    return(f)"
   ]
  },
  {
   "cell_type": "markdown",
   "metadata": {},
   "source": [
    "## Channels"
   ]
  },
  {
   "cell_type": "code",
   "execution_count": null,
   "metadata": {},
   "outputs": [],
   "source": [
    "selected_timePoint = 0 # selecting a frame to display in the plot.\n",
    "fig_size = (20, 10)\n",
    "fig, ax = plt.subplots(ncols=2,nrows=1, figsize=fig_size)\n",
    "for i in range(0,2):\n",
    "  img = list_videos[sel_cell][selected_timePoint,:,:,i]\n",
    "  mean_int = img.mean()\n",
    "  #img= rsp.RemoveExtrema(img,min_percentile=1,max_percentile=99.9).remove_outliers()\n",
    "  ax[i].imshow(img,cmap='Greys_r')\n",
    "  ax[i].axis('off')\n",
    "  ax[i].set_title(' --REAL-- Channel_'+str(i) + ' Mean_Int = ' +str(round(mean_int,0)) , size=16)\n",
    "plt.savefig(\"./results/real_cell.png\")\n",
    "plt.show()\n"
   ]
  },
  {
   "cell_type": "markdown",
   "metadata": {},
   "source": [
    "## Intensity distribution"
   ]
  },
  {
   "cell_type": "code",
   "execution_count": null,
   "metadata": {},
   "outputs": [],
   "source": [
    "plt.style.use('ggplot')"
   ]
  },
  {
   "cell_type": "code",
   "execution_count": null,
   "metadata": {},
   "outputs": [],
   "source": [
    "fig_size = (14, 2.5)\n",
    "font_size = 8 \n",
    "\n"
   ]
  },
  {
   "cell_type": "code",
   "execution_count": null,
   "metadata": {},
   "outputs": [],
   "source": [
    "f = plt.figure(figsize=fig_size)\n",
    "\n",
    "channel = 0\n",
    "f.add_subplot(1,5,1) \n",
    "mean_int = list_videos[0][selected_timePoint,:,:,channel].mean()\n",
    "plt.imshow(list_videos[0][selected_timePoint,:,:,channel],cmap='Greys_r')\n",
    "plt.axis('off')\n",
    "#plt.title(' REAL CH_'+str(channel) + ' mu_Int = ' +str(round(mean_int,0)) , size=16)\n",
    "\n",
    "f.add_subplot(1,5,2) \n",
    "fun_scatter_plot(x = df.red_int_mean.values, y= df.SNR_red.values, title='Int vs SNR', xlab='Int', ylab='SNR', fig=f, color='r')\n",
    "f.add_subplot(1,5,3) \n",
    "fun_scatter_plot(x = df.background_int_mean_red.values, y= df.SNR_red.values, title='BG_Int vs SNR', xlab='BG_Int', ylab='SNR', fig=f, color='r')\n",
    "f.add_subplot(1,5,4) \n",
    "fun_scatter_plot(x = df.background_int_std_red.values, y= df.SNR_red.values, title='BG_std_Int vs SNR', xlab='BG_std_Int', ylab='SNR', fig=f, color='r')\n",
    "\n",
    "# adding the histogram\n",
    "f.add_subplot(1,5,5) # here is where you add the subplot to f\n",
    "f=plt.hist(df.SNR_red.values,bins=30,color='r')\n",
    "#plt.title('dist SNR', size=16)\n",
    "plt.ylabel('count', size=16)\n",
    "plt.xlabel('SNR', size=16)\n",
    "\n",
    "plt.tight_layout() \n",
    "plt.subplots_adjust(wspace=0.25, hspace=0)\n",
    "\n",
    "name_figure = 'real_SNR_ch0.png'\n",
    "figure_directory = str(dropbox_address.joinpath(name_figure ) )\n",
    "plt.savefig(figure_directory, transparent=False,dpi=300, bbox_inches = \"tight\")\n",
    "\n",
    "plt.show()"
   ]
  },
  {
   "cell_type": "code",
   "execution_count": null,
   "metadata": {},
   "outputs": [],
   "source": [
    "f = plt.figure(figsize=fig_size)\n",
    "\n",
    "channel = 1\n",
    "f.add_subplot(1,5,1) \n",
    "mean_int = list_videos[0][selected_timePoint,:,:,channel].mean()\n",
    "plt.imshow(list_videos[0][selected_timePoint,:,:,channel],cmap='Greys_r')\n",
    "plt.axis('off')\n",
    "#plt.title(' REAL CH_'+str(channel) + ' mu_Int = ' +str(round(mean_int,0)) , size=16)\n",
    "\n",
    "f.add_subplot(1,5,2) \n",
    "fun_scatter_plot(x = df.green_int_mean.values, y= df.SNR_green.values, title='Int vs SNR', xlab='Int', ylab='SNR', fig=f, color='g',font_size=font_size)\n",
    "f.add_subplot(1,5,3) \n",
    "fun_scatter_plot(x = df.background_int_mean_green.values, y= df.SNR_green.values, title='BG_Int vs SNR', xlab='BG_Int', ylab='SNR', fig=f, color='g',font_size=font_size)\n",
    "f.add_subplot(1,5,4) \n",
    "fun_scatter_plot(x = df.background_int_std_green.values, y= df.SNR_green.values, title='BG_std_Int vs SNR', xlab='BG_std_Int', ylab='SNR', fig=f, color='g',font_size=font_size)\n",
    "\n",
    "# adding the histogram\n",
    "f.add_subplot(1,5,5) # here is where you add the subplot to f\n",
    "f=plt.hist(df.SNR_green.values,bins=30,color='g')\n",
    "#plt.title('dist SNR', size=16)\n",
    "plt.ylabel('count', size=font_size)\n",
    "plt.xlabel('SNR', size=font_size)\n",
    "\n",
    "plt.tight_layout() \n",
    "plt.subplots_adjust(wspace=0.25, hspace=0)\n",
    "\n",
    "name_figure = 'real_SNR_ch1.png'\n",
    "figure_directory = str(dropbox_address.joinpath(name_figure ) )\n",
    "plt.savefig(figure_directory, transparent=True,dpi=300, bbox_inches = \"tight\")\n",
    "\n",
    "plt.show()\n"
   ]
  },
  {
   "cell_type": "code",
   "execution_count": null,
   "metadata": {},
   "outputs": [],
   "source": []
  }
 ],
 "metadata": {
  "kernelspec": {
   "display_name": "Python 3.8.5 ('rsnaped_env')",
   "language": "python",
   "name": "python3"
  },
  "language_info": {
   "codemirror_mode": {
    "name": "ipython",
    "version": 3
   },
   "file_extension": ".py",
   "mimetype": "text/x-python",
   "name": "python",
   "nbconvert_exporter": "python",
   "pygments_lexer": "ipython3",
   "version": "3.8.5"
  },
  "vscode": {
   "interpreter": {
    "hash": "daf7c258a197027f92a823c5e9002157216e53cdde30f9077602d149eebf1043"
   }
  }
 },
 "nbformat": 4,
 "nbformat_minor": 5
}
