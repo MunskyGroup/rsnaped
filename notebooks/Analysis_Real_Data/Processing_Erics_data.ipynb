{
 "cells": [
  {
   "cell_type": "code",
   "execution_count": null,
   "metadata": {},
   "outputs": [],
   "source": [
    "import os; from os import listdir; from os.path import isfile, join\n",
    "import re  \n",
    "from skimage.io import imread\n",
    "from skimage.exposure import rescale_intensity\n",
    "import numpy as np \n",
    "from tqdm.notebook import tqdm\n",
    "from timeit import default_timer as timer\n",
    "import scipy\n",
    "import pandas as pd\n",
    "import shutil\n",
    "import pathlib\n",
    "import sys\n",
    "import seaborn as sns\n",
    "import rsnapsim as rss\n",
    "import scipy.stats as stats\n",
    "import matplotlib.pyplot as plt \n",
    "from matplotlib_scalebar.scalebar import ScaleBar\n",
    "from matplotlib.patches import Rectangle\n",
    "from matplotlib.patches import ConnectionPatch"
   ]
  },
  {
   "cell_type": "code",
   "execution_count": null,
   "metadata": {},
   "outputs": [],
   "source": [
    "plt.style.use(\"dark_background\")"
   ]
  },
  {
   "cell_type": "code",
   "execution_count": null,
   "metadata": {},
   "outputs": [],
   "source": [
    "# Defining directories\n",
    "current_dir = pathlib.Path().absolute()\n",
    "video_dir = current_dir.parents[1].joinpath('DataBases','test_videos','ran_short','MAX_Cell01.tif')\n",
    "beads_dir = current_dir.parents[1].joinpath('DataBases','test_videos','ran_short_beads','Beads01.tif')"
   ]
  },
  {
   "cell_type": "code",
   "execution_count": null,
   "metadata": {},
   "outputs": [],
   "source": [
    "tmp_video = np.vstack([imread('D://multiplexing_10.18.22//20221004//20221004_KDM5b_BAct//20221004_2//Full resolution//20221004_NDTiffStack.tif'), \n",
    "                    imread('D://multiplexing_10.18.22//20221004//20221004_KDM5b_BAct//20221004_2//Full resolution//20221004_NDTiffStack_1.tif')])\n",
    "\n",
    "# DataBases/Erics_data/20221004_NDTiffStack_1.tif\n"
   ]
  },
  {
   "cell_type": "code",
   "execution_count": null,
   "metadata": {},
   "outputs": [],
   "source": [
    "t = tmp_video.reshape(50, 8, 13, 2, 512,512) #time, cell, z, channel, x, y?"
   ]
  },
  {
   "cell_type": "code",
   "execution_count": null,
   "metadata": {},
   "outputs": [],
   "source": [
    "# using code\n"
   ]
  },
  {
   "cell_type": "code",
   "execution_count": null,
   "metadata": {},
   "outputs": [],
   "source": [
    "real_video_path = current_dir.parents[1].joinpath('DataBases','KDM5B_Translation_SampleMovies')\n",
    "real_videos_path_correct_format = rsp.convert_directory_to_standard_format(directory=real_video_path, time_position = 0, height_position = 2,  width_position = 3, channel_position = 1)"
   ]
  },
  {
   "cell_type": "code",
   "execution_count": null,
   "metadata": {},
   "outputs": [],
   "source": []
  },
  {
   "cell_type": "code",
   "execution_count": null,
   "metadata": {},
   "outputs": [],
   "source": []
  },
  {
   "cell_type": "code",
   "execution_count": null,
   "metadata": {},
   "outputs": [],
   "source": []
  },
  {
   "cell_type": "code",
   "execution_count": null,
   "metadata": {},
   "outputs": [],
   "source": []
  },
  {
   "cell_type": "code",
   "execution_count": null,
   "metadata": {},
   "outputs": [],
   "source": []
  }
 ],
 "metadata": {
  "kernelspec": {
   "display_name": "Python 3.8.5 ('rsnaped_env')",
   "language": "python",
   "name": "python3"
  },
  "language_info": {
   "name": "python",
   "version": "3.8.5"
  },
  "orig_nbformat": 4,
  "vscode": {
   "interpreter": {
    "hash": "daf7c258a197027f92a823c5e9002157216e53cdde30f9077602d149eebf1043"
   }
  }
 },
 "nbformat": 4,
 "nbformat_minor": 2
}
