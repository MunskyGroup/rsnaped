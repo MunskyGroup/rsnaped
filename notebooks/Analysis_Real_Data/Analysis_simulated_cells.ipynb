{
 "cells": [
  {
   "cell_type": "markdown",
   "id": "8c32be38",
   "metadata": {},
   "source": [
    "# Integrated Simulations"
   ]
  },
  {
   "cell_type": "code",
   "execution_count": null,
   "id": "3395177f",
   "metadata": {
    "jupyter": {
     "source_hidden": true
    }
   },
   "outputs": [],
   "source": [
    "import os; from os import listdir; from os.path import isfile, join\n",
    "import re  \n",
    "#from skimage import io \n",
    "from skimage.io import imread\n",
    "# To manipulate arrays\n",
    "import numpy as np \n",
    "import random\n",
    "from tqdm.notebook import tqdm\n",
    "from timeit import default_timer as timer\n",
    "import scipy\n",
    "import pandas as pd\n",
    "import shutil\n",
    "import pathlib\n",
    "import sys\n",
    "import rsnapsim as rss\n",
    "from skimage.exposure import rescale_intensity\n",
    "# Plotting\n",
    "import matplotlib as mpl ; import matplotlib.pyplot as plt \n",
    "# To create interactive elements\n",
    "import ipywidgets as widgets ; from ipywidgets import interact, interactive, fixed, interact_manual, Button, HBox, VBox, Layout, GridspecLayout ; from IPython.display import Image"
   ]
  },
  {
   "cell_type": "code",
   "execution_count": null,
   "id": "5ea650b2",
   "metadata": {
    "jupyter": {
     "source_hidden": true
    }
   },
   "outputs": [],
   "source": [
    "# Deffining directories\n",
    "current_dir = pathlib.Path().absolute()\n",
    "sequences_dir = current_dir.parents[1].joinpath('DataBases','gene_files')\n",
    "video_dir = current_dir.parents[1].joinpath('DataBases','videos_for_sim_cell')\n",
    "rsnaped_dir = current_dir.parents[1].joinpath('rsnaped')\n",
    "\n",
    "trajectories_dir = current_dir.parents[1].joinpath('DataBases','rsnapsim_simulations','kdm5b_ssa.npy')\n",
    "gene_file = current_dir.parents[1].joinpath('DataBases','gene_files','KDM5B_withTags.txt')\n",
    "\n",
    "#trajectories_dir = current_dir.parents[1].joinpath('DataBases','rsnapsim_simulations','bactin_ssa.npy')\n",
    "#gene_file = current_dir.parents[1].joinpath('DataBases','gene_files','Bactin_withTags.txt')"
   ]
  },
  {
   "cell_type": "code",
   "execution_count": null,
   "id": "5ff5dce7",
   "metadata": {},
   "outputs": [],
   "source": [
    "# Paths to dropbox\n",
    "from sys import platform as _platform\n",
    "if _platform == \"linux\" or _platform == \"linux2\":\n",
    "    dropbox_address = pathlib.Path('/','home','luisub','Dropbox', 'Project_rSNAPed','manuscript','Figures')\n",
    "elif _platform == \"darwin\":\n",
    "    dropbox_address = pathlib.Path('/','Users','luisaguilera','Dropbox', 'Project_rSNAPed','manuscript','Figures')"
   ]
  },
  {
   "cell_type": "code",
   "execution_count": null,
   "id": "0877b5d9",
   "metadata": {
    "jupyter": {
     "source_hidden": true
    }
   },
   "outputs": [],
   "source": [
    "# Importing rSNAPsim_IP\n",
    "sys.path.append(str(rsnaped_dir))\n",
    "import rsnaped as rsp"
   ]
  },
  {
   "cell_type": "code",
   "execution_count": null,
   "id": "bbacf17d",
   "metadata": {},
   "outputs": [],
   "source": [
    "# These are the parameters that need to be tested. \n",
    "number_of_simulated_cells = 1 # PLEASE TEST MIN 1 MAX 10\n",
    "number_spots_per_cell = 50    # PLEASE TEST MIN 5 MAX 200\n",
    "simulation_time_in_sec = 60     # PLEASE TEST MIN 10 MAX 100\n",
    "diffusion_coefficient = 0.5    # PLEASE TEST MIN 0.1 MAX 2"
   ]
  },
  {
   "cell_type": "code",
   "execution_count": null,
   "id": "c2d0c74a",
   "metadata": {
    "jupyter": {
     "source_hidden": true
    }
   },
   "outputs": [],
   "source": [
    "intensity_calculation_method = 'disk_donut'  # options are : 'total_intensity' and 'disk_donut' 'gaussian_fit'\n",
    "mask_selection_method = 'max_area' # options are : 'max_spots' and 'max_area' \n",
    "use_optimization_for_tracking = 1 # 0 not using, 1 is using optimization\n",
    "frame_selection_empty_video = 'constant' # Options are: 'constant' , 'shuffle' and 'loop'"
   ]
  },
  {
   "cell_type": "code",
   "execution_count": null,
   "id": "7bc59077",
   "metadata": {
    "jupyter": {
     "source_hidden": true
    }
   },
   "outputs": [],
   "source": [
    "particle_size = 7 # spot size for the simulation and tracking.\n",
    "elongation_rate = 10\n",
    "initiation_rate = 0.03"
   ]
  },
  {
   "cell_type": "code",
   "execution_count": null,
   "id": "733b6308",
   "metadata": {},
   "outputs": [],
   "source": [
    "intensity_scale_ch0 = 200\n",
    "intensity_scale_ch1 = 200\n",
    "intensity_scale_ch2 = 200"
   ]
  },
  {
   "cell_type": "code",
   "execution_count": null,
   "id": "b62fc0ce",
   "metadata": {},
   "outputs": [],
   "source": [
    "particle_detection_size = particle_size"
   ]
  },
  {
   "cell_type": "code",
   "execution_count": null,
   "id": "78079be3",
   "metadata": {},
   "outputs": [],
   "source": [
    "def rsnapsim_ssa(gene_file,ke,ki,frames=300,frame_rate=1,n_traj=20):\n",
    "    '''\n",
    "    This function uses rsnapsim to simulate the single-molecule translation dynamics of any gene.\n",
    "    Inputs:\n",
    "    gene_file : str, with the location of a fasta file.\n",
    "    ke : float, elongation rate.\n",
    "    ki: float, initiation rate.\n",
    "    frames: int, total number of simulation frames in seconds.\n",
    "    n_traj: int, number of trajectories to simulate\n",
    "    frame_rate : int, frame rate per second\n",
    "    Outputs:\n",
    "    ssa_int : NumPy array with dimenssions [Time_points, simulated_trajectories]\n",
    "    '''\n",
    "    poi_strs, poi_objs, tagged_pois,raw_seq = rss.seqmanip.open_seq_file(str(gene_file))\n",
    "    gene_obj = tagged_pois['1'][0]\n",
    "    gene_obj.ke_mu = ke\n",
    "    rss.solver.protein = gene_obj #pass the protein object\n",
    "    t_burnin = 1000\n",
    "    t = np.linspace(0,t_burnin+frames,(t_burnin+frames+1)*(frame_rate))\n",
    "    number_probes = np.amax(gene_obj.probe_vec)\n",
    "    ints = []\n",
    "    #for i in tq.tqdm(range(n_traj)):\n",
    "    counter = 0\n",
    "    while counter < n_traj:\n",
    "      ssa_solution = rss.solver.solve_ssa(gene_obj.kelong, t, ki=ki, kt = ke, low_memory=True,record_stats=False,n_traj=1)\n",
    "      ssa_int =  ssa_solution.intensity_vec[0,t_burnin*frame_rate:-1,:]\n",
    "      if np.mean(ssa_int)> 1:\n",
    "        ints.append(ssa_int)\n",
    "        counter +=1\n",
    "    ssa = np.array(ints).reshape(n_traj,frames) #flatten the lists back to a numpy array\n",
    "\n",
    "    ssa_ump = ssa/number_probes\n",
    "    return ssa, ssa_ump, gene_obj, t,number_probes"
   ]
  },
  {
   "cell_type": "markdown",
   "id": "1f16463b",
   "metadata": {},
   "source": [
    "## Running the simulations"
   ]
  },
  {
   "cell_type": "code",
   "execution_count": null,
   "id": "834a46d6",
   "metadata": {
    "jupyter": {
     "source_hidden": true
    }
   },
   "outputs": [],
   "source": [
    "def fun_simulated_cells(current_dir, video_dir,ke=3,ki=0.03,gene_file =None, trajectories_dir=None, number_of_simulated_cells=3,number_spots_per_cell=80,simulation_time_in_sec =100,step_size_in_sec=1,particle_size=5, diffusion_coefficient =1,path_to_rSNAPsim= None, path_to_save_output='temp',intensity_calculation_method='gaussian_fit',frame_selection_empty_video=frame_selection_empty_video):\n",
    "    spot_size = particle_size\n",
    "    spot_sigma = 1\n",
    "    # Code that creates the folder to store results.\n",
    "    diffusion_coefficient_string = str(diffusion_coefficient).replace('.','_')\n",
    "    directory_name = 'Simulation_V2__'+'ns_'+str(number_spots_per_cell) +'_diff_'+ diffusion_coefficient_string \n",
    "    path_to_save_output = 'temp'\n",
    "    save_to_path =  current_dir.joinpath(path_to_save_output , directory_name )\n",
    "    if not os.path.exists(str(save_to_path)):\n",
    "        os.makedirs(str(save_to_path))\n",
    "    else:\n",
    "        shutil.rmtree(str(save_to_path))\n",
    "        os.makedirs(str(save_to_path))\n",
    "    counter = 0\n",
    "    ## Main loop that creates each cell and dataframe\n",
    "    for cell_number in range (0, number_of_simulated_cells):\n",
    "        output_directory_name = str(video_dir)\n",
    "        list_files_names = sorted([f for f in listdir(output_directory_name) if isfile(join(output_directory_name, f)) and ('.tif') in f], key=str.lower)  # reading all tif files in the folder\n",
    "        list_files_names.sort(key=lambda f: int(re.sub('\\D', '', f)))  # sorting the index in numerical order\n",
    "        path_files = [ str(video_dir.joinpath(f).resolve()) for f in list_files_names ] # creating the complete path for each file\n",
    "        \n",
    "        selected_cell = 1\n",
    "        if not(selected_cell is None):\n",
    "            video_path = path_files[counter]     \n",
    "        else:\n",
    "            video_path = path_files[selected_cell]   \n",
    "        video = imread(video_path) \n",
    "\n",
    "        # Reducing in a half the intensity in the original video\n",
    "        #video = video//2\n",
    "        \n",
    "        counter +=1\n",
    "        if counter>=len(path_files):\n",
    "            counter =0\n",
    "        if not (trajectories_dir is None ):\n",
    "            # Loading trajectories from file\n",
    "            ssa_trajectories = np.load(str(trajectories_dir))\n",
    "            random_index_ch1 = np.random.randint(low=0, high=ssa_trajectories.shape[0]-1, size=(number_spots_per_cell,))\n",
    "            random_index_ch2 = np.random.randint(low=0, high=ssa_trajectories.shape[0]-1, size=(number_spots_per_cell,))\n",
    "            simulated_trajectories_ch1 = ssa_trajectories[random_index_ch1,0:simulation_time_in_sec:step_size_in_sec]\n",
    "            simulated_trajectories_ch2 =  ssa_trajectories[random_index_ch2,0:simulation_time_in_sec:step_size_in_sec]\n",
    "        else:\n",
    "            # Simulations for intensity\n",
    "            ssa1,ssa1_ump,_,_,number_probes = rsnapsim_ssa(gene_file,ke,ki,frames=simulation_time_in_sec,frame_rate=1,n_traj=number_spots_per_cell) # rss.ssa_solver(n_traj = number_spots_per_cell, start_time=starting_time,tf=starting_time+n_frames, tstep=starting_time+n_frames,k_elong_mean=3, k_initiation=.03)  # tstep = total number of steps including the burnin time \n",
    "            simulated_trajectories_ch1 = ssa1_ump\n",
    "            ssa2,ssa1_ump,_,_,number_probes =  rsnapsim_ssa(gene_file,ke,ki,frames=simulation_time_in_sec,frame_rate=1,n_traj=number_spots_per_cell) # rss.ssa_solver(n_traj = number_spots_per_cell, start_time=starting_time,tf=starting_time+n_frames, tstep=starting_time+n_frames,k_elong_mean=3, k_initiation=.03)  # tstep = total number of steps including the burnin time \n",
    "            simulated_trajectories_ch2 = ssa1_ump\n",
    "        simulated_trajectories_ch0 = None\n",
    "        simulated_trajectories_ch0 = simulated_trajectories_ch2\n",
    "        # Running the cell simulation\n",
    "        saved_file_name = str(save_to_path.joinpath('sim_cell_'+str(cell_number)))\n",
    "        tensor_video , spot_positions_movement, DataFrame_particles_intensities = rsp.SimulatedCell( base_video=video, number_spots = number_spots_per_cell, number_frames=simulation_time_in_sec, step_size=step_size_in_sec, diffusion_coefficient =diffusion_coefficient, simulated_trajectories_ch0=simulated_trajectories_ch0, size_spot_ch0=spot_size, spot_sigma_ch0=spot_sigma, simulated_trajectories_ch1=simulated_trajectories_ch1, size_spot_ch1=spot_size, spot_sigma_ch1=spot_sigma, simulated_trajectories_ch2=simulated_trajectories_ch2, size_spot_ch2=spot_size, spot_sigma_ch2=spot_sigma, ignore_ch0=0,ignore_ch1=0, ignore_ch2=0,save_as_tif_uint8=0,save_as_tif =1,save_as_gif=0, save_dataframe=1, saved_file_name=saved_file_name,create_temp_folder = False, intensity_calculation_method=intensity_calculation_method,perform_video_augmentation=1,frame_selection_empty_video=frame_selection_empty_video ,intensity_scale_ch0 = intensity_scale_ch0,intensity_scale_ch1 = intensity_scale_ch1,intensity_scale_ch2 = intensity_scale_ch2).make_simulation()      \n",
    "        #print ('The results are saved in folder: ', saved_file_name)\n",
    "    return save_to_path"
   ]
  },
  {
   "cell_type": "code",
   "execution_count": null,
   "id": "ac7adfc2",
   "metadata": {
    "jupyter": {
     "source_hidden": true
    }
   },
   "outputs": [],
   "source": [
    "# running the simulation\n",
    "start = timer()\n",
    "output_directory_name = fun_simulated_cells(current_dir,video_dir,ke=elongation_rate, ki=initiation_rate,trajectories_dir=None,gene_file= gene_file, number_of_simulated_cells=number_of_simulated_cells,number_spots_per_cell=number_spots_per_cell,simulation_time_in_sec =simulation_time_in_sec,step_size_in_sec=1,particle_size=particle_size, diffusion_coefficient=diffusion_coefficient,path_to_rSNAPsim= None,intensity_calculation_method=intensity_calculation_method,frame_selection_empty_video=frame_selection_empty_video)\n",
    "end = timer()\n",
    "print('Time to generate simulated data:',round(end - start), ' sec')"
   ]
  },
  {
   "cell_type": "code",
   "execution_count": null,
   "id": "54dc9ee6",
   "metadata": {
    "jupyter": {
     "source_hidden": true
    }
   },
   "outputs": [],
   "source": [
    "# Reads the folder with the results and import the simulations as lists\n",
    "list_files_names = sorted([f for f in listdir(output_directory_name) if isfile(join(output_directory_name, f)) and ('.tif') in f], key=str.lower)  # reading all tif files in the folder\n",
    "list_files_names.sort(key=lambda f: int(re.sub('\\D', '', f)))  # sorting the index in numerical order\n",
    "path_files = [ str(output_directory_name.joinpath(f).resolve()) for f in list_files_names ] # creating the complete path for each file\n",
    "\n",
    "# Reading the microscopy data\n",
    "list_videos_original = [imread(f)[:,:,:,:] for f in  path_files] # List with all the videos\n",
    "nimg = number_of_simulated_cells"
   ]
  },
  {
   "cell_type": "code",
   "execution_count": null,
   "id": "a953c5ad",
   "metadata": {},
   "outputs": [],
   "source": [
    "# Rescaling images\n",
    "rescale_video = False\n",
    "if rescale_video == True:\n",
    "    list_videos = []\n",
    "    number_channels = list_videos_original[0].shape[-1]\n",
    "    number_z_slices = list_videos_original[0].shape[0]\n",
    "    for i in range (0,nimg ):\n",
    "        temp_img = np.zeros_like(list_videos_original[0])\n",
    "        for j in range(0,number_channels):\n",
    "            temp_img[:,:,:,j] =  np.asarray( [ rescale_intensity(list_videos_original[i][z,:,:,j], in_range='image', out_range='dtype')  for z in range (0, number_z_slices)]  )\n",
    "        list_videos.append(temp_img)\n",
    "else:\n",
    "    list_videos = list_videos_original"
   ]
  },
  {
   "cell_type": "code",
   "execution_count": null,
   "id": "24496a93",
   "metadata": {
    "jupyter": {
     "source_hidden": true
    }
   },
   "outputs": [],
   "source": [
    "# Reads the dataframes\n",
    "list_files_dfnames = sorted([f for f in listdir(output_directory_name) if isfile(join(output_directory_name, f)) and ('.csv') in f], key=str.lower)  # reading all tif files in the folder\n",
    "list_files_dfnames.sort(key=lambda f: int(re.sub('\\D', '', f)))  # sorting the index in numerical order\n",
    "path_files_df = [ str(output_directory_name.joinpath(f).resolve()) for f in list_files_dfnames ] # creating the complete path for each file\n",
    "list_df_real_positions = [pd.read_csv(f) for f in  path_files_df] # List with all the videos"
   ]
  },
  {
   "cell_type": "markdown",
   "id": "b71a6834",
   "metadata": {},
   "source": [
    "## Display results as images"
   ]
  },
  {
   "cell_type": "code",
   "execution_count": null,
   "id": "750ba811",
   "metadata": {},
   "outputs": [],
   "source": [
    "# Showing the simulated images\n",
    "rsp.VisualizerImage(list_videos,list_files_names=list_files_names,selected_channel =0,selected_timepoint= 0,normalize=0,individual_figure_size=10).plot()"
   ]
  },
  {
   "cell_type": "code",
   "execution_count": null,
   "id": "6fc542fe",
   "metadata": {},
   "outputs": [],
   "source": [
    "#intensity_selection_method =intensity_selection_method, mask_selection_method = mask_selection_method\n",
    "list_DataFrame_particles_intensities= []\n",
    "#list_array_intensities = []\n",
    "#list_time_vector = []\n",
    "for i in tqdm(range(0,nimg)): \n",
    "    DataFrame_particles_intensities, _, _, _,_, _, _ = rsp.PipelineTracking(list_videos[i],particle_size=particle_detection_size,file_name=list_files_names[i],selected_channel=0,intensity_calculation_method =intensity_calculation_method, mask_selection_method = mask_selection_method,show_plot=1,use_optimization_for_tracking=use_optimization_for_tracking,real_positions_dataframe = list_df_real_positions[i],average_cell_diameter=200,print_process_times=1).run()    \n",
    "    list_DataFrame_particles_intensities.append(DataFrame_particles_intensities)\n",
    "    #list_array_intensities.append(array_intensities)\n",
    "    #list_time_vector.append(time_vector)"
   ]
  },
  {
   "cell_type": "code",
   "execution_count": null,
   "id": "ddc9e667",
   "metadata": {},
   "outputs": [],
   "source": [
    "list_DataFrame_particles_intensities\n",
    "df =list_DataFrame_particles_intensities[0]\n",
    "df"
   ]
  },
  {
   "cell_type": "code",
   "execution_count": null,
   "id": "29488d18",
   "metadata": {},
   "outputs": [],
   "source": [
    "all_data = True\n",
    "sel_timepoint = 0"
   ]
  },
  {
   "cell_type": "code",
   "execution_count": null,
   "id": "958bdff2",
   "metadata": {},
   "outputs": [],
   "source": [
    "print(list_videos[0][0,:,:,0].mean())\n",
    "print(list_videos[0][0,:,:,1].mean())\n",
    "print(list_videos[0][0,:,:,2].mean())"
   ]
  },
  {
   "cell_type": "markdown",
   "id": "78a7c696",
   "metadata": {},
   "source": [
    "# Plotting figures"
   ]
  },
  {
   "cell_type": "code",
   "execution_count": null,
   "id": "6e021b67",
   "metadata": {},
   "outputs": [],
   "source": [
    "fig_size = (14, 2.5)\n",
    "f = plt.figure(figsize=fig_size)\n",
    "def fun_scatter_plot(x,y, title='', xlab='', ylab='',\n",
    "                alpha=1, color='r',\n",
    "                subplots=False, show_grid=True, fig=f,font_size=8):\n",
    "    m, b = np.polyfit(x,y, 1)\n",
    "    mean_x = np.mean(x)\n",
    "    mean_y = np.mean(y)\n",
    "    #axarr = f.add_subplot(1,1,1)\n",
    "    plt.scatter(x, y, alpha=alpha, color=color, s= 2)\n",
    "    plt.plot(x, m*x + b,'-w',linewidth=2)\n",
    "    plt.plot(mean_x,mean_y,'o',color='w' ,  markersize=10)\n",
    "    plt.xlim(min(x), max(x))\n",
    "    plt.xlabel(xlab, size=font_size)\n",
    "    plt.ylabel(ylab, size=font_size)\n",
    "    plt.grid(show_grid)\n",
    "    plt.title(title, size=font_size)\n",
    "    return(f)"
   ]
  },
  {
   "cell_type": "markdown",
   "id": "87a806d6",
   "metadata": {},
   "source": [
    "## Channels"
   ]
  },
  {
   "cell_type": "code",
   "execution_count": null,
   "id": "b329ee93",
   "metadata": {},
   "outputs": [],
   "source": [
    "selected_timePoint = 0 # selecting a frame to display in the plot.\n",
    "fig_size = (20, 10)\n",
    "fig, ax = plt.subplots(ncols=2,nrows=1, figsize=fig_size)\n",
    "for i in range(0,2):\n",
    "  mean_int = list_videos[0][selected_timePoint,:,:,i].mean()\n",
    "  ax[i].imshow(list_videos[0][selected_timePoint,:,:,i],cmap='Greys_r')\n",
    "  ax[i].axis('off')\n",
    "  ax[i].set_title(' SIMULATED Channel_'+str(i) + ' Mean_Int = ' +str(round(mean_int,0)) , size=16)\n",
    "plt.savefig('./results/sim_cell.png')\n",
    "plt.show()\n"
   ]
  },
  {
   "cell_type": "markdown",
   "id": "ccf59ec6",
   "metadata": {},
   "source": [
    "## Intensity distribution"
   ]
  },
  {
   "cell_type": "code",
   "execution_count": null,
   "id": "f31b22b0",
   "metadata": {},
   "outputs": [],
   "source": [
    "plt.style.use('ggplot')"
   ]
  },
  {
   "cell_type": "code",
   "execution_count": null,
   "id": "10b4a2d3",
   "metadata": {},
   "outputs": [],
   "source": [
    "fig_size = (14, 2.5)\n",
    "font_size = 8 \n"
   ]
  },
  {
   "cell_type": "code",
   "execution_count": null,
   "id": "27c7b0d2",
   "metadata": {},
   "outputs": [],
   "source": [
    "f = plt.figure(figsize=fig_size)\n",
    "channel = 0\n",
    "f.add_subplot(1,5,1) \n",
    "mean_int = list_videos[0][selected_timePoint,:,:,channel].mean()\n",
    "plt.imshow(list_videos[0][selected_timePoint,:,:,channel],cmap='Greys_r')\n",
    "plt.axis('off')\n",
    "#plt.title(' SIMULATED CH_'+str(channel) + ' mu_Int = ' +str(round(mean_int,0)) , size=16)\n",
    "\n",
    "f.add_subplot(1,5,2) \n",
    "fun_scatter_plot(x = df.red_int_mean.values, y= df.SNR_red.values, title='Int vs SNR', xlab='Int', ylab='SNR', fig=f, color='r',font_size=font_size)\n",
    "f.add_subplot(1,5,3) \n",
    "fun_scatter_plot(x = df.background_int_mean_red.values, y= df.SNR_red.values, title='BG_Int vs SNR', xlab='BG_Int', ylab='SNR', fig=f, color='r',font_size=font_size)\n",
    "f.add_subplot(1,5,4) \n",
    "fun_scatter_plot(x = df.background_int_std_red.values, y= df.SNR_red.values, title='BG_std_Int vs SNR', xlab='BG_std_Int', ylab='SNR', fig=f, color='r',font_size=font_size)\n",
    "\n",
    "# adding the histogram\n",
    "f.add_subplot(1,5,5) # here is where you add the subplot to f\n",
    "f=plt.hist(df.SNR_red.values,bins=30,color='r')\n",
    "#plt.title('dist SNR', size=16)\n",
    "plt.ylabel('count', size=font_size)\n",
    "plt.xlabel('SNR', size=font_size)\n",
    "\n",
    "plt.tight_layout() \n",
    "plt.subplots_adjust(wspace=0.25, hspace=0)\n",
    "\n",
    "name_figure = 'simulated_SNR_ch0.png'\n",
    "figure_directory = str(dropbox_address.joinpath(name_figure ) )\n",
    "plt.savefig(figure_directory, transparent=True,dpi=300, bbox_inches = \"tight\")\n",
    "\n",
    "\n",
    "plt.show()\n"
   ]
  },
  {
   "cell_type": "code",
   "execution_count": null,
   "id": "c986ddf0",
   "metadata": {},
   "outputs": [],
   "source": [
    "f = plt.figure(figsize=fig_size)\n",
    "\n",
    "channel = 1\n",
    "f.add_subplot(1,5,1) \n",
    "mean_int = list_videos[0][selected_timePoint,:,:,channel].mean()\n",
    "plt.imshow(list_videos[0][selected_timePoint,:,:,channel],cmap='Greys_r')\n",
    "plt.axis('off')\n",
    "#plt.title(' REAL CH_'+str(channel) + ' mu_Int = ' +str(round(mean_int,0)) , size=16)\n",
    "\n",
    "f.add_subplot(1,5,2) \n",
    "fun_scatter_plot(x = df.green_int_mean.values, y= df.SNR_green.values, title='Int vs SNR', xlab='Int', ylab='SNR', fig=f, color='g',font_size=font_size)\n",
    "f.add_subplot(1,5,3) \n",
    "fun_scatter_plot(x = df.background_int_mean_green.values, y= df.SNR_green.values, title='BG_Int vs SNR', xlab='BG_Int', ylab='SNR', fig=f, color='g',font_size=font_size)\n",
    "f.add_subplot(1,5,4) \n",
    "fun_scatter_plot(x = df.background_int_std_green.values, y= df.SNR_green.values, title='BG_std_Int vs SNR', xlab='BG_std_Int', ylab='SNR', fig=f, color='g',font_size=font_size)\n",
    "\n",
    "# adding the histogram\n",
    "f.add_subplot(1,5,5) # here is where you add the subplot to f\n",
    "f=plt.hist(df.SNR_green.values,bins=30,color='g')\n",
    "#plt.title('dist SNR', size=16)\n",
    "plt.ylabel('count', size=font_size)\n",
    "plt.xlabel('SNR', size=font_size)\n",
    "\n",
    "plt.tight_layout() \n",
    "plt.subplots_adjust(wspace=0.25, hspace=0)\n",
    "\n",
    "name_figure = 'simulated_SNR_ch1.png'\n",
    "figure_directory = str(dropbox_address.joinpath(name_figure ) )\n",
    "plt.savefig(figure_directory, transparent=True,dpi=300, bbox_inches = \"tight\")\n",
    "\n",
    "plt.show()\n"
   ]
  }
 ],
 "metadata": {
  "interpreter": {
   "hash": "ff7d081ce4817123eaa831f172a3e70559f334d78f7532d1a0ec42cef63090fa"
  },
  "kernelspec": {
   "display_name": "Python 3.8.5 64-bit ('base': conda)",
   "name": "python3"
  },
  "language_info": {
   "codemirror_mode": {
    "name": "ipython",
    "version": 3
   },
   "file_extension": ".py",
   "mimetype": "text/x-python",
   "name": "python",
   "nbconvert_exporter": "python",
   "pygments_lexer": "ipython3",
   "version": "3.8.5"
  }
 },
 "nbformat": 4,
 "nbformat_minor": 5
}
