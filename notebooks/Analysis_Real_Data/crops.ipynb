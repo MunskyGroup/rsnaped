{
 "cells": [
  {
   "cell_type": "code",
   "execution_count": 1,
   "source": [
    "import numpy as np"
   ],
   "outputs": [],
   "metadata": {}
  },
  {
   "cell_type": "code",
   "execution_count": 2,
   "source": [
    "particle_size = 3\n",
    "disk_size = int(particle_size/2) \n",
    "crop_size = int(particle_size/2) *2\n",
    "\n",
    "\n",
    "print('disk',disk_size, ' crop ', crop_size)\n",
    "\n",
    "y_pos = 12\n",
    "x_pos = 8\n"
   ],
   "outputs": [
    {
     "output_type": "stream",
     "name": "stdout",
     "text": [
      "disk 1  crop  2\n"
     ]
    }
   ],
   "metadata": {}
  },
  {
   "cell_type": "code",
   "execution_count": 3,
   "source": [
    "image = np.ones((50,50))*2\n",
    "\n",
    "image = image//2\n",
    "image[y_pos-(disk_size):y_pos+(disk_size+1), x_pos-(disk_size):x_pos+(disk_size+1)] = 2\n",
    "\n",
    "print('original image')\n",
    "print(image)\n"
   ],
   "outputs": [
    {
     "output_type": "stream",
     "name": "stdout",
     "text": [
      "original image\n",
      "[[1. 1. 1. ... 1. 1. 1.]\n",
      " [1. 1. 1. ... 1. 1. 1.]\n",
      " [1. 1. 1. ... 1. 1. 1.]\n",
      " ...\n",
      " [1. 1. 1. ... 1. 1. 1.]\n",
      " [1. 1. 1. ... 1. 1. 1.]\n",
      " [1. 1. 1. ... 1. 1. 1.]]\n"
     ]
    }
   ],
   "metadata": {}
  },
  {
   "cell_type": "code",
   "execution_count": 4,
   "source": [
    "recentered_image_donut = image.copy().astype(np.float32)\n",
    "crop_image = recentered_image_donut[y_pos-(crop_size):y_pos+(crop_size+1), x_pos-(crop_size):x_pos+(crop_size+1)]\n",
    "center_coordinates = int(crop_image.shape[0]/2)\n",
    "\n",
    "print('crop')\n",
    "print(crop_image)\n",
    "\n",
    "print( np.mean(crop_image[center_coordinates-(disk_size):center_coordinates+(disk_size+1), center_coordinates-(disk_size):center_coordinates+(disk_size+1)].flatten()) )\n"
   ],
   "outputs": [
    {
     "output_type": "stream",
     "name": "stdout",
     "text": [
      "crop\n",
      "[[1. 1. 1. 1. 1.]\n",
      " [1. 2. 2. 2. 1.]\n",
      " [1. 2. 2. 2. 1.]\n",
      " [1. 2. 2. 2. 1.]\n",
      " [1. 1. 1. 1. 1.]]\n",
      "2.0\n"
     ]
    }
   ],
   "metadata": {}
  },
  {
   "cell_type": "code",
   "execution_count": 5,
   "source": [
    "\n",
    "crop_image[center_coordinates-disk_size:center_coordinates+disk_size+1, center_coordinates-disk_size:center_coordinates+disk_size+1] = np.nan\n",
    "print('image_in_disk')\n",
    "print(crop_image)"
   ],
   "outputs": [
    {
     "output_type": "stream",
     "name": "stdout",
     "text": [
      "image_in_disk\n",
      "[[ 1.  1.  1.  1.  1.]\n",
      " [ 1. nan nan nan  1.]\n",
      " [ 1. nan nan nan  1.]\n",
      " [ 1. nan nan nan  1.]\n",
      " [ 1.  1.  1.  1.  1.]]\n"
     ]
    }
   ],
   "metadata": {}
  },
  {
   "cell_type": "code",
   "execution_count": 6,
   "source": [
    "print( np.nanmean(crop_image.flatten()) )"
   ],
   "outputs": [
    {
     "output_type": "stream",
     "name": "stdout",
     "text": [
      "1.0\n"
     ]
    }
   ],
   "metadata": {}
  }
 ],
 "metadata": {
  "orig_nbformat": 4,
  "language_info": {
   "name": "python",
   "version": "3.8.5",
   "mimetype": "text/x-python",
   "codemirror_mode": {
    "name": "ipython",
    "version": 3
   },
   "pygments_lexer": "ipython3",
   "nbconvert_exporter": "python",
   "file_extension": ".py"
  },
  "kernelspec": {
   "name": "python3",
   "display_name": "Python 3.8.5 64-bit ('base': conda)"
  },
  "interpreter": {
   "hash": "ff7d081ce4817123eaa831f172a3e70559f334d78f7532d1a0ec42cef63090fa"
  }
 },
 "nbformat": 4,
 "nbformat_minor": 2
}