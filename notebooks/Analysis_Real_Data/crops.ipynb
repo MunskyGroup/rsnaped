{
 "cells": [
  {
   "cell_type": "code",
   "execution_count": null,
   "metadata": {},
   "outputs": [],
   "source": [
    "import numpy as np"
   ]
  },
  {
   "cell_type": "code",
   "execution_count": null,
   "metadata": {},
   "outputs": [],
   "source": [
    "particle_size = 3\n",
    "disk_size = int(particle_size/2) \n",
    "crop_size = int(particle_size/2) *2\n",
    "\n",
    "\n",
    "print('disk',disk_size, ' crop ', crop_size)\n",
    "\n",
    "y_pos = 12\n",
    "x_pos = 8\n"
   ]
  },
  {
   "cell_type": "code",
   "execution_count": null,
   "metadata": {},
   "outputs": [],
   "source": [
    "image = np.ones((50,50))*2\n",
    "\n",
    "image = image//2\n",
    "image[y_pos-(disk_size):y_pos+(disk_size+1), x_pos-(disk_size):x_pos+(disk_size+1)] = 2\n",
    "\n",
    "print('original image')\n",
    "print(image)\n"
   ]
  },
  {
   "cell_type": "code",
   "execution_count": null,
   "metadata": {},
   "outputs": [],
   "source": [
    "recentered_image_donut = image.copy().astype(np.float32)\n",
    "crop_image = recentered_image_donut[y_pos-(crop_size):y_pos+(crop_size+1), x_pos-(crop_size):x_pos+(crop_size+1)]\n",
    "center_coordinates = int(crop_image.shape[0]/2)\n",
    "\n",
    "print('crop')\n",
    "print(crop_image)\n",
    "\n",
    "print( np.mean(crop_image[center_coordinates-(disk_size):center_coordinates+(disk_size+1), center_coordinates-(disk_size):center_coordinates+(disk_size+1)].flatten()) )\n"
   ]
  },
  {
   "cell_type": "code",
   "execution_count": null,
   "metadata": {},
   "outputs": [],
   "source": [
    "\n",
    "crop_image[center_coordinates-disk_size:center_coordinates+disk_size+1, center_coordinates-disk_size:center_coordinates+disk_size+1] = np.nan\n",
    "print('image_in_disk')\n",
    "print(crop_image)"
   ]
  },
  {
   "cell_type": "code",
   "execution_count": null,
   "metadata": {},
   "outputs": [],
   "source": [
    "print( np.nanmean(crop_image.flatten()) )"
   ]
  }
 ],
 "metadata": {
  "kernelspec": {
   "display_name": "Python 3.8.5 ('rsnaped_env')",
   "language": "python",
   "name": "python3"
  },
  "language_info": {
   "codemirror_mode": {
    "name": "ipython",
    "version": 3
   },
   "file_extension": ".py",
   "mimetype": "text/x-python",
   "name": "python",
   "nbconvert_exporter": "python",
   "pygments_lexer": "ipython3",
   "version": "3.8.5"
  },
  "orig_nbformat": 4,
  "vscode": {
   "interpreter": {
    "hash": "daf7c258a197027f92a823c5e9002157216e53cdde30f9077602d149eebf1043"
   }
  }
 },
 "nbformat": 4,
 "nbformat_minor": 2
}
