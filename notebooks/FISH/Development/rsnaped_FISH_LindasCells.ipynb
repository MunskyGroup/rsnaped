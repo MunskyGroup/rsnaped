{
 "cells": [
  {
   "cell_type": "code",
   "execution_count": null,
   "metadata": {},
   "outputs": [],
   "source": [
    "# Importing libraries\n",
    "from sys import platform\n",
    "# To import files from directories\n",
    "import os; from os import listdir; from os.path import isfile, join\n",
    "# rSNAPsim Image Processing\n",
    "cwd = os.getcwd(); os.chdir('../../rsnaped');import rsnaped as rsp; os.chdir(cwd)\n",
    "# Image reader\n",
    "from skimage import io ; from skimage.io import imread\n",
    "# Plotting\n",
    "import matplotlib as mpl ; import matplotlib.pyplot as plt \n",
    "import matplotlib.path as mpltPath\n",
    "# To manipulate arrays\n",
    "import numpy as np \n",
    "import random\n",
    "import re\n",
    "from tqdm.notebook import tqdm\n",
    "import scipy\n",
    "import pandas as pd\n",
    "import pathlib\n",
    "import rsnaped as rsn\n",
    "\n",
    "# importing cellpose\n",
    "from cellpose import models, io\n",
    "from skimage.measure import find_contours\n",
    "\n",
    "# To create interactive elements\n",
    "import ipywidgets as widgets ; from ipywidgets import interact, interactive, fixed, interact_manual, Button, HBox, VBox, Layout, GridspecLayout ; from IPython.display import Image\n",
    "# Figure style and size\n",
    "mpl.rc('figure',  figsize=(7, 7)); mpl.rc('image', cmap='gray'); mpl.rc('axes', grid=False); mpl.rcParams['figure.dpi'] = 300\n",
    "%matplotlib inline "
   ]
  },
  {
   "cell_type": "code",
   "execution_count": null,
   "metadata": {},
   "outputs": [],
   "source": [
    "# Deffining the images path \n",
    "figName0 ='../../DataBases/sm_FISH_images/MS2-Cy3/ROI001_XY1621356985_Z00_T0_C0.tif'\n",
    "figName1 ='../../DataBases/sm_FISH_images/MS2-Cy3/ROI001_XY1621356985_Z00_T0_C1.tif'\n",
    "figName2 ='../../DataBases/sm_FISH_images/MS2-Cy3/ROI001_XY1621356985_Z00_T0_C2.tif'\n",
    "\n",
    "#figName0 ='../../DataBases/sm_FISH_images/MS2-Cy5/ROI002_XY1621355013_Z00_T0_C0.tif'\n",
    "#figName1 ='../../DataBases/sm_FISH_images/MS2-Cy5/ROI002_XY1621355013_Z00_T0_C1.tif'\n",
    "#figName2 ='../../DataBases/sm_FISH_images/MS2-Cy5/ROI002_XY1621355013_Z00_T0_C2.tif'\n",
    "\n",
    "files = [figName0,figName1,figName2]\n",
    "list_images_separated_ch = [imread(f) for f in files]"
   ]
  },
  {
   "cell_type": "code",
   "execution_count": null,
   "metadata": {},
   "outputs": [],
   "source": [
    "list_images_separated_ch[0].shape"
   ]
  },
  {
   "cell_type": "code",
   "execution_count": null,
   "metadata": {},
   "outputs": [],
   "source": [
    "len(list_images_separated_ch[0].shape)"
   ]
  },
  {
   "cell_type": "code",
   "execution_count": null,
   "metadata": {},
   "outputs": [],
   "source": [
    "# Merging the images in a new one with dimensions [Z,Y,X,C]\n",
    "merged_image = np.concatenate([list_images_separated_ch[i][..., np.newaxis] for i,_ in enumerate(list_images_separated_ch)],axis=-1)\n",
    "merged_image.shape"
   ]
  },
  {
   "cell_type": "code",
   "execution_count": null,
   "metadata": {},
   "outputs": [],
   "source": [
    "list_images= [merged_image]"
   ]
  },
  {
   "cell_type": "code",
   "execution_count": null,
   "metadata": {},
   "outputs": [],
   "source": [
    "merged_image_rm_extrema = rsn.RemoveExtrema(merged_image,max_percentile=90,ignore_channel=0).remove_outliers()"
   ]
  },
  {
   "cell_type": "code",
   "execution_count": null,
   "metadata": {},
   "outputs": [],
   "source": [
    "img = np.max(merged_image_rm_extrema, axis=0)"
   ]
  },
  {
   "cell_type": "code",
   "execution_count": null,
   "metadata": {},
   "outputs": [],
   "source": [
    "# Deffining the images path \n",
    "list_images_max = [img]\n",
    "nimg = len(list_images_max)\n",
    "list_images_max[0].shape"
   ]
  },
  {
   "cell_type": "code",
   "execution_count": null,
   "metadata": {},
   "outputs": [],
   "source": [
    "fig, axes = plt.subplots(nrows=1, ncols=3, figsize=(15, 5))\n",
    "axes[0].imshow(img[:,:,0])     \n",
    "axes[1].imshow(img[:,:,1])    \n",
    "axes[2].imshow(img[:,:,2])  \n",
    "plt.show()"
   ]
  },
  {
   "cell_type": "code",
   "execution_count": null,
   "metadata": {},
   "outputs": [],
   "source": [
    "# Cell visualization 3D. To start visualization simply move the time slider.\n",
    "#n_img =0\n",
    "#controls, output = rsp.VisualizerVideo3D(list_images[n_img]).make_video_app()\n",
    "#display(VBox([controls, output])); plt.rcParams['figure.figsize'] = [15, 15]"
   ]
  },
  {
   "cell_type": "markdown",
   "metadata": {},
   "source": [
    "# <span style= \"color:red\"> Cell segmentation </span>"
   ]
  },
  {
   "cell_type": "markdown",
   "metadata": {},
   "source": [
    "## Cell segmentaion using machine learning.\n",
    "<span style=\"font-size:1em;\"> CNN architecture based on U-Net. <span/>\n",
    "<span style=\"font-size:1em;\"> Cellpose by Dr. Carsen Stringer (Janelia). <span/>"
   ]
  },
  {
   "cell_type": "code",
   "execution_count": null,
   "metadata": {},
   "outputs": [],
   "source": [
    "list_masks_complete_cells =[]\n",
    "list_masks_nuclei =[]\n",
    "list_masks_cytosol_no_nuclei =[]\n",
    "list_index_paired_masks =[]\n",
    "for i in range(0, nimg):\n",
    "    masks_complete_cells,masks_nuclei,masks_cytosol_no_nuclei, index_paired_masks = rsp.CellposeFISH(list_images_max[i],channel_with_cytosol=[1,1], channel_with_nucleus=0, selected_z_slice=5, diameter_cytosol =150, diamter_nucleus=100, show_plot=1).calculate_masks()\n",
    "    list_masks_complete_cells.append(masks_complete_cells)\n",
    "    list_masks_nuclei.append(masks_nuclei)\n",
    "    list_masks_cytosol_no_nuclei.append(masks_cytosol_no_nuclei)\n",
    "    list_index_paired_masks.append(index_paired_masks)"
   ]
  },
  {
   "cell_type": "markdown",
   "metadata": {},
   "source": [
    "## Example: visualizing all generated masks for a given image"
   ]
  },
  {
   "cell_type": "code",
   "execution_count": null,
   "metadata": {},
   "outputs": [],
   "source": []
  },
  {
   "cell_type": "code",
   "execution_count": null,
   "metadata": {},
   "outputs": [],
   "source": [
    "selected_image = 0\n",
    "num_cells_in_image = list_index_paired_masks[selected_image].shape[0]\n",
    "for i in range(0,num_cells_in_image):\n",
    "    print('')\n",
    "    print('Masks for image: File_Number_'+ str(selected_image) + ' Cell: ' + str(i) )\n",
    "    fig, axes = plt.subplots(nrows=1, ncols=3, figsize=(15, num_cells_in_image*5))\n",
    "    axes[0].imshow(list_masks_complete_cells[selected_image][i])# mask cytosol\n",
    "    axes[0].set(title='Cell_'+str(i)+'_mask_cytosol')\n",
    "    axes[1].imshow(list_masks_nuclei[selected_image][i])# mask nucleus\n",
    "    axes[1].set(title='Cell_'+str(i)+'_mask_nucleus')\n",
    "    axes[2].imshow(list_masks_cytosol_no_nuclei[selected_image][i])# mask cytosol no nucleus\n",
    "    axes[2].set(title='Cell_'+str(i)+'cyto_no_nuc')\n",
    "    plt.show()"
   ]
  },
  {
   "cell_type": "markdown",
   "metadata": {},
   "source": [
    "# <span style= \"color:red\"> Tracking </span>"
   ]
  },
  {
   "cell_type": "markdown",
   "metadata": {},
   "source": [
    "Channel 0 is mRNA, Channel 1 is FLAG tag (labels both nascent and mature proteins), and Channel 2 is GFP (labels only mature protein)."
   ]
  },
  {
   "cell_type": "markdown",
   "metadata": {},
   "source": [
    "In this excersice I will calculate number and their intensity of spots in the nucleus for channel 1 (FLAG)"
   ]
  },
  {
   "cell_type": "code",
   "execution_count": null,
   "metadata": {},
   "outputs": [],
   "source": [
    "particle_size = 5\n",
    "selected_channel = 1  #mRNA\n",
    "minimal_occurence_in_z_axis =  3 # minimal number of frames to consider a trajectory"
   ]
  },
  {
   "cell_type": "code",
   "execution_count": null,
   "metadata": {},
   "outputs": [],
   "source": [
    "# Function that accepts a list of images in 3d, calculates a 3D tracking and returns a list of list containing the trajectories for each cell in each image\n",
    "def compute_tracking_3D (list_images,list_maks, minimal_occurence_in_z_axis =3, particle_size=5,selected_channel=0):\n",
    "    nimg = len(list_images)\n",
    "    list_complete_DF= []\n",
    "    list_complete_num_spots_per_cell = []\n",
    "    list_complete_videos_filtered = []\n",
    "    # nested loops that calculate the 3D tracking\n",
    "    for i in tqdm(range(0,nimg)): \n",
    "        list_Dataframe_trajectories= []\n",
    "        list_num_spots_per_cell = []\n",
    "        list_videos_filtered = []\n",
    "        max_num_cells = list_index_paired_masks[i].shape[0]\n",
    "        for cell in range (0,max_num_cells):\n",
    "            Dataframe_trajectories, number_detected_trajectories, filtered_video = rsp.Trackpy(list_images[i],list_maks[i][cell],particle_size=particle_size, selected_channel=selected_channel,minimal_frames=minimal_occurence_in_z_axis,optimization_iterations = 30, show_plot =0,FISH_image=1).perform_tracking()   \n",
    "            list_Dataframe_trajectories.append(Dataframe_trajectories)\n",
    "            list_num_spots_per_cell.append(number_detected_trajectories)\n",
    "            list_videos_filtered.append(filtered_video)\n",
    "        #Appending list of lists\n",
    "        list_complete_DF.append(list_Dataframe_trajectories)\n",
    "        list_complete_num_spots_per_cell.append(list_num_spots_per_cell)\n",
    "        list_complete_videos_filtered.append(list_videos_filtered)\n",
    "\n",
    "    return list_complete_DF, list_complete_num_spots_per_cell, list_complete_videos_filtered # each list contains the data for each cell in each image. list = [image_0,image_1,image_N] and inside each image a sublist in the form: image_0 = [cell_0, cell_1, cell_N]"
   ]
  },
  {
   "cell_type": "code",
   "execution_count": null,
   "metadata": {},
   "outputs": [],
   "source": [
    "list_complete_DF, list_complete_num_spots_per_cell, list_complete_videos_filtered = compute_tracking_3D (list_images,list_masks_complete_cells, minimal_occurence_in_z_axis =minimal_occurence_in_z_axis, particle_size=particle_size,selected_channel=selected_channel)"
   ]
  },
  {
   "cell_type": "code",
   "execution_count": null,
   "metadata": {
    "jupyter": {
     "source_hidden": true
    }
   },
   "outputs": [],
   "source": [
    "#for idx in tqdm(range(0,nimg)):\n",
    "#    max_num_cells = list_index_paired_masks[idx].shape[0]\n",
    "#    for cell in range (0,max_num_cells):\n",
    "#        file_name = 'Image_'+str(idx)+'_Cell'+str(cell)+'.tif' # Creating a file name\n",
    "#        rsp.VisualizerImage(list_images[idx],list_videos_filtered=list_complete_videos_filtered[idx][cell],list_selected_particles_dataframe=list_complete_DF[idx][cell],list_files_names=file_name,list_mask_array = list_masks_complete_cells[idx][cell],selected_channel=selected_channel,selected_timepoint=0,normalize=False,individual_figure_size=5).plot()"
   ]
  },
  {
   "cell_type": "markdown",
   "metadata": {},
   "source": [
    "# <span style= \"color:red\"> Intensity </span>"
   ]
  },
  {
   "cell_type": "code",
   "execution_count": null,
   "metadata": {
    "jupyter": {
     "source_hidden": true
    }
   },
   "outputs": [],
   "source": [
    "# Function that accepts a list of images in 3d, calculates a 3D tracking and returns a list of list containing the trajectories for each cell in each image\n",
    "def compute_intensity_3D (list_images,list_complete_DF, list_index_paired_masks,particle_size=5):\n",
    "    nimg = len(list_images)\n",
    "    list_complete_array_intensities= []\n",
    "    list_complete_DF_intensity=[]\n",
    "    # nested loops that calculate the 3D tracking\n",
    "    for i in tqdm(range(0,nimg)): \n",
    "        list_array_intensities= []\n",
    "        list_DF =[]\n",
    "        max_num_cells = len(list_index_paired_masks[i])\n",
    "        for cell in range (0,max_num_cells):\n",
    "            DataFrame_particles_intensities, array_intensities, _, _,_, _, _ = rsp.Intensity(list_images[i][cell],particle_size,list_complete_DF[i][cell],method='total_intensity',show_plot=0).calculate_intensity()           \n",
    "            list_array_intensities.append(array_intensities)\n",
    "            list_DF.append(DataFrame_particles_intensities)\n",
    "        #Appending list of lists\n",
    "        list_complete_array_intensities.append(list_array_intensities)\n",
    "        list_complete_DF_intensity.append(list_DF)\n",
    "    return list_complete_array_intensities,list_complete_DF_intensity # each list contains the data for each cell in each image. list = [image_0,image_1,image_N] and inside each image a sublist in the form: image_0 = [cell_0, cell_1, cell_N]"
   ]
  },
  {
   "cell_type": "code",
   "execution_count": null,
   "metadata": {},
   "outputs": [],
   "source": [
    "list_complete_array_intensities,list_complete_DF_intensity = compute_intensity_3D (list_complete_videos_filtered,list_complete_DF, list_index_paired_masks,particle_size=5)"
   ]
  },
  {
   "cell_type": "markdown",
   "metadata": {},
   "source": [
    "## Example showing an intensity data frame"
   ]
  },
  {
   "cell_type": "code",
   "execution_count": null,
   "metadata": {},
   "outputs": [],
   "source": [
    "list_complete_DF_intensity[0][0]"
   ]
  },
  {
   "cell_type": "markdown",
   "metadata": {},
   "source": [
    "## Plotting intensities per cell in cytosol and nucleus"
   ]
  },
  {
   "cell_type": "code",
   "execution_count": null,
   "metadata": {},
   "outputs": [],
   "source": [
    "list_complete_int =[]\n",
    "for i in range(0,nimg):\n",
    "    list_int =[]\n",
    "    max_num_cells = len(list_index_paired_masks[i])\n",
    "    for cell in range (0,max_num_cells):\n",
    "        df = list_complete_DF_intensity[i][cell]\n",
    "        n_particles = df['particle'].nunique()\n",
    "        intensity_values_in_image = np.zeros((n_particles))\n",
    "        for j in range (0,n_particles):\n",
    "            intensity_values_in_image[j] = np.amax(df[df['particle'] ==j].green_int_mean.values)         \n",
    "        list_int.append(intensity_values_in_image)\n",
    "    list_complete_int.append(list_int)"
   ]
  },
  {
   "cell_type": "code",
   "execution_count": null,
   "metadata": {},
   "outputs": [],
   "source": [
    "# plotting\n",
    "\n",
    "ncols =0\n",
    "for i in range(0,nimg):\n",
    "    max_num_cells = len(list_index_paired_masks[i])\n",
    "    ncols+=max_num_cells\n",
    "ncols   \n",
    "\n",
    "fig, axes = plt.subplots(nrows=1, ncols=ncols, figsize=(30, 2))\n",
    "counter =0\n",
    "for i in range(0,nimg):\n",
    "    max_num_cells = len(list_index_paired_masks[i])\n",
    "    for cell in range (0,max_num_cells):\n",
    "        axes[counter].hist(list_complete_int[i][cell], alpha=0.95,bins=20,density=True, stacked=True, color=(random.random(),random.random(),random.random()) )\n",
    "        counter+=1\n",
    "        #axes[i].set(title=list_files_names[i][0:-4]);\n",
    "plt.tight_layout()"
   ]
  },
  {
   "cell_type": "code",
   "execution_count": null,
   "metadata": {},
   "outputs": [],
   "source": [
    "# Plotting distribution for all cells\n",
    "plt.figure(figsize=(4,4))\n",
    "selected_image =0\n",
    "all_cell_int = [item for sublist in list_complete_int[selected_image] for item in sublist]\n",
    "np_all_cell_int = np.asarray(all_cell_int)\n",
    "plt.hist(np_all_cell_int[np_all_cell_int>0], alpha=0.95,bins=30,density=True, stacked=True, color=(random.random(),random.random(),random.random()) )\n",
    "plt.title('all cells int')\n",
    "plt.tight_layout()"
   ]
  },
  {
   "cell_type": "code",
   "execution_count": null,
   "metadata": {},
   "outputs": [],
   "source": []
  },
  {
   "cell_type": "code",
   "execution_count": null,
   "metadata": {},
   "outputs": [],
   "source": []
  }
 ],
 "metadata": {
  "interpreter": {
   "hash": "ff7d081ce4817123eaa831f172a3e70559f334d78f7532d1a0ec42cef63090fa"
  },
  "kernelspec": {
   "display_name": "Python 3.8.5 64-bit ('base': conda)",
   "name": "python3"
  },
  "language_info": {
   "codemirror_mode": {
    "name": "ipython",
    "version": 3
   },
   "file_extension": ".py",
   "mimetype": "text/x-python",
   "name": "python",
   "nbconvert_exporter": "python",
   "pygments_lexer": "ipython3",
   "version": "3.8.5"
  }
 },
 "nbformat": 4,
 "nbformat_minor": 4
}
