{
 "cells": [
  {
   "cell_type": "code",
   "execution_count": null,
   "source": [
    "# Importing libraries\n",
    "from sys import platform\n",
    "import sys\n",
    "# To import files from directories\n",
    "import os; from os import listdir; from os.path import isfile, join\n",
    "# Image reader\n",
    "from skimage import io ; from skimage.io import imread\n",
    "# Plotting\n",
    "import matplotlib as mpl ; import matplotlib.pyplot as plt \n",
    "import matplotlib.path as mpltPath\n",
    "# To manipulate arrays\n",
    "import numpy as np \n",
    "import random\n",
    "import re\n",
    "import math\n",
    "from tqdm.notebook import tqdm\n",
    "import scipy\n",
    "import pandas as pd\n",
    "import pathlib\n",
    "from skimage.exposure import rescale_intensity\n",
    "# importing cellpose\n",
    "from cellpose import models, io\n",
    "from skimage.measure import find_contours\n",
    "# To create interactive elements\n",
    "import ipywidgets as widgets ; from ipywidgets import interact, interactive, fixed, interact_manual, Button, HBox, VBox, Layout, GridspecLayout ; from IPython.display import Image\n",
    "# Figure style and size\n",
    "from matplotlib import gridspec\n",
    "mpl.rc('figure',  figsize=(7, 7)); mpl.rc('image', cmap='gray'); mpl.rc('axes', grid=False); mpl.rcParams['figure.dpi'] = 300\n",
    "%matplotlib inline "
   ],
   "outputs": [],
   "metadata": {}
  },
  {
   "cell_type": "code",
   "execution_count": null,
   "source": [
    "# Deffining directories\n",
    "current_dir = pathlib.Path().absolute()\n",
    "rsnaped_dir = current_dir.parents[1].joinpath('rsnaped')\n",
    "# Importing rSNAPsim_IP\n",
    "sys.path.append(str(rsnaped_dir))\n",
    "import rsnaped as rsp"
   ],
   "outputs": [],
   "metadata": {}
  },
  {
   "cell_type": "code",
   "execution_count": null,
   "source": [
    "# Deffining directories\n",
    "current_dir = pathlib.Path().absolute()\n",
    "#video_dir = current_dir.parents[1].joinpath('DataBases', 'LargeDataSets' ,'Linda_smiFISH_images','20210511','smFISH','GAPDH-Exon-cy5')\n",
    "video_dir = current_dir.parents[1].joinpath('DataBases', 'LargeDataSets' ,'MS2_Cy3_Cy5_TPL_4h')\n",
    "#video_dir = current_dir.parents[1].joinpath('DataBases', 'LargeDataSets' ,'test')"
   ],
   "outputs": [],
   "metadata": {}
  },
  {
   "cell_type": "code",
   "execution_count": null,
   "source": [
    "# optional section of code to merge images in case they are not merged in a single file\n",
    "list_file_names, list_merged_images, number_images,output_to_path = rsp.MergeChannels(video_dir, substring_to_detect_in_file_name = '.*_C0.tif', save_figure =1).merge()"
   ],
   "outputs": [],
   "metadata": {}
  },
  {
   "cell_type": "code",
   "execution_count": null,
   "source": [
    "# directly reading figures in folder\n",
    "list_images, path_files, list_file_names, number_images = rsp.ReadImages(output_to_path).read()"
   ],
   "outputs": [],
   "metadata": {}
  },
  {
   "cell_type": "code",
   "execution_count": null,
   "source": [
    "# Preprossesing\n",
    "\n",
    "remove_outliers = True\n",
    "rescale_video = True\n",
    "\n",
    "# Remove outliers from the image\n",
    "if remove_outliers == True:\n",
    "    list_images = [rsp.RemoveExtrema(list_images[f],min_percentile=1,max_percentile=90).remove_outliers() for f,_ in enumerate(list_images) ]\n",
    "\n",
    "# Rescaling images\n",
    "if rescale_video == True:\n",
    "    list_images_rescaled = []\n",
    "    number_channels = list_images[0].shape[-1]\n",
    "    \n",
    "    for i in range (0,number_images ):\n",
    "        number_z_slices = list_images[i].shape[0]\n",
    "        temp_img = np.zeros_like(list_images[i])\n",
    "        for j in range(0,number_channels):\n",
    "            temp_img[:,:,:,j] =  np.asarray( [ rescale_intensity(list_images[i][z,:,:,j], in_range='image', out_range='dtype')  for z in range (0, number_z_slices)]  )\n",
    "        list_images_rescaled.append(temp_img)\n",
    "        del temp_img\n",
    "    list_images = list_images_rescaled"
   ],
   "outputs": [],
   "metadata": {}
  },
  {
   "cell_type": "code",
   "execution_count": null,
   "source": [
    "selected_z_slice = list_images[0].shape[0]//2 # selecting a z slice e to display in the plot.\n",
    "number_channels = list_images[0].shape[-1]\n",
    "number_images = 2 #len(list_images)\n",
    "\n",
    "fig_size = (20, number_images*9)\n",
    "fig, ax = plt.subplots(ncols=number_channels,nrows=number_images, figsize=fig_size)\n",
    "\n",
    "for k in range (0, number_images):\n",
    "    for i in range(0,number_channels):\n",
    "        ax[k,i].imshow(list_images[k][selected_z_slice,:,:,i],cmap='viridis')\n",
    "        ax[k,i].axis('off')\n",
    "        ax[k,i].axis('tight')\n",
    "  #ax[i].set_title(' SIMULATED Channel_'+str(i) + ' Mean_Int = ' +str(round(mean_int,0)) , size=16)\n",
    "#plt.savefig('./results/sim_cell.png')\n",
    "plt.show()"
   ],
   "outputs": [],
   "metadata": {}
  },
  {
   "cell_type": "code",
   "execution_count": null,
   "source": [
    "# Plotting z-slices for a single image\n",
    "selected_image = 1\n",
    "selected_channel = 0\n",
    "number_z_slices = list_images[selected_image].shape[0]\n",
    "print(number_z_slices)\n",
    "for i in range (0,1):#number_images ):\n",
    "    fig, axes = plt.subplots(nrows=1, ncols=number_z_slices, figsize=(40, 20))\n",
    "    for j in range(0,number_z_slices):\n",
    "        axes[j].imshow(list_images[selected_image][j,:,:,selected_channel],cmap='viridis')\n",
    "        axes[j].axis('off')   \n",
    "    plt.show()"
   ],
   "outputs": [],
   "metadata": {}
  },
  {
   "cell_type": "code",
   "execution_count": null,
   "source": [],
   "outputs": [],
   "metadata": {}
  },
  {
   "cell_type": "code",
   "execution_count": null,
   "source": [],
   "outputs": [],
   "metadata": {}
  }
 ],
 "metadata": {
  "orig_nbformat": 4,
  "language_info": {
   "name": "python",
   "version": "3.8.5",
   "mimetype": "text/x-python",
   "codemirror_mode": {
    "name": "ipython",
    "version": 3
   },
   "pygments_lexer": "ipython3",
   "nbconvert_exporter": "python",
   "file_extension": ".py"
  },
  "kernelspec": {
   "name": "python3",
   "display_name": "Python 3.8.5 64-bit ('base': conda)"
  },
  "interpreter": {
   "hash": "ff7d081ce4817123eaa831f172a3e70559f334d78f7532d1a0ec42cef63090fa"
  }
 },
 "nbformat": 4,
 "nbformat_minor": 2
}