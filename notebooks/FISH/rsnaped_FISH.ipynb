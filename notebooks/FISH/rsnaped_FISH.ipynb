{
 "cells": [
  {
   "cell_type": "code",
   "execution_count": null,
   "metadata": {},
   "outputs": [],
   "source": [
    "# Importing libraries\n",
    "from sys import platform\n",
    "import sys\n",
    "# To import files from directories\n",
    "import os; from os import listdir; from os.path import isfile, join\n",
    "# Image reader\n",
    "from skimage import io ; from skimage.io import imread\n",
    "# Plotting\n",
    "import matplotlib as mpl ; import matplotlib.pyplot as plt \n",
    "import matplotlib.path as mpltPath\n",
    "# To manipulate arrays\n",
    "import numpy as np \n",
    "import random\n",
    "import re\n",
    "import math\n",
    "from tqdm.notebook import tqdm\n",
    "import scipy\n",
    "import pandas as pd\n",
    "import pathlib\n",
    "from skimage.exposure import rescale_intensity\n",
    "# importing cellpose\n",
    "from cellpose import models, io\n",
    "from skimage.measure import find_contours\n",
    "# To create interactive elements\n",
    "import ipywidgets as widgets ; from ipywidgets import interact, interactive, fixed, interact_manual, Button, HBox, VBox, Layout, GridspecLayout ; from IPython.display import Image\n",
    "# Figure style and size\n",
    "from matplotlib import gridspec\n",
    "mpl.rc('figure',  figsize=(7, 7)); mpl.rc('image', cmap='gray'); mpl.rc('axes', grid=False); mpl.rcParams['figure.dpi'] = 300\n",
    "%matplotlib inline "
   ]
  },
  {
   "cell_type": "code",
   "execution_count": null,
   "metadata": {},
   "outputs": [],
   "source": [
    "# Deffining directories\n",
    "current_dir = pathlib.Path().absolute()\n",
    "rsnaped_dir = current_dir.parents[1].joinpath('rsnaped')\n",
    "# Importing rSNAPsim_IP\n",
    "sys.path.append(str(rsnaped_dir))\n",
    "import rsnaped as rsp"
   ]
  },
  {
   "cell_type": "markdown",
   "metadata": {},
   "source": [
    "# FISH data. From Dr. Linda Forero."
   ]
  },
  {
   "cell_type": "code",
   "execution_count": null,
   "metadata": {},
   "outputs": [],
   "source": [
    "# Deffining the images path \n",
    "\n",
    "# Deffining directories\n",
    "current_dir = pathlib.Path().absolute()\n",
    "#sequences_dir = current_dir.parents[1].joinpath('DataBases','gene_files')\n",
    "#video_dir = current_dir.parents[1].joinpath('DataBases', 'LargeDataSets' ,'EmptyFISH','merged')\n",
    "#video_dir = current_dir.parents[1].joinpath('DataBases', 'LargeDataSets' ,'Linda_smiFISH_images','20210331', 'GAPDH_Introns-cy3','merged')\n",
    "#video_dir = current_dir.parents[1].joinpath('DataBases', 'LargeDataSets' ,'Linda_smiFISH_images','20210331', 'GAPDH-Exons-cy3-ETOH','merged')\n",
    "video_dir = current_dir.parents[1].joinpath('DataBases', 'LargeDataSets' ,'Linda_smiFISH_images','20210511','smFISH','GAPDH-Exon-cy3','merged')\n",
    "#video_dir = current_dir.parents[1].joinpath('DataBases', 'LargeDataSets' ,'Linda_smiFISH_images','20210511','smFISH','GAPDH-Exon-cy5','merged')\n",
    "#video_dir = current_dir.parents[1].joinpath('DataBases', 'LargeDataSets' ,'Linda_smiFISH_images','20210518','MS2-Cy3','merged')\n",
    "#video_dir = current_dir.parents[1].joinpath('DataBases', 'LargeDataSets' ,'Linda_smiFISH_images','20210518','MS2-Cy5','merged')\n",
    "#video_dir = current_dir.parents[1].joinpath('DataBases', 'FISH_ONeil' )\n",
    "\n",
    "# optional section of code to merge images in case they are not merged in a single file\n",
    "merge_images =0\n",
    "if merge_images ==1:\n",
    "    list_file_names, list_merged_images, number_images = rsp.MergeChannels(video_dir, substring_to_detect_in_file_name = '.*_C0.tif', save_figure =1).merge()"
   ]
  },
  {
   "cell_type": "code",
   "execution_count": null,
   "metadata": {},
   "outputs": [],
   "source": [
    "# directly reading figures in folder\n",
    "list_images, path_files, list_file_names, number_images = rsp.ReadImages(video_dir).read()\n",
    "#list_file_names"
   ]
  },
  {
   "cell_type": "code",
   "execution_count": null,
   "metadata": {},
   "outputs": [],
   "source": [
    "# Preprossesing\n",
    "\n",
    "remove_outliers = False\n",
    "rescale_video = False\n",
    "\n",
    "# Remove outliers from the image\n",
    "if remove_outliers == True:\n",
    "    list_images = [rsp.RemoveExtrema(list_images[f],min_percentile=0.1,max_percentile=99.9).remove_outliers() for f,_ in enumerate(list_images) ]\n",
    "\n",
    "# Rescaling images\n",
    "if rescale_video == True:\n",
    "    list_images_rescaled = []\n",
    "    number_channels = list_images[0].shape[-1]\n",
    "    number_z_slices = list_images[0].shape[0]\n",
    "    for i in range (0,number_images ):\n",
    "        temp_img = np.zeros_like(list_images[0])\n",
    "        for j in range(0,number_channels):\n",
    "            temp_img[:,:,:,j] =  np.asarray( [ rescale_intensity(list_images[i][z,:,:,j], in_range='image', out_range='dtype')  for z in range (0, number_z_slices)]  )\n",
    "        list_images_rescaled.append(temp_img)\n",
    "    list_images = list_images_rescaled\n"
   ]
  },
  {
   "cell_type": "code",
   "execution_count": null,
   "metadata": {},
   "outputs": [],
   "source": [
    "# Filters\n",
    "list_images_bp_filtered = [rsp.BandpassFilter(list_images[f],low_pass=1, high_pass=20).apply_filter() for f,_ in enumerate(list_images) ] # Bandpass filter\n",
    "list_images_gaussian_filtered = [rsp.GaussianFilter(list_images[f],sigma=1).apply_filter() for f,_ in enumerate(list_images) ] # Gaussian filter\n",
    "#list_images_filtered = [rsn.GaussianLaplaceFilter(list_images_rescaled[f],sigma=1).apply_filter() for f,_ in enumerate(list_images_rescaled) ]\n",
    "#list_images_filtered = [rsn.GaussianFilter(list_images_filtered[f],sigma=1).apply_filter() for f,_ in enumerate(list_images_filtered) ]"
   ]
  },
  {
   "cell_type": "code",
   "execution_count": null,
   "metadata": {},
   "outputs": [],
   "source": [
    "# Cell visualization 3D. To start visualization simply move the time slider.\n",
    "#n_img =0\n",
    "#controls, output = rsp.VisualizerVideo3D(list_images[n_img]).make_video_app()\n",
    "#display(VBox([controls, output])); plt.rcParams['figure.figsize'] = [15, 15]"
   ]
  },
  {
   "cell_type": "code",
   "execution_count": null,
   "metadata": {},
   "outputs": [],
   "source": [
    "selected_channel = 1\n",
    "for i in range (0,number_images ):\n",
    "    fig, axes = plt.subplots(nrows=1, ncols=4, figsize=(30, 30))\n",
    "    axes[0].imshow(np.max(list_images[i][:,:,:,selected_channel],axis=0),cmap='viridis') \n",
    "    axes[0].set_title('Original image')\n",
    "    axes[1].imshow(np.max(list_images_rescaled[i][:,:,:,selected_channel],axis=0),cmap='viridis') \n",
    "    axes[1].set_title('Rescaled image')\n",
    "    axes[2].imshow(np.max(list_images_bp_filtered[i][:,:,:,selected_channel],axis=0),cmap='viridis')\n",
    "    axes[2].set_title('Bandpass')\n",
    "    axes[3].imshow(np.max(list_images_gaussian_filtered[i][:,:,:,selected_channel],axis=0),cmap='viridis')\n",
    "    axes[3].set_title('Gaussian')\n",
    "    plt.show()"
   ]
  },
  {
   "cell_type": "code",
   "execution_count": null,
   "metadata": {},
   "outputs": [],
   "source": [
    "#number_channels = list_images[0].shape[-1]\n",
    "#for i in range (0,1):#number_images ):\n",
    "#    fig, axes = plt.subplots(nrows=1, ncols=number_channels, figsize=(30, 30))\n",
    "#    for j in range(0,number_channels):\n",
    "#        axes[j].imshow(np.max(list_images_filtered[i][:,:,:,j],axis=0),cmap='viridis')   \n",
    "#    plt.show()"
   ]
  },
  {
   "cell_type": "markdown",
   "metadata": {},
   "source": [
    "# <span style= \"color:red\"> Cell segmentation </span>"
   ]
  },
  {
   "cell_type": "markdown",
   "metadata": {},
   "source": [
    "## Cell segmentaion using machine learning.\n",
    "<span style=\"font-size:1em;\"> CNN architecture based on U-Net. <span/>\n",
    "<span style=\"font-size:1em;\"> Cellpose by Dr. Carsen Stringer (Janelia). <span/>"
   ]
  },
  {
   "cell_type": "code",
   "execution_count": null,
   "metadata": {},
   "outputs": [],
   "source": [
    "list_masks_complete_cells =[]\n",
    "list_masks_nuclei =[]\n",
    "list_masks_cytosol_no_nuclei =[]\n",
    "list_index_paired_masks =[]\n",
    "for i in range(0, number_images):\n",
    "    #masks_complete_cells,masks_nuclei,masks_cytosol_no_nuclei, index_paired_masks = rsp.CellposeFISH(list_images[i],channel_with_cytosol=2, channel_with_nucleus=0,diameter_cytosol =200, diamter_nucleus=150, show_plot=1).calculate_masks() # Lindas cells\n",
    "    masks_complete_cells,masks_nuclei,masks_cytosol_no_nuclei, index_paired_masks = rsp.CellposeFISH(list_images[i],channel_with_cytosol=None, channel_with_nucleus=0,diameter_cytosol =200, diamter_nucleus=100, show_plot=1).calculate_masks()  # Detect only nucleus\n",
    "    #masks_complete_cells,masks_nuclei,masks_cytosol_no_nuclei, index_paired_masks = rsp.CellposeFISH(list_images[i],channel_with_cytosol=0, channel_with_nucleus=1,diameter_cytosol =250, diamter_nucleus=100, show_plot=1).calculate_masks()  # ONeil conditions\n",
    "    list_masks_complete_cells.append(masks_complete_cells)\n",
    "    list_masks_nuclei.append(masks_nuclei)\n",
    "    list_masks_cytosol_no_nuclei.append(masks_cytosol_no_nuclei)\n",
    "    list_index_paired_masks.append(index_paired_masks)"
   ]
  },
  {
   "cell_type": "markdown",
   "metadata": {},
   "source": [
    "## Example: visualizing all generated masks for a given image"
   ]
  },
  {
   "cell_type": "code",
   "execution_count": null,
   "metadata": {},
   "outputs": [],
   "source": [
    "if False:\n",
    "    selected_image = 9\n",
    "    num_cells_in_image = list_index_paired_masks[selected_image].shape[0]\n",
    "    for i in range(0,num_cells_in_image):\n",
    "        print('')\n",
    "        print('Masks for image: File_Number_'+ str(selected_image) + ' Cell: ' + str(i) )\n",
    "        fig, axes = plt.subplots(nrows=1, ncols=3, figsize=(15, num_cells_in_image*5))\n",
    "        axes[0].imshow(list_masks_complete_cells[selected_image][i])# mask cytosol\n",
    "        axes[0].set(title='Cell_'+str(i)+'_mask_cytosol')\n",
    "        axes[1].imshow(list_masks_nuclei[selected_image][i])# mask nucleus\n",
    "        axes[1].set(title='Cell_'+str(i)+'_mask_nucleus')\n",
    "        axes[2].imshow(list_masks_cytosol_no_nuclei[selected_image][i])# mask cytosol no nucleus\n",
    "        axes[2].set(title='Cell_'+str(i)+'cyto_no_nuc')\n",
    "        plt.show()"
   ]
  },
  {
   "cell_type": "markdown",
   "metadata": {},
   "source": [
    "# <span style= \"color:red\"> Tracking </span>"
   ]
  },
  {
   "cell_type": "markdown",
   "metadata": {},
   "source": [
    "Channel 0 is mRNA, Channel 1 is FLAG tag (labels both nascent and mature proteins), and Channel 2 is GFP (labels only mature protein)."
   ]
  },
  {
   "cell_type": "markdown",
   "metadata": {},
   "source": [
    "In this excersice I will calculate number and their intensity of spots in the nucleus for channel 1 (FLAG)"
   ]
  },
  {
   "cell_type": "code",
   "execution_count": null,
   "metadata": {},
   "outputs": [],
   "source": [
    "particle_size = 5\n",
    "selected_channel = 1  #mRNA\n",
    "minimal_occurence_in_z_axis =  2 # minimal number of frames to consider a trajectory"
   ]
  },
  {
   "cell_type": "code",
   "execution_count": null,
   "metadata": {
    "jupyter": {
     "source_hidden": true
    }
   },
   "outputs": [],
   "source": [
    "# Function that accepts a list of images in 3d, calculates a 3D tracking and returns a list of list containing the trajectories for each cell in each image\n",
    "def compute_tracking_3D (list_images,list_maks, minimal_occurence_in_z_axis =3, particle_size=5,selected_channel=0):\n",
    "    number_images = len(list_images)\n",
    "    list_complete_DF= []\n",
    "    list_complete_num_spots_per_cell = []\n",
    "    list_complete_videos_filtered = []\n",
    "    # nested loops that calculate the 3D tracking\n",
    "    for i in tqdm(range(0,number_images)): \n",
    "        list_Dataframe_trajectories= []\n",
    "        list_num_spots_per_cell = []\n",
    "        list_videos_filtered = []\n",
    "        max_num_cells = list_maks[i].shape[0]\n",
    "        for cell in range (0,max_num_cells):\n",
    "            Dataframe_trajectories, number_detected_trajectories, filtered_video = rsp.Trackpy(list_images[i],list_maks[i][cell],particle_size=particle_size, selected_channel=selected_channel,minimal_frames=minimal_occurence_in_z_axis,optimization_iterations = 30, show_plot =1,FISH_image=1).perform_tracking()   \n",
    "            list_Dataframe_trajectories.append(Dataframe_trajectories)\n",
    "            list_num_spots_per_cell.append(number_detected_trajectories)\n",
    "            list_videos_filtered.append(filtered_video)\n",
    "        #Appending list of lists\n",
    "        list_complete_DF.append(list_Dataframe_trajectories)\n",
    "        list_complete_num_spots_per_cell.append(list_num_spots_per_cell)\n",
    "        list_complete_videos_filtered.append(list_videos_filtered)\n",
    "    return list_complete_DF, list_complete_num_spots_per_cell, list_complete_videos_filtered # each list contains the data for each cell in each image. list = [image_0,image_1,image_N] and inside each image a sublist in the form: image_0 = [cell_0, cell_1, cell_N]"
   ]
  },
  {
   "cell_type": "code",
   "execution_count": null,
   "metadata": {},
   "outputs": [],
   "source": [
    "# This section computer the tracking \n",
    "#list_complete_DF, list_complete_num_spots_per_cell, list_complete_videos_filtered = compute_tracking_3D (list_images,list_masks_complete_cells, minimal_occurence_in_z_axis =minimal_occurence_in_z_axis, particle_size=particle_size,selected_channel=selected_channel)\n",
    "list_complete_DF, list_complete_num_spots_per_cell, list_complete_videos_filtered = compute_tracking_3D (list_images,list_masks_nuclei, minimal_occurence_in_z_axis =minimal_occurence_in_z_axis, particle_size=particle_size,selected_channel=selected_channel)\n",
    "\n"
   ]
  },
  {
   "cell_type": "code",
   "execution_count": null,
   "metadata": {
    "jupyter": {
     "source_hidden": true
    }
   },
   "outputs": [],
   "source": [
    "#for idx in tqdm(range(0,number_images)):\n",
    "#    max_num_cells = list_index_paired_masks[idx].shape[0]\n",
    "#    for cell in range (0,max_num_cells):\n",
    "#        file_name = 'Image_'+str(idx)+'_Cell'+str(cell)+'.tif' # Creating a file name\n",
    "#        rsp.VisualizerImage(list_images[idx],list_videos_filtered=list_complete_videos_filtered[idx][cell],list_selected_particles_dataframe=list_complete_DF[idx][cell],list_files_names=file_name,list_mask_array = list_masks_complete_cells[idx][cell],selected_channel=selected_channel,selected_timepoint=0,normalize=False,individual_figure_size=5).plot()"
   ]
  },
  {
   "cell_type": "markdown",
   "metadata": {},
   "source": [
    "# <span style= \"color:red\"> Intensity </span>"
   ]
  },
  {
   "cell_type": "code",
   "execution_count": null,
   "metadata": {
    "jupyter": {
     "source_hidden": true
    }
   },
   "outputs": [],
   "source": [
    "# Function that accepts a list of images in 3d, calculates a 3D tracking and returns a list of list containing the trajectories for each cell in each image\n",
    "def compute_intensity_3D (list_images,list_complete_DF, list_index_paired_masks,particle_size=5):\n",
    "    number_images = len(list_images)\n",
    "    list_complete_array_intensities= []\n",
    "    list_complete_DF_intensity=[]\n",
    "    # nested loops that calculate the 3D tracking\n",
    "    for i in tqdm(range(0,number_images)): \n",
    "        list_array_intensities= []\n",
    "        list_DF =[]\n",
    "        max_num_cells = len(list_index_paired_masks[i])\n",
    "        for cell in range (0,max_num_cells):\n",
    "            DataFrame_particles_intensities, array_intensities, _, _,_, _, _ = rsp.Intensity(list_images[i][cell],particle_size,list_complete_DF[i][cell],method='disk_donut',show_plot=0).calculate_intensity()           \n",
    "            list_array_intensities.append(array_intensities)\n",
    "            list_DF.append(DataFrame_particles_intensities)\n",
    "        #Appending list of lists\n",
    "        list_complete_array_intensities.append(list_array_intensities)\n",
    "        list_complete_DF_intensity.append(list_DF)\n",
    "    return list_complete_array_intensities,list_complete_DF_intensity # each list contains the data for each cell in each image. list = [image_0,image_1,image_N] and inside each image a sublist in the form: image_0 = [cell_0, cell_1, cell_N]"
   ]
  },
  {
   "cell_type": "code",
   "execution_count": null,
   "metadata": {},
   "outputs": [],
   "source": [
    "list_complete_array_intensities,list_complete_DF_intensity = compute_intensity_3D (list_complete_videos_filtered,list_complete_DF, list_index_paired_masks,particle_size=5)"
   ]
  },
  {
   "cell_type": "markdown",
   "metadata": {},
   "source": [
    "## Example showing an intensity data frame"
   ]
  },
  {
   "cell_type": "code",
   "execution_count": null,
   "metadata": {},
   "outputs": [],
   "source": [
    "#list_complete_DF_intensity[9][2]"
   ]
  },
  {
   "cell_type": "markdown",
   "metadata": {},
   "source": [
    "## Plotting intensities per cell in cytosol and nucleus"
   ]
  },
  {
   "cell_type": "code",
   "execution_count": null,
   "metadata": {
    "jupyter": {
     "source_hidden": true
    }
   },
   "outputs": [],
   "source": [
    "list_complete_int =[]\n",
    "for i in range(0,number_images):\n",
    "    list_int =[]\n",
    "    max_num_cells = len(list_index_paired_masks[i])\n",
    "    for cell in range (0,max_num_cells):\n",
    "        df = list_complete_DF_intensity[i][cell]\n",
    "        n_particles = df['particle'].nunique()\n",
    "        intensity_values_in_image = np.zeros((n_particles))\n",
    "        for j in range (0,n_particles):\n",
    "            intensity_values_in_image[j] = np.amax(df[df['particle'] ==j].green_int_mean.values)         \n",
    "        list_int.append(intensity_values_in_image)\n",
    "    list_complete_int.append(list_int)"
   ]
  },
  {
   "cell_type": "code",
   "execution_count": null,
   "metadata": {},
   "outputs": [],
   "source": [
    "NUM_COLUMNS = 8\n",
    "individual_figure_size = 2\n",
    "\n",
    "total_number_cells =0\n",
    "for i in range(0,number_images):\n",
    "    max_num_cells = len(list_index_paired_masks[i])\n",
    "    total_number_cells+=max_num_cells\n",
    "total_number_cells\n",
    "\n",
    "\n",
    "NUM_ROWS = int(math.ceil(total_number_cells / NUM_COLUMNS))\n",
    "# Loop to plot multiple cells in a grid\n",
    "gs = gridspec.GridSpec(NUM_ROWS, NUM_COLUMNS)\n",
    "gs.update(wspace = 0.5, hspace = 0.5) # set the spacing between axes.\n",
    "fig = plt.figure(figsize = (individual_figure_size*NUM_COLUMNS, individual_figure_size*NUM_ROWS))\n",
    "counter =0\n",
    "for i in range(0,number_images):\n",
    "    max_num_cells = len(list_index_paired_masks[i])\n",
    "    for cell in range (0,max_num_cells):\n",
    "        if list_complete_int[i][cell].size >0:\n",
    "            ax = fig.add_subplot(gs[counter])\n",
    "            ax.hist(list_complete_int[i][cell], alpha=0.95,bins=20,density=True, stacked=True, color=(random.random(),random.random(),random.random()) )\n",
    "            ax.set(title =  'Capture_' + str(i) +' Cell_'+str(cell))\n",
    "            counter +=1\n",
    "plt.show()\n",
    "\n"
   ]
  },
  {
   "cell_type": "code",
   "execution_count": null,
   "metadata": {},
   "outputs": [],
   "source": [
    "# Plotting distribution for all cells\n",
    "plt.figure(figsize=(4,4))\n",
    "selected_image =1\n",
    "all_cell_int = [item for sublist in list_complete_int[selected_image] for item in sublist]\n",
    "np_all_cell_int = np.asarray(all_cell_int)\n",
    "plt.hist(np_all_cell_int[np_all_cell_int>0], alpha=0.95,bins=30,density=True, stacked=True, color=(random.random(),random.random(),random.random()) )\n",
    "plt.title('all cells int')\n",
    "plt.tight_layout()\n",
    "plt.show()"
   ]
  },
  {
   "cell_type": "code",
   "execution_count": null,
   "metadata": {},
   "outputs": [],
   "source": []
  },
  {
   "cell_type": "code",
   "execution_count": null,
   "metadata": {},
   "outputs": [],
   "source": []
  },
  {
   "cell_type": "code",
   "execution_count": null,
   "metadata": {},
   "outputs": [],
   "source": []
  },
  {
   "cell_type": "code",
   "execution_count": null,
   "metadata": {},
   "outputs": [],
   "source": []
  }
 ],
 "metadata": {
  "interpreter": {
   "hash": "40d3a090f54c6569ab1632332b64b2c03c39dcf918b08424e98f38b5ae0af88f"
  },
  "kernelspec": {
   "display_name": "Python 3.8.3 64-bit ('base': conda)",
   "name": "python3"
  },
  "language_info": {
   "codemirror_mode": {
    "name": "ipython",
    "version": 3
   },
   "file_extension": ".py",
   "mimetype": "text/x-python",
   "name": "python",
   "nbconvert_exporter": "python",
   "pygments_lexer": "ipython3",
   "version": "3.8.5"
  }
 },
 "nbformat": 4,
 "nbformat_minor": 4
}
