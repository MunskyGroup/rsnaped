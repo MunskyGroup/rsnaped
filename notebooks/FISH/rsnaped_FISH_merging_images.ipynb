{
 "metadata": {
  "language_info": {
   "codemirror_mode": {
    "name": "ipython",
    "version": 3
   },
   "file_extension": ".py",
   "mimetype": "text/x-python",
   "name": "python",
   "nbconvert_exporter": "python",
   "pygments_lexer": "ipython3",
   "version": "3.8.5"
  },
  "orig_nbformat": 4,
  "kernelspec": {
   "name": "python3",
   "display_name": "Python 3.8.5 64-bit ('base': conda)"
  },
  "interpreter": {
   "hash": "ff7d081ce4817123eaa831f172a3e70559f334d78f7532d1a0ec42cef63090fa"
  }
 },
 "nbformat": 4,
 "nbformat_minor": 2,
 "cells": [
  {
   "cell_type": "code",
   "execution_count": 1,
   "source": [
    "#@title Importing libraries (double-click to show code)\n",
    "import os\n",
    "import pkg_resources\n",
    "pkg_resources.require(\"numpy>=`1.20.1\")  #  to use specific numpy version\n",
    "import numpy as np\n",
    "import rsnapsim as rss\n",
    "import sys\n",
    "from sys import platform\n",
    "from skimage import io ; from skimage.io import imread; from skimage.measure import find_contours\n",
    "\n",
    "from random import randrange\n",
    "import pandas as pd\n",
    "import os; from os import listdir; from os.path import isfile, join\n",
    "import re # to iterate in files\n",
    "import glob # to iterate in files\n",
    "import shutil\n",
    "import pathlib\n",
    "from random import randrange\n",
    "import ipywidgets as widgets ; from ipywidgets import interact, interactive, fixed, interact_manual, Button, HBox, VBox, Layout, GridspecLayout \n",
    "from IPython.display import Image\n",
    "import dna_features_viewer\n",
    "from dna_features_viewer import BiopythonTranslator, GraphicFeature, GraphicRecord, CircularGraphicRecord\n",
    "import tifffile\n",
    "\n",
    "# Deffining directories\n",
    "current_dir = pathlib.Path().absolute()\n",
    "sequences_dir = current_dir.parents[1].joinpath('DataBases','gene_files')\n",
    "video_dir = current_dir.parents[1].joinpath('DataBases', 'LargeDataSets' ,'EmptyFISH')\n",
    "#video_dir = current_dir.parents[1].joinpath('DataBases', 'LargeDataSets' ,'EmptyFISH')\n",
    "rsnaped_dir = current_dir.parents[1].joinpath('rsnaped')\n",
    "\n",
    "# Importing rSNAPsim_IP\n",
    "sys.path.append(str(rsnaped_dir))\n",
    "import rsnaped as rsp\n",
    "import matplotlib\n",
    "import matplotlib.pyplot as plt\n",
    "plt.style.use('default')\n",
    "plt.rcParams['figure.dpi'] = 120\n",
    "plt.rcParams['lines.linewidth'] = 1\n",
    "plt.rcParams['axes.linewidth'] = 1.5\n",
    "plt.rcParams['axes.grid'] = False"
   ],
   "outputs": [],
   "metadata": {}
  },
  {
   "cell_type": "code",
   "execution_count": 2,
   "source": [
    "list_files_names = sorted([f for f in listdir(video_dir) if isfile(join(video_dir, f)) and ('.tif') in f], key=str.lower)  # reading all tif files in the folder\n",
    "list_files_names.sort(key=lambda f: int(re.sub('\\D', '', f)))  # sorting the index in numerical order\n",
    "path_files = [ str(video_dir.joinpath(f).resolve()) for f in list_files_names ] # creating the complete path for each file\n",
    "num_files = len(path_files)"
   ],
   "outputs": [],
   "metadata": {}
  },
  {
   "cell_type": "code",
   "execution_count": 3,
   "source": [
    "path_files"
   ],
   "outputs": [
    {
     "output_type": "execute_result",
     "data": {
      "text/plain": [
       "['/home/luisub/Desktop/rsnaped/DataBases/LargeDataSets/EmptyFISH/ROI001_XY1620757205_Z00_T0_C0.tif',\n",
       " '/home/luisub/Desktop/rsnaped/DataBases/LargeDataSets/EmptyFISH/ROI001_XY1620757205_Z00_T0_C1.tif',\n",
       " '/home/luisub/Desktop/rsnaped/DataBases/LargeDataSets/EmptyFISH/ROI001_XY1620757205_Z00_T0_C2.tif',\n",
       " '/home/luisub/Desktop/rsnaped/DataBases/LargeDataSets/EmptyFISH/ROI001_XY1620757205_Z00_T0_C3.tif',\n",
       " '/home/luisub/Desktop/rsnaped/DataBases/LargeDataSets/EmptyFISH/ROI002_XY1620757341_Z00_T0_C0.tif',\n",
       " '/home/luisub/Desktop/rsnaped/DataBases/LargeDataSets/EmptyFISH/ROI002_XY1620757341_Z00_T0_C1.tif',\n",
       " '/home/luisub/Desktop/rsnaped/DataBases/LargeDataSets/EmptyFISH/ROI002_XY1620757341_Z00_T0_C2.tif',\n",
       " '/home/luisub/Desktop/rsnaped/DataBases/LargeDataSets/EmptyFISH/ROI002_XY1620757341_Z00_T0_C3.tif',\n",
       " '/home/luisub/Desktop/rsnaped/DataBases/LargeDataSets/EmptyFISH/ROI003_XY1620757459_Z00_T0_C0.tif',\n",
       " '/home/luisub/Desktop/rsnaped/DataBases/LargeDataSets/EmptyFISH/ROI003_XY1620757459_Z00_T0_C1.tif',\n",
       " '/home/luisub/Desktop/rsnaped/DataBases/LargeDataSets/EmptyFISH/ROI003_XY1620757459_Z00_T0_C2.tif',\n",
       " '/home/luisub/Desktop/rsnaped/DataBases/LargeDataSets/EmptyFISH/ROI003_XY1620757459_Z00_T0_C3.tif',\n",
       " '/home/luisub/Desktop/rsnaped/DataBases/LargeDataSets/EmptyFISH/ROI004_XY1620757588_Z00_T0_C0.tif',\n",
       " '/home/luisub/Desktop/rsnaped/DataBases/LargeDataSets/EmptyFISH/ROI004_XY1620757588_Z00_T0_C1.tif',\n",
       " '/home/luisub/Desktop/rsnaped/DataBases/LargeDataSets/EmptyFISH/ROI004_XY1620757588_Z00_T0_C2.tif',\n",
       " '/home/luisub/Desktop/rsnaped/DataBases/LargeDataSets/EmptyFISH/ROI004_XY1620757588_Z00_T0_C3.tif',\n",
       " '/home/luisub/Desktop/rsnaped/DataBases/LargeDataSets/EmptyFISH/ROI005_XY1620757701_Z00_T0_C0.tif',\n",
       " '/home/luisub/Desktop/rsnaped/DataBases/LargeDataSets/EmptyFISH/ROI005_XY1620757701_Z00_T0_C1.tif',\n",
       " '/home/luisub/Desktop/rsnaped/DataBases/LargeDataSets/EmptyFISH/ROI005_XY1620757701_Z00_T0_C2.tif',\n",
       " '/home/luisub/Desktop/rsnaped/DataBases/LargeDataSets/EmptyFISH/ROI005_XY1620757701_Z00_T0_C3.tif',\n",
       " '/home/luisub/Desktop/rsnaped/DataBases/LargeDataSets/EmptyFISH/ROI006_XY1620757885_Z00_T0_C0.tif',\n",
       " '/home/luisub/Desktop/rsnaped/DataBases/LargeDataSets/EmptyFISH/ROI006_XY1620757885_Z00_T0_C1.tif',\n",
       " '/home/luisub/Desktop/rsnaped/DataBases/LargeDataSets/EmptyFISH/ROI006_XY1620757885_Z00_T0_C2.tif',\n",
       " '/home/luisub/Desktop/rsnaped/DataBases/LargeDataSets/EmptyFISH/ROI006_XY1620757885_Z00_T0_C3.tif',\n",
       " '/home/luisub/Desktop/rsnaped/DataBases/LargeDataSets/EmptyFISH/ROI007_XY1620758020_Z00_T0_C0.tif',\n",
       " '/home/luisub/Desktop/rsnaped/DataBases/LargeDataSets/EmptyFISH/ROI007_XY1620758020_Z00_T0_C1.tif',\n",
       " '/home/luisub/Desktop/rsnaped/DataBases/LargeDataSets/EmptyFISH/ROI007_XY1620758020_Z00_T0_C2.tif',\n",
       " '/home/luisub/Desktop/rsnaped/DataBases/LargeDataSets/EmptyFISH/ROI007_XY1620758020_Z00_T0_C3.tif',\n",
       " '/home/luisub/Desktop/rsnaped/DataBases/LargeDataSets/EmptyFISH/ROI008_XY1620758163_Z00_T0_C0.tif',\n",
       " '/home/luisub/Desktop/rsnaped/DataBases/LargeDataSets/EmptyFISH/ROI008_XY1620758163_Z00_T0_C1.tif',\n",
       " '/home/luisub/Desktop/rsnaped/DataBases/LargeDataSets/EmptyFISH/ROI008_XY1620758163_Z00_T0_C2.tif',\n",
       " '/home/luisub/Desktop/rsnaped/DataBases/LargeDataSets/EmptyFISH/ROI008_XY1620758163_Z00_T0_C3.tif',\n",
       " '/home/luisub/Desktop/rsnaped/DataBases/LargeDataSets/EmptyFISH/ROI009_XY1620758309_Z00_T0_C0.tif',\n",
       " '/home/luisub/Desktop/rsnaped/DataBases/LargeDataSets/EmptyFISH/ROI009_XY1620758309_Z00_T0_C1.tif',\n",
       " '/home/luisub/Desktop/rsnaped/DataBases/LargeDataSets/EmptyFISH/ROI009_XY1620758309_Z00_T0_C2.tif',\n",
       " '/home/luisub/Desktop/rsnaped/DataBases/LargeDataSets/EmptyFISH/ROI009_XY1620758309_Z00_T0_C3.tif',\n",
       " '/home/luisub/Desktop/rsnaped/DataBases/LargeDataSets/EmptyFISH/ROI010_XY1620758450_Z00_T0_C0.tif',\n",
       " '/home/luisub/Desktop/rsnaped/DataBases/LargeDataSets/EmptyFISH/ROI010_XY1620758450_Z00_T0_C1.tif',\n",
       " '/home/luisub/Desktop/rsnaped/DataBases/LargeDataSets/EmptyFISH/ROI010_XY1620758450_Z00_T0_C2.tif',\n",
       " '/home/luisub/Desktop/rsnaped/DataBases/LargeDataSets/EmptyFISH/ROI010_XY1620758450_Z00_T0_C3.tif']"
      ]
     },
     "metadata": {},
     "execution_count": 3
    }
   ],
   "metadata": {}
  },
  {
   "cell_type": "code",
   "execution_count": 4,
   "source": [
    "list_files_names"
   ],
   "outputs": [
    {
     "output_type": "execute_result",
     "data": {
      "text/plain": [
       "['ROI001_XY1620757205_Z00_T0_C0.tif',\n",
       " 'ROI001_XY1620757205_Z00_T0_C1.tif',\n",
       " 'ROI001_XY1620757205_Z00_T0_C2.tif',\n",
       " 'ROI001_XY1620757205_Z00_T0_C3.tif',\n",
       " 'ROI002_XY1620757341_Z00_T0_C0.tif',\n",
       " 'ROI002_XY1620757341_Z00_T0_C1.tif',\n",
       " 'ROI002_XY1620757341_Z00_T0_C2.tif',\n",
       " 'ROI002_XY1620757341_Z00_T0_C3.tif',\n",
       " 'ROI003_XY1620757459_Z00_T0_C0.tif',\n",
       " 'ROI003_XY1620757459_Z00_T0_C1.tif',\n",
       " 'ROI003_XY1620757459_Z00_T0_C2.tif',\n",
       " 'ROI003_XY1620757459_Z00_T0_C3.tif',\n",
       " 'ROI004_XY1620757588_Z00_T0_C0.tif',\n",
       " 'ROI004_XY1620757588_Z00_T0_C1.tif',\n",
       " 'ROI004_XY1620757588_Z00_T0_C2.tif',\n",
       " 'ROI004_XY1620757588_Z00_T0_C3.tif',\n",
       " 'ROI005_XY1620757701_Z00_T0_C0.tif',\n",
       " 'ROI005_XY1620757701_Z00_T0_C1.tif',\n",
       " 'ROI005_XY1620757701_Z00_T0_C2.tif',\n",
       " 'ROI005_XY1620757701_Z00_T0_C3.tif',\n",
       " 'ROI006_XY1620757885_Z00_T0_C0.tif',\n",
       " 'ROI006_XY1620757885_Z00_T0_C1.tif',\n",
       " 'ROI006_XY1620757885_Z00_T0_C2.tif',\n",
       " 'ROI006_XY1620757885_Z00_T0_C3.tif',\n",
       " 'ROI007_XY1620758020_Z00_T0_C0.tif',\n",
       " 'ROI007_XY1620758020_Z00_T0_C1.tif',\n",
       " 'ROI007_XY1620758020_Z00_T0_C2.tif',\n",
       " 'ROI007_XY1620758020_Z00_T0_C3.tif',\n",
       " 'ROI008_XY1620758163_Z00_T0_C0.tif',\n",
       " 'ROI008_XY1620758163_Z00_T0_C1.tif',\n",
       " 'ROI008_XY1620758163_Z00_T0_C2.tif',\n",
       " 'ROI008_XY1620758163_Z00_T0_C3.tif',\n",
       " 'ROI009_XY1620758309_Z00_T0_C0.tif',\n",
       " 'ROI009_XY1620758309_Z00_T0_C1.tif',\n",
       " 'ROI009_XY1620758309_Z00_T0_C2.tif',\n",
       " 'ROI009_XY1620758309_Z00_T0_C3.tif',\n",
       " 'ROI010_XY1620758450_Z00_T0_C0.tif',\n",
       " 'ROI010_XY1620758450_Z00_T0_C1.tif',\n",
       " 'ROI010_XY1620758450_Z00_T0_C2.tif',\n",
       " 'ROI010_XY1620758450_Z00_T0_C3.tif']"
      ]
     },
     "metadata": {},
     "execution_count": 4
    }
   ],
   "metadata": {}
  },
  {
   "cell_type": "code",
   "execution_count": 5,
   "source": [
    "# This function takes all the videos in the folder and merge those with similar names\n",
    "list_prefix = [] # list that will store name prefix for every image\n",
    "ending_string = re.compile('.*_C0.tif')  # detecting files ending in _C0.tif\n",
    "for root, dirs, files in os.walk(video_dir):\n",
    "  for file in files:\n",
    "    if ending_string.match(file):\n",
    "        prefix = file.rpartition('_')[0]\n",
    "        print(file)\n",
    "        list_prefix.append(prefix)"
   ],
   "outputs": [
    {
     "output_type": "stream",
     "name": "stdout",
     "text": [
      "ROI001_XY1620757205_Z00_T0_C0.tif\n",
      "ROI002_XY1620757341_Z00_T0_C0.tif\n",
      "ROI003_XY1620757459_Z00_T0_C0.tif\n",
      "ROI004_XY1620757588_Z00_T0_C0.tif\n",
      "ROI005_XY1620757701_Z00_T0_C0.tif\n",
      "ROI006_XY1620757885_Z00_T0_C0.tif\n",
      "ROI007_XY1620758020_Z00_T0_C0.tif\n",
      "ROI008_XY1620758163_Z00_T0_C0.tif\n",
      "ROI009_XY1620758309_Z00_T0_C0.tif\n",
      "ROI010_XY1620758450_Z00_T0_C0.tif\n"
     ]
    }
   ],
   "metadata": {}
  },
  {
   "cell_type": "code",
   "execution_count": 6,
   "source": [
    "list_prefix"
   ],
   "outputs": [
    {
     "output_type": "execute_result",
     "data": {
      "text/plain": [
       "['ROI001_XY1620757205_Z00_T0',\n",
       " 'ROI002_XY1620757341_Z00_T0',\n",
       " 'ROI003_XY1620757459_Z00_T0',\n",
       " 'ROI004_XY1620757588_Z00_T0',\n",
       " 'ROI005_XY1620757701_Z00_T0',\n",
       " 'ROI006_XY1620757885_Z00_T0',\n",
       " 'ROI007_XY1620758020_Z00_T0',\n",
       " 'ROI008_XY1620758163_Z00_T0',\n",
       " 'ROI009_XY1620758309_Z00_T0',\n",
       " 'ROI010_XY1620758450_Z00_T0']"
      ]
     },
     "metadata": {},
     "execution_count": 6
    }
   ],
   "metadata": {}
  },
  {
   "cell_type": "code",
   "execution_count": 7,
   "source": [
    "# This function takes all the videos in the folder and merge those with similar names\n",
    "list_files_per_image =[]  # list that stores all files belonging to the same image in a sublist\n",
    "ending_string = re.compile('.*_C0.tif')  # detecting files ending in _C0.tif\n",
    "for _, _, files in os.walk(video_dir):\n",
    "  for file in files:\n",
    "    if ending_string.match(file):\n",
    "        prefix = file.rpartition('_')[0]  # stores a string with the first part of the file name before the last underscore character in the file name string.\n",
    "        list_files_per_image.append(glob.glob( str(video_dir.joinpath(prefix)) + '*.tif'))"
   ],
   "outputs": [],
   "metadata": {}
  },
  {
   "cell_type": "code",
   "execution_count": 8,
   "source": [
    "list_files_per_image[1]"
   ],
   "outputs": [
    {
     "output_type": "execute_result",
     "data": {
      "text/plain": [
       "['/home/luisub/Desktop/rsnaped/DataBases/LargeDataSets/EmptyFISH/ROI002_XY1620757341_Z00_T0_C0.tif',\n",
       " '/home/luisub/Desktop/rsnaped/DataBases/LargeDataSets/EmptyFISH/ROI002_XY1620757341_Z00_T0_C1.tif',\n",
       " '/home/luisub/Desktop/rsnaped/DataBases/LargeDataSets/EmptyFISH/ROI002_XY1620757341_Z00_T0_C2.tif',\n",
       " '/home/luisub/Desktop/rsnaped/DataBases/LargeDataSets/EmptyFISH/ROI002_XY1620757341_Z00_T0_C3.tif']"
      ]
     },
     "metadata": {},
     "execution_count": 8
    }
   ],
   "metadata": {}
  },
  {
   "cell_type": "code",
   "execution_count": 9,
   "source": [
    "number_images = len(list_files_per_image)\n"
   ],
   "outputs": [],
   "metadata": {}
  },
  {
   "cell_type": "code",
   "execution_count": 10,
   "source": [
    "#list_images_separated_ch = [imread(f) for f in files]"
   ],
   "outputs": [],
   "metadata": {}
  },
  {
   "cell_type": "code",
   "execution_count": null,
   "source": [],
   "outputs": [],
   "metadata": {}
  },
  {
   "cell_type": "code",
   "execution_count": 11,
   "source": [
    "# merging files for single image\n",
    "test_idx= 1\n",
    "merged_image = np.concatenate([ imread(list_files_per_image[test_idx][i])[..., np.newaxis] for i,_ in enumerate(list_files_per_image[test_idx])],axis=-1)\n",
    "merged_image.shape"
   ],
   "outputs": [
    {
     "output_type": "execute_result",
     "data": {
      "text/plain": [
       "(23, 928, 624, 4)"
      ]
     },
     "metadata": {},
     "execution_count": 11
    }
   ],
   "metadata": {}
  },
  {
   "cell_type": "code",
   "execution_count": 12,
   "source": [
    "# Storing a list with all merged images"
   ],
   "outputs": [],
   "metadata": {}
  },
  {
   "cell_type": "code",
   "execution_count": 13,
   "source": [
    "# This function takes all the videos in the folder and merge those with similar names\n",
    "list_file_names =[]\n",
    "list_merged_images =[]  # list that stores all files belonging to the same image in a sublist\n",
    "ending_string = re.compile('.*_C0.tif')  # detecting files ending in _C0.tif\n",
    "for _, _, files in os.walk(video_dir):\n",
    "  for file in files:\n",
    "    if ending_string.match(file):\n",
    "        prefix = file.rpartition('_')[0]  # stores a string with the first part of the file name before the last underscore character in the file name string.\n",
    "        list_files_per_image = glob.glob( str(video_dir.joinpath(prefix)) + '*.tif')\n",
    "        #merged_image = np.concatenate([ imread(list_files_per_image[i])[..., np.newaxis] for i,_ in enumerate(list_files_per_image)],axis=-1)\n",
    "        list_file_names.append(prefix)\n",
    "        list_merged_images.append(np.concatenate([ imread(list_files_per_image[i])[..., np.newaxis] for i,_ in enumerate(list_files_per_image)],axis=-1))\n"
   ],
   "outputs": [],
   "metadata": {}
  },
  {
   "cell_type": "code",
   "execution_count": null,
   "source": [],
   "outputs": [],
   "metadata": {}
  },
  {
   "cell_type": "code",
   "execution_count": 14,
   "source": [
    "def merging_files(directory, substring_to_detect_in_file_name = '.*_C0.tif', save_figure =0 ):\n",
    "    # This function takes all the videos in the folder and merge those with similar names\n",
    "    list_file_names =[]\n",
    "    list_merged_images =[]  # list that stores all files belonging to the same image in a sublist\n",
    "    ending_string = re.compile(substring_to_detect_in_file_name)  # detecting files ending in _C0.tif\n",
    "    for _, _, files in os.walk(directory):\n",
    "        for file in files:\n",
    "            if ending_string.match(file):\n",
    "                prefix = file.rpartition('_')[0]  # stores a string with the first part of the file name before the last underscore character in the file name string.\n",
    "                list_files_per_image = glob.glob( str(directory.joinpath(prefix)) + '*.tif')\n",
    "                list_file_names.append(prefix)\n",
    "                merged_img = np.concatenate([ imread(list_files_per_image[i])[..., np.newaxis] for i,_ in enumerate(list_files_per_image)],axis=-1).astype('uint16')\n",
    "                print(merged_img.shape)\n",
    "                list_merged_images.append(merged_img) \n",
    "                if save_figure ==1:\n",
    "                    save_to_path = directory.joinpath('merged')\n",
    "                    if not os.path.exists(str(save_to_path)):\n",
    "                        os.makedirs(str(save_to_path))\n",
    "                    tifffile.imsave(str(save_to_path.joinpath(prefix+'_merged'+'.tif')), merged_img, metadata={'axes': 'ZYXC'})\n",
    "    return list_file_names, list_merged_images"
   ],
   "outputs": [],
   "metadata": {}
  },
  {
   "cell_type": "code",
   "execution_count": 15,
   "source": [
    "list_file_names, list_merged_images = merging_files(video_dir, substring_to_detect_in_file_name = '.*_C0.tif', save_figure =0)"
   ],
   "outputs": [
    {
     "output_type": "stream",
     "name": "stdout",
     "text": [
      "(23, 928, 624, 4)\n",
      "(23, 928, 624, 4)\n",
      "(23, 928, 624, 4)\n",
      "(23, 928, 624, 4)\n",
      "(23, 928, 624, 4)\n",
      "(23, 928, 624, 4)\n",
      "(23, 928, 624, 4)\n",
      "(23, 928, 624, 4)\n",
      "(23, 928, 624, 4)\n",
      "(23, 928, 624, 4)\n"
     ]
    }
   ],
   "metadata": {}
  },
  {
   "cell_type": "code",
   "execution_count": 16,
   "source": [
    "#plt.imshow(list_merged_images[0][0,:,:,0])\n",
    "list_merged_images[0].shape"
   ],
   "outputs": [
    {
     "output_type": "execute_result",
     "data": {
      "text/plain": [
       "(23, 928, 624, 4)"
      ]
     },
     "metadata": {},
     "execution_count": 16
    }
   ],
   "metadata": {}
  },
  {
   "cell_type": "code",
   "execution_count": null,
   "source": [],
   "outputs": [],
   "metadata": {}
  },
  {
   "cell_type": "code",
   "execution_count": 17,
   "source": [
    "#imported_img_merged = imread(str(video_dir.joinpath('merged','ROI002_XY1620757341_Z00_T0_merged.tif')))\n",
    "#plt.imshow(imported_img_merged[0,:,:,0])\n",
    "#imported_img_merged.shape"
   ],
   "outputs": [],
   "metadata": {}
  },
  {
   "cell_type": "code",
   "execution_count": 18,
   "source": [
    " #tifffile.imsave('test.tif', list_merged_images[0], metadata={'axes': 'ZYXC'})"
   ],
   "outputs": [],
   "metadata": {}
  },
  {
   "cell_type": "code",
   "execution_count": 19,
   "source": [
    "#str(video_dir.joinpath('merged','ROI002_XY1620757341_Z00_T0_merged.tif'))"
   ],
   "outputs": [],
   "metadata": {}
  },
  {
   "cell_type": "code",
   "execution_count": 20,
   "source": [
    "#video_dir.joinpath('merged','ROI002_XY1620757341_Z00_T0_merged.tif')"
   ],
   "outputs": [],
   "metadata": {}
  },
  {
   "cell_type": "code",
   "execution_count": 21,
   "source": [
    "list_file_names, list_merged_images = rsp.MergeChannels(video_dir, substring_to_detect_in_file_name = '.*_C0.tif', save_figure =1).merge()"
   ],
   "outputs": [],
   "metadata": {}
  },
  {
   "cell_type": "code",
   "execution_count": 22,
   "source": [
    "list_file_names"
   ],
   "outputs": [
    {
     "output_type": "execute_result",
     "data": {
      "text/plain": [
       "['ROI001_XY1620757205_Z00_T0',\n",
       " 'ROI002_XY1620757341_Z00_T0',\n",
       " 'ROI003_XY1620757459_Z00_T0',\n",
       " 'ROI004_XY1620757588_Z00_T0',\n",
       " 'ROI005_XY1620757701_Z00_T0',\n",
       " 'ROI006_XY1620757885_Z00_T0',\n",
       " 'ROI007_XY1620758020_Z00_T0',\n",
       " 'ROI008_XY1620758163_Z00_T0',\n",
       " 'ROI009_XY1620758309_Z00_T0',\n",
       " 'ROI010_XY1620758450_Z00_T0']"
      ]
     },
     "metadata": {},
     "execution_count": 22
    }
   ],
   "metadata": {}
  },
  {
   "cell_type": "code",
   "execution_count": 23,
   "source": [
    "list_merged_images[0].shape"
   ],
   "outputs": [
    {
     "output_type": "execute_result",
     "data": {
      "text/plain": [
       "(23, 928, 624, 4)"
      ]
     },
     "metadata": {},
     "execution_count": 23
    }
   ],
   "metadata": {}
  },
  {
   "cell_type": "code",
   "execution_count": 24,
   "source": [],
   "outputs": [
    {
     "output_type": "execute_result",
     "data": {
      "text/plain": [
       "'/home/luisub/Desktop/rsnaped/DataBases/LargeDataSets/EmptyFISH'"
      ]
     },
     "metadata": {},
     "execution_count": 24
    }
   ],
   "metadata": {}
  },
  {
   "cell_type": "code",
   "execution_count": null,
   "source": [],
   "outputs": [],
   "metadata": {}
  }
 ]
}