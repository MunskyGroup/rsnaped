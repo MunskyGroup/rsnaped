{
 "cells": [
  {
   "cell_type": "markdown",
   "id": "8c32be38",
   "metadata": {},
   "source": [
    "# Integrated Simulations"
   ]
  },
  {
   "cell_type": "code",
   "execution_count": null,
   "id": "3395177f",
   "metadata": {
    "jupyter": {
     "source_hidden": true
    }
   },
   "outputs": [],
   "source": [
    "# To manipulate arrays\n",
    "import pandas as pd\n",
    "import pathlib\n",
    "import sys\n",
    "# Plotting\n",
    "current_dir = pathlib.Path().absolute()\n",
    "rsnaped_dir = current_dir.parents[0].joinpath('rsnaped')\n",
    "sys.path.append(str(rsnaped_dir))\n",
    "import rsnaped as rsp"
   ]
  },
  {
   "cell_type": "code",
   "execution_count": null,
   "id": "915094d4",
   "metadata": {},
   "outputs": [],
   "source": [
    "\n",
    "# Deffining directories\n",
    "video_dir = current_dir.parents[0].joinpath('DataBases','CAP_IRES')\n",
    "#video_dir = current_dir.parents[0].joinpath('DataBases','test_will')\n",
    "#video_dir = current_dir.parents[0].joinpath('DataBases','12xSun-KDM5B___1xFLAG-12xSun-AlexX')\n",
    "#video_dir = current_dir.parents[0].joinpath('DataBases','Hela')\n"
   ]
  },
  {
   "cell_type": "code",
   "execution_count": null,
   "id": "92fa1c76",
   "metadata": {},
   "outputs": [],
   "source": [
    "current_dir.parents[0].joinpath('DataBases','CAP_IRES')"
   ]
  },
  {
   "cell_type": "code",
   "execution_count": null,
   "id": "76f014f8",
   "metadata": {},
   "outputs": [],
   "source": [
    "# Load videos \n",
    "path_files, list_files_paths, list_videos, num_videos = rsp.Utilities.read_files_in_directory(directory=video_dir, extension_of_files_to_look_for = 'tif',return_images_in_list=True)\n",
    "max_frames_to_read = 100\n",
    "list_videos[0] = list_videos[0][0:max_frames_to_read,:,:,:]"
   ]
  },
  {
   "cell_type": "code",
   "execution_count": null,
   "id": "6ef1fa39",
   "metadata": {},
   "outputs": [],
   "source": [
    "for i,vid in enumerate(list_videos):\n",
    "    rsp.Plots.plot_image_channels(vid,selected_time_point = 0)"
   ]
  },
  {
   "cell_type": "markdown",
   "id": "261b5dc8",
   "metadata": {},
   "source": [
    "# Tracking"
   ]
  },
  {
   "cell_type": "code",
   "execution_count": null,
   "id": "f36b59ee",
   "metadata": {},
   "outputs": [],
   "source": [
    "selected_channel_tracking = 0\n",
    "selected_channel_segmentation = 1\n",
    "intensity_calculation_method = 'disk_donut'  # options are : 'total_intensity' and 'disk_donut' 'gaussian_fit'\n",
    "mask_selection_method = 'max_area'           # options are : 'max_spots' and 'max_area' \n",
    "use_optimization_for_tracking = 1            # 0 not using, 1 is using optimization\n",
    "min_percentage_time_tracking = 0.2            # (normalized) minimum time to consider a trajectory.\n",
    "particle_detection_size = 7                  # spot size for the simulation and tracking.\n",
    "selected_channel = 0                         # Selected channel for tracking\n",
    "average_cell_diameter = 200                    # cell diameter\n",
    "intensity_threshold_tracking = None          # intensity threshold. If None, the code uses automatic detection # \n",
    "real_positions_dataframe = None #pd.read_csv(video_dir.joinpath('both_base_pb_KDM5B_P300_0.06_5.33333_video_cell_0.csv'))"
   ]
  },
  {
   "cell_type": "code",
   "execution_count": null,
   "id": "9c9b62e4",
   "metadata": {},
   "outputs": [],
   "source": [
    "list_DataFrame_tracking, list_array_intensities, list_time_vector, list_selected_mask = rsp.image_processing( files_dir_path_processing=video_dir,\n",
    "                                                                                                            particle_size=particle_detection_size,\n",
    "                                                                                                            selected_channel_tracking = selected_channel_tracking,\n",
    "                                                                                                            selected_channel_segmentation = selected_channel_segmentation,\n",
    "                                                                                                            intensity_calculation_method =intensity_calculation_method, \n",
    "                                                                                                            mask_selection_method = mask_selection_method,\n",
    "                                                                                                            show_plot=True,\n",
    "                                                                                                            use_optimization_for_tracking=use_optimization_for_tracking,\n",
    "                                                                                                            real_positions_dataframe = real_positions_dataframe,\n",
    "                                                                                                            average_cell_diameter=average_cell_diameter,\n",
    "                                                                                                            print_process_times=False,\n",
    "                                                                                                            min_percentage_time_tracking=min_percentage_time_tracking,\n",
    "                                                                                                            dataframe_format='long')"
   ]
  },
  {
   "cell_type": "code",
   "execution_count": null,
   "id": "db96498e",
   "metadata": {},
   "outputs": [],
   "source": [
    "df =list_DataFrame_tracking[0]\n"
   ]
  },
  {
   "cell_type": "code",
   "execution_count": null,
   "id": "04bbf7cb",
   "metadata": {},
   "outputs": [],
   "source": [
    "df"
   ]
  },
  {
   "cell_type": "code",
   "execution_count": null,
   "id": "7257d1a4",
   "metadata": {},
   "outputs": [],
   "source": []
  },
  {
   "cell_type": "code",
   "execution_count": null,
   "id": "bdfcbe21",
   "metadata": {},
   "outputs": [],
   "source": []
  }
 ],
 "metadata": {
  "kernelspec": {
   "display_name": "Python 3.8.5 ('rsnaped_env')",
   "language": "python",
   "name": "python3"
  },
  "language_info": {
   "codemirror_mode": {
    "name": "ipython",
    "version": 3
   },
   "file_extension": ".py",
   "mimetype": "text/x-python",
   "name": "python",
   "nbconvert_exporter": "python",
   "pygments_lexer": "ipython3",
   "version": "3.8.5"
  },
  "vscode": {
   "interpreter": {
    "hash": "daf7c258a197027f92a823c5e9002157216e53cdde30f9077602d149eebf1043"
   }
  }
 },
 "nbformat": 4,
 "nbformat_minor": 5
}
