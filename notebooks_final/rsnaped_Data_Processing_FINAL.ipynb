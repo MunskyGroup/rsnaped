{
 "cells": [
  {
   "cell_type": "markdown",
   "id": "8c32be38",
   "metadata": {},
   "source": [
    "# Integrated Simulations"
   ]
  },
  {
   "cell_type": "code",
   "execution_count": null,
   "id": "3395177f",
   "metadata": {
    "jupyter": {
     "source_hidden": true
    }
   },
   "outputs": [],
   "source": [
    "# To manipulate arrays\n",
    "import pandas as pd\n",
    "import pathlib\n",
    "import sys\n",
    "import numpy as np\n",
    "from pathlib import Path\n",
    "import tifffile\n",
    "import scipy.stats as stats\n",
    "import seaborn as sns\n",
    "import matplotlib.pyplot as plt \n",
    "# Plotting\n",
    "current_dir = pathlib.Path().absolute()\n",
    "rsnaped_dir = current_dir.parents[0].joinpath('rsnaped')\n",
    "sys.path.append(str(rsnaped_dir))\n",
    "import rsnaped as rsp"
   ]
  },
  {
   "cell_type": "code",
   "execution_count": null,
   "id": "e3ead53d",
   "metadata": {},
   "outputs": [],
   "source": [
    "case = 0\n",
    "\n",
    "if case == 0:\n",
    "    selected_video = 0 # 0 is the only move with multiple cells\n",
    "    video_dir = current_dir.parents[0].joinpath('/home/luisub/Desktop/rsnaped/DataBases/KDM5B_Translation_SampleMovies')\n",
    "    path_files, list_files_paths, list_videos, num_videos = rsp.Utilities.read_files_in_directory(directory=video_dir, extension_of_files_to_look_for = 'tif',return_images_in_list=True)\n",
    "    image_optimization = list_videos[selected_video] \n",
    "    image_optimization = rsp.ConvertToStandardFormat(video=image_optimization, time_position = 0, height_position = 2,  width_position = 3, channel_position = 1 ).transpose_video()\n",
    "    image_optimization = image_optimization[0:100,:,:,1]\n",
    "    # Create 3 copies of the array\n",
    "    red_channel = image_optimization.copy()\n",
    "    green_channel = image_optimization.copy()\n",
    "    blue_channel = image_optimization.copy()\n",
    "    # Stack them along a new dimension\n",
    "    video = np.stack((red_channel, green_channel, blue_channel), axis=-1)\n",
    "    particle_detection_size =   7               # spot size for the simulation and tracking.\n",
    "    average_cell_diameter = 300                    # cell diameter\n",
    "    min_percentage_time_tracking = 0.3            # (normalized) minimum time to consider a trajectory.\n",
    "\n",
    "elif case == 1:\n",
    "    selected_video = 1 # 0-4\n",
    "    video_dir = current_dir.parents[0].joinpath('DataBases','Jacks_Data')\n",
    "    path_files, list_files_paths, list_videos, num_videos = rsp.Utilities.read_files_in_directory(directory=video_dir, extension_of_files_to_look_for = 'tif',return_images_in_list=True)\n",
    "    image_optimization = list_videos[0][:,selected_video,:,:]\n",
    "    # Create 3 copies of the array\n",
    "    red_channel = image_optimization.copy()\n",
    "    green_channel = image_optimization.copy()\n",
    "    blue_channel = image_optimization.copy()\n",
    "    # Stack them along a new dimension\n",
    "    video = np.stack((red_channel, green_channel, blue_channel), axis=-1)\n",
    "    particle_detection_size =  5               # spot size for the simulation and tracking.\n",
    "    average_cell_diameter = 120                    # cell diameter\n",
    "    min_percentage_time_tracking = 0.15            # (normalized) minimum time to consider a trajectory.\n",
    "\n",
    "# Print the shape of the video\n",
    "print(image_optimization.shape)\n",
    "print(np.max(image_optimization))"
   ]
  },
  {
   "cell_type": "code",
   "execution_count": null,
   "id": "fb04e404",
   "metadata": {},
   "outputs": [],
   "source": [
    "list_files_paths[0]"
   ]
  },
  {
   "cell_type": "code",
   "execution_count": null,
   "id": "0f2958ad",
   "metadata": {},
   "outputs": [],
   "source": [
    "rsp.Plots.plot_image_channels(video,selected_time_point = 0)\n"
   ]
  },
  {
   "cell_type": "code",
   "execution_count": null,
   "id": "29e5f8b0",
   "metadata": {},
   "outputs": [],
   "source": [
    "rsp.Plots.plot_image_channels(video,selected_time_point = -1)\n"
   ]
  },
  {
   "cell_type": "code",
   "execution_count": null,
   "id": "ca6e44ad",
   "metadata": {},
   "outputs": [],
   "source": [
    "# make a new directory with correct format\n",
    "video_dir_std = Path(video_dir,'standard_format')\n",
    "video_dir_std.mkdir(exist_ok=True)\n",
    "# save as a tif file\n",
    "tifffile.imsave(str(video_dir_std.joinpath('std_'+list_files_paths[0])), video, metadata={'axes': 'TYXC'})"
   ]
  },
  {
   "cell_type": "markdown",
   "id": "261b5dc8",
   "metadata": {},
   "source": [
    "# Tracking"
   ]
  },
  {
   "cell_type": "code",
   "execution_count": null,
   "id": "f36b59ee",
   "metadata": {},
   "outputs": [],
   "source": [
    "selected_channel_tracking = 0\n",
    "selected_channel_segmentation = 1\n",
    "intensity_calculation_method = 'disk_donut'  # options are : 'total_intensity' and 'disk_donut' 'gaussian_fit'\n",
    "mask_selection_method = 'all_cells_in_image'           # options are : 'all_cells_in_image', 'max_spots' and 'max_area' \n",
    "use_optimization_for_tracking = 1            # 0 not using, 1 is using optimization\n",
    "#min_percentage_time_tracking = 0.1            # (normalized) minimum time to consider a trajectory.\n",
    "#particle_detection_size =   7               # spot size for the simulation and tracking.\n",
    "#average_cell_diameter = 300                    # cell diameter\n",
    "intensity_threshold_tracking = None          # intensity threshold. If None, the code uses automatic detection # \n",
    "real_positions_dataframe = None #pd.read_csv(video_dir.joinpath('both_base_pb_KDM5B_P300_0.06_5.33333_video_cell_0.csv'))\n",
    "create_metadata= False\n",
    "create_pdf=True\n",
    "intensity_threshold_tracking= None\n",
    "dataframe_format='long'"
   ]
  },
  {
   "cell_type": "code",
   "execution_count": null,
   "id": "6dadeb51",
   "metadata": {},
   "outputs": [],
   "source": [
    "list_DataFrame_tracking, list_array_intensities, list_time_vector, list_selected_mask = rsp.image_processing(video=video, \n",
    "                                                                                                            #files_dir_path_processing=video_dir_std,\n",
    "                                                                                                            particle_size=particle_detection_size,\n",
    "                                                                                                            selected_channel_tracking = selected_channel_tracking,\n",
    "                                                                                                            selected_channel_segmentation = selected_channel_segmentation,\n",
    "                                                                                                            intensity_calculation_method =intensity_calculation_method, \n",
    "                                                                                                            intensity_threshold_tracking=intensity_threshold_tracking,\n",
    "                                                                                                            mask_selection_method = mask_selection_method,\n",
    "                                                                                                            show_plot=True,\n",
    "                                                                                                            use_optimization_for_tracking=use_optimization_for_tracking,\n",
    "                                                                                                            real_positions_dataframe = real_positions_dataframe,\n",
    "                                                                                                            average_cell_diameter=average_cell_diameter,\n",
    "                                                                                                            print_process_times=False,\n",
    "                                                                                                            min_percentage_time_tracking=min_percentage_time_tracking,\n",
    "                                                                                                            create_pdf=create_pdf,\n",
    "                                                                                                            create_metadata=create_metadata,\n",
    "                                                                                                            dataframe_format=dataframe_format)"
   ]
  },
  {
   "cell_type": "code",
   "execution_count": null,
   "id": "db96498e",
   "metadata": {},
   "outputs": [],
   "source": [
    "df =list_DataFrame_tracking[0]"
   ]
  },
  {
   "cell_type": "code",
   "execution_count": null,
   "id": "3c2439cb",
   "metadata": {},
   "outputs": [],
   "source": [
    "#df=pd.read_csv('/home/luisub/Desktop/rsnaped/notebooks_final/old_code.csv')"
   ]
  },
  {
   "cell_type": "code",
   "execution_count": null,
   "id": "8532491c",
   "metadata": {},
   "outputs": [],
   "source": [
    "def plot_scatter_spots_cell_size(x,y,plot_title,selected_color = '#1C00FE',xlabel='',ylabel=''):\n",
    "    r, p = stats.pearsonr(x, y)\n",
    "    df_join_distribution = pd.DataFrame({'X':x,'Y':y})\n",
    "    #plt.figure(figsize=(6,5))\n",
    "    sns.set(font_scale = 1.3)\n",
    "    b = sns.jointplot(data=df_join_distribution, y='Y', x='X', color= selected_color , marginal_kws=dict(bins=40, rug=True))\n",
    "    b.plot_joint(sns.rugplot, height=0, color=[0.7,0.7,0.7], clip_on=True)\n",
    "    b.plot_joint(sns.kdeplot, color=[0.5,0.5,0.5], levels=5)\n",
    "    b.plot_joint(sns.regplot,scatter_kws={'color': 'orangered',\"s\":10, 'marker':'o'}, line_kws={'color': selected_color,'lw': 2} )\n",
    "    blank_plot, = b.ax_joint.plot([], [], linestyle=\"\", alpha=0)\n",
    "    b.ax_joint.legend([blank_plot],['r={:.2f}'.format( np.round(r,2))],loc='upper left',)\n",
    "    b.ax_joint.set_xlim(np.percentile(x,1), np.percentile(x,99))\n",
    "    b.ax_joint.set_ylim(np.percentile(y,1), np.percentile(y,99))\n",
    "    b.fig.suptitle(plot_title)\n",
    "    b.ax_joint.set_xlabel(xlabel)\n",
    "    b.ax_joint.set_ylabel(ylabel)\n",
    "    b.ax_joint.collections[0].set_alpha(0)\n",
    "    b.fig.tight_layout()\n",
    "    b.fig.subplots_adjust(top=0.92) \n",
    "    #name_plot = plot_title +'.pdf'  \n",
    "    #plt.savefig(name_plot, transparent=False,dpi=1200, bbox_inches = 'tight', format='pdf')\n",
    "    plt.show()\n",
    "    #pathlib.Path().absolute().joinpath(name_plot).rename(pathlib.Path().absolute().joinpath(destination_folder,name_plot))\n",
    "    return"
   ]
  },
  {
   "cell_type": "code",
   "execution_count": null,
   "id": "a6c6c54a",
   "metadata": {},
   "outputs": [],
   "source": [
    "\n",
    "# Scatter plots intensity comparing all channels # ch1_bg_int_std #ch1_SNR\n",
    "SNR = rsp.Utilities.extract_field_from_dataframe(dataframe=df,selected_time=0,selected_field='ch0_SNR').astype(float)\n",
    "intensity = rsp.Utilities.extract_field_from_dataframe(dataframe=df,selected_time=0,selected_field='ch0_int_mean').astype(float)\n",
    "plot_scatter_spots_cell_size(intensity,SNR,plot_title='Red signal',selected_color = '#1C00FE',xlabel='Intensity',ylabel='SNR')\n"
   ]
  },
  {
   "cell_type": "code",
   "execution_count": null,
   "id": "9b281df2",
   "metadata": {},
   "outputs": [],
   "source": [
    "#total_particles = 0\n",
    "list_num_particles = []\n",
    "for image_id in set(df['image_number']):\n",
    "    for cell in set(df[df['image_number'] == image_id]['cell_number'] ):\n",
    "        total_particles = len(set(df[ (df['image_number'] == image_id) & ( df['cell_number'] == cell) ]   ['particle'] ))\n",
    "        print('particles in cell',str(cell),' : ',total_particles)\n",
    "        list_num_particles.append(total_particles)"
   ]
  },
  {
   "cell_type": "code",
   "execution_count": null,
   "id": "39a3f522",
   "metadata": {},
   "outputs": [],
   "source": [
    "ch0_int_mean = rsp.Utilities.extract_field_from_dataframe(dataframe=df,selected_time=None,selected_field='ch0_int_mean')\n",
    "temp = np.where(ch0_int_mean > 0, 1, 0)\n",
    "\n",
    "plt.matshow(~temp, cmap='gray')\n",
    "plt.title('tracking quality')   \n",
    "plt.xlabel('Time')\n",
    "plt.ylabel('Particle Number')\n",
    "for i in range(len(list_num_particles)):\n",
    "    if i > 0:\n",
    "        plt.axhline(y=list_num_particles[i]+list_num_particles[i-1], color='red', linewidth=3)\n",
    "    else:\n",
    "        plt.axhline(y=list_num_particles[i], color='red', linewidth=3)\n",
    "plt.show()"
   ]
  },
  {
   "cell_type": "code",
   "execution_count": null,
   "id": "9d0e463d",
   "metadata": {},
   "outputs": [],
   "source": [
    "number_bins = 30\n",
    "selected_color = 'r'\n",
    "ch0_int_mean = rsp.Utilities.extract_field_from_dataframe(dataframe=df,selected_time=None,selected_field='ch0_int_mean').flatten()\n",
    "plt.hist(ch0_int_mean, bins = number_bins,color = selected_color, orientation = 'vertical')\n",
    "plt.xlabel('Mean intensity')\n",
    "plt.show()"
   ]
  },
  {
   "cell_type": "code",
   "execution_count": null,
   "id": "c7b53ed2",
   "metadata": {},
   "outputs": [],
   "source": [
    "number_bins = 30\n",
    "selected_color = 'r'\n",
    "SNR = rsp.Utilities.extract_field_from_dataframe(dataframe=df,selected_time=None,selected_field='ch0_SNR').flatten()\n",
    "plt.hist(SNR, bins = number_bins,color = selected_color, orientation = 'vertical')\n",
    "plt.xlabel('SNR')\n",
    "plt.show()"
   ]
  },
  {
   "cell_type": "code",
   "execution_count": null,
   "id": "d6deeb93",
   "metadata": {},
   "outputs": [],
   "source": []
  }
 ],
 "metadata": {
  "kernelspec": {
   "display_name": "Python 3.8.5 ('rsnaped_env')",
   "language": "python",
   "name": "python3"
  },
  "language_info": {
   "codemirror_mode": {
    "name": "ipython",
    "version": 3
   },
   "file_extension": ".py",
   "mimetype": "text/x-python",
   "name": "python",
   "nbconvert_exporter": "python",
   "pygments_lexer": "ipython3",
   "version": "3.8.5"
  },
  "vscode": {
   "interpreter": {
    "hash": "daf7c258a197027f92a823c5e9002157216e53cdde30f9077602d149eebf1043"
   }
  }
 },
 "nbformat": 4,
 "nbformat_minor": 5
}
