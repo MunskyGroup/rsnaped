{
 "cells": [
  {
   "cell_type": "markdown",
   "id": "a6a41920",
   "metadata": {},
   "source": [
    "# Integrated Simulations"
   ]
  },
  {
   "cell_type": "code",
   "execution_count": null,
   "id": "4be7b95d",
   "metadata": {
    "jupyter": {
     "source_hidden": true
    }
   },
   "outputs": [],
   "source": [
    "import numpy as np \n",
    "import scipy\n",
    "import pandas as pd\n",
    "import pathlib\n",
    "import sys\n",
    "import scipy.stats as stats\n",
    "import matplotlib.pyplot as plt \n",
    "import seaborn as sns\n",
    "from joblib import Parallel, delayed\n",
    "import multiprocessing\n",
    "NUMBER_OF_CORES = np.max((1,int(multiprocessing.cpu_count()/2)))\n",
    "sns.set(font_scale = 1.5)\n",
    "sns.set_style(\"white\")"
   ]
  },
  {
   "cell_type": "code",
   "execution_count": null,
   "id": "31b2bced",
   "metadata": {
    "jupyter": {
     "source_hidden": true
    }
   },
   "outputs": [],
   "source": [
    "# Defining directories\n",
    "current_dir = pathlib.Path().absolute()\n",
    "sequences_dir = current_dir.parents[0].joinpath('DataBases','gene_files')\n",
    "video_dir = current_dir.parents[0].joinpath('DataBases','videos_for_sim_cell')\n",
    "rsnaped_dir = current_dir.parents[0].joinpath('rsnaped')\n",
    "gene_file = current_dir.parents[0].joinpath('DataBases','gene_files','KDM5B_withTags.txt')\n",
    "masks_dir = current_dir.parents[0].joinpath('DataBases','masks_for_sim_cell')\n",
    "save_to_dir =  current_dir.joinpath('temp_images' )"
   ]
  },
  {
   "cell_type": "code",
   "execution_count": null,
   "id": "32b2a092",
   "metadata": {},
   "outputs": [],
   "source": [
    "rsnaped_dir\n",
    "sys.path.append(str(rsnaped_dir))\n",
    "import rsnaped as rsp"
   ]
  },
  {
   "cell_type": "code",
   "execution_count": null,
   "id": "9193688d",
   "metadata": {
    "jupyter": {
     "source_hidden": true
    }
   },
   "outputs": [],
   "source": [
    "# Importing rSNAPed\n",
    "sys.path.append(str(rsnaped_dir))\n",
    "import rsnaped as rsp\n",
    "rsp.Banner().print_banner()"
   ]
  },
  {
   "cell_type": "code",
   "execution_count": null,
   "id": "b72d9d1e",
   "metadata": {},
   "outputs": [],
   "source": [
    "def plots_conditions(variable_range,ks_dist_mean_vector,ks_dist_std_vector,save_to_dir,plot_name='',label_x='' , extend_x_range= False,use_log_scale=False,selected_color='#1C00FE'):\n",
    "    plt.figure(figsize=(5, 4))\n",
    "    plt.errorbar(variable_range, ks_dist_mean_vector,  yerr=ks_dist_std_vector, ecolor=selected_color,linestyle='')\n",
    "    plt.plot(variable_range, ks_dist_mean_vector, marker='o', markersize=12, linestyle='none',color=selected_color )\n",
    "    plt.ylabel('KD (SSA-Image)')\n",
    "    plt.xlabel(label_x)\n",
    "    plt.xlabel(r'${}$'.format(label_x))\n",
    "    if extend_x_range == True:\n",
    "        plt.xlim(variable_range[0]-2,variable_range[-1]+2)\n",
    "    if use_log_scale ==True:\n",
    "        plt.xscale('log')\n",
    "    plt.savefig(save_to_dir.joinpath(plot_name+'_KD.pdf'), transparent=False,dpi=1200, bbox_inches = 'tight', format='pdf')\n",
    "    plt.show()\n",
    "    return"
   ]
  },
  {
   "cell_type": "code",
   "execution_count": null,
   "id": "6ba7aee3",
   "metadata": {},
   "outputs": [],
   "source": [
    "array_path= current_dir.joinpath('temp_images')\n",
    "\n",
    "variable_range_0 = np.load(array_path.joinpath('variable_range_0.npy'))\n",
    "ks_dist_mean_vector_0 = np.load(array_path.joinpath('ks_dist_mean_vector_0.npy'))\n",
    "ks_dist_std_vector_0 = np.load(array_path.joinpath('ks_dist_std_vector_0.npy'))\n",
    "\n",
    "variable_range_1 = np.load(array_path.joinpath('variable_range_1.npy'))\n",
    "ks_dist_mean_vector_1 = np.load(array_path.joinpath('ks_dist_mean_vector_1.npy'))\n",
    "ks_dist_std_vector_1 = np.load(array_path.joinpath('ks_dist_std_vector_1.npy'))\n",
    "\n",
    "variable_range_2 = np.load(array_path.joinpath('variable_range_2.npy'))\n",
    "ks_dist_mean_vector_2 = np.load(array_path.joinpath('ks_dist_mean_vector_2.npy'))\n",
    "ks_dist_std_vector_2 = np.load(array_path.joinpath('ks_dist_std_vector_2.npy'))\n",
    "\n",
    "variable_range_3 = np.load(array_path.joinpath('variable_range_3.npy'))\n",
    "ks_dist_mean_vector_3 = np.load(array_path.joinpath('ks_dist_mean_vector_3.npy'))\n",
    "ks_dist_std_vector_3 = np.load(array_path.joinpath('ks_dist_std_vector_3.npy'))\n"
   ]
  },
  {
   "cell_type": "code",
   "execution_count": null,
   "id": "4dde8968",
   "metadata": {},
   "outputs": [],
   "source": [
    "########################################################\n",
    "# condition 0 : number_spots_per_cell\n",
    "plots_conditions(variable_range=variable_range_0,\n",
    "                 ks_dist_mean_vector=ks_dist_mean_vector_0,\n",
    "                 ks_dist_std_vector=ks_dist_std_vector_0,\n",
    "                 save_to_dir=save_to_dir,\n",
    "                 plot_name='plot_spot_density',\n",
    "                 label_x='No Spots / Cell' ,\n",
    "                 extend_x_range= True,\n",
    "                 use_log_scale=False)\n",
    "########################################################\n",
    "# condition 1 : intensity_scale\n",
    "plots_conditions(variable_range=variable_range_1,\n",
    "                 ks_dist_mean_vector=ks_dist_mean_vector_1,\n",
    "                 ks_dist_std_vector=ks_dist_std_vector_1,\n",
    "                 save_to_dir=save_to_dir,\n",
    "                 plot_name='plot_SNR',\n",
    "                 label_x='SNR' ,\n",
    "                 extend_x_range= False,\n",
    "                 use_log_scale=False)\n",
    "########################################################\n",
    "# condition 2 : intensity_scale\n",
    "plots_conditions(variable_range=variable_range_2,\n",
    "                 ks_dist_mean_vector=ks_dist_mean_vector_2,\n",
    "                 ks_dist_std_vector=ks_dist_std_vector_2,\n",
    "                 save_to_dir=save_to_dir,\n",
    "                 plot_name='plot_diff',\n",
    "                 label_x='D (\\mu$m$^2/s)' ,\n",
    "                 extend_x_range= False,\n",
    "                 use_log_scale=True)\n",
    "########################################################\n",
    "# condition 3 : intensity_scale\n",
    "plots_conditions(variable_range=variable_range_3,\n",
    "                 ks_dist_mean_vector=ks_dist_mean_vector_3,\n",
    "                 ks_dist_std_vector=ks_dist_std_vector_3,\n",
    "                 save_to_dir=save_to_dir,\n",
    "                 plot_name='plot_frames',\n",
    "                 label_x='Frames (s)' ,\n",
    "                 extend_x_range= True,\n",
    "                 use_log_scale=False)\n",
    "########################################################"
   ]
  },
  {
   "cell_type": "code",
   "execution_count": null,
   "id": "d27a7c95",
   "metadata": {},
   "outputs": [],
   "source": []
  },
  {
   "cell_type": "code",
   "execution_count": null,
   "id": "ffbb1c80",
   "metadata": {},
   "outputs": [],
   "source": []
  }
 ],
 "metadata": {
  "interpreter": {
   "hash": "daf7c258a197027f92a823c5e9002157216e53cdde30f9077602d149eebf1043"
  },
  "kernelspec": {
   "display_name": "Python 3.8.5 ('rsnaped_env')",
   "language": "python",
   "name": "python3"
  },
  "language_info": {
   "codemirror_mode": {
    "name": "ipython",
    "version": 3
   },
   "file_extension": ".py",
   "mimetype": "text/x-python",
   "name": "python",
   "nbconvert_exporter": "python",
   "pygments_lexer": "ipython3",
   "version": "3.8.5"
  }
 },
 "nbformat": 4,
 "nbformat_minor": 5
}
