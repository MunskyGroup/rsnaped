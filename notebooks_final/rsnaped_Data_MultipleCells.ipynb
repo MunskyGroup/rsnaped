{
 "cells": [
  {
   "cell_type": "markdown",
   "id": "8c32be38",
   "metadata": {},
   "source": [
    "# Integrated Simulations"
   ]
  },
  {
   "cell_type": "code",
   "execution_count": 1,
   "id": "3395177f",
   "metadata": {
    "jupyter": {
     "source_hidden": true
    }
   },
   "outputs": [],
   "source": [
    "# To manipulate arrays\n",
    "import pandas as pd\n",
    "import pathlib\n",
    "import sys\n",
    "import matplotlib.pyplot as plt \n",
    "\n",
    "# Plotting\n",
    "current_dir = pathlib.Path().absolute()\n",
    "rsnaped_dir = current_dir.parents[0].joinpath('rsnaped')\n",
    "sys.path.append(str(rsnaped_dir))\n",
    "import rsnaped as rsp\n",
    "import numpy as np\n",
    "from ipywidgets import  VBox \n"
   ]
  },
  {
   "cell_type": "code",
   "execution_count": 2,
   "id": "915094d4",
   "metadata": {},
   "outputs": [],
   "source": [
    "\n",
    "# Defining directories\n",
    "video_dir = current_dir.parents[0].joinpath('DataBases','Jacks_Data')\n",
    "#video_dir = current_dir.parents[0].joinpath('DataBases','Hela')\n"
   ]
  },
  {
   "cell_type": "code",
   "execution_count": 3,
   "id": "76f014f8",
   "metadata": {},
   "outputs": [],
   "source": [
    "# Load videos \n",
    "path_files, list_files_paths, list_videos, num_videos = rsp.Utilities.read_files_in_directory(directory=video_dir, extension_of_files_to_look_for = 'tif',return_images_in_list=True)\n",
    "\n",
    "#max_frames_to_read = 10\n",
    "#list_videos[0] = list_videos[0][0:max_frames_to_read,:,:,:]"
   ]
  },
  {
   "cell_type": "code",
   "execution_count": 4,
   "id": "939815d8",
   "metadata": {},
   "outputs": [
    {
     "data": {
      "text/plain": [
       "(49, 5, 512, 512)"
      ]
     },
     "execution_count": 4,
     "metadata": {},
     "output_type": "execute_result"
    }
   ],
   "source": [
    "list_videos[0].shape\n"
   ]
  },
  {
   "cell_type": "code",
   "execution_count": 5,
   "id": "67fb1d8e",
   "metadata": {},
   "outputs": [
    {
     "ename": "IndexError",
     "evalue": "tuple index out of range",
     "output_type": "error",
     "traceback": [
      "\u001b[0;31m---------------------------------------------------------------------------\u001b[0m",
      "\u001b[0;31mIndexError\u001b[0m                                Traceback (most recent call last)",
      "Input \u001b[0;32mIn [5]\u001b[0m, in \u001b[0;36m<module>\u001b[0;34m\u001b[0m\n\u001b[1;32m      2\u001b[0m _, axes \u001b[38;5;241m=\u001b[39m plt\u001b[38;5;241m.\u001b[39msubplots(nrows \u001b[38;5;241m=\u001b[39m \u001b[38;5;241m1\u001b[39m, ncols \u001b[38;5;241m=\u001b[39m num_colors, figsize \u001b[38;5;241m=\u001b[39m (\u001b[38;5;241m20\u001b[39m, \u001b[38;5;241m5\u001b[39m))\n\u001b[1;32m      3\u001b[0m \u001b[38;5;28;01mfor\u001b[39;00m i \u001b[38;5;129;01min\u001b[39;00m \u001b[38;5;28mrange\u001b[39m (\u001b[38;5;241m0\u001b[39m, num_colors):\n\u001b[0;32m----> 4\u001b[0m     temp_img \u001b[38;5;241m=\u001b[39m\u001b[43mrsp\u001b[49m\u001b[38;5;241;43m.\u001b[39;49m\u001b[43mRemoveExtrema\u001b[49m\u001b[43m(\u001b[49m\u001b[43mlist_videos\u001b[49m\u001b[43m[\u001b[49m\u001b[38;5;241;43m0\u001b[39;49m\u001b[43m]\u001b[49m\u001b[43m[\u001b[49m\u001b[38;5;241;43m0\u001b[39;49m\u001b[43m,\u001b[49m\u001b[43mi\u001b[49m\u001b[43m,\u001b[49m\u001b[43m:\u001b[49m\u001b[43m,\u001b[49m\u001b[43m:\u001b[49m\u001b[43m]\u001b[49m\u001b[43m,\u001b[49m\u001b[43m \u001b[49m\u001b[43mmin_percentile\u001b[49m\u001b[43m \u001b[49m\u001b[38;5;241;43m=\u001b[39;49m\u001b[43m \u001b[49m\u001b[38;5;241;43m0.5\u001b[39;49m\u001b[43m,\u001b[49m\u001b[43m \u001b[49m\u001b[43mmax_percentile\u001b[49m\u001b[43m \u001b[49m\u001b[38;5;241;43m=\u001b[39;49m\u001b[43m \u001b[49m\u001b[38;5;241;43m99\u001b[39;49m\u001b[43m)\u001b[49m\u001b[38;5;241;43m.\u001b[39;49m\u001b[43mremove_outliers\u001b[49m\u001b[43m(\u001b[49m\u001b[43m)\u001b[49m\n\u001b[1;32m      5\u001b[0m     axes[i]\u001b[38;5;241m.\u001b[39mimshow(temp_img)\n\u001b[1;32m      6\u001b[0m     axes[i]\u001b[38;5;241m.\u001b[39mgrid(\u001b[38;5;28;01mFalse\u001b[39;00m)\n",
      "File \u001b[0;32m~/Desktop/rsnaped/rsnaped/rsnaped.py:492\u001b[0m, in \u001b[0;36mRemoveExtrema.remove_outliers\u001b[0;34m(self)\u001b[0m\n\u001b[1;32m    490\u001b[0m \u001b[38;5;28;01melif\u001b[39;00m \u001b[38;5;28mself\u001b[39m\u001b[38;5;241m.\u001b[39mformat_video \u001b[38;5;241m==\u001b[39m \u001b[38;5;124m'\u001b[39m\u001b[38;5;124mTYXC\u001b[39m\u001b[38;5;124m'\u001b[39m \u001b[38;5;129;01mor\u001b[39;00m \u001b[38;5;28mself\u001b[39m\u001b[38;5;241m.\u001b[39mformat_video \u001b[38;5;241m==\u001b[39m \u001b[38;5;124m'\u001b[39m\u001b[38;5;124mZYXC\u001b[39m\u001b[38;5;124m'\u001b[39m:\n\u001b[1;32m    491\u001b[0m     \u001b[38;5;28;01mfor\u001b[39;00m i \u001b[38;5;129;01min\u001b[39;00m \u001b[38;5;28mrange\u001b[39m(\u001b[38;5;241m0\u001b[39m, \u001b[38;5;28mself\u001b[39m\u001b[38;5;241m.\u001b[39mvideo\u001b[38;5;241m.\u001b[39mshape[\u001b[38;5;241m0\u001b[39m]):\n\u001b[0;32m--> 492\u001b[0m         \u001b[38;5;28;01mfor\u001b[39;00m j \u001b[38;5;129;01min\u001b[39;00m \u001b[38;5;28mrange\u001b[39m(\u001b[38;5;241m0\u001b[39m, \u001b[38;5;28;43mself\u001b[39;49m\u001b[38;5;241;43m.\u001b[39;49m\u001b[43mvideo\u001b[49m\u001b[38;5;241;43m.\u001b[39;49m\u001b[43mshape\u001b[49m\u001b[43m[\u001b[49m\u001b[38;5;241;43m3\u001b[39;49m\u001b[43m]\u001b[49m):\n\u001b[1;32m    493\u001b[0m             temp_img \u001b[38;5;241m=\u001b[39m \u001b[38;5;28mself\u001b[39m\u001b[38;5;241m.\u001b[39mvideo[i,:,:,j]\n\u001b[1;32m    494\u001b[0m             \u001b[38;5;28;01mif\u001b[39;00m \u001b[38;5;129;01mnot\u001b[39;00m np\u001b[38;5;241m.\u001b[39mmax(temp_img) \u001b[38;5;241m==\u001b[39m \u001b[38;5;241m0\u001b[39m:\n",
      "\u001b[0;31mIndexError\u001b[0m: tuple index out of range"
     ]
    },
    {
     "data": {
      "image/png": "[encoded data removed]",
      "text/plain": [
       "<Figure size 1440x360 with 5 Axes>"
      ]
     },
     "metadata": {
      "needs_background": "light"
     },
     "output_type": "display_data"
    }
   ],
   "source": [
    "num_colors = list_videos[0].shape[1]\n",
    "_, axes = plt.subplots(nrows = 1, ncols = num_colors, figsize = (20, 5))\n",
    "for i in range (0, num_colors):\n",
    "    temp_img =rsp.RemoveExtrema(list_videos[0][0,i,:,:], min_percentile = 0.5, max_percentile = 99).remove_outliers()\n",
    "    axes[i].imshow(temp_img)\n",
    "    axes[i].grid(False)\n",
    "    axes[i].set_xticks([])\n",
    "    axes[i].set_yticks([])\n",
    "    axes[i].set_title('Ch_'+str(i), fontsize=20 )"
   ]
  },
  {
   "cell_type": "code",
   "execution_count": null,
   "metadata": {},
   "outputs": [],
   "source": [
    "number_time_points = 10#list_videos[0].shape[0]\n",
    "selected_movie = 0\n",
    "_, axes = plt.subplots(nrows = 1, ncols = number_time_points, figsize = (25, 6))\n",
    "for i in range (0, number_time_points):\n",
    "    temp_img =rsp.RemoveExtrema(list_videos[0][i,selected_movie,:,:], min_percentile = 0.5, max_percentile = 99).remove_outliers()\n",
    "    axes[i].imshow(temp_img)\n",
    "    axes[i].grid(False)\n",
    "    axes[i].set_xticks([])\n",
    "    axes[i].set_yticks([])\n",
    "    axes[i].set_title('Ch_'+str(i), fontsize=20 )"
   ]
  },
  {
   "cell_type": "code",
   "execution_count": null,
   "metadata": {},
   "outputs": [],
   "source": [
    "tensor_video = list_videos[0][:,selected_movie,:,:]\n",
    "tensor_video_expanded =  tensor_video.reshape(tensor_video.shape + (1,))\n",
    "tensor_video_expanded.shape"
   ]
  },
  {
   "cell_type": "code",
   "execution_count": null,
   "metadata": {},
   "outputs": [],
   "source": [
    "# Plot only selected trajectories\n",
    "#plt.rcParams['figure.figsize'] = [5,5]\n",
    "tensor_video_expanded =rsp.RemoveExtrema(tensor_video_expanded, min_percentile = 1, max_percentile = 90).remove_outliers()\n",
    "\n",
    "#controls_pr, output_pr = rsp.VisualizerVideo(tensor_video,dataframe_particles=dataframe_simulated_cell,normalize=False).make_video_app()\n",
    "controls_pr, output_pr = rsp.VisualizerVideo(tensor_video_expanded,normalize=False,step_size_in_sec=1).make_video_app()\n",
    "display(VBox([controls_pr, output_pr]))"
   ]
  },
  {
   "cell_type": "code",
   "execution_count": null,
   "metadata": {},
   "outputs": [],
   "source": [
    "selected_masks = rsp.Cellpose(video= tensor_video_expanded[35,:,:,0], num_iterations = 4, channels = [0,0], diameter = 100, model_type = 'cyto', selection_method = 'max_cells').calculate_masks() # options are 'max_area' or 'max_cells'\n",
    "plt.imshow(selected_masks)"
   ]
  },
  {
   "cell_type": "code",
   "execution_count": null,
   "id": "6ef1fa39",
   "metadata": {},
   "outputs": [],
   "source": [
    "for i,vid in enumerate(list_videos):\n",
    "    rsp.Plots.plot_image_channels(vid,selected_time_point = 0)"
   ]
  },
  {
   "cell_type": "markdown",
   "id": "261b5dc8",
   "metadata": {},
   "source": [
    "# Tracking"
   ]
  },
  {
   "cell_type": "code",
   "execution_count": null,
   "id": "f36b59ee",
   "metadata": {},
   "outputs": [],
   "source": [
    "selected_channel_tracking = 0\n",
    "selected_channel_segmentation = 1\n",
    "intensity_calculation_method = 'disk_donut'  # options are : 'total_intensity' and 'disk_donut' 'gaussian_fit'\n",
    "mask_selection_method = 'all_cells_in_image'           # options are : 'all_cells_in_image', 'max_spots' and 'max_area' \n",
    "use_optimization_for_tracking = 1            # 0 not using, 1 is using optimization\n",
    "min_percentage_time_tracking = 0.1            # (normalized) minimum time to consider a trajectory.\n",
    "particle_detection_size = 7                  # spot size for the simulation and tracking.\n",
    "selected_channel = 0                         # Selected channel for tracking\n",
    "average_cell_diameter = 200                    # cell diameter\n",
    "intensity_threshold_tracking = None          # intensity threshold. If None, the code uses automatic detection # \n",
    "real_positions_dataframe = None #pd.read_csv(video_dir.joinpath('both_base_pb_KDM5B_P300_0.06_5.33333_video_cell_0.csv'))"
   ]
  },
  {
   "cell_type": "code",
   "execution_count": null,
   "id": "9c9b62e4",
   "metadata": {},
   "outputs": [],
   "source": [
    "list_DataFrame_tracking, list_array_intensities, list_time_vector, list_selected_mask = rsp.image_processing( files_dir_path_processing=video_dir,\n",
    "                                                                                                            particle_size=particle_detection_size,\n",
    "                                                                                                            selected_channel_tracking = selected_channel_tracking,\n",
    "                                                                                                            selected_channel_segmentation = selected_channel_segmentation,\n",
    "                                                                                                            intensity_calculation_method =intensity_calculation_method, \n",
    "                                                                                                            mask_selection_method = mask_selection_method,\n",
    "                                                                                                            show_plot=True,\n",
    "                                                                                                            use_optimization_for_tracking=use_optimization_for_tracking,\n",
    "                                                                                                            real_positions_dataframe = real_positions_dataframe,\n",
    "                                                                                                            average_cell_diameter=average_cell_diameter,\n",
    "                                                                                                            print_process_times=False,\n",
    "                                                                                                            min_percentage_time_tracking=min_percentage_time_tracking,\n",
    "                                                                                                            dataframe_format='long')"
   ]
  },
  {
   "cell_type": "code",
   "execution_count": null,
   "id": "db96498e",
   "metadata": {},
   "outputs": [],
   "source": [
    "df =list_DataFrame_tracking[1]\n"
   ]
  },
  {
   "cell_type": "code",
   "execution_count": null,
   "id": "04bbf7cb",
   "metadata": {},
   "outputs": [],
   "source": [
    "df.head()"
   ]
  },
  {
   "cell_type": "code",
   "execution_count": null,
   "id": "7257d1a4",
   "metadata": {},
   "outputs": [],
   "source": [
    "df.tail()"
   ]
  },
  {
   "cell_type": "code",
   "execution_count": null,
   "id": "bdfcbe21",
   "metadata": {},
   "outputs": [],
   "source": []
  }
 ],
 "metadata": {
  "kernelspec": {
   "display_name": "Python 3.8.5 ('rsnaped_env')",
   "language": "python",
   "name": "python3"
  },
  "language_info": {
   "codemirror_mode": {
    "name": "ipython",
    "version": 3
   },
   "file_extension": ".py",
   "mimetype": "text/x-python",
   "name": "python",
   "nbconvert_exporter": "python",
   "pygments_lexer": "ipython3",
   "version": "3.8.5"
  },
  "vscode": {
   "interpreter": {
    "hash": "daf7c258a197027f92a823c5e9002157216e53cdde30f9077602d149eebf1043"
   }
  }
 },
 "nbformat": 4,
 "nbformat_minor": 5
}
