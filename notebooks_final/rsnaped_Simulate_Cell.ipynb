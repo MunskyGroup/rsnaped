{
 "cells": [
  {
   "attachments": {},
   "cell_type": "markdown",
   "id": "a6a41920",
   "metadata": {},
   "source": [
    "# Cell simulation"
   ]
  },
  {
   "attachments": {},
   "cell_type": "markdown",
   "id": "bab8fc12",
   "metadata": {},
   "source": [
    "### Importing Libraries"
   ]
  },
  {
   "cell_type": "code",
   "execution_count": null,
   "id": "4be7b95d",
   "metadata": {
    "jupyter": {
     "source_hidden": true
    }
   },
   "outputs": [],
   "source": [
    "import pathlib\n",
    "import sys\n",
    "import matplotlib.pyplot as plt \n",
    "plt.style.use(\"dark_background\")"
   ]
  },
  {
   "attachments": {},
   "cell_type": "markdown",
   "id": "9376a099",
   "metadata": {},
   "source": [
    "### Paths for videos and directories"
   ]
  },
  {
   "cell_type": "code",
   "execution_count": null,
   "id": "31b2bced",
   "metadata": {
    "jupyter": {
     "source_hidden": true
    }
   },
   "outputs": [],
   "source": [
    "# Defining directories\n",
    "current_dir = pathlib.Path().absolute()\n",
    "sequences_dir = current_dir.parents[0].joinpath('DataBases','gene_files')\n",
    "video_dir = current_dir.parents[0].joinpath('DataBases','videos_for_sim_cell')\n",
    "rsnaped_dir = current_dir.parents[0].joinpath('rsnaped')\n",
    "gene_file = current_dir.parents[0].joinpath('DataBases','gene_files','KDM5B_withTags.txt')\n",
    "masks_dir = current_dir.parents[0].joinpath('DataBases','masks_for_sim_cell')\n",
    "# Importing rSNAPed\n",
    "sys.path.append(str(rsnaped_dir))\n",
    "import rsnaped as rsp\n",
    "rsp.Banner().print_banner()"
   ]
  },
  {
   "attachments": {},
   "cell_type": "markdown",
   "id": "035cf9c2",
   "metadata": {},
   "source": [
    "### Parameters for the simulation"
   ]
  },
  {
   "cell_type": "code",
   "execution_count": null,
   "id": "4767a7ef",
   "metadata": {},
   "outputs": [],
   "source": [
    "# Parameters for the simulated cell\n",
    "number_of_simulated_cells = 1        # \n",
    "number_spots_per_cell = 60           # \n",
    "\n",
    "step_size_in_sec = 1\n",
    "min_percentage_time_tracking = 0.3   # (normalized) minimum time to consider a trajectory.\n",
    "average_cell_diameter = 400\n",
    "diffusion_coefficient = 0.05         # This value must have units of micrometers_square_per_seconds\n",
    "microns_per_pixel = 0.13\n",
    "spot_size = 5                                  # spot size for the simulation and tracking.\n",
    "spot_sigma = 1\n",
    "elongation_rate = 20\n",
    "initiation_rate = 0.03\n",
    "simulated_RNA_intensities_method = 'random'\n",
    "basal_intensity_in_background_video = 10000\n",
    "scale_intensity_in_base_video = False\n",
    "intensity_scale_ch0 = 1\n",
    "intensity_scale_ch1 = 1\n",
    "intensity_scale_ch2 = None\n",
    "select_background_cell_index = 0               # Integer in range 0 to 8, or use None to select a random value. \n",
    "perform_video_augmentation = False \n",
    "store_videos_in_memory = False\n",
    "save_as_gif = False \n"
   ]
  },
  {
   "cell_type": "code",
   "execution_count": null,
   "id": "3b8769b7",
   "metadata": {},
   "outputs": [],
   "source": [
    "# Plotting different conditions\n",
    "simulate_Harringtonin = False\n",
    "simulate_FRAP = False\n",
    "simulate_normal = True\n",
    "\n",
    "if simulate_Harringtonin == True:\n",
    "    use_Harringtonin = True\n",
    "    use_FRAP = False\n",
    "    simulation_time_in_sec = 400 \n",
    "    perturbation_time_start = 200\n",
    "    perturbation_time_stop = None\n",
    "    name_plot='sim_cell_HT.pdf'\n",
    "    perturbation=True\n",
    "    perturbation_label='HT'\n",
    "    perturbation_time=perturbation_time_start\n",
    "    \n",
    "if simulate_FRAP == True:\n",
    "    use_Harringtonin = False\n",
    "    use_FRAP = True\n",
    "    simulation_time_in_sec = 400\n",
    "    perturbation_time_start = 200\n",
    "    perturbation_time_stop = 201\n",
    "    name_plot='sim_cell_FRAP.pdf'\n",
    "    perturbation=True\n",
    "    perturbation_label='FRAP'\n",
    "    perturbation_time=perturbation_time_start\n",
    "    \n",
    "if simulate_normal == True:\n",
    "    use_Harringtonin = False\n",
    "    use_FRAP = False\n",
    "    simulation_time_in_sec = 400\n",
    "    perturbation_time_start = 0\n",
    "    perturbation_time_stop = None\n",
    "    name_plot='sim_cell.pdf'\n",
    "    perturbation_label=None\n",
    "    perturbation=False\n",
    "    perturbation_time=None"
   ]
  },
  {
   "attachments": {},
   "cell_type": "markdown",
   "id": "7ff4708b",
   "metadata": {},
   "source": [
    "### Parameters for cell segmentation and spot tracking"
   ]
  },
  {
   "cell_type": "code",
   "execution_count": null,
   "id": "76273303",
   "metadata": {},
   "outputs": [],
   "source": [
    "# Parameters used for tracking\n",
    "intensity_calculation_method = 'gaussian_fit'  # options are : 'total_intensity' and 'disk_donut' 'gaussian_fit'\n",
    "mask_selection_method = 'max_area'             # options are : 'max_spots' and 'max_area' \n",
    "use_optimization_for_tracking = 1              # 0 not using, 1 is using optimization\n",
    "selected_channel_tracking = 0\n",
    "selected_channel_segmentation = 1\n",
    "frame_selection_empty_video = 'gaussian'       # Options are: 'constant' , 'shuffle' and 'loop' 'linear_interpolation', 'gaussian', 'poisson'\n",
    "dataframe_format = 'long'                      # Options are: 'short'  'long'\n",
    "show_plot = False                              # Flag to show plots for the detection and tracking process.\n",
    "particle_detection_size = spot_size"
   ]
  },
  {
   "attachments": {},
   "cell_type": "markdown",
   "id": "6ae35178",
   "metadata": {},
   "source": [
    "## Running the simulations\n",
    "\n",
    "____"
   ]
  },
  {
   "cell_type": "code",
   "execution_count": null,
   "id": "b114211b",
   "metadata": {},
   "outputs": [],
   "source": [
    "list_videos, list_masks, list_dataframe_simulated_cell, merged_dataframe_simulated_cells, ssa_trajectories, list_files_names, video_path, dataframe_path = rsp.simulate_cell( video_dir, \n",
    "                                                                        list_gene_sequences = gene_file,\n",
    "                                                                        list_number_spots= number_spots_per_cell,\n",
    "                                                                        list_target_channels_proteins = 1,\n",
    "                                                                        list_target_channels_mRNA = 0, \n",
    "                                                                        list_diffusion_coefficients=diffusion_coefficient,\n",
    "                                                                        list_elongation_rates=elongation_rate,\n",
    "                                                                        list_initiation_rates=initiation_rate,\n",
    "                                                                        masks_dir=masks_dir, \n",
    "                                                                        list_label_names=1,\n",
    "                                                                        number_cells = number_of_simulated_cells,\n",
    "                                                                        simulation_time_in_sec = simulation_time_in_sec,\n",
    "                                                                        step_size_in_sec = step_size_in_sec,\n",
    "                                                                        save_as_gif = save_as_gif,\n",
    "                                                                        frame_selection_empty_video=frame_selection_empty_video,\n",
    "                                                                        spot_size = spot_size,\n",
    "                                                                        spot_sigma = spot_sigma,\n",
    "                                                                        intensity_scale_ch0 = intensity_scale_ch0,\n",
    "                                                                        intensity_scale_ch1 = intensity_scale_ch1,\n",
    "                                                                        intensity_scale_ch2 = intensity_scale_ch2,\n",
    "                                                                        dataframe_format = 'long',\n",
    "                                                                        use_Harringtonin=use_Harringtonin,\n",
    "                                                                        use_FRAP=use_FRAP,\n",
    "                                                                        perturbation_time_start=perturbation_time_start,\n",
    "                                                                        perturbation_time_stop=perturbation_time_stop,\n",
    "                                                                        simulated_RNA_intensities_method=simulated_RNA_intensities_method,\n",
    "                                                                        store_videos_in_memory= store_videos_in_memory,\n",
    "                                                                        scale_intensity_in_base_video=scale_intensity_in_base_video,\n",
    "                                                                        basal_intensity_in_background_video=basal_intensity_in_background_video,\n",
    "                                                                        microns_per_pixel=microns_per_pixel,\n",
    "                                                                        select_background_cell_index=select_background_cell_index,\n",
    "                                                                        perform_video_augmentation=perform_video_augmentation)"
   ]
  },
  {
   "attachments": {},
   "cell_type": "markdown",
   "id": "f411579c",
   "metadata": {},
   "source": [
    "### Loading simulated image and dataframe"
   ]
  },
  {
   "cell_type": "code",
   "execution_count": null,
   "id": "f3d5dd88",
   "metadata": {
    "jupyter": {
     "source_hidden": true
    }
   },
   "outputs": [],
   "source": [
    "## Reads the folder with the results and import the simulations as lists\n",
    "path_files, list_files_names, list_videos, number_images = rsp.Utilities.read_files_in_directory(directory=video_path, extension_of_files_to_look_for = 'tif',return_images_in_list=True)\n",
    "# Loading images and dataframes\n",
    "image = list_videos[0]\n",
    "df = list_dataframe_simulated_cell[0].copy()"
   ]
  },
  {
   "cell_type": "code",
   "execution_count": null,
   "id": "694a8809",
   "metadata": {},
   "outputs": [],
   "source": [
    "# Showing the simulated images\n",
    "rsp.VisualizerImage(list_videos,list_files_names=list_files_names,selected_channel =1,selected_time_point= 0,normalize=0,individual_figure_size=7).plot()\n",
    "del list_videos"
   ]
  },
  {
   "attachments": {},
   "cell_type": "markdown",
   "id": "b02a1846",
   "metadata": {},
   "source": [
    "## Locating particles in simulated video.\n",
    "\n",
    "____"
   ]
  },
  {
   "cell_type": "code",
   "execution_count": null,
   "id": "32f72a23",
   "metadata": {},
   "outputs": [],
   "source": [
    "list_DataFrame_particles_intensities, list_array_intensities, list_time_vector, list_selected_mask = rsp.image_processing( files_dir_path_processing=video_path,\n",
    "                                                                                                                            list_masks = None,\n",
    "                                                                                                                            particle_size=particle_detection_size,\n",
    "                                                                                                                            selected_channel_tracking = selected_channel_tracking,\n",
    "                                                                                                                            selected_channel_segmentation = selected_channel_segmentation,\n",
    "                                                                                                                            intensity_calculation_method =intensity_calculation_method, \n",
    "                                                                                                                            mask_selection_method = mask_selection_method,\n",
    "                                                                                                                            show_plot=show_plot,\n",
    "                                                                                                                            use_optimization_for_tracking=use_optimization_for_tracking,\n",
    "                                                                                                                            real_positions_dataframe = list_dataframe_simulated_cell,\n",
    "                                                                                                                            average_cell_diameter=average_cell_diameter,\n",
    "                                                                                                                            print_process_times=True,\n",
    "                                                                                                                            min_percentage_time_tracking=min_percentage_time_tracking,\n",
    "                                                                                                                            dataframe_format=dataframe_format)"
   ]
  },
  {
   "cell_type": "code",
   "execution_count": null,
   "id": "d6e4f8c3",
   "metadata": {},
   "outputs": [],
   "source": [
    "df = list_dataframe_simulated_cell[0]\n",
    "df.head()"
   ]
  },
  {
   "attachments": {},
   "cell_type": "markdown",
   "id": "0100260e",
   "metadata": {},
   "source": [
    "### Figure 1. Cell simulation, ssa, and video trajectories.\n",
    "\n",
    "____"
   ]
  },
  {
   "cell_type": "code",
   "execution_count": null,
   "id": "23d1a2c0",
   "metadata": {},
   "outputs": [],
   "source": [
    "rsp.Plots.plot_cell_trajectories_ssa_crops(image, \n",
    "                                           df,\n",
    "                                           spot_size=5,\n",
    "                                           selected_channel=1, \n",
    "                                           selected_trajectory=None, \n",
    "                                           microns_per_pixel=microns_per_pixel,\n",
    "                                           name_plot=name_plot,\n",
    "                                           perturbation=perturbation,\n",
    "                                           perturbation_label=perturbation_label,\n",
    "                                           perturbation_time=perturbation_time)"
   ]
  },
  {
   "cell_type": "code",
   "execution_count": null,
   "id": "f6fe101d",
   "metadata": {},
   "outputs": [],
   "source": []
  },
  {
   "cell_type": "code",
   "execution_count": null,
   "id": "ecc3697c",
   "metadata": {},
   "outputs": [],
   "source": []
  },
  {
   "cell_type": "code",
   "execution_count": null,
   "id": "3a29bbdd",
   "metadata": {},
   "outputs": [],
   "source": []
  },
  {
   "cell_type": "code",
   "execution_count": null,
   "id": "1c4a8f68",
   "metadata": {},
   "outputs": [],
   "source": []
  }
 ],
 "metadata": {
  "interpreter": {
   "hash": "daf7c258a197027f92a823c5e9002157216e53cdde30f9077602d149eebf1043"
  },
  "kernelspec": {
   "display_name": "Python 3.8.5 ('rsnaped_env')",
   "language": "python",
   "name": "python3"
  },
  "language_info": {
   "codemirror_mode": {
    "name": "ipython",
    "version": 3
   },
   "file_extension": ".py",
   "mimetype": "text/x-python",
   "name": "python",
   "nbconvert_exporter": "python",
   "pygments_lexer": "ipython3",
   "version": "3.8.5"
  }
 },
 "nbformat": 4,
 "nbformat_minor": 5
}
