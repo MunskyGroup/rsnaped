{
 "cells": [
  {
   "cell_type": "markdown",
   "id": "a6a41920",
   "metadata": {},
   "source": [
    "# Integrated Simulations"
   ]
  },
  {
   "cell_type": "code",
   "execution_count": null,
   "id": "4be7b95d",
   "metadata": {
    "jupyter": {
     "source_hidden": true
    }
   },
   "outputs": [],
   "source": [
    "import numpy as np \n",
    "import scipy\n",
    "import pandas as pd\n",
    "import pathlib\n",
    "import sys\n",
    "import scipy.stats as stats\n",
    "import matplotlib.pyplot as plt \n",
    "import seaborn as sns\n",
    "from joblib import Parallel, delayed\n",
    "import multiprocessing\n",
    "NUMBER_OF_CORES = np.max((1,int(multiprocessing.cpu_count()/2)))\n",
    "sns.set(font_scale = 1.5)\n",
    "sns.set_style(\"white\")"
   ]
  },
  {
   "cell_type": "code",
   "execution_count": null,
   "id": "31b2bced",
   "metadata": {
    "jupyter": {
     "source_hidden": true
    }
   },
   "outputs": [],
   "source": [
    "# Defining directories\n",
    "current_dir = pathlib.Path().absolute()\n",
    "sequences_dir = current_dir.parents[0].joinpath('DataBases','gene_files')\n",
    "video_dir = current_dir.parents[0].joinpath('DataBases','videos_for_sim_cell')\n",
    "rsnaped_dir = current_dir.parents[0].joinpath('rsnaped')\n",
    "gene_file = current_dir.parents[0].joinpath('DataBases','gene_files','KDM5B_withTags.txt')\n",
    "masks_dir = current_dir.parents[0].joinpath('DataBases','masks_for_sim_cell')"
   ]
  },
  {
   "cell_type": "code",
   "execution_count": null,
   "id": "32b2a092",
   "metadata": {},
   "outputs": [],
   "source": [
    "rsnaped_dir\n",
    "sys.path.append(str(rsnaped_dir))\n",
    "import rsnaped as rsp"
   ]
  },
  {
   "cell_type": "code",
   "execution_count": null,
   "id": "9193688d",
   "metadata": {
    "jupyter": {
     "source_hidden": true
    }
   },
   "outputs": [],
   "source": [
    "# Importing rSNAPed\n",
    "sys.path.append(str(rsnaped_dir))\n",
    "import rsnaped as rsp\n",
    "rsp.Banner().print_banner()"
   ]
  },
  {
   "cell_type": "code",
   "execution_count": null,
   "id": "4767a7ef",
   "metadata": {},
   "outputs": [],
   "source": [
    "# These are the parameters that need to be tested. \n",
    "number_of_simulated_cells = 8     # PLEASE TEST MIN 1 MAX 10\n",
    "number_repetitions_for_statistics = 3\n",
    "number_conditions = 4\n",
    "variable_range_0 = np.linspace(start=30,stop=100,num=number_conditions).astype(int)\n",
    "variable_range_1 = np.round(np.linspace(start=0.1,stop=4,num=number_conditions),2)\n",
    "variable_range_2 = np.round(np.logspace(np.log10(0.01), np.log10(1), num=number_conditions),3)\n",
    "variable_range_3 = np.linspace(start=20,stop=100,num=number_conditions).astype(int)\n",
    "number_ssa = 1000\n",
    "\n",
    "number_spots_per_cell = 40           # PLEASE TEST MIN 5 MAX 200\n",
    "simulation_time_in_sec = 30          # PLEASE TEST MIN 10 MAX 100\n",
    "min_percentage_time_tracking = 0.3   # (normalized) minimum time to consider a trajectory.\n",
    "average_cell_diameter = 400\n",
    "diffusion_coefficient = 0.1          # PLEASE TEST MIN 0.1 MAX 0.1\n",
    "microns_per_pixel = 0.13\n",
    "spot_size = 7 # spot size for the simulation and tracking.\n",
    "spot_sigma = 1.5\n",
    "elongation_rate = 10\n",
    "initiation_rate = 0.01\n",
    "intensity_scale_ch0 = 1\n",
    "intensity_scale_ch1 = 1\n",
    "intensity_scale_ch2 = None\n",
    "simulated_RNA_intensities_method = 'random'\n",
    "frame_selection_empty_video = 'gaussian' # Options are: 'constant' , 'shuffle' and 'loop' 'linear_interpolation', 'gaussian', 'poisson'\n",
    "dataframe_format = 'short' # 'short'  'long'\n",
    "store_videos_in_memory = False\n",
    "select_background_cell_index = None # Integer in range 0 to 8, or use None to select a random value. \n",
    "perform_video_augmentation = True \n",
    "basal_intensity_in_background_video = 10000\n",
    "scale_intensity_in_base_video=False\n",
    "\n",
    "# Parameters for pipeline tracking\n",
    "intensity_calculation_method = 'disk_donut'  # options are : 'total_intensity' and 'disk_donut' 'gaussian_fit'\n",
    "mask_selection_method = 'max_area' # options are : 'max_spots' and 'max_area' \n",
    "use_optimization_for_tracking = 1 # 0 not using, 1 is using optimization\n",
    "selected_channel_tracking = 0\n",
    "selected_channel_segmentation = 1\n",
    "\n",
    "particle_detection_size = spot_size\n",
    "selected_time_point = 0 #simulation_time_in_sec-1\n"
   ]
  },
  {
   "attachments": {},
   "cell_type": "markdown",
   "id": "7d013afa",
   "metadata": {},
   "source": [
    "### Running SSA"
   ]
  },
  {
   "cell_type": "code",
   "execution_count": null,
   "id": "3a6ad4de",
   "metadata": {},
   "outputs": [],
   "source": [
    "_,ssa_ump,_,_ = rsp.SSA_rsnapsim(gene_file = gene_file, ke = elongation_rate, ki = initiation_rate, frames = simulation_time_in_sec,frame_rate = 1,n_traj = number_ssa,).simulate() \n",
    "ssa_trajectories_timePoint = ssa_ump.flatten() #ssa_trajectories[:,:,:,:].flatten()\n",
    "ssa_trajectories_timePoint_normalized = (ssa_trajectories_timePoint-np.amin(ssa_trajectories_timePoint))/ (np.amax(ssa_trajectories_timePoint)-np.amin(ssa_trajectories_timePoint))\n"
   ]
  },
  {
   "attachments": {},
   "cell_type": "markdown",
   "id": "6ae35178",
   "metadata": {},
   "source": [
    "### Running the simulations"
   ]
  },
  {
   "cell_type": "code",
   "execution_count": null,
   "id": "b114211b",
   "metadata": {},
   "outputs": [],
   "source": [
    "def running_conditions_simulated_cell(number_spots_per_cell,intensity_scale_ch1,diffusion_coefficient,simulation_time_in_sec):\n",
    "    _, list_masks, _, _, _, _, video_path, _ = rsp.simulate_cell( video_dir, \n",
    "                                                                list_gene_sequences = gene_file,\n",
    "                                                                list_number_spots= number_spots_per_cell,\n",
    "                                                                list_target_channels_proteins = 1,\n",
    "                                                                list_target_channels_mRNA = 0, \n",
    "                                                                list_diffusion_coefficients=diffusion_coefficient,\n",
    "                                                                list_elongation_rates=elongation_rate,\n",
    "                                                                list_initiation_rates=initiation_rate,\n",
    "                                                                masks_dir=masks_dir, \n",
    "                                                                list_label_names=1,\n",
    "                                                                number_cells = number_of_simulated_cells,\n",
    "                                                                simulation_time_in_sec = simulation_time_in_sec,\n",
    "                                                                step_size_in_sec = 1,\n",
    "                                                                save_as_gif = False,\n",
    "                                                                frame_selection_empty_video=frame_selection_empty_video,\n",
    "                                                                spot_size = spot_size,\n",
    "                                                                spot_sigma = spot_sigma,\n",
    "                                                                intensity_scale_ch0 = intensity_scale_ch0,\n",
    "                                                                intensity_scale_ch1 = intensity_scale_ch1,\n",
    "                                                                intensity_scale_ch2 = intensity_scale_ch2,\n",
    "                                                                dataframe_format = dataframe_format,\n",
    "                                                                simulated_RNA_intensities_method=simulated_RNA_intensities_method,\n",
    "                                                                store_videos_in_memory= store_videos_in_memory,\n",
    "                                                                scale_intensity_in_base_video=scale_intensity_in_base_video,\n",
    "                                                                basal_intensity_in_background_video=basal_intensity_in_background_video,\n",
    "                                                                microns_per_pixel=microns_per_pixel,\n",
    "                                                                select_background_cell_index=select_background_cell_index,\n",
    "                                                                perform_video_augmentation=perform_video_augmentation)\n",
    "    return list_masks,video_path"
   ]
  },
  {
   "cell_type": "code",
   "execution_count": null,
   "id": "d79fafe2",
   "metadata": {},
   "outputs": [],
   "source": [
    "def simulation_and_tracking(number_spots_per_cell=number_spots_per_cell,\n",
    "                            intensity_scale_ch1=intensity_scale_ch1,\n",
    "                            diffusion_coefficient=diffusion_coefficient,\n",
    "                            simulation_time_in_sec=simulation_time_in_sec,\n",
    "                            particle_detection_size=particle_detection_size,\n",
    "                            selected_channel_tracking = selected_channel_tracking,\n",
    "                            selected_channel_segmentation = selected_channel_segmentation,\n",
    "                            intensity_calculation_method =intensity_calculation_method, \n",
    "                            mask_selection_method = mask_selection_method,\n",
    "                            use_optimization_for_tracking=use_optimization_for_tracking,\n",
    "                            average_cell_diameter=average_cell_diameter,\n",
    "                            min_percentage_time_tracking=min_percentage_time_tracking,\n",
    "                            dataframe_format=dataframe_format):\n",
    "    \n",
    "    list_masks, video_path = running_conditions_simulated_cell(number_spots_per_cell=number_spots_per_cell,\n",
    "                                                                intensity_scale_ch1=intensity_scale_ch1,\n",
    "                                                                diffusion_coefficient=diffusion_coefficient,\n",
    "                                                                simulation_time_in_sec=simulation_time_in_sec)\n",
    "    # processing simulated cell\n",
    "    list_DataFrame_tracking, _, _, _ = rsp.image_processing(files_dir_path_processing = video_path,\n",
    "                                                            list_masks = list_masks,\n",
    "                                                            particle_size=particle_detection_size,\n",
    "                                                            selected_channel_tracking = selected_channel_tracking,\n",
    "                                                            selected_channel_segmentation = selected_channel_segmentation,\n",
    "                                                            intensity_calculation_method =intensity_calculation_method, \n",
    "                                                            mask_selection_method = mask_selection_method,\n",
    "                                                            show_plot=False,\n",
    "                                                            use_optimization_for_tracking=use_optimization_for_tracking,\n",
    "                                                            real_positions_dataframe = None,\n",
    "                                                            average_cell_diameter=average_cell_diameter,\n",
    "                                                            print_process_times=False,\n",
    "                                                            min_percentage_time_tracking=min_percentage_time_tracking,\n",
    "                                                            dataframe_format=dataframe_format)\n",
    "    DataFrame_particles_intensities_tracking_merged = pd.concat(list_DataFrame_tracking)\n",
    "    return DataFrame_particles_intensities_tracking_merged"
   ]
  },
  {
   "attachments": {},
   "cell_type": "markdown",
   "id": "4f8cca23",
   "metadata": {},
   "source": [
    "### Running image processing"
   ]
  },
  {
   "cell_type": "code",
   "execution_count": null,
   "id": "32f72a23",
   "metadata": {},
   "outputs": [],
   "source": [
    "def image_processing_conditions (number_repetitions_for_statistics,number_spots_per_cell,intensity_scale_ch1,diffusion_coefficient,simulation_time_in_sec,ssa_trajectories_timePoint_normalized):\n",
    "    vector_KD = np.zeros((number_repetitions_for_statistics))\n",
    "    # running the cell simulation and particle tracking\n",
    "    DataFrame_particles_intensities_tracking_merged = Parallel(n_jobs = NUMBER_OF_CORES)(delayed(simulation_and_tracking)(number_spots_per_cell=number_spots_per_cell,\n",
    "                                                                            intensity_scale_ch1=intensity_scale_ch1,\n",
    "                                                                            diffusion_coefficient=diffusion_coefficient,\n",
    "                                                                            simulation_time_in_sec=simulation_time_in_sec,\n",
    "                                                                            particle_detection_size=particle_detection_size,\n",
    "                                                                            selected_channel_tracking = selected_channel_tracking,\n",
    "                                                                            selected_channel_segmentation = selected_channel_segmentation,\n",
    "                                                                            intensity_calculation_method =intensity_calculation_method, \n",
    "                                                                            mask_selection_method = mask_selection_method,\n",
    "                                                                            use_optimization_for_tracking=use_optimization_for_tracking,\n",
    "                                                                            average_cell_diameter=average_cell_diameter,\n",
    "                                                                            min_percentage_time_tracking=min_percentage_time_tracking,\n",
    "                                                                            dataframe_format=dataframe_format) for i in range(0, number_repetitions_for_statistics))\n",
    "    for i in range (number_repetitions_for_statistics):\n",
    "        # Intensities tracking\n",
    "        intensities_tracking =  rsp.Utilities.extract_field_from_dataframe(dataframe=DataFrame_particles_intensities_tracking_merged[i],selected_time=simulation_time_in_sec-1,selected_field='ch1_int_mean')\n",
    "        intensities_tracking_normalized = (intensities_tracking-np.min(intensities_tracking))/ (np.max(intensities_tracking)-np.min(intensities_tracking))  \n",
    "        # Renaming vectors\n",
    "        data1 = ssa_trajectories_timePoint_normalized\n",
    "        data2 = intensities_tracking_normalized\n",
    "        # Calculating Kolmogorov distance\n",
    "        vector_KD[i] = scipy.stats.kstest(data1,data2).statistic\n",
    "\n",
    "    # Calculating statistics\n",
    "    ks_dist_mean = np.mean(vector_KD)\n",
    "    ks_dist_std = np.std(vector_KD)\n",
    "\n",
    "    return ks_dist_mean , ks_dist_std \n"
   ]
  },
  {
   "cell_type": "code",
   "execution_count": null,
   "id": "12541b9c",
   "metadata": {},
   "outputs": [],
   "source": [
    "use_saved_results= False\n",
    "if use_saved_results == True:\n",
    "    array_path= current_dir.joinpath('temp_images_4_rep_15_cells')\n",
    "    variable_range_0 = np.load(array_path.joinpath('variable_range_0.npy'))\n",
    "    ks_dist_mean_vector_0 = np.load(array_path.joinpath('ks_dist_mean_vector_0.npy'))\n",
    "    ks_dist_std_vector_0 = np.load(array_path.joinpath('ks_dist_std_vector_0.npy'))\n",
    "    LL_mean_vector_0 = np.load(array_path.joinpath('LL_mean_vector_0.npy'))\n",
    "    LL_std_vector_0 = np.load(array_path.joinpath('LL_std_vector_0.npy'))\n",
    "\n",
    "    variable_range_1 = np.load(array_path.joinpath('variable_range_1.npy'))\n",
    "    ks_dist_mean_vector_1 = np.load(array_path.joinpath('ks_dist_mean_vector_1.npy'))\n",
    "    ks_dist_std_vector_1 = np.load(array_path.joinpath('ks_dist_std_vector_1.npy'))\n",
    "    LL_mean_vector_1 = np.load(array_path.joinpath('LL_mean_vector_1.npy'))\n",
    "    LL_std_vector_1 = np.load(array_path.joinpath('LL_std_vector_1.npy'))\n",
    "\n",
    "    variable_range_2 = np.load(array_path.joinpath('variable_range_2.npy'))\n",
    "    ks_dist_mean_vector_2 = np.load(array_path.joinpath('ks_dist_mean_vector_2.npy'))\n",
    "    ks_dist_std_vector_2 = np.load(array_path.joinpath('ks_dist_std_vector_2.npy'))\n",
    "    LL_mean_vector_2 = np.load(array_path.joinpath('LL_mean_vector_2.npy'))\n",
    "    LL_std_vector_2 = np.load(array_path.joinpath('LL_std_vector_2.npy'))\n",
    "\n",
    "    variable_range_3 = np.load(array_path.joinpath('variable_range_3.npy'))\n",
    "    ks_dist_mean_vector_3 = np.load(array_path.joinpath('ks_dist_mean_vector_3.npy'))\n",
    "    ks_dist_std_vector_3 = np.load(array_path.joinpath('ks_dist_std_vector_3.npy'))\n",
    "    LL_mean_vector_3 = np.load(array_path.joinpath('LL_mean_vector_3.npy'))\n",
    "    LL_std_vector_3 = np.load(array_path.joinpath('LL_std_vector_3.npy'))"
   ]
  },
  {
   "cell_type": "code",
   "execution_count": null,
   "id": "9f6f59da",
   "metadata": {},
   "outputs": [],
   "source": [
    "def plots_conditions(variable_range,ks_dist_mean_vector,ks_dist_std_vector,save_to_dir,plot_name='',label_x='' , extend_x_range= False):\n",
    "    plt.figure(figsize=(5, 5))\n",
    "    plt.errorbar(variable_range, ks_dist_mean_vector,  yerr=ks_dist_std_vector, ecolor='orangered',linestyle='')\n",
    "    plt.plot(variable_range, ks_dist_mean_vector, marker='o', markersize=12, linestyle='none',color='orangered' )\n",
    "    plt.title(plot_name+' ('+ str(number_of_simulated_cells) + ' Cells)')\n",
    "    plt.ylabel('K-Dist (SSA-Tracking)')\n",
    "    plt.xlabel(label_x)\n",
    "    if extend_x_range == True:\n",
    "        plt.xlim(variable_range[0]-2,variable_range[-1]+2)\n",
    "    plt.savefig(save_to_dir.joinpath(plot_name+'_KD.pdf'), transparent=False,dpi=1200, bbox_inches = 'tight', format='pdf')\n",
    "    plt.show()\n",
    "    return"
   ]
  },
  {
   "cell_type": "code",
   "execution_count": null,
   "id": "50f89d68",
   "metadata": {},
   "outputs": [],
   "source": [
    "save_to_dir =  current_dir.joinpath('temp_images' )\n",
    "rsp.Utilities.test_if_directory_exist_if_not_create(save_to_dir,remove_if_already_exist=False)"
   ]
  },
  {
   "attachments": {},
   "cell_type": "markdown",
   "id": "28c7d4df",
   "metadata": {},
   "source": [
    "### Spot Density"
   ]
  },
  {
   "cell_type": "code",
   "execution_count": null,
   "id": "5982a488",
   "metadata": {},
   "outputs": [],
   "source": [
    "ks_dist_mean_vector_0 = np.zeros(number_conditions)\n",
    "ks_dist_std_vector_0 = np.zeros(number_conditions)\n",
    "\n",
    "for j,variable_0 in enumerate(variable_range_0):\n",
    "    ks_dist_mean_vector_0[j] , ks_dist_std_vector_0[j]= image_processing_conditions (number_repetitions_for_statistics,\n",
    "                                                                            number_spots_per_cell=variable_0,\n",
    "                                                                            intensity_scale_ch1=intensity_scale_ch1,\n",
    "                                                                            diffusion_coefficient=diffusion_coefficient,\n",
    "                                                                            simulation_time_in_sec=simulation_time_in_sec,\n",
    "                                                                            ssa_trajectories_timePoint_normalized=ssa_trajectories_timePoint_normalized)\n"
   ]
  },
  {
   "cell_type": "code",
   "execution_count": null,
   "id": "57daa02c",
   "metadata": {},
   "outputs": [],
   "source": [
    "plots_conditions(variable_range=variable_range_0,\n",
    "                ks_dist_mean_vector=ks_dist_mean_vector_0,\n",
    "                ks_dist_std_vector=ks_dist_std_vector_0,\n",
    "                save_to_dir=save_to_dir,\n",
    "                plot_name='spot_density',\n",
    "                label_x='No Spots / Cell',\n",
    "                extend_x_range=True)\n"
   ]
  },
  {
   "attachments": {},
   "cell_type": "markdown",
   "id": "ea154b8b",
   "metadata": {},
   "source": [
    "### Testing condition 1"
   ]
  },
  {
   "cell_type": "code",
   "execution_count": null,
   "id": "aef90b35",
   "metadata": {},
   "outputs": [],
   "source": [
    "%%capture\n",
    "ks_dist_mean_vector_1 = np.zeros(number_conditions)\n",
    "ks_dist_std_vector_1 = np.zeros(number_conditions)\n",
    "\n",
    "for j,variable_1 in enumerate(variable_range_1):\n",
    "    ks_dist_mean_vector_1[j] , ks_dist_std_vector_1[j]= image_processing_conditions (number_repetitions_for_statistics,\n",
    "                                                                            number_spots_per_cell=number_spots_per_cell,\n",
    "                                                                            intensity_scale_ch1=variable_1,\n",
    "                                                                            diffusion_coefficient=diffusion_coefficient,\n",
    "                                                                            simulation_time_in_sec=simulation_time_in_sec,\n",
    "                                                                            ssa_trajectories_timePoint_normalized=ssa_trajectories_timePoint_normalized)\n"
   ]
  },
  {
   "cell_type": "code",
   "execution_count": null,
   "id": "af4dd3ec",
   "metadata": {},
   "outputs": [],
   "source": [
    "plots_conditions(variable_range=variable_range_1,\n",
    "                ks_dist_mean_vector=ks_dist_mean_vector_1,\n",
    "                ks_dist_std_vector=ks_dist_std_vector_1,\n",
    "                save_to_dir=save_to_dir,\n",
    "                plot_name='SNR',\n",
    "                label_x='SNR')"
   ]
  },
  {
   "attachments": {},
   "cell_type": "markdown",
   "id": "8399831c",
   "metadata": {},
   "source": [
    "### Testing condition 2"
   ]
  },
  {
   "cell_type": "code",
   "execution_count": null,
   "id": "5f3be379",
   "metadata": {},
   "outputs": [],
   "source": [
    "%%capture\n",
    "ks_dist_mean_vector_2 = np.zeros(number_conditions)\n",
    "ks_dist_std_vector_2 = np.zeros(number_conditions)\n",
    "\n",
    "for j,variable_2 in enumerate(variable_range_2):\n",
    "    ks_dist_mean_vector_2[j] , ks_dist_std_vector_2[j]= image_processing_conditions (number_repetitions_for_statistics,\n",
    "                                                                            number_spots_per_cell=number_spots_per_cell,\n",
    "                                                                            intensity_scale_ch1=intensity_scale_ch1,\n",
    "                                                                            diffusion_coefficient=variable_2,\n",
    "                                                                            simulation_time_in_sec=simulation_time_in_sec,\n",
    "                                                                            ssa_trajectories_timePoint_normalized=ssa_trajectories_timePoint_normalized)\n"
   ]
  },
  {
   "cell_type": "code",
   "execution_count": null,
   "id": "94a08653",
   "metadata": {},
   "outputs": [],
   "source": [
    "plots_conditions(variable_range=variable_range_2,\n",
    "                ks_dist_mean_vector=ks_dist_mean_vector_2,\n",
    "                ks_dist_std_vector=ks_dist_std_vector_2,\n",
    "                save_to_dir=save_to_dir,\n",
    "                plot_name='diff',\n",
    "                label_x='k_D')"
   ]
  },
  {
   "attachments": {},
   "cell_type": "markdown",
   "id": "5f354b2a",
   "metadata": {},
   "source": [
    "### Testing condition 3"
   ]
  },
  {
   "cell_type": "code",
   "execution_count": null,
   "id": "f56fd3cd",
   "metadata": {},
   "outputs": [],
   "source": [
    "%%capture\n",
    "ks_dist_mean_vector_3 = np.zeros(number_conditions)\n",
    "ks_dist_std_vector_3 = np.zeros(number_conditions)\n",
    "\n",
    "for j,variable_3 in enumerate(variable_range_3):\n",
    "    ks_dist_mean_vector_3[j] , ks_dist_std_vector_3[j]= image_processing_conditions (number_repetitions_for_statistics,\n",
    "                                                                            number_spots_per_cell=number_spots_per_cell,\n",
    "                                                                            intensity_scale_ch1=intensity_scale_ch1,\n",
    "                                                                            diffusion_coefficient=diffusion_coefficient,\n",
    "                                                                            simulation_time_in_sec=variable_3,\n",
    "                                                                            ssa_trajectories_timePoint_normalized=ssa_trajectories_timePoint_normalized)\n",
    "\n"
   ]
  },
  {
   "cell_type": "code",
   "execution_count": null,
   "id": "63d41b4a",
   "metadata": {},
   "outputs": [],
   "source": [
    "plots_conditions(variable_range=variable_range_3,\n",
    "                ks_dist_mean_vector=ks_dist_mean_vector_3,\n",
    "                ks_dist_std_vector=ks_dist_std_vector_3,\n",
    "                save_to_dir=save_to_dir,\n",
    "                plot_name='frames',\n",
    "                label_x='Frames',\n",
    "                extend_x_range=True)"
   ]
  },
  {
   "cell_type": "code",
   "execution_count": null,
   "id": "939019d8",
   "metadata": {},
   "outputs": [],
   "source": []
  },
  {
   "cell_type": "code",
   "execution_count": null,
   "id": "ffbb1c80",
   "metadata": {},
   "outputs": [],
   "source": []
  }
 ],
 "metadata": {
  "interpreter": {
   "hash": "daf7c258a197027f92a823c5e9002157216e53cdde30f9077602d149eebf1043"
  },
  "kernelspec": {
   "display_name": "Python 3.8.5 ('rsnaped_env')",
   "language": "python",
   "name": "python3"
  },
  "language_info": {
   "codemirror_mode": {
    "name": "ipython",
    "version": 3
   },
   "file_extension": ".py",
   "mimetype": "text/x-python",
   "name": "python",
   "nbconvert_exporter": "python",
   "pygments_lexer": "ipython3",
   "version": "3.8.5"
  }
 },
 "nbformat": 4,
 "nbformat_minor": 5
}
