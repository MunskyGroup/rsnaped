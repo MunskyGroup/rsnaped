{
 "cells": [
  {
   "cell_type": "markdown",
   "metadata": {},
   "source": [
    "## This code is intended to generate simulations using the rsnapsim. The simulations are stored as a binary file using the function numpy.save()"
   ]
  },
  {
   "cell_type": "code",
   "execution_count": 7,
   "metadata": {},
   "outputs": [],
   "source": [
    "# Loading modules\n",
    "import numpy as np\n",
    "import os\n",
    "\n",
    "from sys import platform\n",
    "if platform == \"linux\" or platform == \"linux2\":\n",
    "    rSNAPsim_directory = '/home/luisub/Documents/rSNAPsim-dev'\n",
    "elif platform == \"darwin\":          \n",
    "    rSNAPsim_directory = '/Users/luisaguilera/Documents/rSNAPsim-dev'\n",
    "\n",
    "# Loading the rsnapsim from a local repository\n",
    "cwd = os.getcwd(); os.chdir(rSNAPsim_directory); import rSNAPsim;  rss = rSNAPsim.rSNAPsim(); os.chdir(cwd) "
   ]
  },
  {
   "cell_type": "code",
   "execution_count": 8,
   "metadata": {},
   "outputs": [],
   "source": [
    "import numpy as np\n",
    "import os\n",
    "import rsnapsim as rss\n",
    "#rss = rsnapsim.rSNAPsim()"
   ]
  },
  {
   "cell_type": "code",
   "execution_count": 9,
   "metadata": {},
   "outputs": [],
   "source": [
    "##################################\n",
    "##################################\n",
    "## Stochastic Simulations\n",
    "number_spots = 2000\n",
    "n_frames = 1000 # in seconds\n",
    "step_size = 1 # in seconds\n",
    "starting_time = 5000\n",
    "##################################\n",
    "##################################"
   ]
  },
  {
   "cell_type": "code",
   "execution_count": 10,
   "metadata": {},
   "outputs": [
    {
     "ename": "AttributeError",
     "evalue": "module 'rsnapsim' has no attribute 'open_seq_file'",
     "output_type": "error",
     "traceback": [
      "\u001b[0;31m---------------------------------------------------------------------------\u001b[0m",
      "\u001b[0;31mAttributeError\u001b[0m                            Traceback (most recent call last)",
      "\u001b[0;32m<ipython-input-10-0e25ecf31e80>\u001b[0m in \u001b[0;36m<module>\u001b[0;34m\u001b[0m\n\u001b[1;32m      2\u001b[0m \u001b[0msequences_directory\u001b[0m \u001b[0;34m=\u001b[0m \u001b[0;34m'../gene_files/H2B_withTags.txt'\u001b[0m\u001b[0;34m\u001b[0m\u001b[0;34m\u001b[0m\u001b[0m\n\u001b[1;32m      3\u001b[0m \u001b[0;31m## Creating a rsnapsim object\u001b[0m\u001b[0;34m\u001b[0m\u001b[0;34m\u001b[0m\u001b[0;34m\u001b[0m\u001b[0m\n\u001b[0;32m----> 4\u001b[0;31m \u001b[0mrss\u001b[0m\u001b[0;34m.\u001b[0m\u001b[0mopen_seq_file\u001b[0m\u001b[0;34m(\u001b[0m\u001b[0msequences_directory\u001b[0m\u001b[0;34m)\u001b[0m\u001b[0;34m\u001b[0m\u001b[0;34m\u001b[0m\u001b[0m\n\u001b[0m\u001b[1;32m      5\u001b[0m \u001b[0;31m# now to look for open reading frames\u001b[0m\u001b[0;34m\u001b[0m\u001b[0;34m\u001b[0m\u001b[0;34m\u001b[0m\u001b[0m\n\u001b[1;32m      6\u001b[0m \u001b[0mrss\u001b[0m\u001b[0;34m.\u001b[0m\u001b[0mget_orfs\u001b[0m\u001b[0;34m(\u001b[0m\u001b[0mrss\u001b[0m\u001b[0;34m.\u001b[0m\u001b[0msequence_str\u001b[0m\u001b[0;34m)\u001b[0m\u001b[0;34m\u001b[0m\u001b[0;34m\u001b[0m\u001b[0m\n",
      "\u001b[0;31mAttributeError\u001b[0m: module 'rsnapsim' has no attribute 'open_seq_file'"
     ]
    }
   ],
   "source": [
    "#### SIMULATIONS FOR H2B\n",
    "sequences_directory = '../gene_files/H2B_withTags.txt'\n",
    "## Creating a rsnapsim object\n",
    "rss.open_seq_file(sequences_directory)\n",
    "# now to look for open reading frames\n",
    "rss.get_orfs(rss.sequence_str)\n",
    "rss.orfs# reading the 3 ORF.\n",
    "# Deffining a Protein passing the DNA sequence \n",
    "protein1 = rss.sequence_str  \n",
    "rss.nt2aa(protein1) # Converting nucleotides to Protein\n",
    "rss.get_temporal_proteins()  #proteins sorted by\n",
    "# Analyze the first protein, analyze function takes the aa_seq then nt_seq\n",
    "rss.analyze_poi(rss.pois[0],rss.pois_seq[0]) \n",
    "rss.POI\n",
    "\n",
    "# Running the stochastic simulations\n",
    "ssa = rss.ssa_solver(n_traj = number_spots, start_time=starting_time,tf=starting_time+n_frames, tstep=starting_time+n_frames,k_elong_mean=3, k_initiation=0.03)  # tstep = total number of steps including the burnin time \n",
    "simulated_trajectories = ssa.intensity_vec\n",
    "\n",
    "print(simulated_trajectories[0,:])\n",
    "print(simulated_trajectories.shape)\n",
    "# saving trajectories as a file\n",
    "np.save('h2b_ssa.npy', simulated_trajectories)"
   ]
  },
  {
   "cell_type": "code",
   "execution_count": 6,
   "metadata": {},
   "outputs": [
    {
     "ename": "AttributeError",
     "evalue": "module 'rsnapsim' has no attribute 'open_seq_file'",
     "output_type": "error",
     "traceback": [
      "\u001b[0;31m---------------------------------------------------------------------------\u001b[0m",
      "\u001b[0;31mAttributeError\u001b[0m                            Traceback (most recent call last)",
      "\u001b[0;32m<ipython-input-6-472f7a2f8c7e>\u001b[0m in \u001b[0;36m<module>\u001b[0;34m\u001b[0m\n\u001b[1;32m      2\u001b[0m \u001b[0msequences_directory\u001b[0m \u001b[0;34m=\u001b[0m \u001b[0;34m'../gene_files/Bactin_withTags.txt'\u001b[0m\u001b[0;34m\u001b[0m\u001b[0;34m\u001b[0m\u001b[0m\n\u001b[1;32m      3\u001b[0m \u001b[0;31m## Creating a rsnapsim object\u001b[0m\u001b[0;34m\u001b[0m\u001b[0;34m\u001b[0m\u001b[0;34m\u001b[0m\u001b[0m\n\u001b[0;32m----> 4\u001b[0;31m \u001b[0mrss\u001b[0m\u001b[0;34m.\u001b[0m\u001b[0mopen_seq_file\u001b[0m\u001b[0;34m(\u001b[0m\u001b[0msequences_directory\u001b[0m\u001b[0;34m)\u001b[0m\u001b[0;34m\u001b[0m\u001b[0;34m\u001b[0m\u001b[0m\n\u001b[0m\u001b[1;32m      5\u001b[0m \u001b[0;31m# now to look for open reading frames\u001b[0m\u001b[0;34m\u001b[0m\u001b[0;34m\u001b[0m\u001b[0;34m\u001b[0m\u001b[0m\n\u001b[1;32m      6\u001b[0m \u001b[0mrss\u001b[0m\u001b[0;34m.\u001b[0m\u001b[0mget_orfs\u001b[0m\u001b[0;34m(\u001b[0m\u001b[0mrss\u001b[0m\u001b[0;34m.\u001b[0m\u001b[0msequence_str\u001b[0m\u001b[0;34m)\u001b[0m\u001b[0;34m\u001b[0m\u001b[0;34m\u001b[0m\u001b[0m\n",
      "\u001b[0;31mAttributeError\u001b[0m: module 'rsnapsim' has no attribute 'open_seq_file'"
     ]
    }
   ],
   "source": [
    "#### SIMULATIONS FOR B-ACT\n",
    "sequences_directory = '../gene_files/Bactin_withTags.txt'\n",
    "## Creating a rsnapsim object\n",
    "rss.open_seq_file(sequences_directory)\n",
    "# now to look for open reading frames\n",
    "rss.get_orfs(rss.sequence_str)\n",
    "rss.orfs# reading the 3 ORF.\n",
    "# Deffining a Protein passing the DNA sequence \n",
    "protein1 = rss.sequence_str  \n",
    "rss.nt2aa(protein1) # Converting nucleotides to Protein\n",
    "rss.get_temporal_proteins()  #proteins sorted by\n",
    "# Analyze the first protein, analyze function takes the aa_seq then nt_seq\n",
    "rss.analyze_poi(rss.pois[0],rss.pois_seq[0]) \n",
    "rss.POI\n",
    "\n",
    "# Running the stochastic simulations\n",
    "ssa = rss.ssa_solver(n_traj = number_spots, start_time=starting_time,tf=starting_time+n_frames, tstep=starting_time+n_frames,k_elong_mean=3, k_initiation=0.03)  # tstep = total number of steps including the burnin time \n",
    "simulated_trajectories = ssa.intensity_vec\n",
    "print(simulated_trajectories[0,:])\n",
    "\n",
    "\n",
    "# saving trajectories as a file\n",
    "np.save('bactin_ssa.npy', simulated_trajectories)"
   ]
  },
  {
   "cell_type": "code",
   "execution_count": 5,
   "metadata": {},
   "outputs": [
    {
     "name": "stdout",
     "output_type": "stream",
     "text": [
      "[115. 115. 116. 116. 116. 116. 116. 116. 116. 116. 116. 116. 116. 116.\n",
      " 106. 106. 106. 106. 106. 106. 106. 106. 106. 106. 106. 106. 106. 106.\n",
      " 107. 107. 108. 108. 109. 109. 109. 109. 109. 109. 109. 109. 109. 109.\n",
      " 109. 109. 109. 110. 110. 111. 111. 112. 112. 112. 112. 112. 112. 112.\n",
      " 112. 112. 113. 113. 114. 114. 114. 115. 115. 116. 116. 116. 117. 117.\n",
      " 118. 120. 121. 122. 122. 122. 123. 124. 126. 126. 126. 126. 126. 126.\n",
      " 126. 127. 127. 127. 127. 127. 128. 119. 119. 121. 121. 121. 122. 122.\n",
      " 124. 124. 125. 125. 126. 126. 126. 126. 126. 116. 116. 116. 116. 116.\n",
      " 116. 116. 116. 117. 118. 119. 119. 119. 121. 121. 122. 123. 123. 123.\n",
      " 123. 113. 113. 113. 113. 114. 115. 115. 117. 118. 118. 120. 122. 122.\n",
      " 123. 123. 124. 125. 126. 126. 127. 127. 127. 127. 127. 127. 127. 127.\n",
      " 127. 127. 127. 127. 127. 127. 127. 127. 128. 128. 129. 130. 130. 132.\n",
      " 132. 133. 133. 133. 133. 133. 133. 133. 133. 133. 133. 133. 133. 133.\n",
      " 133. 133. 133. 133. 133. 133. 133. 134. 134. 134. 135. 136. 136. 137.\n",
      " 138. 139. 139. 140. 140. 141. 141. 142. 142. 143. 143. 143. 143. 143.\n",
      " 143. 143. 133. 133. 133. 134. 134. 135. 135. 136. 136. 136. 136. 136.\n",
      " 136. 136. 136. 136. 136. 137. 137. 138. 138. 139. 139. 139. 139. 139.\n",
      " 139. 139. 139. 139. 139. 139. 139. 139. 140. 141. 141. 142. 142. 142.\n",
      " 142. 142. 142. 143. 143. 143. 143. 143. 144. 144. 146. 146. 147. 148.\n",
      " 148. 148. 149. 150. 152. 152. 152. 153. 153. 153. 153. 153. 153. 153.\n",
      " 153. 153. 153. 154. 144. 144. 145. 145. 147. 147. 138. 140. 141. 141.\n",
      " 143. 143. 144. 145. 145. 145. 146. 147. 147. 147. 148. 149. 149. 149.\n",
      " 150. 150. 150. 150. 150. 150. 150. 151. 152. 152. 152. 153. 153. 154.\n",
      " 154. 155. 155. 156. 156. 157. 158. 158. 158. 159. 159. 160. 160. 160.\n",
      " 160. 160. 160. 160. 160. 160. 160. 160. 160. 160. 160. 160. 160. 160.\n",
      " 160. 160. 161. 161. 162. 162. 163. 163. 163. 163. 164. 164. 165. 165.\n",
      " 166. 167. 167. 168. 168. 168. 169. 170. 170. 170. 170. 170. 170. 170.\n",
      " 170. 170. 170. 170. 170. 170. 170. 170. 170. 170. 170. 170. 170. 171.\n",
      " 172. 172. 174. 175. 176. 176. 176. 176. 176. 176. 176. 176. 176. 176.\n",
      " 176. 176. 166. 166. 166. 166. 166. 166. 166. 166. 166. 167. 168. 169.\n",
      " 171. 171. 171. 172. 172. 173. 173. 173. 173. 173. 173. 173. 173. 173.\n",
      " 173. 173. 173. 173. 173. 173. 173. 173. 173. 173. 173. 173. 173. 173.\n",
      " 174. 175. 176. 177. 179. 180. 182. 183. 183. 183. 183. 173. 173. 173.\n",
      " 173. 173. 173. 173. 173. 173. 173. 173. 173. 174. 174. 176. 176. 177.\n",
      " 179. 179. 180. 180. 180. 180. 170. 170. 170. 170. 170. 170. 170. 170.\n",
      " 170. 170. 170. 170. 170. 170. 170. 170. 170. 170. 171. 172. 172. 173.\n",
      " 174. 174. 174. 174. 175. 175. 165. 166. 166. 167. 167. 167. 167. 167.\n",
      " 167. 167. 167. 167. 167. 167. 167. 167. 167. 167. 167. 167. 167. 167.\n",
      " 167. 167. 167. 167. 167. 168. 168. 169. 170. 170. 170. 170. 170. 170.\n",
      " 170. 170. 170. 170. 170. 170. 170. 170. 171. 171. 172. 172. 173. 173.\n",
      " 173. 173. 173. 174. 175. 175. 175. 176. 176. 176. 176. 176. 176. 176.\n",
      " 176. 176. 176. 176. 176. 166. 166. 166. 166. 166. 166. 166. 166. 166.\n",
      " 166. 166. 166. 166. 166. 166. 166. 166. 166. 166. 166. 166. 166. 166.\n",
      " 166. 166. 166. 166. 166. 156. 156. 156. 156. 157. 157. 157. 158. 158.\n",
      " 159. 159. 160. 161. 161. 161. 162. 162. 162. 163. 154. 154. 156. 156.\n",
      " 156. 157. 157. 157. 157. 157. 157. 157. 157. 158. 158. 158. 160. 161.\n",
      " 161. 163. 163. 166. 167. 168. 168. 169. 170. 170. 171. 171. 173. 173.\n",
      " 173. 174. 175. 175. 175. 175. 175. 175. 175. 175. 175. 175. 175. 175.\n",
      " 175. 175. 175. 175. 176. 176. 178. 178. 179. 180. 180. 180. 180. 181.\n",
      " 182. 184. 184. 184. 185. 185. 186. 186. 187. 187. 188. 189. 189. 189.\n",
      " 189. 189. 189. 189. 190. 190. 192. 192. 185. 185. 177. 178. 179. 179.\n",
      " 170. 171. 171. 172. 162. 162. 163. 163. 164. 164. 165. 165. 165. 166.\n",
      " 167. 167. 167. 167. 168. 169. 170. 171. 173. 175. 175. 177. 177. 178.\n",
      " 181. 182. 183. 184. 185. 185. 186. 187. 187. 187. 187. 187. 187. 187.\n",
      " 187. 187. 187. 187. 187. 187. 188. 188. 188. 189. 190. 191. 192. 192.\n",
      " 193. 194. 197. 198. 198. 199. 199. 199. 199. 199. 199. 199. 199. 199.\n",
      " 199. 200. 201. 201. 201. 203. 203. 204. 205. 206. 206. 206. 207. 207.\n",
      " 208. 208. 208. 209. 209. 209. 209. 209. 209. 199. 199. 199. 199. 199.\n",
      " 189. 189. 189. 189. 189. 190. 190. 191. 191. 192. 193. 193. 194. 194.\n",
      " 195. 185. 186. 186. 187. 187. 188. 188. 189. 179. 179. 180. 180. 180.\n",
      " 180. 180. 180. 180. 180. 180. 180. 180. 180. 180. 181. 182. 182. 183.\n",
      " 184. 184. 185. 185. 189. 189. 191. 192. 193. 194. 194. 194. 194. 194.\n",
      " 194. 194. 194. 194. 194. 194. 194. 194. 194. 194. 194. 194. 194. 194.\n",
      " 184. 185. 185. 186. 186. 189. 189. 190. 190. 190. 180. 180. 180. 180.\n",
      " 180. 180. 180. 180. 180. 180. 180. 180. 180. 180. 180. 180. 180. 180.\n",
      " 180. 180. 180. 180. 180. 180. 180. 180. 180. 180. 180. 180. 180. 180.\n",
      " 180. 180. 180. 180. 180. 180. 180. 180. 180. 180. 180. 181. 181. 181.\n",
      " 182. 182. 183. 183. 183. 183. 183. 183. 183. 173. 173. 173. 173. 173.\n",
      " 173. 173. 173. 173. 173. 173. 173. 173. 173. 173. 173. 173. 173. 173.\n",
      " 174. 174. 175. 176. 176. 176. 166. 166. 166. 166. 166. 166. 166. 166.\n",
      " 166. 166. 166. 166. 166. 166. 166. 166. 166. 167. 167. 167. 168. 168.\n",
      " 168. 169. 170. 170. 170. 170.]\n"
     ]
    }
   ],
   "source": [
    "#### SIMULATIONS FOR B-ACT\n",
    "sequences_directory = '../gene_files/KDM5B_withTags.txt'\n",
    "## Creating a rsnapsim object\n",
    "rss.open_seq_file(sequences_directory)\n",
    "# now to look for open reading frames\n",
    "rss.get_orfs(rss.sequence_str)\n",
    "rss.orfs# reading the 3 ORF.\n",
    "# Deffining a Protein passing the DNA sequence \n",
    "protein1 = rss.sequence_str  \n",
    "rss.nt2aa(protein1) # Converting nucleotides to Protein\n",
    "rss.get_temporal_proteins()  #proteins sorted by\n",
    "# Analyze the first protein, analyze function takes the aa_seq then nt_seq\n",
    "rss.analyze_poi(rss.pois[0],rss.pois_seq[0]) \n",
    "rss.POI\n",
    "\n",
    "# Running the stochastic simulations\n",
    "ssa = rss.ssa_solver(n_traj = number_spots, start_time=starting_time,tf=starting_time+n_frames, tstep=starting_time+n_frames,k_elong_mean=3, k_initiation=0.03)  # tstep = total number of steps including the burnin time \n",
    "simulated_trajectories = ssa.intensity_vec\n",
    "print(simulated_trajectories[0,:])\n",
    "\n",
    "\n",
    "# saving trajectories as a file\n",
    "np.save('kdm5b_ssa.npy', simulated_trajectories)"
   ]
  },
  {
   "cell_type": "code",
   "execution_count": 6,
   "metadata": {},
   "outputs": [
    {
     "name": "stdout",
     "output_type": "stream",
     "text": [
      "(2000, 1000)\n"
     ]
    }
   ],
   "source": [
    "print(simulated_trajectories.shape)"
   ]
  },
  {
   "cell_type": "markdown",
   "metadata": {},
   "source": [
    "# Loading the saved arrays"
   ]
  },
  {
   "cell_type": "code",
   "execution_count": 7,
   "metadata": {},
   "outputs": [
    {
     "data": {
      "text/plain": [
       "(2000, 1000)"
      ]
     },
     "execution_count": 7,
     "metadata": {},
     "output_type": "execute_result"
    }
   ],
   "source": [
    "test = np.load('kdm5b_ssa.npy')\n",
    "test.shape"
   ]
  },
  {
   "cell_type": "code",
   "execution_count": null,
   "metadata": {},
   "outputs": [],
   "source": []
  },
  {
   "cell_type": "code",
   "execution_count": null,
   "metadata": {},
   "outputs": [],
   "source": []
  },
  {
   "cell_type": "code",
   "execution_count": null,
   "metadata": {},
   "outputs": [],
   "source": []
  }
 ],
 "metadata": {
  "kernelspec": {
   "display_name": "Python 3",
   "language": "python",
   "name": "python3"
  },
  "language_info": {
   "codemirror_mode": {
    "name": "ipython",
    "version": 3
   },
   "file_extension": ".py",
   "mimetype": "text/x-python",
   "name": "python",
   "nbconvert_exporter": "python",
   "pygments_lexer": "ipython3",
   "version": "3.8.5"
  }
 },
 "nbformat": 4,
 "nbformat_minor": 4
}
